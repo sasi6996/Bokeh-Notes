{
 "cells": [
  {
   "cell_type": "markdown",
   "metadata": {},
   "source": [
    "## Bokeh - Interactive visualization\n",
    "### What is Bokeh?\n",
    "Bokeh is a Python library for interactive visualization that targets web browsers for representation. This is the core difference between Bokeh and other visualization libraries. ... Bokeh can help anyone who would like to quickly and easily create interactive plots, dashboards, and data applications.\n",
    "### Bokeh - Introduction\n",
    "Creating a simple line plot between two numpy arrays is very simple. To begin with, import following functions from bokeh.plotting modules\n",
    "#### from bokeh.plotting import figure, output_file, show\n",
    "* The figure() function creates a new figure for plotting.\n",
    "* The output_file() function is used to specify a HTML file to store output.\n",
    "* The show() function displays the Bokeh figure in browser on in notebook.\n",
    "Next, set up two numpy arrays where second array is sine value of first."
   ]
  },
  {
   "cell_type": "code",
   "execution_count": 1,
   "metadata": {},
   "outputs": [],
   "source": [
    "import numpy as np\n",
    "import pandas as pd\n",
    "import matplotlib.pyplot as plt\n",
    "import seaborn as sns\n",
    "import math\n",
    "\n",
    "x = np.arange(0, math.pi*2, 0.05)\n",
    "y = np.sin(x)\n"
   ]
  },
  {
   "cell_type": "code",
   "execution_count": 2,
   "metadata": {},
   "outputs": [
    {
     "data": {
      "text/plain": [
       "<function bokeh.io.output.output_notebook(resources=None, verbose=False, hide_banner=False, load_timeout=5000, notebook_type='jupyter')>"
      ]
     },
     "execution_count": 2,
     "metadata": {},
     "output_type": "execute_result"
    }
   ],
   "source": [
    "from bokeh.plotting import figure, output_file, show\n",
    "from bokeh.io import output_notebook"
   ]
  },
  {
   "cell_type": "code",
   "execution_count": 3,
   "metadata": {},
   "outputs": [],
   "source": [
    "p=figure(title='Sine plot', x_axis_label='x', y_axis_label='y')"
   ]
  },
  {
   "cell_type": "code",
   "execution_count": 4,
   "metadata": {},
   "outputs": [
    {
     "data": {
      "text/html": [
       "\n",
       "    <div class=\"bk-root\">\n",
       "        <a href=\"https://bokeh.org\" target=\"_blank\" class=\"bk-logo bk-logo-small bk-logo-notebook\"></a>\n",
       "        <span id=\"1034\">Loading BokehJS ...</span>\n",
       "    </div>"
      ]
     },
     "metadata": {},
     "output_type": "display_data"
    },
    {
     "data": {
      "application/javascript": [
       "\n",
       "(function(root) {\n",
       "  function now() {\n",
       "    return new Date();\n",
       "  }\n",
       "\n",
       "  var force = true;\n",
       "\n",
       "  if (typeof root._bokeh_onload_callbacks === \"undefined\" || force === true) {\n",
       "    root._bokeh_onload_callbacks = [];\n",
       "    root._bokeh_is_loading = undefined;\n",
       "  }\n",
       "\n",
       "  var JS_MIME_TYPE = 'application/javascript';\n",
       "  var HTML_MIME_TYPE = 'text/html';\n",
       "  var EXEC_MIME_TYPE = 'application/vnd.bokehjs_exec.v0+json';\n",
       "  var CLASS_NAME = 'output_bokeh rendered_html';\n",
       "\n",
       "  /**\n",
       "   * Render data to the DOM node\n",
       "   */\n",
       "  function render(props, node) {\n",
       "    var script = document.createElement(\"script\");\n",
       "    node.appendChild(script);\n",
       "  }\n",
       "\n",
       "  /**\n",
       "   * Handle when an output is cleared or removed\n",
       "   */\n",
       "  function handleClearOutput(event, handle) {\n",
       "    var cell = handle.cell;\n",
       "\n",
       "    var id = cell.output_area._bokeh_element_id;\n",
       "    var server_id = cell.output_area._bokeh_server_id;\n",
       "    // Clean up Bokeh references\n",
       "    if (id != null && id in Bokeh.index) {\n",
       "      Bokeh.index[id].model.document.clear();\n",
       "      delete Bokeh.index[id];\n",
       "    }\n",
       "\n",
       "    if (server_id !== undefined) {\n",
       "      // Clean up Bokeh references\n",
       "      var cmd = \"from bokeh.io.state import curstate; print(curstate().uuid_to_server['\" + server_id + \"'].get_sessions()[0].document.roots[0]._id)\";\n",
       "      cell.notebook.kernel.execute(cmd, {\n",
       "        iopub: {\n",
       "          output: function(msg) {\n",
       "            var id = msg.content.text.trim();\n",
       "            if (id in Bokeh.index) {\n",
       "              Bokeh.index[id].model.document.clear();\n",
       "              delete Bokeh.index[id];\n",
       "            }\n",
       "          }\n",
       "        }\n",
       "      });\n",
       "      // Destroy server and session\n",
       "      var cmd = \"import bokeh.io.notebook as ion; ion.destroy_server('\" + server_id + \"')\";\n",
       "      cell.notebook.kernel.execute(cmd);\n",
       "    }\n",
       "  }\n",
       "\n",
       "  /**\n",
       "   * Handle when a new output is added\n",
       "   */\n",
       "  function handleAddOutput(event, handle) {\n",
       "    var output_area = handle.output_area;\n",
       "    var output = handle.output;\n",
       "\n",
       "    // limit handleAddOutput to display_data with EXEC_MIME_TYPE content only\n",
       "    if ((output.output_type != \"display_data\") || (!output.data.hasOwnProperty(EXEC_MIME_TYPE))) {\n",
       "      return\n",
       "    }\n",
       "\n",
       "    var toinsert = output_area.element.find(\".\" + CLASS_NAME.split(' ')[0]);\n",
       "\n",
       "    if (output.metadata[EXEC_MIME_TYPE][\"id\"] !== undefined) {\n",
       "      toinsert[toinsert.length - 1].firstChild.textContent = output.data[JS_MIME_TYPE];\n",
       "      // store reference to embed id on output_area\n",
       "      output_area._bokeh_element_id = output.metadata[EXEC_MIME_TYPE][\"id\"];\n",
       "    }\n",
       "    if (output.metadata[EXEC_MIME_TYPE][\"server_id\"] !== undefined) {\n",
       "      var bk_div = document.createElement(\"div\");\n",
       "      bk_div.innerHTML = output.data[HTML_MIME_TYPE];\n",
       "      var script_attrs = bk_div.children[0].attributes;\n",
       "      for (var i = 0; i < script_attrs.length; i++) {\n",
       "        toinsert[toinsert.length - 1].firstChild.setAttribute(script_attrs[i].name, script_attrs[i].value);\n",
       "        toinsert[toinsert.length - 1].firstChild.textContent = bk_div.children[0].textContent\n",
       "      }\n",
       "      // store reference to server id on output_area\n",
       "      output_area._bokeh_server_id = output.metadata[EXEC_MIME_TYPE][\"server_id\"];\n",
       "    }\n",
       "  }\n",
       "\n",
       "  function register_renderer(events, OutputArea) {\n",
       "\n",
       "    function append_mime(data, metadata, element) {\n",
       "      // create a DOM node to render to\n",
       "      var toinsert = this.create_output_subarea(\n",
       "        metadata,\n",
       "        CLASS_NAME,\n",
       "        EXEC_MIME_TYPE\n",
       "      );\n",
       "      this.keyboard_manager.register_events(toinsert);\n",
       "      // Render to node\n",
       "      var props = {data: data, metadata: metadata[EXEC_MIME_TYPE]};\n",
       "      render(props, toinsert[toinsert.length - 1]);\n",
       "      element.append(toinsert);\n",
       "      return toinsert\n",
       "    }\n",
       "\n",
       "    /* Handle when an output is cleared or removed */\n",
       "    events.on('clear_output.CodeCell', handleClearOutput);\n",
       "    events.on('delete.Cell', handleClearOutput);\n",
       "\n",
       "    /* Handle when a new output is added */\n",
       "    events.on('output_added.OutputArea', handleAddOutput);\n",
       "\n",
       "    /**\n",
       "     * Register the mime type and append_mime function with output_area\n",
       "     */\n",
       "    OutputArea.prototype.register_mime_type(EXEC_MIME_TYPE, append_mime, {\n",
       "      /* Is output safe? */\n",
       "      safe: true,\n",
       "      /* Index of renderer in `output_area.display_order` */\n",
       "      index: 0\n",
       "    });\n",
       "  }\n",
       "\n",
       "  // register the mime type if in Jupyter Notebook environment and previously unregistered\n",
       "  if (root.Jupyter !== undefined) {\n",
       "    var events = require('base/js/events');\n",
       "    var OutputArea = require('notebook/js/outputarea').OutputArea;\n",
       "\n",
       "    if (OutputArea.prototype.mime_types().indexOf(EXEC_MIME_TYPE) == -1) {\n",
       "      register_renderer(events, OutputArea);\n",
       "    }\n",
       "  }\n",
       "\n",
       "  \n",
       "  if (typeof (root._bokeh_timeout) === \"undefined\" || force === true) {\n",
       "    root._bokeh_timeout = Date.now() + 5000;\n",
       "    root._bokeh_failed_load = false;\n",
       "  }\n",
       "\n",
       "  var NB_LOAD_WARNING = {'data': {'text/html':\n",
       "     \"<div style='background-color: #fdd'>\\n\"+\n",
       "     \"<p>\\n\"+\n",
       "     \"BokehJS does not appear to have successfully loaded. If loading BokehJS from CDN, this \\n\"+\n",
       "     \"may be due to a slow or bad network connection. Possible fixes:\\n\"+\n",
       "     \"</p>\\n\"+\n",
       "     \"<ul>\\n\"+\n",
       "     \"<li>re-rerun `output_notebook()` to attempt to load from CDN again, or</li>\\n\"+\n",
       "     \"<li>use INLINE resources instead, as so:</li>\\n\"+\n",
       "     \"</ul>\\n\"+\n",
       "     \"<code>\\n\"+\n",
       "     \"from bokeh.resources import INLINE\\n\"+\n",
       "     \"output_notebook(resources=INLINE)\\n\"+\n",
       "     \"</code>\\n\"+\n",
       "     \"</div>\"}};\n",
       "\n",
       "  function display_loaded() {\n",
       "    var el = document.getElementById(\"1034\");\n",
       "    if (el != null) {\n",
       "      el.textContent = \"BokehJS is loading...\";\n",
       "    }\n",
       "    if (root.Bokeh !== undefined) {\n",
       "      if (el != null) {\n",
       "        el.textContent = \"BokehJS \" + root.Bokeh.version + \" successfully loaded.\";\n",
       "      }\n",
       "    } else if (Date.now() < root._bokeh_timeout) {\n",
       "      setTimeout(display_loaded, 100)\n",
       "    }\n",
       "  }\n",
       "\n",
       "\n",
       "  function run_callbacks() {\n",
       "    try {\n",
       "      root._bokeh_onload_callbacks.forEach(function(callback) {\n",
       "        if (callback != null)\n",
       "          callback();\n",
       "      });\n",
       "    } finally {\n",
       "      delete root._bokeh_onload_callbacks\n",
       "    }\n",
       "    console.debug(\"Bokeh: all callbacks have finished\");\n",
       "  }\n",
       "\n",
       "  function load_libs(css_urls, js_urls, callback) {\n",
       "    if (css_urls == null) css_urls = [];\n",
       "    if (js_urls == null) js_urls = [];\n",
       "\n",
       "    root._bokeh_onload_callbacks.push(callback);\n",
       "    if (root._bokeh_is_loading > 0) {\n",
       "      console.debug(\"Bokeh: BokehJS is being loaded, scheduling callback at\", now());\n",
       "      return null;\n",
       "    }\n",
       "    if (js_urls == null || js_urls.length === 0) {\n",
       "      run_callbacks();\n",
       "      return null;\n",
       "    }\n",
       "    console.debug(\"Bokeh: BokehJS not loaded, scheduling load and callback at\", now());\n",
       "    root._bokeh_is_loading = css_urls.length + js_urls.length;\n",
       "\n",
       "    function on_load() {\n",
       "      root._bokeh_is_loading--;\n",
       "      if (root._bokeh_is_loading === 0) {\n",
       "        console.debug(\"Bokeh: all BokehJS libraries/stylesheets loaded\");\n",
       "        run_callbacks()\n",
       "      }\n",
       "    }\n",
       "\n",
       "    function on_error() {\n",
       "      console.error(\"failed to load \" + url);\n",
       "    }\n",
       "\n",
       "    for (var i = 0; i < css_urls.length; i++) {\n",
       "      var url = css_urls[i];\n",
       "      const element = document.createElement(\"link\");\n",
       "      element.onload = on_load;\n",
       "      element.onerror = on_error;\n",
       "      element.rel = \"stylesheet\";\n",
       "      element.type = \"text/css\";\n",
       "      element.href = url;\n",
       "      console.debug(\"Bokeh: injecting link tag for BokehJS stylesheet: \", url);\n",
       "      document.body.appendChild(element);\n",
       "    }\n",
       "\n",
       "    const hashes = {\"https://cdn.bokeh.org/bokeh/release/bokeh-2.0.2.min.js\": \"ufR9RFnRs6lniiaFvtJziE0YeidtAgBRH6ux2oUItHw5WTvE1zuk9uzhUU/FJXDp\", \"https://cdn.bokeh.org/bokeh/release/bokeh-widgets-2.0.2.min.js\": \"8QM/PGWBT+IssZuRcDcjzwIh1mkOmJSoNMmyYDZbCfXJg3Ap1lEvdVgFuSAwhb/J\", \"https://cdn.bokeh.org/bokeh/release/bokeh-tables-2.0.2.min.js\": \"Jm8cH3Rg0P6UeZhVY5cLy1WzKajUT9KImCY+76hEqrcJt59/d8GPvFHjCkYgnSIn\", \"https://cdn.bokeh.org/bokeh/release/bokeh-gl-2.0.2.min.js\": \"Ozhzj+SI7ywm74aOI/UajcWz+C0NjsPunEVyVIrxzYkB+jA+2tUw8x5xJCbVtK5I\"};\n",
       "\n",
       "    for (var i = 0; i < js_urls.length; i++) {\n",
       "      var url = js_urls[i];\n",
       "      var element = document.createElement('script');\n",
       "      element.onload = on_load;\n",
       "      element.onerror = on_error;\n",
       "      element.async = false;\n",
       "      element.src = url;\n",
       "      if (url in hashes) {\n",
       "        element.crossOrigin = \"anonymous\";\n",
       "        element.integrity = \"sha384-\" + hashes[url];\n",
       "      }\n",
       "      console.debug(\"Bokeh: injecting script tag for BokehJS library: \", url);\n",
       "      document.head.appendChild(element);\n",
       "    }\n",
       "  };\n",
       "\n",
       "  function inject_raw_css(css) {\n",
       "    const element = document.createElement(\"style\");\n",
       "    element.appendChild(document.createTextNode(css));\n",
       "    document.body.appendChild(element);\n",
       "  }\n",
       "\n",
       "  \n",
       "  var js_urls = [\"https://cdn.bokeh.org/bokeh/release/bokeh-2.0.2.min.js\", \"https://cdn.bokeh.org/bokeh/release/bokeh-widgets-2.0.2.min.js\", \"https://cdn.bokeh.org/bokeh/release/bokeh-tables-2.0.2.min.js\", \"https://cdn.bokeh.org/bokeh/release/bokeh-gl-2.0.2.min.js\"];\n",
       "  var css_urls = [];\n",
       "  \n",
       "\n",
       "  var inline_js = [\n",
       "    function(Bokeh) {\n",
       "      Bokeh.set_log_level(\"info\");\n",
       "    },\n",
       "    function(Bokeh) {\n",
       "    \n",
       "    \n",
       "    }\n",
       "  ];\n",
       "\n",
       "  function run_inline_js() {\n",
       "    \n",
       "    if (root.Bokeh !== undefined || force === true) {\n",
       "      \n",
       "    for (var i = 0; i < inline_js.length; i++) {\n",
       "      inline_js[i].call(root, root.Bokeh);\n",
       "    }\n",
       "    if (force === true) {\n",
       "        display_loaded();\n",
       "      }} else if (Date.now() < root._bokeh_timeout) {\n",
       "      setTimeout(run_inline_js, 100);\n",
       "    } else if (!root._bokeh_failed_load) {\n",
       "      console.log(\"Bokeh: BokehJS failed to load within specified timeout.\");\n",
       "      root._bokeh_failed_load = true;\n",
       "    } else if (force !== true) {\n",
       "      var cell = $(document.getElementById(\"1034\")).parents('.cell').data().cell;\n",
       "      cell.output_area.append_execute_result(NB_LOAD_WARNING)\n",
       "    }\n",
       "\n",
       "  }\n",
       "\n",
       "  if (root._bokeh_is_loading === 0) {\n",
       "    console.debug(\"Bokeh: BokehJS loaded, going straight to plotting\");\n",
       "    run_inline_js();\n",
       "  } else {\n",
       "    load_libs(css_urls, js_urls, function() {\n",
       "      console.debug(\"Bokeh: BokehJS plotting callback run at\", now());\n",
       "      run_inline_js();\n",
       "    });\n",
       "  }\n",
       "}(window));"
      ],
      "application/vnd.bokehjs_load.v0+json": "\n(function(root) {\n  function now() {\n    return new Date();\n  }\n\n  var force = true;\n\n  if (typeof root._bokeh_onload_callbacks === \"undefined\" || force === true) {\n    root._bokeh_onload_callbacks = [];\n    root._bokeh_is_loading = undefined;\n  }\n\n  \n\n  \n  if (typeof (root._bokeh_timeout) === \"undefined\" || force === true) {\n    root._bokeh_timeout = Date.now() + 5000;\n    root._bokeh_failed_load = false;\n  }\n\n  var NB_LOAD_WARNING = {'data': {'text/html':\n     \"<div style='background-color: #fdd'>\\n\"+\n     \"<p>\\n\"+\n     \"BokehJS does not appear to have successfully loaded. If loading BokehJS from CDN, this \\n\"+\n     \"may be due to a slow or bad network connection. Possible fixes:\\n\"+\n     \"</p>\\n\"+\n     \"<ul>\\n\"+\n     \"<li>re-rerun `output_notebook()` to attempt to load from CDN again, or</li>\\n\"+\n     \"<li>use INLINE resources instead, as so:</li>\\n\"+\n     \"</ul>\\n\"+\n     \"<code>\\n\"+\n     \"from bokeh.resources import INLINE\\n\"+\n     \"output_notebook(resources=INLINE)\\n\"+\n     \"</code>\\n\"+\n     \"</div>\"}};\n\n  function display_loaded() {\n    var el = document.getElementById(\"1034\");\n    if (el != null) {\n      el.textContent = \"BokehJS is loading...\";\n    }\n    if (root.Bokeh !== undefined) {\n      if (el != null) {\n        el.textContent = \"BokehJS \" + root.Bokeh.version + \" successfully loaded.\";\n      }\n    } else if (Date.now() < root._bokeh_timeout) {\n      setTimeout(display_loaded, 100)\n    }\n  }\n\n\n  function run_callbacks() {\n    try {\n      root._bokeh_onload_callbacks.forEach(function(callback) {\n        if (callback != null)\n          callback();\n      });\n    } finally {\n      delete root._bokeh_onload_callbacks\n    }\n    console.debug(\"Bokeh: all callbacks have finished\");\n  }\n\n  function load_libs(css_urls, js_urls, callback) {\n    if (css_urls == null) css_urls = [];\n    if (js_urls == null) js_urls = [];\n\n    root._bokeh_onload_callbacks.push(callback);\n    if (root._bokeh_is_loading > 0) {\n      console.debug(\"Bokeh: BokehJS is being loaded, scheduling callback at\", now());\n      return null;\n    }\n    if (js_urls == null || js_urls.length === 0) {\n      run_callbacks();\n      return null;\n    }\n    console.debug(\"Bokeh: BokehJS not loaded, scheduling load and callback at\", now());\n    root._bokeh_is_loading = css_urls.length + js_urls.length;\n\n    function on_load() {\n      root._bokeh_is_loading--;\n      if (root._bokeh_is_loading === 0) {\n        console.debug(\"Bokeh: all BokehJS libraries/stylesheets loaded\");\n        run_callbacks()\n      }\n    }\n\n    function on_error() {\n      console.error(\"failed to load \" + url);\n    }\n\n    for (var i = 0; i < css_urls.length; i++) {\n      var url = css_urls[i];\n      const element = document.createElement(\"link\");\n      element.onload = on_load;\n      element.onerror = on_error;\n      element.rel = \"stylesheet\";\n      element.type = \"text/css\";\n      element.href = url;\n      console.debug(\"Bokeh: injecting link tag for BokehJS stylesheet: \", url);\n      document.body.appendChild(element);\n    }\n\n    const hashes = {\"https://cdn.bokeh.org/bokeh/release/bokeh-2.0.2.min.js\": \"ufR9RFnRs6lniiaFvtJziE0YeidtAgBRH6ux2oUItHw5WTvE1zuk9uzhUU/FJXDp\", \"https://cdn.bokeh.org/bokeh/release/bokeh-widgets-2.0.2.min.js\": \"8QM/PGWBT+IssZuRcDcjzwIh1mkOmJSoNMmyYDZbCfXJg3Ap1lEvdVgFuSAwhb/J\", \"https://cdn.bokeh.org/bokeh/release/bokeh-tables-2.0.2.min.js\": \"Jm8cH3Rg0P6UeZhVY5cLy1WzKajUT9KImCY+76hEqrcJt59/d8GPvFHjCkYgnSIn\", \"https://cdn.bokeh.org/bokeh/release/bokeh-gl-2.0.2.min.js\": \"Ozhzj+SI7ywm74aOI/UajcWz+C0NjsPunEVyVIrxzYkB+jA+2tUw8x5xJCbVtK5I\"};\n\n    for (var i = 0; i < js_urls.length; i++) {\n      var url = js_urls[i];\n      var element = document.createElement('script');\n      element.onload = on_load;\n      element.onerror = on_error;\n      element.async = false;\n      element.src = url;\n      if (url in hashes) {\n        element.crossOrigin = \"anonymous\";\n        element.integrity = \"sha384-\" + hashes[url];\n      }\n      console.debug(\"Bokeh: injecting script tag for BokehJS library: \", url);\n      document.head.appendChild(element);\n    }\n  };\n\n  function inject_raw_css(css) {\n    const element = document.createElement(\"style\");\n    element.appendChild(document.createTextNode(css));\n    document.body.appendChild(element);\n  }\n\n  \n  var js_urls = [\"https://cdn.bokeh.org/bokeh/release/bokeh-2.0.2.min.js\", \"https://cdn.bokeh.org/bokeh/release/bokeh-widgets-2.0.2.min.js\", \"https://cdn.bokeh.org/bokeh/release/bokeh-tables-2.0.2.min.js\", \"https://cdn.bokeh.org/bokeh/release/bokeh-gl-2.0.2.min.js\"];\n  var css_urls = [];\n  \n\n  var inline_js = [\n    function(Bokeh) {\n      Bokeh.set_log_level(\"info\");\n    },\n    function(Bokeh) {\n    \n    \n    }\n  ];\n\n  function run_inline_js() {\n    \n    if (root.Bokeh !== undefined || force === true) {\n      \n    for (var i = 0; i < inline_js.length; i++) {\n      inline_js[i].call(root, root.Bokeh);\n    }\n    if (force === true) {\n        display_loaded();\n      }} else if (Date.now() < root._bokeh_timeout) {\n      setTimeout(run_inline_js, 100);\n    } else if (!root._bokeh_failed_load) {\n      console.log(\"Bokeh: BokehJS failed to load within specified timeout.\");\n      root._bokeh_failed_load = true;\n    } else if (force !== true) {\n      var cell = $(document.getElementById(\"1034\")).parents('.cell').data().cell;\n      cell.output_area.append_execute_result(NB_LOAD_WARNING)\n    }\n\n  }\n\n  if (root._bokeh_is_loading === 0) {\n    console.debug(\"Bokeh: BokehJS loaded, going straight to plotting\");\n    run_inline_js();\n  } else {\n    load_libs(css_urls, js_urls, function() {\n      console.debug(\"Bokeh: BokehJS plotting callback run at\", now());\n      run_inline_js();\n    });\n  }\n}(window));"
     },
     "metadata": {},
     "output_type": "display_data"
    }
   ],
   "source": [
    "output_notebook()"
   ]
  },
  {
   "cell_type": "code",
   "execution_count": 5,
   "metadata": {},
   "outputs": [
    {
     "name": "stderr",
     "output_type": "stream",
     "text": [
      "BokehDeprecationWarning: 'legend' keyword is deprecated, use explicit 'legend_label', 'legend_field', or 'legend_group' keywords instead\n"
     ]
    },
    {
     "data": {
      "text/html": [
       "\n",
       "\n",
       "\n",
       "\n",
       "\n",
       "\n",
       "  <div class=\"bk-root\" id=\"dfba2ff6-820c-486f-8df4-498ba4f166c8\" data-root-id=\"1001\"></div>\n"
      ]
     },
     "metadata": {},
     "output_type": "display_data"
    },
    {
     "data": {
      "application/javascript": [
       "(function(root) {\n",
       "  function embed_document(root) {\n",
       "    \n",
       "  var docs_json = {\"45907462-ac4c-4a0b-b24a-71707482bf7d\":{\"roots\":{\"references\":[{\"attributes\":{\"below\":[{\"id\":\"1012\"}],\"center\":[{\"id\":\"1015\"},{\"id\":\"1019\"},{\"id\":\"1046\"}],\"left\":[{\"id\":\"1016\"}],\"renderers\":[{\"id\":\"1038\"}],\"title\":{\"id\":\"1002\"},\"toolbar\":{\"id\":\"1027\"},\"x_range\":{\"id\":\"1004\"},\"x_scale\":{\"id\":\"1008\"},\"y_range\":{\"id\":\"1006\"},\"y_scale\":{\"id\":\"1010\"}},\"id\":\"1001\",\"subtype\":\"Figure\",\"type\":\"Plot\"},{\"attributes\":{\"items\":[{\"id\":\"1047\"}]},\"id\":\"1046\",\"type\":\"Legend\"},{\"attributes\":{},\"id\":\"1054\",\"type\":\"Selection\"},{\"attributes\":{},\"id\":\"1053\",\"type\":\"UnionRenderers\"},{\"attributes\":{\"bottom_units\":\"screen\",\"fill_alpha\":0.5,\"fill_color\":\"lightgrey\",\"left_units\":\"screen\",\"level\":\"overlay\",\"line_alpha\":1.0,\"line_color\":\"black\",\"line_dash\":[4,4],\"line_width\":2,\"render_mode\":\"css\",\"right_units\":\"screen\",\"top_units\":\"screen\"},\"id\":\"1026\",\"type\":\"BoxAnnotation\"},{\"attributes\":{},\"id\":\"1020\",\"type\":\"PanTool\"},{\"attributes\":{\"line_color\":\"#1f77b4\",\"line_width\":2,\"x\":{\"field\":\"x\"},\"y\":{\"field\":\"y\"}},\"id\":\"1036\",\"type\":\"Line\"},{\"attributes\":{},\"id\":\"1021\",\"type\":\"WheelZoomTool\"},{\"attributes\":{\"overlay\":{\"id\":\"1026\"}},\"id\":\"1022\",\"type\":\"BoxZoomTool\"},{\"attributes\":{},\"id\":\"1008\",\"type\":\"LinearScale\"},{\"attributes\":{\"source\":{\"id\":\"1035\"}},\"id\":\"1039\",\"type\":\"CDSView\"},{\"attributes\":{},\"id\":\"1023\",\"type\":\"SaveTool\"},{\"attributes\":{\"line_alpha\":0.1,\"line_color\":\"#1f77b4\",\"line_width\":2,\"x\":{\"field\":\"x\"},\"y\":{\"field\":\"y\"}},\"id\":\"1037\",\"type\":\"Line\"},{\"attributes\":{},\"id\":\"1024\",\"type\":\"ResetTool\"},{\"attributes\":{},\"id\":\"1010\",\"type\":\"LinearScale\"},{\"attributes\":{},\"id\":\"1006\",\"type\":\"DataRange1d\"},{\"attributes\":{},\"id\":\"1025\",\"type\":\"HelpTool\"},{\"attributes\":{\"data\":{\"x\":{\"__ndarray__\":\"AAAAAAAAAACamZmZmZmpP5qZmZmZmbk/NDMzMzMzwz+amZmZmZnJPwAAAAAAANA/NDMzMzMz0z9nZmZmZmbWP5qZmZmZmdk/zczMzMzM3D8AAAAAAADgP5qZmZmZmeE/NDMzMzMz4z/NzMzMzMzkP2dmZmZmZuY/AAAAAAAA6D+amZmZmZnpPzQzMzMzM+s/zczMzMzM7D9nZmZmZmbuPwAAAAAAAPA/zczMzMzM8D+amZmZmZnxP2dmZmZmZvI/NDMzMzMz8z8AAAAAAAD0P83MzMzMzPQ/mpmZmZmZ9T9nZmZmZmb2PzQzMzMzM/c/AAAAAAAA+D/NzMzMzMz4P5qZmZmZmfk/Z2ZmZmZm+j80MzMzMzP7PwAAAAAAAPw/zczMzMzM/D+amZmZmZn9P2dmZmZmZv4/NDMzMzMz/z8AAAAAAAAAQGdmZmZmZgBAzczMzMzMAEAzMzMzMzMBQJqZmZmZmQFAAAAAAAAAAkBnZmZmZmYCQM3MzMzMzAJANDMzMzMzA0CamZmZmZkDQAAAAAAAAARAZ2ZmZmZmBEDNzMzMzMwEQDQzMzMzMwVAmpmZmZmZBUAAAAAAAAAGQGdmZmZmZgZAzczMzMzMBkA0MzMzMzMHQJqZmZmZmQdAAAAAAAAACEBnZmZmZmYIQM3MzMzMzAhANDMzMzMzCUCamZmZmZkJQAAAAAAAAApAZ2ZmZmZmCkDNzMzMzMwKQDQzMzMzMwtAmpmZmZmZC0AAAAAAAAAMQGdmZmZmZgxAzczMzMzMDEA0MzMzMzMNQJqZmZmZmQ1AAAAAAAAADkBnZmZmZmYOQM3MzMzMzA5ANDMzMzMzD0CamZmZmZkPQAAAAAAAABBAMzMzMzMzEEBnZmZmZmYQQJqZmZmZmRBAzczMzMzMEEAAAAAAAAARQDMzMzMzMxFAZ2ZmZmZmEUCamZmZmZkRQM3MzMzMzBFAAAAAAAAAEkAzMzMzMzMSQGdmZmZmZhJAmpmZmZmZEkDNzMzMzMwSQAAAAAAAABNANDMzMzMzE0BnZmZmZmYTQJqZmZmZmRNAzczMzMzME0AAAAAAAAAUQDQzMzMzMxRAZ2ZmZmZmFECamZmZmZkUQM3MzMzMzBRAAAAAAAAAFUA0MzMzMzMVQGdmZmZmZhVAmpmZmZmZFUDNzMzMzMwVQAAAAAAAABZANDMzMzMzFkBnZmZmZmYWQJqZmZmZmRZAzczMzMzMFkAAAAAAAAAXQDQzMzMzMxdAZ2ZmZmZmF0CamZmZmZkXQM3MzMzMzBdAAAAAAAAAGEA0MzMzMzMYQGdmZmZmZhhAmpmZmZmZGEDNzMzMzMwYQAAAAAAAABlA\",\"dtype\":\"float64\",\"shape\":[126]},\"y\":{\"__ndarray__\":\"AAAAAAAAAAA8ZP+i3papPyzLi8uujrk/I+3f6ckgwz+80j0j/23JP3cV89Tuqs8/NLq6lc3p0j+MCjmlCfLVP2tnK+k67Ng/JUb5rXnW2z/wBUt06K7eP9RoSZHaueA/WkGlF40R4j+r15Phr13jP7kZRmluneQ/Do+/FvzP5T/N/r/ClPTmP4OARjR9Cug/QKhdmAMR6T9vJuTzfwfqP+4MCY9U7eo/wPI2Wu7B6z84Yy1MxYTsP5liDLlcNe0/xVUaokPT7T+MQRH+FF7uP0sexfl31e4/vuH5MCA57z8D4UTfzYjvP9xD2ghOxO8/i20sm3rr7z9oe0iFOv7vP8VC4MeB/O8/yIr3fFHm7z+2mC/Xt7vvP0aCsRjQfO8/8BW9gcIp7z91guc2xMLuP1c4Gh8XSO4/d8dnuQm67T9GtNHq9hjtP/tnH8RFZew//HLrP2mf6z/rUxH538fqPwjXqtkz3+k/quPQwvnl6D8iL1gt0dznP+jJxsNjxOY/mNHD9WSd5T98v0aFkWjkP7DKzw2vJuM/oqb2hYvY4T+7haC7/H7gP/1nY5a/Nd4/DKckJDFa2z/7g8E5Im3YP8DlXSNycNU/1yNVLQpm0j/TMEjWuJ/OP0aravHEX8g/W9W2bTgQwj+f7yAPOmq3Py4QmIIPSqU/DCjuo9E3gb8yLeg5N+Otv4ykZCStsru/lwy3ygIxxL+BV+iIw3vKv3RM/xDJWtC/nOiDYTlt078fYrp+O3PWv9c1iiXgatm/8dHwQ0FS3L9ZwwYwgyffv0EbLuxq9OC/IgZ19jpK4r+gwOz/VpTjvyvQtM7r0eS/zrMfLS4C5r9A1LlrWyTnv64e3N25N+i/KpR6UJk76b+9yOJ6Uy/qv7wtImlMEuu/1xLQ3/Lj679wg/u4wKPsvyWKATo7Ue2/7e0UYvPr7b/wKEUxhnPuv6km1+ec5+6/gEDHPe1H77+N9FCSOZTvv7rsXRNRzO+/zhrD3A/w779S7DcPX//vv2Dk+N40+u+//z0MmpTg779ylCSmjrLvv6TrInZAcO+/k88+d9QZ778zmeD1ga/uv8Y3P/qMMe6/uSLYHEag7b+WTt1SCvzsv9ckurJCRey/pI3VMGR86783ErxU76Hqv4P64eZvtum/cAUyl3y66L9Q96Gctq7nv1ewCk7Jk+a/zcyFtGlq5b+09ZYXVjPkv7UAa4NV7+K/oMd6STef4b8uNuN70kPgv8rfjscKvN2/ajkq5mnd2r8bvQtkmO3Xvwpad1F37tS/wKKwivHh0b+L+Mn79JPNv1z7M9cZUce/2vTYRFP/wL8ezb7bWEW1v7wS9cPd/KC/\",\"dtype\":\"float64\",\"shape\":[126]}},\"selected\":{\"id\":\"1054\"},\"selection_policy\":{\"id\":\"1053\"}},\"id\":\"1035\",\"type\":\"ColumnDataSource\"},{\"attributes\":{},\"id\":\"1041\",\"type\":\"BasicTickFormatter\"},{\"attributes\":{},\"id\":\"1043\",\"type\":\"BasicTickFormatter\"},{\"attributes\":{\"text\":\"Sine plot\"},\"id\":\"1002\",\"type\":\"Title\"},{\"attributes\":{\"active_drag\":\"auto\",\"active_inspect\":\"auto\",\"active_multi\":null,\"active_scroll\":\"auto\",\"active_tap\":\"auto\",\"tools\":[{\"id\":\"1020\"},{\"id\":\"1021\"},{\"id\":\"1022\"},{\"id\":\"1023\"},{\"id\":\"1024\"},{\"id\":\"1025\"}]},\"id\":\"1027\",\"type\":\"Toolbar\"},{\"attributes\":{\"axis\":{\"id\":\"1012\"},\"ticker\":null},\"id\":\"1015\",\"type\":\"Grid\"},{\"attributes\":{\"axis_label\":\"y\",\"formatter\":{\"id\":\"1043\"},\"ticker\":{\"id\":\"1017\"}},\"id\":\"1016\",\"type\":\"LinearAxis\"},{\"attributes\":{\"axis\":{\"id\":\"1016\"},\"dimension\":1,\"ticker\":null},\"id\":\"1019\",\"type\":\"Grid\"},{\"attributes\":{\"data_source\":{\"id\":\"1035\"},\"glyph\":{\"id\":\"1036\"},\"hover_glyph\":null,\"muted_glyph\":null,\"nonselection_glyph\":{\"id\":\"1037\"},\"selection_glyph\":null,\"view\":{\"id\":\"1039\"}},\"id\":\"1038\",\"type\":\"GlyphRenderer\"},{\"attributes\":{},\"id\":\"1004\",\"type\":\"DataRange1d\"},{\"attributes\":{},\"id\":\"1013\",\"type\":\"BasicTicker\"},{\"attributes\":{},\"id\":\"1017\",\"type\":\"BasicTicker\"},{\"attributes\":{\"axis_label\":\"x\",\"formatter\":{\"id\":\"1041\"},\"ticker\":{\"id\":\"1013\"}},\"id\":\"1012\",\"type\":\"LinearAxis\"},{\"attributes\":{\"label\":{\"value\":\"sine\"},\"renderers\":[{\"id\":\"1038\"}]},\"id\":\"1047\",\"type\":\"LegendItem\"}],\"root_ids\":[\"1001\"]},\"title\":\"Bokeh Application\",\"version\":\"2.0.2\"}};\n",
       "  var render_items = [{\"docid\":\"45907462-ac4c-4a0b-b24a-71707482bf7d\",\"root_ids\":[\"1001\"],\"roots\":{\"1001\":\"dfba2ff6-820c-486f-8df4-498ba4f166c8\"}}];\n",
       "  root.Bokeh.embed.embed_items_notebook(docs_json, render_items);\n",
       "\n",
       "  }\n",
       "  if (root.Bokeh !== undefined) {\n",
       "    embed_document(root);\n",
       "  } else {\n",
       "    var attempts = 0;\n",
       "    var timer = setInterval(function(root) {\n",
       "      if (root.Bokeh !== undefined) {\n",
       "        clearInterval(timer);\n",
       "        embed_document(root);\n",
       "      } else {\n",
       "        attempts++;\n",
       "        if (attempts > 100) {\n",
       "          clearInterval(timer);\n",
       "          console.log(\"Bokeh: ERROR: Unable to run BokehJS code because BokehJS library is missing\");\n",
       "        }\n",
       "      }\n",
       "    }, 10, root)\n",
       "  }\n",
       "})(window);"
      ],
      "application/vnd.bokehjs_exec.v0+json": ""
     },
     "metadata": {
      "application/vnd.bokehjs_exec.v0+json": {
       "id": "1001"
      }
     },
     "output_type": "display_data"
    }
   ],
   "source": [
    "p.line(x,y,legend='sine', line_width=2)\n",
    "show(p)"
   ]
  },
  {
   "cell_type": "markdown",
   "metadata": {},
   "source": [
    "### Bokeh - Basic concepts\n",
    "Bokeh package offers two interfaces using which various plotting operations can be performed.\n",
    "#### bokeh.models\n",
    "This module is a low level interface. It provides great deal of flexibility to the application developer in developing visualizations. A Bokeh plot results in an object containing visual and data aspects of a scene which is used by BokehJS library. The low-level objects that comprise a Bokeh scene graph are called Models.\n",
    "#### bokeh.plotting\n",
    "This is a higher level interface that has functionality for composing visual glyphs. This module contains definition of Figure class. It actually is a subclass of plot class defined in bokeh.models module.\n",
    "Figure class simplifies plot creation. It contains various methods to draw different vectorized graphical glyphs. Glyphs are the building blocks of Bokeh plot such as lines, circles, rectangles, and other shapes.\n",
    "#### bokeh.application\n",
    "Bokeh package Application class which is a lightweight factory for creating Bokeh Documents. A Document is a container for Bokeh Models to be reflected to the client side BokehJS library.\n",
    "bokeh.server\n",
    "It provides customizable Bokeh Server Tornadocore application. Server is used to share and publish interactive plots and apps to an audience of your choice.\n",
    "### Bokeh - Plots with Glyphs\n",
    "Any plot is usually made up of one or many geometrical shapes such as line, circle, rectangle, etc. These shapes have visual information about the corresponding set of data. In Bokeh terminology, these geometrical shapes are called gylphs. Bokeh plots constructed using bokeh.plotting interface use a default set of tools and styles. However, it is possible to customize the styles using available plotting tools.\n",
    "### Types of Plots\n",
    "Different types of plots created using glyphs are as given below −\n",
    "#### Line plot\n",
    "This type of plot is useful for visualizing the movements of points along the x-and y-axes in the form of a line. It is used to perform time series analytics.\n",
    "#### Bar plot\n",
    "This is typically useful for indicating the count of each category of a particular column or field in your dataset.\n",
    "Patch plot\n",
    "This plot indicates a region of points in a particular shade of color. This type of plot is used to distinguish different groups within the same dataset.\n",
    "#### Scatter plot\n",
    "This type of plot is used to visualize relationship between two variables and to indicate the strength of correlation between them.\n",
    "Different glyph plots are formed by calling appropriate method of Figure class. The Figure object is obtained by following constructor\n",
    "#### from bokeh.plotting import figure\n",
    "#### figure(**kwargs)\n",
    "### Line plot\n",
    "The line() method of Figure object adds a line glyph to the Bokeh figure. It needs x and y parameters as data arrays for showing their linear relationship.\n"
   ]
  },
  {
   "cell_type": "code",
   "execution_count": 7,
   "metadata": {},
   "outputs": [
    {
     "data": {
      "text/html": [
       "\n",
       "\n",
       "\n",
       "\n",
       "\n",
       "\n",
       "  <div class=\"bk-root\" id=\"ba3c356a-3060-435d-bc46-60e45b1ba0a3\" data-root-id=\"1211\"></div>\n"
      ]
     },
     "metadata": {},
     "output_type": "display_data"
    },
    {
     "data": {
      "application/javascript": [
       "(function(root) {\n",
       "  function embed_document(root) {\n",
       "    \n",
       "  var docs_json = {\"a48fa525-da2a-4aee-9f22-c2a34ceff46e\":{\"roots\":{\"references\":[{\"attributes\":{\"below\":[{\"id\":\"1222\"}],\"center\":[{\"id\":\"1225\"},{\"id\":\"1229\"}],\"left\":[{\"id\":\"1226\"}],\"renderers\":[{\"id\":\"1247\"}],\"title\":{\"id\":\"1212\"},\"toolbar\":{\"id\":\"1237\"},\"x_range\":{\"id\":\"1214\"},\"x_scale\":{\"id\":\"1218\"},\"y_range\":{\"id\":\"1216\"},\"y_scale\":{\"id\":\"1220\"}},\"id\":\"1211\",\"subtype\":\"Figure\",\"type\":\"Plot\"},{\"attributes\":{},\"id\":\"1214\",\"type\":\"DataRange1d\"},{\"attributes\":{},\"id\":\"1233\",\"type\":\"SaveTool\"},{\"attributes\":{},\"id\":\"1269\",\"type\":\"BasicTickFormatter\"},{\"attributes\":{},\"id\":\"1234\",\"type\":\"ResetTool\"},{\"attributes\":{\"axis_label\":\"x\",\"formatter\":{\"id\":\"1267\"},\"ticker\":{\"id\":\"1223\"}},\"id\":\"1222\",\"type\":\"LinearAxis\"},{\"attributes\":{\"axis\":{\"id\":\"1226\"},\"dimension\":1,\"ticker\":null},\"id\":\"1229\",\"type\":\"Grid\"},{\"attributes\":{},\"id\":\"1267\",\"type\":\"BasicTickFormatter\"},{\"attributes\":{},\"id\":\"1235\",\"type\":\"HelpTool\"},{\"attributes\":{},\"id\":\"1230\",\"type\":\"PanTool\"},{\"attributes\":{\"overlay\":{\"id\":\"1236\"}},\"id\":\"1232\",\"type\":\"BoxZoomTool\"},{\"attributes\":{},\"id\":\"1220\",\"type\":\"LinearScale\"},{\"attributes\":{\"axis_label\":\"y\",\"formatter\":{\"id\":\"1269\"},\"ticker\":{\"id\":\"1227\"}},\"id\":\"1226\",\"type\":\"LinearAxis\"},{\"attributes\":{},\"id\":\"1271\",\"type\":\"UnionRenderers\"},{\"attributes\":{\"text\":\"Line Plot example\"},\"id\":\"1212\",\"type\":\"Title\"},{\"attributes\":{},\"id\":\"1216\",\"type\":\"DataRange1d\"},{\"attributes\":{},\"id\":\"1218\",\"type\":\"LinearScale\"},{\"attributes\":{\"data\":{\"x\":[1,2,3,4,5],\"y\":[2,4,6,8,10]},\"selected\":{\"id\":\"1272\"},\"selection_policy\":{\"id\":\"1271\"}},\"id\":\"1244\",\"type\":\"ColumnDataSource\"},{\"attributes\":{\"source\":{\"id\":\"1244\"}},\"id\":\"1248\",\"type\":\"CDSView\"},{\"attributes\":{\"line_color\":\"#1f77b4\",\"x\":{\"field\":\"x\"},\"y\":{\"field\":\"y\"}},\"id\":\"1245\",\"type\":\"Line\"},{\"attributes\":{\"bottom_units\":\"screen\",\"fill_alpha\":0.5,\"fill_color\":\"lightgrey\",\"left_units\":\"screen\",\"level\":\"overlay\",\"line_alpha\":1.0,\"line_color\":\"black\",\"line_dash\":[4,4],\"line_width\":2,\"render_mode\":\"css\",\"right_units\":\"screen\",\"top_units\":\"screen\"},\"id\":\"1236\",\"type\":\"BoxAnnotation\"},{\"attributes\":{},\"id\":\"1223\",\"type\":\"BasicTicker\"},{\"attributes\":{},\"id\":\"1227\",\"type\":\"BasicTicker\"},{\"attributes\":{\"axis\":{\"id\":\"1222\"},\"ticker\":null},\"id\":\"1225\",\"type\":\"Grid\"},{\"attributes\":{\"active_drag\":\"auto\",\"active_inspect\":\"auto\",\"active_multi\":null,\"active_scroll\":\"auto\",\"active_tap\":\"auto\",\"tools\":[{\"id\":\"1230\"},{\"id\":\"1231\"},{\"id\":\"1232\"},{\"id\":\"1233\"},{\"id\":\"1234\"},{\"id\":\"1235\"}]},\"id\":\"1237\",\"type\":\"Toolbar\"},{\"attributes\":{\"line_alpha\":0.1,\"line_color\":\"#1f77b4\",\"x\":{\"field\":\"x\"},\"y\":{\"field\":\"y\"}},\"id\":\"1246\",\"type\":\"Line\"},{\"attributes\":{},\"id\":\"1272\",\"type\":\"Selection\"},{\"attributes\":{},\"id\":\"1231\",\"type\":\"WheelZoomTool\"},{\"attributes\":{\"data_source\":{\"id\":\"1244\"},\"glyph\":{\"id\":\"1245\"},\"hover_glyph\":null,\"muted_glyph\":null,\"nonselection_glyph\":{\"id\":\"1246\"},\"selection_glyph\":null,\"view\":{\"id\":\"1248\"}},\"id\":\"1247\",\"type\":\"GlyphRenderer\"}],\"root_ids\":[\"1211\"]},\"title\":\"Bokeh Application\",\"version\":\"2.0.2\"}};\n",
       "  var render_items = [{\"docid\":\"a48fa525-da2a-4aee-9f22-c2a34ceff46e\",\"root_ids\":[\"1211\"],\"roots\":{\"1211\":\"ba3c356a-3060-435d-bc46-60e45b1ba0a3\"}}];\n",
       "  root.Bokeh.embed.embed_items_notebook(docs_json, render_items);\n",
       "\n",
       "  }\n",
       "  if (root.Bokeh !== undefined) {\n",
       "    embed_document(root);\n",
       "  } else {\n",
       "    var attempts = 0;\n",
       "    var timer = setInterval(function(root) {\n",
       "      if (root.Bokeh !== undefined) {\n",
       "        clearInterval(timer);\n",
       "        embed_document(root);\n",
       "      } else {\n",
       "        attempts++;\n",
       "        if (attempts > 100) {\n",
       "          clearInterval(timer);\n",
       "          console.log(\"Bokeh: ERROR: Unable to run BokehJS code because BokehJS library is missing\");\n",
       "        }\n",
       "      }\n",
       "    }, 10, root)\n",
       "  }\n",
       "})(window);"
      ],
      "application/vnd.bokehjs_exec.v0+json": ""
     },
     "metadata": {
      "application/vnd.bokehjs_exec.v0+json": {
       "id": "1211"
      }
     },
     "output_type": "display_data"
    }
   ],
   "source": [
    "from bokeh.plotting import figure, output_file, show\n",
    "x = [1,2,3,4,5]\n",
    "y = [2,4,6,8,10]\n",
    "output_file('line.html')\n",
    "fig = figure(title = 'Line Plot example', x_axis_label = 'x', y_axis_label = 'y')\n",
    "fig.line(x,y)\n",
    "show(fig)"
   ]
  },
  {
   "cell_type": "markdown",
   "metadata": {},
   "source": [
    "### Bar plot\n",
    "The figure object has two different methods for constructing bar plot\n",
    "\n",
    "#### hbar()\n",
    "The bars are shown horizontally across plot width. The hbar() method has the following parameters"
   ]
  },
  {
   "cell_type": "code",
   "execution_count": 11,
   "metadata": {},
   "outputs": [
    {
     "data": {
      "text/html": [
       "\n",
       "\n",
       "\n",
       "\n",
       "\n",
       "\n",
       "  <div class=\"bk-root\" id=\"ccd51125-5b7e-437f-9224-319b434502d0\" data-root-id=\"2109\"></div>\n"
      ]
     },
     "metadata": {},
     "output_type": "display_data"
    },
    {
     "data": {
      "application/javascript": [
       "(function(root) {\n",
       "  function embed_document(root) {\n",
       "    \n",
       "  var docs_json = {\"e1bed669-8865-4cca-a802-313c0300d6a1\":{\"roots\":{\"references\":[{\"attributes\":{\"below\":[{\"id\":\"2118\"}],\"center\":[{\"id\":\"2121\"},{\"id\":\"2125\"}],\"left\":[{\"id\":\"2122\"}],\"plot_height\":200,\"plot_width\":400,\"renderers\":[{\"id\":\"2143\"}],\"title\":{\"id\":\"2189\"},\"toolbar\":{\"id\":\"2133\"},\"x_range\":{\"id\":\"2110\"},\"x_scale\":{\"id\":\"2114\"},\"y_range\":{\"id\":\"2112\"},\"y_scale\":{\"id\":\"2116\"}},\"id\":\"2109\",\"subtype\":\"Figure\",\"type\":\"Plot\"},{\"attributes\":{\"bottom_units\":\"screen\",\"fill_alpha\":0.5,\"fill_color\":\"lightgrey\",\"left_units\":\"screen\",\"level\":\"overlay\",\"line_alpha\":1.0,\"line_color\":\"black\",\"line_dash\":[4,4],\"line_width\":2,\"render_mode\":\"css\",\"right_units\":\"screen\",\"top_units\":\"screen\"},\"id\":\"2132\",\"type\":\"BoxAnnotation\"},{\"attributes\":{},\"id\":\"2127\",\"type\":\"WheelZoomTool\"},{\"attributes\":{\"text\":\"\"},\"id\":\"2189\",\"type\":\"Title\"},{\"attributes\":{},\"id\":\"2129\",\"type\":\"SaveTool\"},{\"attributes\":{\"fill_alpha\":{\"value\":0.1},\"fill_color\":{\"value\":\"Cyan\"},\"height\":{\"value\":1},\"line_alpha\":{\"value\":0.1},\"line_color\":{\"value\":\"Cyan\"},\"right\":{\"field\":\"right\"},\"y\":{\"field\":\"y\"}},\"id\":\"2142\",\"type\":\"HBar\"},{\"attributes\":{\"axis\":{\"id\":\"2118\"},\"ticker\":null},\"id\":\"2121\",\"type\":\"Grid\"},{\"attributes\":{\"formatter\":{\"id\":\"2190\"},\"ticker\":{\"id\":\"2119\"}},\"id\":\"2118\",\"type\":\"LinearAxis\"},{\"attributes\":{},\"id\":\"2112\",\"type\":\"DataRange1d\"},{\"attributes\":{},\"id\":\"2126\",\"type\":\"PanTool\"},{\"attributes\":{\"data_source\":{\"id\":\"2140\"},\"glyph\":{\"id\":\"2141\"},\"hover_glyph\":null,\"muted_glyph\":null,\"nonselection_glyph\":{\"id\":\"2142\"},\"selection_glyph\":null,\"view\":{\"id\":\"2144\"}},\"id\":\"2143\",\"type\":\"GlyphRenderer\"},{\"attributes\":{\"data\":{\"right\":[1,2,3],\"y\":[2,4,6]},\"selected\":{\"id\":\"2195\"},\"selection_policy\":{\"id\":\"2194\"}},\"id\":\"2140\",\"type\":\"ColumnDataSource\"},{\"attributes\":{\"overlay\":{\"id\":\"2132\"}},\"id\":\"2128\",\"type\":\"BoxZoomTool\"},{\"attributes\":{\"active_drag\":\"auto\",\"active_inspect\":\"auto\",\"active_multi\":null,\"active_scroll\":\"auto\",\"active_tap\":\"auto\",\"tools\":[{\"id\":\"2126\"},{\"id\":\"2127\"},{\"id\":\"2128\"},{\"id\":\"2129\"},{\"id\":\"2130\"},{\"id\":\"2131\"}]},\"id\":\"2133\",\"type\":\"Toolbar\"},{\"attributes\":{\"formatter\":{\"id\":\"2192\"},\"ticker\":{\"id\":\"2123\"}},\"id\":\"2122\",\"type\":\"LinearAxis\"},{\"attributes\":{},\"id\":\"2130\",\"type\":\"ResetTool\"},{\"attributes\":{\"fill_color\":{\"value\":\"Cyan\"},\"height\":{\"value\":1},\"line_color\":{\"value\":\"Cyan\"},\"right\":{\"field\":\"right\"},\"y\":{\"field\":\"y\"}},\"id\":\"2141\",\"type\":\"HBar\"},{\"attributes\":{},\"id\":\"2119\",\"type\":\"BasicTicker\"},{\"attributes\":{},\"id\":\"2131\",\"type\":\"HelpTool\"},{\"attributes\":{\"axis\":{\"id\":\"2122\"},\"dimension\":1,\"ticker\":null},\"id\":\"2125\",\"type\":\"Grid\"},{\"attributes\":{},\"id\":\"2116\",\"type\":\"LinearScale\"},{\"attributes\":{},\"id\":\"2110\",\"type\":\"DataRange1d\"},{\"attributes\":{},\"id\":\"2114\",\"type\":\"LinearScale\"},{\"attributes\":{\"source\":{\"id\":\"2140\"}},\"id\":\"2144\",\"type\":\"CDSView\"},{\"attributes\":{},\"id\":\"2192\",\"type\":\"BasicTickFormatter\"},{\"attributes\":{},\"id\":\"2195\",\"type\":\"Selection\"},{\"attributes\":{},\"id\":\"2190\",\"type\":\"BasicTickFormatter\"},{\"attributes\":{},\"id\":\"2123\",\"type\":\"BasicTicker\"},{\"attributes\":{},\"id\":\"2194\",\"type\":\"UnionRenderers\"}],\"root_ids\":[\"2109\"]},\"title\":\"Bokeh Application\",\"version\":\"2.0.2\"}};\n",
       "  var render_items = [{\"docid\":\"e1bed669-8865-4cca-a802-313c0300d6a1\",\"root_ids\":[\"2109\"],\"roots\":{\"2109\":\"ccd51125-5b7e-437f-9224-319b434502d0\"}}];\n",
       "  root.Bokeh.embed.embed_items_notebook(docs_json, render_items);\n",
       "\n",
       "  }\n",
       "  if (root.Bokeh !== undefined) {\n",
       "    embed_document(root);\n",
       "  } else {\n",
       "    var attempts = 0;\n",
       "    var timer = setInterval(function(root) {\n",
       "      if (root.Bokeh !== undefined) {\n",
       "        clearInterval(timer);\n",
       "        embed_document(root);\n",
       "      } else {\n",
       "        attempts++;\n",
       "        if (attempts > 100) {\n",
       "          clearInterval(timer);\n",
       "          console.log(\"Bokeh: ERROR: Unable to run BokehJS code because BokehJS library is missing\");\n",
       "        }\n",
       "      }\n",
       "    }, 10, root)\n",
       "  }\n",
       "})(window);"
      ],
      "application/vnd.bokehjs_exec.v0+json": ""
     },
     "metadata": {
      "application/vnd.bokehjs_exec.v0+json": {
       "id": "2109"
      }
     },
     "output_type": "display_data"
    }
   ],
   "source": [
    "bar=figure(plot_width=400, plot_height=200)\n",
    "bar.hbar(y=[2,4,6], height=1, left=0, right=[1,2,3], color='Cyan')\n",
    "output_file('bar.html')\n",
    "show(bar)"
   ]
  },
  {
   "cell_type": "code",
   "execution_count": 15,
   "metadata": {},
   "outputs": [
    {
     "data": {
      "text/html": [
       "\n",
       "\n",
       "\n",
       "\n",
       "\n",
       "\n",
       "  <div class=\"bk-root\" id=\"7cf15309-adcd-4474-ba49-5733ee6956cc\" data-root-id=\"3124\"></div>\n"
      ]
     },
     "metadata": {},
     "output_type": "display_data"
    },
    {
     "data": {
      "application/javascript": [
       "(function(root) {\n",
       "  function embed_document(root) {\n",
       "    \n",
       "  var docs_json = {\"29f26f23-b10a-424a-b127-a54787a2a00b\":{\"roots\":{\"references\":[{\"attributes\":{\"below\":[{\"id\":\"3133\"}],\"center\":[{\"id\":\"3136\"},{\"id\":\"3140\"}],\"left\":[{\"id\":\"3137\"}],\"plot_height\":200,\"plot_width\":400,\"renderers\":[{\"id\":\"3158\"}],\"title\":{\"id\":\"3231\"},\"toolbar\":{\"id\":\"3148\"},\"x_range\":{\"id\":\"3125\"},\"x_scale\":{\"id\":\"3129\"},\"y_range\":{\"id\":\"3127\"},\"y_scale\":{\"id\":\"3131\"}},\"id\":\"3124\",\"subtype\":\"Figure\",\"type\":\"Plot\"},{\"attributes\":{\"fill_color\":{\"value\":\"green\"},\"height\":{\"value\":1},\"left\":{\"field\":\"left\"},\"line_color\":{\"value\":\"green\"},\"right\":{\"field\":\"right\"},\"y\":{\"field\":\"y\"}},\"id\":\"3156\",\"type\":\"HBar\"},{\"attributes\":{},\"id\":\"3237\",\"type\":\"Selection\"},{\"attributes\":{},\"id\":\"3131\",\"type\":\"LinearScale\"},{\"attributes\":{},\"id\":\"3138\",\"type\":\"BasicTicker\"},{\"attributes\":{\"source\":{\"id\":\"3155\"}},\"id\":\"3159\",\"type\":\"CDSView\"},{\"attributes\":{\"active_drag\":\"auto\",\"active_inspect\":\"auto\",\"active_multi\":null,\"active_scroll\":\"auto\",\"active_tap\":\"auto\",\"tools\":[{\"id\":\"3141\"},{\"id\":\"3142\"},{\"id\":\"3143\"},{\"id\":\"3144\"},{\"id\":\"3145\"},{\"id\":\"3146\"}]},\"id\":\"3148\",\"type\":\"Toolbar\"},{\"attributes\":{},\"id\":\"3232\",\"type\":\"BasicTickFormatter\"},{\"attributes\":{\"fill_alpha\":{\"value\":0.1},\"fill_color\":{\"value\":\"green\"},\"height\":{\"value\":1},\"left\":{\"field\":\"left\"},\"line_alpha\":{\"value\":0.1},\"line_color\":{\"value\":\"green\"},\"right\":{\"field\":\"right\"},\"y\":{\"field\":\"y\"}},\"id\":\"3157\",\"type\":\"HBar\"},{\"attributes\":{},\"id\":\"3142\",\"type\":\"WheelZoomTool\"},{\"attributes\":{},\"id\":\"3141\",\"type\":\"PanTool\"},{\"attributes\":{\"formatter\":{\"id\":\"3232\"},\"ticker\":{\"id\":\"3134\"}},\"id\":\"3133\",\"type\":\"LinearAxis\"},{\"attributes\":{\"bottom_units\":\"screen\",\"fill_alpha\":0.5,\"fill_color\":\"lightgrey\",\"left_units\":\"screen\",\"level\":\"overlay\",\"line_alpha\":1.0,\"line_color\":\"black\",\"line_dash\":[4,4],\"line_width\":2,\"render_mode\":\"css\",\"right_units\":\"screen\",\"top_units\":\"screen\"},\"id\":\"3147\",\"type\":\"BoxAnnotation\"},{\"attributes\":{},\"id\":\"3146\",\"type\":\"HelpTool\"},{\"attributes\":{\"axis\":{\"id\":\"3137\"},\"dimension\":1,\"ticker\":null},\"id\":\"3140\",\"type\":\"Grid\"},{\"attributes\":{},\"id\":\"3129\",\"type\":\"LinearScale\"},{\"attributes\":{\"overlay\":{\"id\":\"3147\"}},\"id\":\"3143\",\"type\":\"BoxZoomTool\"},{\"attributes\":{},\"id\":\"3127\",\"type\":\"DataRange1d\"},{\"attributes\":{},\"id\":\"3134\",\"type\":\"BasicTicker\"},{\"attributes\":{\"data_source\":{\"id\":\"3155\"},\"glyph\":{\"id\":\"3156\"},\"hover_glyph\":null,\"muted_glyph\":null,\"nonselection_glyph\":{\"id\":\"3157\"},\"selection_glyph\":null,\"view\":{\"id\":\"3159\"}},\"id\":\"3158\",\"type\":\"GlyphRenderer\"},{\"attributes\":{},\"id\":\"3234\",\"type\":\"BasicTickFormatter\"},{\"attributes\":{},\"id\":\"3125\",\"type\":\"DataRange1d\"},{\"attributes\":{},\"id\":\"3144\",\"type\":\"SaveTool\"},{\"attributes\":{\"formatter\":{\"id\":\"3234\"},\"ticker\":{\"id\":\"3138\"}},\"id\":\"3137\",\"type\":\"LinearAxis\"},{\"attributes\":{\"text\":\"\"},\"id\":\"3231\",\"type\":\"Title\"},{\"attributes\":{\"axis\":{\"id\":\"3133\"},\"ticker\":null},\"id\":\"3136\",\"type\":\"Grid\"},{\"attributes\":{},\"id\":\"3145\",\"type\":\"ResetTool\"},{\"attributes\":{\"data\":{\"left\":[-1,-2,-3],\"right\":[1,2,3],\"y\":[2,4,6]},\"selected\":{\"id\":\"3237\"},\"selection_policy\":{\"id\":\"3236\"}},\"id\":\"3155\",\"type\":\"ColumnDataSource\"},{\"attributes\":{},\"id\":\"3236\",\"type\":\"UnionRenderers\"}],\"root_ids\":[\"3124\"]},\"title\":\"Bokeh Application\",\"version\":\"2.0.2\"}};\n",
       "  var render_items = [{\"docid\":\"29f26f23-b10a-424a-b127-a54787a2a00b\",\"root_ids\":[\"3124\"],\"roots\":{\"3124\":\"7cf15309-adcd-4474-ba49-5733ee6956cc\"}}];\n",
       "  root.Bokeh.embed.embed_items_notebook(docs_json, render_items);\n",
       "\n",
       "  }\n",
       "  if (root.Bokeh !== undefined) {\n",
       "    embed_document(root);\n",
       "  } else {\n",
       "    var attempts = 0;\n",
       "    var timer = setInterval(function(root) {\n",
       "      if (root.Bokeh !== undefined) {\n",
       "        clearInterval(timer);\n",
       "        embed_document(root);\n",
       "      } else {\n",
       "        attempts++;\n",
       "        if (attempts > 100) {\n",
       "          clearInterval(timer);\n",
       "          console.log(\"Bokeh: ERROR: Unable to run BokehJS code because BokehJS library is missing\");\n",
       "        }\n",
       "      }\n",
       "    }, 10, root)\n",
       "  }\n",
       "})(window);"
      ],
      "application/vnd.bokehjs_exec.v0+json": ""
     },
     "metadata": {
      "application/vnd.bokehjs_exec.v0+json": {
       "id": "3124"
      }
     },
     "output_type": "display_data"
    }
   ],
   "source": [
    "bar_1=figure(plot_width=400, plot_height=200)\n",
    "bar_1.hbar(y=[2,4,6], height=1, left=[-1,-2,-3], right=[1,2,3], color='green')\n",
    "output_file('bar.html')\n",
    "show(bar_1)"
   ]
  },
  {
   "cell_type": "markdown",
   "metadata": {},
   "source": [
    "#### vbar()\n",
    "The bars are shown vertically across plot height. The vbar() method has following parameters"
   ]
  },
  {
   "cell_type": "code",
   "execution_count": 16,
   "metadata": {},
   "outputs": [
    {
     "data": {
      "text/html": [
       "\n",
       "\n",
       "\n",
       "\n",
       "\n",
       "\n",
       "  <div class=\"bk-root\" id=\"23e82a11-ed39-45bd-9807-2cf924b40443\" data-root-id=\"3411\"></div>\n"
      ]
     },
     "metadata": {},
     "output_type": "display_data"
    },
    {
     "data": {
      "application/javascript": [
       "(function(root) {\n",
       "  function embed_document(root) {\n",
       "    \n",
       "  var docs_json = {\"e40b37f9-ad0e-475c-9d7a-3c684c96a701\":{\"roots\":{\"references\":[{\"attributes\":{\"below\":[{\"id\":\"3420\"}],\"center\":[{\"id\":\"3423\"},{\"id\":\"3427\"}],\"left\":[{\"id\":\"3424\"}],\"plot_height\":200,\"plot_width\":400,\"renderers\":[{\"id\":\"3445\"}],\"title\":{\"id\":\"3527\"},\"toolbar\":{\"id\":\"3435\"},\"x_range\":{\"id\":\"3412\"},\"x_scale\":{\"id\":\"3416\"},\"y_range\":{\"id\":\"3414\"},\"y_scale\":{\"id\":\"3418\"}},\"id\":\"3411\",\"subtype\":\"Figure\",\"type\":\"Plot\"},{\"attributes\":{},\"id\":\"3414\",\"type\":\"DataRange1d\"},{\"attributes\":{\"bottom_units\":\"screen\",\"fill_alpha\":0.5,\"fill_color\":\"lightgrey\",\"left_units\":\"screen\",\"level\":\"overlay\",\"line_alpha\":1.0,\"line_color\":\"black\",\"line_dash\":[4,4],\"line_width\":2,\"render_mode\":\"css\",\"right_units\":\"screen\",\"top_units\":\"screen\"},\"id\":\"3434\",\"type\":\"BoxAnnotation\"},{\"attributes\":{},\"id\":\"3418\",\"type\":\"LinearScale\"},{\"attributes\":{\"overlay\":{\"id\":\"3434\"}},\"id\":\"3430\",\"type\":\"BoxZoomTool\"},{\"attributes\":{},\"id\":\"3429\",\"type\":\"WheelZoomTool\"},{\"attributes\":{},\"id\":\"3431\",\"type\":\"SaveTool\"},{\"attributes\":{},\"id\":\"3432\",\"type\":\"ResetTool\"},{\"attributes\":{\"axis\":{\"id\":\"3424\"},\"dimension\":1,\"ticker\":null},\"id\":\"3427\",\"type\":\"Grid\"},{\"attributes\":{},\"id\":\"3533\",\"type\":\"Selection\"},{\"attributes\":{\"axis\":{\"id\":\"3420\"},\"ticker\":null},\"id\":\"3423\",\"type\":\"Grid\"},{\"attributes\":{\"formatter\":{\"id\":\"3530\"},\"ticker\":{\"id\":\"3425\"}},\"id\":\"3424\",\"type\":\"LinearAxis\"},{\"attributes\":{\"fill_color\":{\"value\":\"crimson\"},\"line_color\":{\"value\":\"crimson\"},\"top\":{\"field\":\"top\"},\"width\":{\"value\":0.5},\"x\":{\"field\":\"x\"}},\"id\":\"3443\",\"type\":\"VBar\"},{\"attributes\":{},\"id\":\"3425\",\"type\":\"BasicTicker\"},{\"attributes\":{\"text\":\"\"},\"id\":\"3527\",\"type\":\"Title\"},{\"attributes\":{},\"id\":\"3433\",\"type\":\"HelpTool\"},{\"attributes\":{},\"id\":\"3530\",\"type\":\"BasicTickFormatter\"},{\"attributes\":{\"formatter\":{\"id\":\"3528\"},\"ticker\":{\"id\":\"3421\"}},\"id\":\"3420\",\"type\":\"LinearAxis\"},{\"attributes\":{\"active_drag\":\"auto\",\"active_inspect\":\"auto\",\"active_multi\":null,\"active_scroll\":\"auto\",\"active_tap\":\"auto\",\"tools\":[{\"id\":\"3428\"},{\"id\":\"3429\"},{\"id\":\"3430\"},{\"id\":\"3431\"},{\"id\":\"3432\"},{\"id\":\"3433\"}]},\"id\":\"3435\",\"type\":\"Toolbar\"},{\"attributes\":{},\"id\":\"3532\",\"type\":\"UnionRenderers\"},{\"attributes\":{\"source\":{\"id\":\"3442\"}},\"id\":\"3446\",\"type\":\"CDSView\"},{\"attributes\":{},\"id\":\"3416\",\"type\":\"LinearScale\"},{\"attributes\":{\"data\":{\"top\":[1,2,3],\"x\":[2,4,6]},\"selected\":{\"id\":\"3533\"},\"selection_policy\":{\"id\":\"3532\"}},\"id\":\"3442\",\"type\":\"ColumnDataSource\"},{\"attributes\":{},\"id\":\"3528\",\"type\":\"BasicTickFormatter\"},{\"attributes\":{},\"id\":\"3421\",\"type\":\"BasicTicker\"},{\"attributes\":{},\"id\":\"3428\",\"type\":\"PanTool\"},{\"attributes\":{\"fill_alpha\":{\"value\":0.1},\"fill_color\":{\"value\":\"crimson\"},\"line_alpha\":{\"value\":0.1},\"line_color\":{\"value\":\"crimson\"},\"top\":{\"field\":\"top\"},\"width\":{\"value\":0.5},\"x\":{\"field\":\"x\"}},\"id\":\"3444\",\"type\":\"VBar\"},{\"attributes\":{},\"id\":\"3412\",\"type\":\"DataRange1d\"},{\"attributes\":{\"data_source\":{\"id\":\"3442\"},\"glyph\":{\"id\":\"3443\"},\"hover_glyph\":null,\"muted_glyph\":null,\"nonselection_glyph\":{\"id\":\"3444\"},\"selection_glyph\":null,\"view\":{\"id\":\"3446\"}},\"id\":\"3445\",\"type\":\"GlyphRenderer\"}],\"root_ids\":[\"3411\"]},\"title\":\"Bokeh Application\",\"version\":\"2.0.2\"}};\n",
       "  var render_items = [{\"docid\":\"e40b37f9-ad0e-475c-9d7a-3c684c96a701\",\"root_ids\":[\"3411\"],\"roots\":{\"3411\":\"23e82a11-ed39-45bd-9807-2cf924b40443\"}}];\n",
       "  root.Bokeh.embed.embed_items_notebook(docs_json, render_items);\n",
       "\n",
       "  }\n",
       "  if (root.Bokeh !== undefined) {\n",
       "    embed_document(root);\n",
       "  } else {\n",
       "    var attempts = 0;\n",
       "    var timer = setInterval(function(root) {\n",
       "      if (root.Bokeh !== undefined) {\n",
       "        clearInterval(timer);\n",
       "        embed_document(root);\n",
       "      } else {\n",
       "        attempts++;\n",
       "        if (attempts > 100) {\n",
       "          clearInterval(timer);\n",
       "          console.log(\"Bokeh: ERROR: Unable to run BokehJS code because BokehJS library is missing\");\n",
       "        }\n",
       "      }\n",
       "    }, 10, root)\n",
       "  }\n",
       "})(window);"
      ],
      "application/vnd.bokehjs_exec.v0+json": ""
     },
     "metadata": {
      "application/vnd.bokehjs_exec.v0+json": {
       "id": "3411"
      }
     },
     "output_type": "display_data"
    }
   ],
   "source": [
    "bar_2=figure(plot_width=400, plot_height=200)\n",
    "bar_2.vbar(x=[2,4,6], width=0.5, bottom=0, top=[1,2,3], color='crimson')\n",
    "output_file('bar.html')\n",
    "show(bar_2)"
   ]
  },
  {
   "cell_type": "code",
   "execution_count": 18,
   "metadata": {},
   "outputs": [
    {
     "data": {
      "text/html": [
       "\n",
       "\n",
       "\n",
       "\n",
       "\n",
       "\n",
       "  <div class=\"bk-root\" id=\"15b6fa28-a8b6-4a1c-9411-7797564bc756\" data-root-id=\"3915\"></div>\n"
      ]
     },
     "metadata": {},
     "output_type": "display_data"
    },
    {
     "data": {
      "application/javascript": [
       "(function(root) {\n",
       "  function embed_document(root) {\n",
       "    \n",
       "  var docs_json = {\"231d6439-0685-49d5-a66d-df557694692c\":{\"roots\":{\"references\":[{\"attributes\":{\"below\":[{\"id\":\"3924\"}],\"center\":[{\"id\":\"3927\"},{\"id\":\"3931\"}],\"left\":[{\"id\":\"3928\"}],\"plot_height\":200,\"plot_width\":400,\"renderers\":[{\"id\":\"3949\"}],\"title\":{\"id\":\"4040\"},\"toolbar\":{\"id\":\"3939\"},\"x_range\":{\"id\":\"3916\"},\"x_scale\":{\"id\":\"3920\"},\"y_range\":{\"id\":\"3918\"},\"y_scale\":{\"id\":\"3922\"}},\"id\":\"3915\",\"subtype\":\"Figure\",\"type\":\"Plot\"},{\"attributes\":{\"bottom_units\":\"screen\",\"fill_alpha\":0.5,\"fill_color\":\"lightgrey\",\"left_units\":\"screen\",\"level\":\"overlay\",\"line_alpha\":1.0,\"line_color\":\"black\",\"line_dash\":[4,4],\"line_width\":2,\"render_mode\":\"css\",\"right_units\":\"screen\",\"top_units\":\"screen\"},\"id\":\"3938\",\"type\":\"BoxAnnotation\"},{\"attributes\":{},\"id\":\"3936\",\"type\":\"ResetTool\"},{\"attributes\":{},\"id\":\"3918\",\"type\":\"DataRange1d\"},{\"attributes\":{},\"id\":\"3916\",\"type\":\"DataRange1d\"},{\"attributes\":{},\"id\":\"4045\",\"type\":\"UnionRenderers\"},{\"attributes\":{\"axis\":{\"id\":\"3924\"},\"ticker\":null},\"id\":\"3927\",\"type\":\"Grid\"},{\"attributes\":{\"formatter\":{\"id\":\"4041\"},\"ticker\":{\"id\":\"3925\"}},\"id\":\"3924\",\"type\":\"LinearAxis\"},{\"attributes\":{\"text\":\"\"},\"id\":\"4040\",\"type\":\"Title\"},{\"attributes\":{},\"id\":\"3935\",\"type\":\"SaveTool\"},{\"attributes\":{},\"id\":\"3932\",\"type\":\"PanTool\"},{\"attributes\":{\"data_source\":{\"id\":\"3946\"},\"glyph\":{\"id\":\"3947\"},\"hover_glyph\":null,\"muted_glyph\":null,\"nonselection_glyph\":{\"id\":\"3948\"},\"selection_glyph\":null,\"view\":{\"id\":\"3950\"}},\"id\":\"3949\",\"type\":\"GlyphRenderer\"},{\"attributes\":{},\"id\":\"4041\",\"type\":\"BasicTickFormatter\"},{\"attributes\":{\"formatter\":{\"id\":\"4043\"},\"ticker\":{\"id\":\"3929\"}},\"id\":\"3928\",\"type\":\"LinearAxis\"},{\"attributes\":{\"data\":{\"bottom\":[-1,-2,-3],\"top\":[1,2,3],\"x\":[2,4,6]},\"selected\":{\"id\":\"4046\"},\"selection_policy\":{\"id\":\"4045\"}},\"id\":\"3946\",\"type\":\"ColumnDataSource\"},{\"attributes\":{\"source\":{\"id\":\"3946\"}},\"id\":\"3950\",\"type\":\"CDSView\"},{\"attributes\":{},\"id\":\"3925\",\"type\":\"BasicTicker\"},{\"attributes\":{\"bottom\":{\"field\":\"bottom\"},\"fill_alpha\":{\"value\":0.1},\"fill_color\":{\"value\":\"crimson\"},\"line_alpha\":{\"value\":0.1},\"line_color\":{\"value\":\"crimson\"},\"top\":{\"field\":\"top\"},\"width\":{\"value\":0.5},\"x\":{\"field\":\"x\"}},\"id\":\"3948\",\"type\":\"VBar\"},{\"attributes\":{},\"id\":\"3929\",\"type\":\"BasicTicker\"},{\"attributes\":{},\"id\":\"4046\",\"type\":\"Selection\"},{\"attributes\":{},\"id\":\"3920\",\"type\":\"LinearScale\"},{\"attributes\":{\"bottom\":{\"field\":\"bottom\"},\"fill_color\":{\"value\":\"crimson\"},\"line_color\":{\"value\":\"crimson\"},\"top\":{\"field\":\"top\"},\"width\":{\"value\":0.5},\"x\":{\"field\":\"x\"}},\"id\":\"3947\",\"type\":\"VBar\"},{\"attributes\":{},\"id\":\"4043\",\"type\":\"BasicTickFormatter\"},{\"attributes\":{},\"id\":\"3922\",\"type\":\"LinearScale\"},{\"attributes\":{\"overlay\":{\"id\":\"3938\"}},\"id\":\"3934\",\"type\":\"BoxZoomTool\"},{\"attributes\":{\"axis\":{\"id\":\"3928\"},\"dimension\":1,\"ticker\":null},\"id\":\"3931\",\"type\":\"Grid\"},{\"attributes\":{\"active_drag\":\"auto\",\"active_inspect\":\"auto\",\"active_multi\":null,\"active_scroll\":\"auto\",\"active_tap\":\"auto\",\"tools\":[{\"id\":\"3932\"},{\"id\":\"3933\"},{\"id\":\"3934\"},{\"id\":\"3935\"},{\"id\":\"3936\"},{\"id\":\"3937\"}]},\"id\":\"3939\",\"type\":\"Toolbar\"},{\"attributes\":{},\"id\":\"3937\",\"type\":\"HelpTool\"},{\"attributes\":{},\"id\":\"3933\",\"type\":\"WheelZoomTool\"}],\"root_ids\":[\"3915\"]},\"title\":\"Bokeh Application\",\"version\":\"2.0.2\"}};\n",
       "  var render_items = [{\"docid\":\"231d6439-0685-49d5-a66d-df557694692c\",\"root_ids\":[\"3915\"],\"roots\":{\"3915\":\"15b6fa28-a8b6-4a1c-9411-7797564bc756\"}}];\n",
       "  root.Bokeh.embed.embed_items_notebook(docs_json, render_items);\n",
       "\n",
       "  }\n",
       "  if (root.Bokeh !== undefined) {\n",
       "    embed_document(root);\n",
       "  } else {\n",
       "    var attempts = 0;\n",
       "    var timer = setInterval(function(root) {\n",
       "      if (root.Bokeh !== undefined) {\n",
       "        clearInterval(timer);\n",
       "        embed_document(root);\n",
       "      } else {\n",
       "        attempts++;\n",
       "        if (attempts > 100) {\n",
       "          clearInterval(timer);\n",
       "          console.log(\"Bokeh: ERROR: Unable to run BokehJS code because BokehJS library is missing\");\n",
       "        }\n",
       "      }\n",
       "    }, 10, root)\n",
       "  }\n",
       "})(window);"
      ],
      "application/vnd.bokehjs_exec.v0+json": ""
     },
     "metadata": {
      "application/vnd.bokehjs_exec.v0+json": {
       "id": "3915"
      }
     },
     "output_type": "display_data"
    }
   ],
   "source": [
    "bar_3=figure(plot_width=400, plot_height=200)\n",
    "bar_3.vbar(x=[2,4,6], width=0.5, bottom=[-1,-2,-3], top=[1,2,3], color='crimson')\n",
    "output_file('bar.html')\n",
    "show(bar_3)"
   ]
  },
  {
   "cell_type": "markdown",
   "metadata": {},
   "source": [
    "### Patch plot\n",
    "\n",
    "A plot which shades a region of space in a specific color to show a region or a group having similar properties is termed as a patch plot in Bokeh. Figure object has patch() and patches() methods for this purpose.\n",
    "\n",
    "#### patch()\n",
    "This method adds patch glyph to given figure. The method has the following arguments"
   ]
  },
  {
   "cell_type": "code",
   "execution_count": 23,
   "metadata": {},
   "outputs": [
    {
     "data": {
      "text/html": [
       "\n",
       "\n",
       "\n",
       "\n",
       "\n",
       "\n",
       "  <div class=\"bk-root\" id=\"d863940e-1783-49f3-83a5-65e690fbe0f3\" data-root-id=\"5530\"></div>\n"
      ]
     },
     "metadata": {},
     "output_type": "display_data"
    },
    {
     "data": {
      "application/javascript": [
       "(function(root) {\n",
       "  function embed_document(root) {\n",
       "    \n",
       "  var docs_json = {\"7a4e9552-0652-4f1a-8f28-d0fb8152cd3d\":{\"roots\":{\"references\":[{\"attributes\":{\"below\":[{\"id\":\"5539\"}],\"center\":[{\"id\":\"5542\"},{\"id\":\"5546\"}],\"left\":[{\"id\":\"5543\"}],\"plot_height\":300,\"plot_width\":300,\"renderers\":[{\"id\":\"5564\"}],\"title\":{\"id\":\"5700\"},\"toolbar\":{\"id\":\"5554\"},\"x_range\":{\"id\":\"5531\"},\"x_scale\":{\"id\":\"5535\"},\"y_range\":{\"id\":\"5533\"},\"y_scale\":{\"id\":\"5537\"}},\"id\":\"5530\",\"subtype\":\"Figure\",\"type\":\"Plot\"},{\"attributes\":{\"active_drag\":\"auto\",\"active_inspect\":\"auto\",\"active_multi\":null,\"active_scroll\":\"auto\",\"active_tap\":\"auto\",\"tools\":[{\"id\":\"5547\"},{\"id\":\"5548\"},{\"id\":\"5549\"},{\"id\":\"5550\"},{\"id\":\"5551\"},{\"id\":\"5552\"}]},\"id\":\"5554\",\"type\":\"Toolbar\"},{\"attributes\":{},\"id\":\"5531\",\"type\":\"DataRange1d\"},{\"attributes\":{\"data_source\":{\"id\":\"5561\"},\"glyph\":{\"id\":\"5562\"},\"hover_glyph\":null,\"muted_glyph\":null,\"nonselection_glyph\":{\"id\":\"5563\"},\"selection_glyph\":null,\"view\":{\"id\":\"5565\"}},\"id\":\"5564\",\"type\":\"GlyphRenderer\"},{\"attributes\":{\"data\":{\"x\":[4,4,2,3],\"y\":[5,6,7,8]},\"selected\":{\"id\":\"5706\"},\"selection_policy\":{\"id\":\"5705\"}},\"id\":\"5561\",\"type\":\"ColumnDataSource\"},{\"attributes\":{},\"id\":\"5552\",\"type\":\"HelpTool\"},{\"attributes\":{\"overlay\":{\"id\":\"5553\"}},\"id\":\"5549\",\"type\":\"BoxZoomTool\"},{\"attributes\":{},\"id\":\"5550\",\"type\":\"SaveTool\"},{\"attributes\":{\"text\":\"\"},\"id\":\"5700\",\"type\":\"Title\"},{\"attributes\":{},\"id\":\"5548\",\"type\":\"WheelZoomTool\"},{\"attributes\":{\"fill_alpha\":0.1,\"fill_color\":\"orange\",\"line_alpha\":0.1,\"line_color\":\"orange\",\"x\":{\"field\":\"x\"},\"y\":{\"field\":\"y\"}},\"id\":\"5563\",\"type\":\"Patch\"},{\"attributes\":{},\"id\":\"5701\",\"type\":\"BasicTickFormatter\"},{\"attributes\":{},\"id\":\"5703\",\"type\":\"BasicTickFormatter\"},{\"attributes\":{\"axis\":{\"id\":\"5543\"},\"dimension\":1,\"ticker\":null},\"id\":\"5546\",\"type\":\"Grid\"},{\"attributes\":{},\"id\":\"5535\",\"type\":\"LinearScale\"},{\"attributes\":{},\"id\":\"5705\",\"type\":\"UnionRenderers\"},{\"attributes\":{\"formatter\":{\"id\":\"5703\"},\"ticker\":{\"id\":\"5544\"}},\"id\":\"5543\",\"type\":\"LinearAxis\"},{\"attributes\":{\"fill_color\":\"orange\",\"line_color\":\"orange\",\"x\":{\"field\":\"x\"},\"y\":{\"field\":\"y\"}},\"id\":\"5562\",\"type\":\"Patch\"},{\"attributes\":{\"axis\":{\"id\":\"5539\"},\"ticker\":null},\"id\":\"5542\",\"type\":\"Grid\"},{\"attributes\":{},\"id\":\"5537\",\"type\":\"LinearScale\"},{\"attributes\":{},\"id\":\"5547\",\"type\":\"PanTool\"},{\"attributes\":{},\"id\":\"5540\",\"type\":\"BasicTicker\"},{\"attributes\":{\"bottom_units\":\"screen\",\"fill_alpha\":0.5,\"fill_color\":\"lightgrey\",\"left_units\":\"screen\",\"level\":\"overlay\",\"line_alpha\":1.0,\"line_color\":\"black\",\"line_dash\":[4,4],\"line_width\":2,\"render_mode\":\"css\",\"right_units\":\"screen\",\"top_units\":\"screen\"},\"id\":\"5553\",\"type\":\"BoxAnnotation\"},{\"attributes\":{},\"id\":\"5533\",\"type\":\"DataRange1d\"},{\"attributes\":{},\"id\":\"5544\",\"type\":\"BasicTicker\"},{\"attributes\":{},\"id\":\"5551\",\"type\":\"ResetTool\"},{\"attributes\":{\"formatter\":{\"id\":\"5701\"},\"ticker\":{\"id\":\"5540\"}},\"id\":\"5539\",\"type\":\"LinearAxis\"},{\"attributes\":{},\"id\":\"5706\",\"type\":\"Selection\"},{\"attributes\":{\"source\":{\"id\":\"5561\"}},\"id\":\"5565\",\"type\":\"CDSView\"}],\"root_ids\":[\"5530\"]},\"title\":\"Bokeh Application\",\"version\":\"2.0.2\"}};\n",
       "  var render_items = [{\"docid\":\"7a4e9552-0652-4f1a-8f28-d0fb8152cd3d\",\"root_ids\":[\"5530\"],\"roots\":{\"5530\":\"d863940e-1783-49f3-83a5-65e690fbe0f3\"}}];\n",
       "  root.Bokeh.embed.embed_items_notebook(docs_json, render_items);\n",
       "\n",
       "  }\n",
       "  if (root.Bokeh !== undefined) {\n",
       "    embed_document(root);\n",
       "  } else {\n",
       "    var attempts = 0;\n",
       "    var timer = setInterval(function(root) {\n",
       "      if (root.Bokeh !== undefined) {\n",
       "        clearInterval(timer);\n",
       "        embed_document(root);\n",
       "      } else {\n",
       "        attempts++;\n",
       "        if (attempts > 100) {\n",
       "          clearInterval(timer);\n",
       "          console.log(\"Bokeh: ERROR: Unable to run BokehJS code because BokehJS library is missing\");\n",
       "        }\n",
       "      }\n",
       "    }, 10, root)\n",
       "  }\n",
       "})(window);"
      ],
      "application/vnd.bokehjs_exec.v0+json": ""
     },
     "metadata": {
      "application/vnd.bokehjs_exec.v0+json": {
       "id": "5530"
      }
     },
     "output_type": "display_data"
    }
   ],
   "source": [
    "patch=figure(plot_width = 300, plot_height=300)\n",
    "patch.patch(x=[4,4,2,3], y=[5,6,7,8], color='orange')\n",
    "#output_file('Patch.html')\n",
    "show(patch)\n"
   ]
  },
  {
   "cell_type": "markdown",
   "metadata": {},
   "source": [
    "#### patches()\n",
    "This method is used to draw multiple polygonal patches. It needs following arguments"
   ]
  },
  {
   "cell_type": "code",
   "execution_count": 24,
   "metadata": {},
   "outputs": [
    {
     "data": {
      "text/html": [
       "\n",
       "\n",
       "\n",
       "\n",
       "\n",
       "\n",
       "  <div class=\"bk-root\" id=\"9dd8778e-babf-4aa0-ae75-baab696a5c99\" data-root-id=\"5880\"></div>\n"
      ]
     },
     "metadata": {},
     "output_type": "display_data"
    },
    {
     "data": {
      "application/javascript": [
       "(function(root) {\n",
       "  function embed_document(root) {\n",
       "    \n",
       "  var docs_json = {\"b3d138ed-0d23-4195-a7bc-04ca24949e4e\":{\"roots\":{\"references\":[{\"attributes\":{\"below\":[{\"id\":\"5889\"}],\"center\":[{\"id\":\"5892\"},{\"id\":\"5896\"}],\"left\":[{\"id\":\"5893\"}],\"renderers\":[{\"id\":\"5914\"}],\"title\":{\"id\":\"6059\"},\"toolbar\":{\"id\":\"5904\"},\"x_range\":{\"id\":\"5881\"},\"x_scale\":{\"id\":\"5885\"},\"y_range\":{\"id\":\"5883\"},\"y_scale\":{\"id\":\"5887\"}},\"id\":\"5880\",\"subtype\":\"Figure\",\"type\":\"Plot\"},{\"attributes\":{\"fill_alpha\":{\"value\":0.1},\"fill_color\":{\"field\":\"fill_color\"},\"line_alpha\":{\"value\":0.1},\"line_color\":{\"value\":\"white\"},\"xs\":{\"field\":\"xs\"},\"ys\":{\"field\":\"ys\"}},\"id\":\"5913\",\"type\":\"Patches\"},{\"attributes\":{},\"id\":\"5898\",\"type\":\"WheelZoomTool\"},{\"attributes\":{\"bottom_units\":\"screen\",\"fill_alpha\":0.5,\"fill_color\":\"lightgrey\",\"left_units\":\"screen\",\"level\":\"overlay\",\"line_alpha\":1.0,\"line_color\":\"black\",\"line_dash\":[4,4],\"line_width\":2,\"render_mode\":\"css\",\"right_units\":\"screen\",\"top_units\":\"screen\"},\"id\":\"5903\",\"type\":\"BoxAnnotation\"},{\"attributes\":{},\"id\":\"5901\",\"type\":\"ResetTool\"},{\"attributes\":{},\"id\":\"5890\",\"type\":\"BasicTicker\"},{\"attributes\":{},\"id\":\"5883\",\"type\":\"DataRange1d\"},{\"attributes\":{\"data\":{\"fill_color\":[\"red\",\"blue\",\"black\"],\"xs\":[[5,3,4],[2,4,3],[2,3,5,4]],\"ys\":[[6,4,2],[3,6,7],[2,4,7,8]]},\"selected\":{\"id\":\"6065\"},\"selection_policy\":{\"id\":\"6064\"}},\"id\":\"5911\",\"type\":\"ColumnDataSource\"},{\"attributes\":{},\"id\":\"5881\",\"type\":\"DataRange1d\"},{\"attributes\":{\"formatter\":{\"id\":\"6062\"},\"ticker\":{\"id\":\"5894\"}},\"id\":\"5893\",\"type\":\"LinearAxis\"},{\"attributes\":{\"fill_color\":{\"field\":\"fill_color\"},\"line_color\":{\"value\":\"white\"},\"xs\":{\"field\":\"xs\"},\"ys\":{\"field\":\"ys\"}},\"id\":\"5912\",\"type\":\"Patches\"},{\"attributes\":{},\"id\":\"6065\",\"type\":\"Selection\"},{\"attributes\":{\"axis\":{\"id\":\"5893\"},\"dimension\":1,\"ticker\":null},\"id\":\"5896\",\"type\":\"Grid\"},{\"attributes\":{},\"id\":\"6064\",\"type\":\"UnionRenderers\"},{\"attributes\":{},\"id\":\"6062\",\"type\":\"BasicTickFormatter\"},{\"attributes\":{},\"id\":\"6060\",\"type\":\"BasicTickFormatter\"},{\"attributes\":{\"active_drag\":\"auto\",\"active_inspect\":\"auto\",\"active_multi\":null,\"active_scroll\":\"auto\",\"active_tap\":\"auto\",\"tools\":[{\"id\":\"5897\"},{\"id\":\"5898\"},{\"id\":\"5899\"},{\"id\":\"5900\"},{\"id\":\"5901\"},{\"id\":\"5902\"}]},\"id\":\"5904\",\"type\":\"Toolbar\"},{\"attributes\":{\"axis\":{\"id\":\"5889\"},\"ticker\":null},\"id\":\"5892\",\"type\":\"Grid\"},{\"attributes\":{\"source\":{\"id\":\"5911\"}},\"id\":\"5915\",\"type\":\"CDSView\"},{\"attributes\":{},\"id\":\"5887\",\"type\":\"LinearScale\"},{\"attributes\":{\"overlay\":{\"id\":\"5903\"}},\"id\":\"5899\",\"type\":\"BoxZoomTool\"},{\"attributes\":{},\"id\":\"5894\",\"type\":\"BasicTicker\"},{\"attributes\":{\"formatter\":{\"id\":\"6060\"},\"ticker\":{\"id\":\"5890\"}},\"id\":\"5889\",\"type\":\"LinearAxis\"},{\"attributes\":{},\"id\":\"5885\",\"type\":\"LinearScale\"},{\"attributes\":{},\"id\":\"5897\",\"type\":\"PanTool\"},{\"attributes\":{\"text\":\"\"},\"id\":\"6059\",\"type\":\"Title\"},{\"attributes\":{},\"id\":\"5900\",\"type\":\"SaveTool\"},{\"attributes\":{\"data_source\":{\"id\":\"5911\"},\"glyph\":{\"id\":\"5912\"},\"hover_glyph\":null,\"muted_glyph\":null,\"nonselection_glyph\":{\"id\":\"5913\"},\"selection_glyph\":null,\"view\":{\"id\":\"5915\"}},\"id\":\"5914\",\"type\":\"GlyphRenderer\"},{\"attributes\":{},\"id\":\"5902\",\"type\":\"HelpTool\"}],\"root_ids\":[\"5880\"]},\"title\":\"Bokeh Application\",\"version\":\"2.0.2\"}};\n",
       "  var render_items = [{\"docid\":\"b3d138ed-0d23-4195-a7bc-04ca24949e4e\",\"root_ids\":[\"5880\"],\"roots\":{\"5880\":\"9dd8778e-babf-4aa0-ae75-baab696a5c99\"}}];\n",
       "  root.Bokeh.embed.embed_items_notebook(docs_json, render_items);\n",
       "\n",
       "  }\n",
       "  if (root.Bokeh !== undefined) {\n",
       "    embed_document(root);\n",
       "  } else {\n",
       "    var attempts = 0;\n",
       "    var timer = setInterval(function(root) {\n",
       "      if (root.Bokeh !== undefined) {\n",
       "        clearInterval(timer);\n",
       "        embed_document(root);\n",
       "      } else {\n",
       "        attempts++;\n",
       "        if (attempts > 100) {\n",
       "          clearInterval(timer);\n",
       "          console.log(\"Bokeh: ERROR: Unable to run BokehJS code because BokehJS library is missing\");\n",
       "        }\n",
       "      }\n",
       "    }, 10, root)\n",
       "  }\n",
       "})(window);"
      ],
      "application/vnd.bokehjs_exec.v0+json": ""
     },
     "metadata": {
      "application/vnd.bokehjs_exec.v0+json": {
       "id": "5880"
      }
     },
     "output_type": "display_data"
    }
   ],
   "source": [
    "xs = [[5,3,4], [2,4,3], [2,3,5,4]]\n",
    "ys = [[6,4,2], [3,6,7], [2,4,7,8]]\n",
    "patches = figure()\n",
    "patches.patches(xs, ys, fill_color = ['red', 'blue', 'black'], line_color = 'white')\n",
    "#output_file('patch_plot.html')\n",
    "show(patches)"
   ]
  },
  {
   "cell_type": "markdown",
   "metadata": {},
   "source": [
    "### Scatter Markers\n",
    "Scatter plots are very commonly used to determine the bi-variate relationship between two variables. The enhanced interactivity is added to them using Bokeh. Scatter plot is obtained by calling scatter() method of Figure object. It uses the following parameters"
   ]
  },
  {
   "cell_type": "markdown",
   "metadata": {},
   "source": [
    "Following marker type constants are defined in Bokeh: −\n",
    "\n",
    "* Asterisk\n",
    "* Circle\n",
    "* CircleCross\n",
    "* CircleX\n",
    "* Cross\n",
    "* Dash\n",
    "* Diamond\n",
    "* DiamondCross\n",
    "* Hex\n",
    "* InvertedTriangle\n",
    "* Square\n",
    "* SquareCross\n",
    "* SquareX\n",
    "* Triangle\n",
    "* X\n",
    "Following Python code generates scatter plot with circle marks"
   ]
  },
  {
   "cell_type": "code",
   "execution_count": 25,
   "metadata": {},
   "outputs": [
    {
     "data": {
      "text/html": [
       "\n",
       "\n",
       "\n",
       "\n",
       "\n",
       "\n",
       "  <div class=\"bk-root\" id=\"f1c7216c-7467-412a-8020-713d26fd624d\" data-root-id=\"6239\"></div>\n"
      ]
     },
     "metadata": {},
     "output_type": "display_data"
    },
    {
     "data": {
      "application/javascript": [
       "(function(root) {\n",
       "  function embed_document(root) {\n",
       "    \n",
       "  var docs_json = {\"bd512459-ea48-48ec-8ff0-7aabb4b41864\":{\"roots\":{\"references\":[{\"attributes\":{\"below\":[{\"id\":\"6248\"}],\"center\":[{\"id\":\"6251\"},{\"id\":\"6255\"}],\"left\":[{\"id\":\"6252\"}],\"renderers\":[{\"id\":\"6273\"}],\"title\":{\"id\":\"6427\"},\"toolbar\":{\"id\":\"6263\"},\"x_range\":{\"id\":\"6240\"},\"x_scale\":{\"id\":\"6244\"},\"y_range\":{\"id\":\"6242\"},\"y_scale\":{\"id\":\"6246\"}},\"id\":\"6239\",\"subtype\":\"Figure\",\"type\":\"Plot\"},{\"attributes\":{},\"id\":\"6253\",\"type\":\"BasicTicker\"},{\"attributes\":{\"axis\":{\"id\":\"6252\"},\"dimension\":1,\"ticker\":null},\"id\":\"6255\",\"type\":\"Grid\"},{\"attributes\":{},\"id\":\"6246\",\"type\":\"LinearScale\"},{\"attributes\":{\"fill_alpha\":{\"value\":0.1},\"fill_color\":{\"value\":\"grey\"},\"line_alpha\":{\"value\":0.1},\"line_color\":{\"value\":\"#1f77b4\"},\"size\":{\"units\":\"screen\",\"value\":20},\"x\":{\"field\":\"x\"},\"y\":{\"field\":\"y\"}},\"id\":\"6272\",\"type\":\"Scatter\"},{\"attributes\":{\"formatter\":{\"id\":\"6430\"},\"ticker\":{\"id\":\"6253\"}},\"id\":\"6252\",\"type\":\"LinearAxis\"},{\"attributes\":{},\"id\":\"6428\",\"type\":\"BasicTickFormatter\"},{\"attributes\":{\"data\":{\"x\":[1,5,3,7,9],\"y\":[5,2,6,4,1]},\"selected\":{\"id\":\"6433\"},\"selection_policy\":{\"id\":\"6432\"}},\"id\":\"6270\",\"type\":\"ColumnDataSource\"},{\"attributes\":{\"formatter\":{\"id\":\"6428\"},\"ticker\":{\"id\":\"6249\"}},\"id\":\"6248\",\"type\":\"LinearAxis\"},{\"attributes\":{},\"id\":\"6433\",\"type\":\"Selection\"},{\"attributes\":{\"axis\":{\"id\":\"6248\"},\"ticker\":null},\"id\":\"6251\",\"type\":\"Grid\"},{\"attributes\":{},\"id\":\"6242\",\"type\":\"DataRange1d\"},{\"attributes\":{},\"id\":\"6432\",\"type\":\"UnionRenderers\"},{\"attributes\":{\"bottom_units\":\"screen\",\"fill_alpha\":0.5,\"fill_color\":\"lightgrey\",\"left_units\":\"screen\",\"level\":\"overlay\",\"line_alpha\":1.0,\"line_color\":\"black\",\"line_dash\":[4,4],\"line_width\":2,\"render_mode\":\"css\",\"right_units\":\"screen\",\"top_units\":\"screen\"},\"id\":\"6262\",\"type\":\"BoxAnnotation\"},{\"attributes\":{},\"id\":\"6244\",\"type\":\"LinearScale\"},{\"attributes\":{\"source\":{\"id\":\"6270\"}},\"id\":\"6274\",\"type\":\"CDSView\"},{\"attributes\":{},\"id\":\"6259\",\"type\":\"SaveTool\"},{\"attributes\":{\"fill_color\":{\"value\":\"grey\"},\"line_color\":{\"value\":\"#1f77b4\"},\"size\":{\"units\":\"screen\",\"value\":20},\"x\":{\"field\":\"x\"},\"y\":{\"field\":\"y\"}},\"id\":\"6271\",\"type\":\"Scatter\"},{\"attributes\":{},\"id\":\"6256\",\"type\":\"PanTool\"},{\"attributes\":{\"text\":\"\"},\"id\":\"6427\",\"type\":\"Title\"},{\"attributes\":{},\"id\":\"6257\",\"type\":\"WheelZoomTool\"},{\"attributes\":{},\"id\":\"6240\",\"type\":\"DataRange1d\"},{\"attributes\":{},\"id\":\"6261\",\"type\":\"HelpTool\"},{\"attributes\":{\"active_drag\":\"auto\",\"active_inspect\":\"auto\",\"active_multi\":null,\"active_scroll\":\"auto\",\"active_tap\":\"auto\",\"tools\":[{\"id\":\"6256\"},{\"id\":\"6257\"},{\"id\":\"6258\"},{\"id\":\"6259\"},{\"id\":\"6260\"},{\"id\":\"6261\"}]},\"id\":\"6263\",\"type\":\"Toolbar\"},{\"attributes\":{\"data_source\":{\"id\":\"6270\"},\"glyph\":{\"id\":\"6271\"},\"hover_glyph\":null,\"muted_glyph\":null,\"nonselection_glyph\":{\"id\":\"6272\"},\"selection_glyph\":null,\"view\":{\"id\":\"6274\"}},\"id\":\"6273\",\"type\":\"GlyphRenderer\"},{\"attributes\":{},\"id\":\"6260\",\"type\":\"ResetTool\"},{\"attributes\":{},\"id\":\"6249\",\"type\":\"BasicTicker\"},{\"attributes\":{},\"id\":\"6430\",\"type\":\"BasicTickFormatter\"},{\"attributes\":{\"overlay\":{\"id\":\"6262\"}},\"id\":\"6258\",\"type\":\"BoxZoomTool\"}],\"root_ids\":[\"6239\"]},\"title\":\"Bokeh Application\",\"version\":\"2.0.2\"}};\n",
       "  var render_items = [{\"docid\":\"bd512459-ea48-48ec-8ff0-7aabb4b41864\",\"root_ids\":[\"6239\"],\"roots\":{\"6239\":\"f1c7216c-7467-412a-8020-713d26fd624d\"}}];\n",
       "  root.Bokeh.embed.embed_items_notebook(docs_json, render_items);\n",
       "\n",
       "  }\n",
       "  if (root.Bokeh !== undefined) {\n",
       "    embed_document(root);\n",
       "  } else {\n",
       "    var attempts = 0;\n",
       "    var timer = setInterval(function(root) {\n",
       "      if (root.Bokeh !== undefined) {\n",
       "        clearInterval(timer);\n",
       "        embed_document(root);\n",
       "      } else {\n",
       "        attempts++;\n",
       "        if (attempts > 100) {\n",
       "          clearInterval(timer);\n",
       "          console.log(\"Bokeh: ERROR: Unable to run BokehJS code because BokehJS library is missing\");\n",
       "        }\n",
       "      }\n",
       "    }, 10, root)\n",
       "  }\n",
       "})(window);"
      ],
      "application/vnd.bokehjs_exec.v0+json": ""
     },
     "metadata": {
      "application/vnd.bokehjs_exec.v0+json": {
       "id": "6239"
      }
     },
     "output_type": "display_data"
    }
   ],
   "source": [
    "scatter=figure()\n",
    "scatter.scatter([1,5,3,7,9], [5,2,6,4,1], marker='circle', size=20, fill_color='grey')\n",
    "#output_file('scatter.html')\n",
    "show(scatter)"
   ]
  },
  {
   "cell_type": "code",
   "execution_count": 28,
   "metadata": {},
   "outputs": [
    {
     "data": {
      "text/html": [
       "\n",
       "\n",
       "\n",
       "\n",
       "\n",
       "\n",
       "  <div class=\"bk-root\" id=\"87578940-54d0-448c-95c8-83ced426fb1e\" data-root-id=\"7370\"></div>\n"
      ]
     },
     "metadata": {},
     "output_type": "display_data"
    },
    {
     "data": {
      "application/javascript": [
       "(function(root) {\n",
       "  function embed_document(root) {\n",
       "    \n",
       "  var docs_json = {\"f1355d61-cefc-42a7-82f3-b49d021d07ee\":{\"roots\":{\"references\":[{\"attributes\":{\"below\":[{\"id\":\"7379\"}],\"center\":[{\"id\":\"7382\"},{\"id\":\"7386\"}],\"left\":[{\"id\":\"7383\"}],\"renderers\":[{\"id\":\"7404\"}],\"title\":{\"id\":\"7585\"},\"toolbar\":{\"id\":\"7394\"},\"x_range\":{\"id\":\"7371\"},\"x_scale\":{\"id\":\"7375\"},\"y_range\":{\"id\":\"7373\"},\"y_scale\":{\"id\":\"7377\"}},\"id\":\"7370\",\"subtype\":\"Figure\",\"type\":\"Plot\"},{\"attributes\":{},\"id\":\"7586\",\"type\":\"BasicTickFormatter\"},{\"attributes\":{},\"id\":\"7371\",\"type\":\"DataRange1d\"},{\"attributes\":{},\"id\":\"7591\",\"type\":\"Selection\"},{\"attributes\":{},\"id\":\"7391\",\"type\":\"ResetTool\"},{\"attributes\":{\"data\":{\"x\":[1,5,3,7,9],\"y\":[5,2,6,4,1]},\"selected\":{\"id\":\"7591\"},\"selection_policy\":{\"id\":\"7590\"}},\"id\":\"7401\",\"type\":\"ColumnDataSource\"},{\"attributes\":{},\"id\":\"7590\",\"type\":\"UnionRenderers\"},{\"attributes\":{\"active_drag\":\"auto\",\"active_inspect\":\"auto\",\"active_multi\":null,\"active_scroll\":\"auto\",\"active_tap\":\"auto\",\"tools\":[{\"id\":\"7387\"},{\"id\":\"7388\"},{\"id\":\"7389\"},{\"id\":\"7390\"},{\"id\":\"7391\"},{\"id\":\"7392\"}]},\"id\":\"7394\",\"type\":\"Toolbar\"},{\"attributes\":{},\"id\":\"7380\",\"type\":\"BasicTicker\"},{\"attributes\":{\"data_source\":{\"id\":\"7401\"},\"glyph\":{\"id\":\"7402\"},\"hover_glyph\":null,\"muted_glyph\":null,\"nonselection_glyph\":{\"id\":\"7403\"},\"selection_glyph\":null,\"view\":{\"id\":\"7405\"}},\"id\":\"7404\",\"type\":\"GlyphRenderer\"},{\"attributes\":{},\"id\":\"7588\",\"type\":\"BasicTickFormatter\"},{\"attributes\":{},\"id\":\"7384\",\"type\":\"BasicTicker\"},{\"attributes\":{},\"id\":\"7387\",\"type\":\"PanTool\"},{\"attributes\":{},\"id\":\"7388\",\"type\":\"WheelZoomTool\"},{\"attributes\":{\"source\":{\"id\":\"7401\"}},\"id\":\"7405\",\"type\":\"CDSView\"},{\"attributes\":{\"bottom_units\":\"screen\",\"fill_alpha\":0.5,\"fill_color\":\"lightgrey\",\"left_units\":\"screen\",\"level\":\"overlay\",\"line_alpha\":1.0,\"line_color\":\"black\",\"line_dash\":[4,4],\"line_width\":2,\"render_mode\":\"css\",\"right_units\":\"screen\",\"top_units\":\"screen\"},\"id\":\"7393\",\"type\":\"BoxAnnotation\"},{\"attributes\":{\"fill_alpha\":{\"value\":0.1},\"fill_color\":{\"value\":\"grey\"},\"line_alpha\":{\"value\":0.1},\"line_color\":{\"value\":\"#1f77b4\"},\"marker\":{\"value\":\"square\"},\"size\":{\"units\":\"screen\",\"value\":20},\"x\":{\"field\":\"x\"},\"y\":{\"field\":\"y\"}},\"id\":\"7403\",\"type\":\"Scatter\"},{\"attributes\":{\"formatter\":{\"id\":\"7586\"},\"ticker\":{\"id\":\"7380\"}},\"id\":\"7379\",\"type\":\"LinearAxis\"},{\"attributes\":{\"formatter\":{\"id\":\"7588\"},\"ticker\":{\"id\":\"7384\"}},\"id\":\"7383\",\"type\":\"LinearAxis\"},{\"attributes\":{},\"id\":\"7390\",\"type\":\"SaveTool\"},{\"attributes\":{\"axis\":{\"id\":\"7383\"},\"dimension\":1,\"ticker\":null},\"id\":\"7386\",\"type\":\"Grid\"},{\"attributes\":{\"axis\":{\"id\":\"7379\"},\"ticker\":null},\"id\":\"7382\",\"type\":\"Grid\"},{\"attributes\":{},\"id\":\"7377\",\"type\":\"LinearScale\"},{\"attributes\":{\"text\":\"\"},\"id\":\"7585\",\"type\":\"Title\"},{\"attributes\":{},\"id\":\"7375\",\"type\":\"LinearScale\"},{\"attributes\":{\"overlay\":{\"id\":\"7393\"}},\"id\":\"7389\",\"type\":\"BoxZoomTool\"},{\"attributes\":{},\"id\":\"7392\",\"type\":\"HelpTool\"},{\"attributes\":{\"fill_color\":{\"value\":\"grey\"},\"line_color\":{\"value\":\"#1f77b4\"},\"marker\":{\"value\":\"square\"},\"size\":{\"units\":\"screen\",\"value\":20},\"x\":{\"field\":\"x\"},\"y\":{\"field\":\"y\"}},\"id\":\"7402\",\"type\":\"Scatter\"},{\"attributes\":{},\"id\":\"7373\",\"type\":\"DataRange1d\"}],\"root_ids\":[\"7370\"]},\"title\":\"Bokeh Application\",\"version\":\"2.0.2\"}};\n",
       "  var render_items = [{\"docid\":\"f1355d61-cefc-42a7-82f3-b49d021d07ee\",\"root_ids\":[\"7370\"],\"roots\":{\"7370\":\"87578940-54d0-448c-95c8-83ced426fb1e\"}}];\n",
       "  root.Bokeh.embed.embed_items_notebook(docs_json, render_items);\n",
       "\n",
       "  }\n",
       "  if (root.Bokeh !== undefined) {\n",
       "    embed_document(root);\n",
       "  } else {\n",
       "    var attempts = 0;\n",
       "    var timer = setInterval(function(root) {\n",
       "      if (root.Bokeh !== undefined) {\n",
       "        clearInterval(timer);\n",
       "        embed_document(root);\n",
       "      } else {\n",
       "        attempts++;\n",
       "        if (attempts > 100) {\n",
       "          clearInterval(timer);\n",
       "          console.log(\"Bokeh: ERROR: Unable to run BokehJS code because BokehJS library is missing\");\n",
       "        }\n",
       "      }\n",
       "    }, 10, root)\n",
       "  }\n",
       "})(window);"
      ],
      "application/vnd.bokehjs_exec.v0+json": ""
     },
     "metadata": {
      "application/vnd.bokehjs_exec.v0+json": {
       "id": "7370"
      }
     },
     "output_type": "display_data"
    }
   ],
   "source": [
    "scatter=figure()\n",
    "scatter.scatter([1,5,3,7,9], [5,2,6,4,1], marker='square', size=20, fill_color='grey')\n",
    "#output_file('scatter.html')\n",
    "show(scatter)"
   ]
  },
  {
   "cell_type": "markdown",
   "metadata": {},
   "source": [
    "###  Bokeh - Area Plots\n",
    "\n",
    "Area plots are filled regions between two series that share a common index. Bokeh's Figure class has two methods as follows −\n",
    "\n",
    "#### varea()\n",
    "Output of the varea() method is a vertical directed area that has one x coordinate array, and two y coordinate arrays, y1 and y2, which will be filled between."
   ]
  },
  {
   "cell_type": "code",
   "execution_count": 31,
   "metadata": {},
   "outputs": [
    {
     "data": {
      "text/html": [
       "\n",
       "\n",
       "\n",
       "\n",
       "\n",
       "\n",
       "  <div class=\"bk-root\" id=\"6642e240-b9ac-4e8c-8e6a-4b7527292cb7\" data-root-id=\"8582\"></div>\n"
      ]
     },
     "metadata": {},
     "output_type": "display_data"
    },
    {
     "data": {
      "application/javascript": [
       "(function(root) {\n",
       "  function embed_document(root) {\n",
       "    \n",
       "  var docs_json = {\"09f4aebd-eb25-4a9b-8726-cbbb3ea65059\":{\"roots\":{\"references\":[{\"attributes\":{\"below\":[{\"id\":\"8591\"}],\"center\":[{\"id\":\"8594\"},{\"id\":\"8598\"}],\"left\":[{\"id\":\"8595\"}],\"renderers\":[{\"id\":\"8616\"}],\"title\":{\"id\":\"8824\"},\"toolbar\":{\"id\":\"8606\"},\"x_range\":{\"id\":\"8583\"},\"x_scale\":{\"id\":\"8587\"},\"y_range\":{\"id\":\"8585\"},\"y_scale\":{\"id\":\"8589\"}},\"id\":\"8582\",\"subtype\":\"Figure\",\"type\":\"Plot\"},{\"attributes\":{},\"id\":\"8589\",\"type\":\"LinearScale\"},{\"attributes\":{},\"id\":\"8599\",\"type\":\"PanTool\"},{\"attributes\":{\"text\":\"\"},\"id\":\"8824\",\"type\":\"Title\"},{\"attributes\":{\"formatter\":{\"id\":\"8827\"},\"ticker\":{\"id\":\"8596\"}},\"id\":\"8595\",\"type\":\"LinearAxis\"},{\"attributes\":{},\"id\":\"8827\",\"type\":\"BasicTickFormatter\"},{\"attributes\":{},\"id\":\"8592\",\"type\":\"BasicTicker\"},{\"attributes\":{\"axis\":{\"id\":\"8595\"},\"dimension\":1,\"ticker\":null},\"id\":\"8598\",\"type\":\"Grid\"},{\"attributes\":{\"source\":{\"id\":\"8613\"}},\"id\":\"8617\",\"type\":\"CDSView\"},{\"attributes\":{\"fill_color\":\"maroon\",\"x\":{\"field\":\"x\"},\"y1\":{\"field\":\"y1\"},\"y2\":{\"field\":\"y2\"}},\"id\":\"8614\",\"type\":\"VArea\"},{\"attributes\":{},\"id\":\"8830\",\"type\":\"Selection\"},{\"attributes\":{\"fill_alpha\":0.1,\"fill_color\":\"maroon\",\"x\":{\"field\":\"x\"},\"y1\":{\"field\":\"y1\"},\"y2\":{\"field\":\"y2\"}},\"id\":\"8615\",\"type\":\"VArea\"},{\"attributes\":{},\"id\":\"8596\",\"type\":\"BasicTicker\"},{\"attributes\":{\"formatter\":{\"id\":\"8825\"},\"ticker\":{\"id\":\"8592\"}},\"id\":\"8591\",\"type\":\"LinearAxis\"},{\"attributes\":{\"data\":{\"x\":[1,2,3,4,5],\"y1\":[2,6,4,3,5],\"y2\":[1,4,2,2,3]},\"selected\":{\"id\":\"8830\"},\"selection_policy\":{\"id\":\"8829\"}},\"id\":\"8613\",\"type\":\"ColumnDataSource\"},{\"attributes\":{\"overlay\":{\"id\":\"8605\"}},\"id\":\"8601\",\"type\":\"BoxZoomTool\"},{\"attributes\":{},\"id\":\"8602\",\"type\":\"SaveTool\"},{\"attributes\":{\"active_drag\":\"auto\",\"active_inspect\":\"auto\",\"active_multi\":null,\"active_scroll\":\"auto\",\"active_tap\":\"auto\",\"tools\":[{\"id\":\"8599\"},{\"id\":\"8600\"},{\"id\":\"8601\"},{\"id\":\"8602\"},{\"id\":\"8603\"},{\"id\":\"8604\"}]},\"id\":\"8606\",\"type\":\"Toolbar\"},{\"attributes\":{},\"id\":\"8600\",\"type\":\"WheelZoomTool\"},{\"attributes\":{},\"id\":\"8583\",\"type\":\"DataRange1d\"},{\"attributes\":{\"axis\":{\"id\":\"8591\"},\"ticker\":null},\"id\":\"8594\",\"type\":\"Grid\"},{\"attributes\":{},\"id\":\"8825\",\"type\":\"BasicTickFormatter\"},{\"attributes\":{},\"id\":\"8829\",\"type\":\"UnionRenderers\"},{\"attributes\":{\"bottom_units\":\"screen\",\"fill_alpha\":0.5,\"fill_color\":\"lightgrey\",\"left_units\":\"screen\",\"level\":\"overlay\",\"line_alpha\":1.0,\"line_color\":\"black\",\"line_dash\":[4,4],\"line_width\":2,\"render_mode\":\"css\",\"right_units\":\"screen\",\"top_units\":\"screen\"},\"id\":\"8605\",\"type\":\"BoxAnnotation\"},{\"attributes\":{},\"id\":\"8587\",\"type\":\"LinearScale\"},{\"attributes\":{},\"id\":\"8604\",\"type\":\"HelpTool\"},{\"attributes\":{\"data_source\":{\"id\":\"8613\"},\"glyph\":{\"id\":\"8614\"},\"hover_glyph\":null,\"muted_glyph\":null,\"nonselection_glyph\":{\"id\":\"8615\"},\"selection_glyph\":null,\"view\":{\"id\":\"8617\"}},\"id\":\"8616\",\"type\":\"GlyphRenderer\"},{\"attributes\":{},\"id\":\"8585\",\"type\":\"DataRange1d\"},{\"attributes\":{},\"id\":\"8603\",\"type\":\"ResetTool\"}],\"root_ids\":[\"8582\"]},\"title\":\"Bokeh Application\",\"version\":\"2.0.2\"}};\n",
       "  var render_items = [{\"docid\":\"09f4aebd-eb25-4a9b-8726-cbbb3ea65059\",\"root_ids\":[\"8582\"],\"roots\":{\"8582\":\"6642e240-b9ac-4e8c-8e6a-4b7527292cb7\"}}];\n",
       "  root.Bokeh.embed.embed_items_notebook(docs_json, render_items);\n",
       "\n",
       "  }\n",
       "  if (root.Bokeh !== undefined) {\n",
       "    embed_document(root);\n",
       "  } else {\n",
       "    var attempts = 0;\n",
       "    var timer = setInterval(function(root) {\n",
       "      if (root.Bokeh !== undefined) {\n",
       "        clearInterval(timer);\n",
       "        embed_document(root);\n",
       "      } else {\n",
       "        attempts++;\n",
       "        if (attempts > 100) {\n",
       "          clearInterval(timer);\n",
       "          console.log(\"Bokeh: ERROR: Unable to run BokehJS code because BokehJS library is missing\");\n",
       "        }\n",
       "      }\n",
       "    }, 10, root)\n",
       "  }\n",
       "})(window);"
      ],
      "application/vnd.bokehjs_exec.v0+json": ""
     },
     "metadata": {
      "application/vnd.bokehjs_exec.v0+json": {
       "id": "8582"
      }
     },
     "output_type": "display_data"
    }
   ],
   "source": [
    "varea = figure()\n",
    "x = [1, 2, 3, 4, 5]\n",
    "y1 = [2, 6, 4, 3, 5]\n",
    "y2 = [1, 4, 2, 2, 3]\n",
    "varea.varea(x = x,y1 = y1,y2 = y2, color='maroon')\n",
    "output_file('varea.html')\n",
    "show(varea)"
   ]
  },
  {
   "cell_type": "code",
   "execution_count": 34,
   "metadata": {},
   "outputs": [
    {
     "data": {
      "text/html": [
       "\n",
       "\n",
       "\n",
       "\n",
       "\n",
       "\n",
       "  <div class=\"bk-root\" id=\"b4aacd99-a2bc-4ec8-b3a5-08fd49344824\" data-root-id=\"9468\"></div>\n"
      ]
     },
     "metadata": {},
     "output_type": "display_data"
    },
    {
     "data": {
      "application/javascript": [
       "(function(root) {\n",
       "  function embed_document(root) {\n",
       "    \n",
       "  var docs_json = {\"d861ea56-6495-4daf-99d8-59676595a38d\":{\"roots\":{\"references\":[{\"attributes\":{\"below\":[{\"id\":\"9477\"}],\"center\":[{\"id\":\"9480\"},{\"id\":\"9484\"}],\"left\":[{\"id\":\"9481\"}],\"renderers\":[{\"id\":\"9502\"}],\"title\":{\"id\":\"9728\"},\"toolbar\":{\"id\":\"9492\"},\"x_range\":{\"id\":\"9469\"},\"x_scale\":{\"id\":\"9473\"},\"y_range\":{\"id\":\"9471\"},\"y_scale\":{\"id\":\"9475\"}},\"id\":\"9468\",\"subtype\":\"Figure\",\"type\":\"Plot\"},{\"attributes\":{\"source\":{\"id\":\"9499\"}},\"id\":\"9503\",\"type\":\"CDSView\"},{\"attributes\":{\"data_source\":{\"id\":\"9499\"},\"glyph\":{\"id\":\"9500\"},\"hover_glyph\":null,\"muted_glyph\":null,\"nonselection_glyph\":{\"id\":\"9501\"},\"selection_glyph\":null,\"view\":{\"id\":\"9503\"}},\"id\":\"9502\",\"type\":\"GlyphRenderer\"},{\"attributes\":{\"fill_alpha\":0.1,\"fill_color\":\"cyan\",\"x1\":{\"field\":\"x1\"},\"x2\":{\"field\":\"x2\"},\"y\":{\"field\":\"y\"}},\"id\":\"9501\",\"type\":\"HArea\"},{\"attributes\":{},\"id\":\"9482\",\"type\":\"BasicTicker\"},{\"attributes\":{},\"id\":\"9485\",\"type\":\"PanTool\"},{\"attributes\":{},\"id\":\"9733\",\"type\":\"UnionRenderers\"},{\"attributes\":{},\"id\":\"9734\",\"type\":\"Selection\"},{\"attributes\":{},\"id\":\"9486\",\"type\":\"WheelZoomTool\"},{\"attributes\":{\"overlay\":{\"id\":\"9491\"}},\"id\":\"9487\",\"type\":\"BoxZoomTool\"},{\"attributes\":{},\"id\":\"9489\",\"type\":\"ResetTool\"},{\"attributes\":{},\"id\":\"9488\",\"type\":\"SaveTool\"},{\"attributes\":{\"data\":{\"x1\":[2,6,4,3,5],\"x2\":[1,4,2,2,3],\"y\":[1,2,3,4,5]},\"selected\":{\"id\":\"9734\"},\"selection_policy\":{\"id\":\"9733\"}},\"id\":\"9499\",\"type\":\"ColumnDataSource\"},{\"attributes\":{},\"id\":\"9469\",\"type\":\"DataRange1d\"},{\"attributes\":{},\"id\":\"9478\",\"type\":\"BasicTicker\"},{\"attributes\":{\"formatter\":{\"id\":\"9729\"},\"ticker\":{\"id\":\"9478\"}},\"id\":\"9477\",\"type\":\"LinearAxis\"},{\"attributes\":{\"formatter\":{\"id\":\"9731\"},\"ticker\":{\"id\":\"9482\"}},\"id\":\"9481\",\"type\":\"LinearAxis\"},{\"attributes\":{},\"id\":\"9471\",\"type\":\"DataRange1d\"},{\"attributes\":{\"axis\":{\"id\":\"9477\"},\"ticker\":null},\"id\":\"9480\",\"type\":\"Grid\"},{\"attributes\":{\"active_drag\":\"auto\",\"active_inspect\":\"auto\",\"active_multi\":null,\"active_scroll\":\"auto\",\"active_tap\":\"auto\",\"tools\":[{\"id\":\"9485\"},{\"id\":\"9486\"},{\"id\":\"9487\"},{\"id\":\"9488\"},{\"id\":\"9489\"},{\"id\":\"9490\"}]},\"id\":\"9492\",\"type\":\"Toolbar\"},{\"attributes\":{},\"id\":\"9473\",\"type\":\"LinearScale\"},{\"attributes\":{},\"id\":\"9729\",\"type\":\"BasicTickFormatter\"},{\"attributes\":{\"axis\":{\"id\":\"9481\"},\"dimension\":1,\"ticker\":null},\"id\":\"9484\",\"type\":\"Grid\"},{\"attributes\":{\"bottom_units\":\"screen\",\"fill_alpha\":0.5,\"fill_color\":\"lightgrey\",\"left_units\":\"screen\",\"level\":\"overlay\",\"line_alpha\":1.0,\"line_color\":\"black\",\"line_dash\":[4,4],\"line_width\":2,\"render_mode\":\"css\",\"right_units\":\"screen\",\"top_units\":\"screen\"},\"id\":\"9491\",\"type\":\"BoxAnnotation\"},{\"attributes\":{},\"id\":\"9475\",\"type\":\"LinearScale\"},{\"attributes\":{},\"id\":\"9731\",\"type\":\"BasicTickFormatter\"},{\"attributes\":{},\"id\":\"9490\",\"type\":\"HelpTool\"},{\"attributes\":{\"text\":\"\"},\"id\":\"9728\",\"type\":\"Title\"},{\"attributes\":{\"fill_color\":\"cyan\",\"x1\":{\"field\":\"x1\"},\"x2\":{\"field\":\"x2\"},\"y\":{\"field\":\"y\"}},\"id\":\"9500\",\"type\":\"HArea\"}],\"root_ids\":[\"9468\"]},\"title\":\"Bokeh Application\",\"version\":\"2.0.2\"}};\n",
       "  var render_items = [{\"docid\":\"d861ea56-6495-4daf-99d8-59676595a38d\",\"root_ids\":[\"9468\"],\"roots\":{\"9468\":\"b4aacd99-a2bc-4ec8-b3a5-08fd49344824\"}}];\n",
       "  root.Bokeh.embed.embed_items_notebook(docs_json, render_items);\n",
       "\n",
       "  }\n",
       "  if (root.Bokeh !== undefined) {\n",
       "    embed_document(root);\n",
       "  } else {\n",
       "    var attempts = 0;\n",
       "    var timer = setInterval(function(root) {\n",
       "      if (root.Bokeh !== undefined) {\n",
       "        clearInterval(timer);\n",
       "        embed_document(root);\n",
       "      } else {\n",
       "        attempts++;\n",
       "        if (attempts > 100) {\n",
       "          clearInterval(timer);\n",
       "          console.log(\"Bokeh: ERROR: Unable to run BokehJS code because BokehJS library is missing\");\n",
       "        }\n",
       "      }\n",
       "    }, 10, root)\n",
       "  }\n",
       "})(window);"
      ],
      "application/vnd.bokehjs_exec.v0+json": ""
     },
     "metadata": {
      "application/vnd.bokehjs_exec.v0+json": {
       "id": "9468"
      }
     },
     "output_type": "display_data"
    }
   ],
   "source": [
    "harea = figure()\n",
    "y = [1, 2, 3, 4, 5]\n",
    "x1 = [2, 6, 4, 3, 5]\n",
    "x2 = [1, 4, 2, 2, 3]\n",
    "harea.harea(x1 = x1,x2 = x2,y=y, color='cyan')\n",
    "output_file('harea.html')\n",
    "show(harea)"
   ]
  },
  {
   "cell_type": "markdown",
   "metadata": {},
   "source": [
    "### Bokeh - Circles"
   ]
  },
  {
   "cell_type": "markdown",
   "metadata": {},
   "source": [
    "The figure object has many methods using which vectorised glyphs of different shapes such as circle, rectangle, polygon, etc. can, be drawn.\n",
    "\n",
    "Following methods are available for drawing circle glyphs −\n",
    "\n",
    "#### circle()\n",
    "The circle() method adds a circle glyph to the figure and needs x and y coordinates of its center. Additionally, it can be configured with the help of parameters such as fill_color, line-color, line_width etc.\n",
    "\n",
    "#### circle_cross()\n",
    "The circle_cross() method adds circle glyph with a ‘+’ cross through the center.\n",
    "\n",
    "#### circle_x()\n",
    "The circle_x() method adds circle with an ‘X’ cross through the center.\n",
    "\n",
    "Example\n",
    "Following example shows use of various circle glyphs added to Bokeh figure "
   ]
  },
  {
   "cell_type": "code",
   "execution_count": 35,
   "metadata": {},
   "outputs": [
    {
     "data": {
      "text/html": [
       "\n",
       "\n",
       "\n",
       "\n",
       "\n",
       "\n",
       "  <div class=\"bk-root\" id=\"768294eb-c361-415d-a5ed-1510dfdcb6b4\" data-root-id=\"9908\"></div>\n"
      ]
     },
     "metadata": {},
     "output_type": "display_data"
    },
    {
     "data": {
      "application/javascript": [
       "(function(root) {\n",
       "  function embed_document(root) {\n",
       "    \n",
       "  var docs_json = {\"849c2c8b-0b93-4dd6-b7e2-fced0769bf02\":{\"roots\":{\"references\":[{\"attributes\":{\"below\":[{\"id\":\"9917\"}],\"center\":[{\"id\":\"9920\"},{\"id\":\"9924\"}],\"left\":[{\"id\":\"9921\"}],\"plot_height\":300,\"plot_width\":300,\"renderers\":[{\"id\":\"9942\"},{\"id\":\"9947\"},{\"id\":\"9952\"}],\"title\":{\"id\":\"10187\"},\"toolbar\":{\"id\":\"9932\"},\"x_range\":{\"id\":\"9909\"},\"x_scale\":{\"id\":\"9913\"},\"y_range\":{\"id\":\"9911\"},\"y_scale\":{\"id\":\"9915\"}},\"id\":\"9908\",\"subtype\":\"Figure\",\"type\":\"Plot\"},{\"attributes\":{\"text\":\"\"},\"id\":\"10187\",\"type\":\"Title\"},{\"attributes\":{},\"id\":\"9918\",\"type\":\"BasicTicker\"},{\"attributes\":{},\"id\":\"10192\",\"type\":\"UnionRenderers\"},{\"attributes\":{\"formatter\":{\"id\":\"10190\"},\"ticker\":{\"id\":\"9922\"}},\"id\":\"9921\",\"type\":\"LinearAxis\"},{\"attributes\":{\"data_source\":{\"id\":\"9949\"},\"glyph\":{\"id\":\"9950\"},\"hover_glyph\":null,\"muted_glyph\":null,\"nonselection_glyph\":{\"id\":\"9951\"},\"selection_glyph\":null,\"view\":{\"id\":\"9953\"}},\"id\":\"9952\",\"type\":\"GlyphRenderer\"},{\"attributes\":{\"axis\":{\"id\":\"9921\"},\"dimension\":1,\"ticker\":null},\"id\":\"9924\",\"type\":\"Grid\"},{\"attributes\":{\"source\":{\"id\":\"9949\"}},\"id\":\"9953\",\"type\":\"CDSView\"},{\"attributes\":{},\"id\":\"9930\",\"type\":\"HelpTool\"},{\"attributes\":{},\"id\":\"10195\",\"type\":\"Selection\"},{\"attributes\":{},\"id\":\"9911\",\"type\":\"DataRange1d\"},{\"attributes\":{},\"id\":\"9909\",\"type\":\"DataRange1d\"},{\"attributes\":{},\"id\":\"10193\",\"type\":\"Selection\"},{\"attributes\":{},\"id\":\"9913\",\"type\":\"LinearScale\"},{\"attributes\":{},\"id\":\"9929\",\"type\":\"ResetTool\"},{\"attributes\":{},\"id\":\"10188\",\"type\":\"BasicTickFormatter\"},{\"attributes\":{\"fill_alpha\":{\"value\":0.6},\"fill_color\":{\"value\":\"green\"},\"line_color\":{\"value\":\"#1f77b4\"},\"line_width\":{\"value\":2},\"size\":{\"units\":\"screen\",\"value\":20},\"x\":{\"field\":\"x\"},\"y\":{\"field\":\"y\"}},\"id\":\"9950\",\"type\":\"CircleX\"},{\"attributes\":{},\"id\":\"9915\",\"type\":\"LinearScale\"},{\"attributes\":{},\"id\":\"9926\",\"type\":\"WheelZoomTool\"},{\"attributes\":{\"data_source\":{\"id\":\"9939\"},\"glyph\":{\"id\":\"9940\"},\"hover_glyph\":null,\"muted_glyph\":null,\"nonselection_glyph\":{\"id\":\"9941\"},\"selection_glyph\":null,\"view\":{\"id\":\"9943\"}},\"id\":\"9942\",\"type\":\"GlyphRenderer\"},{\"attributes\":{\"fill_alpha\":{\"value\":0.1},\"fill_color\":{\"value\":\"blue\"},\"line_alpha\":{\"value\":0.1},\"line_color\":{\"value\":\"#1f77b4\"},\"line_width\":{\"value\":2},\"size\":{\"units\":\"screen\",\"value\":20},\"x\":{\"field\":\"x\"},\"y\":{\"field\":\"y\"}},\"id\":\"9946\",\"type\":\"CircleCross\"},{\"attributes\":{\"fill_alpha\":{\"value\":0.1},\"fill_color\":{\"value\":\"red\"},\"line_alpha\":{\"value\":0.1},\"line_color\":{\"value\":\"#1f77b4\"},\"size\":{\"units\":\"screen\",\"value\":20},\"x\":{\"field\":\"x\"},\"y\":{\"field\":\"y\"}},\"id\":\"9941\",\"type\":\"Circle\"},{\"attributes\":{\"fill_alpha\":{\"value\":0.1},\"fill_color\":{\"value\":\"green\"},\"line_alpha\":{\"value\":0.1},\"line_color\":{\"value\":\"#1f77b4\"},\"line_width\":{\"value\":2},\"size\":{\"units\":\"screen\",\"value\":20},\"x\":{\"field\":\"x\"},\"y\":{\"field\":\"y\"}},\"id\":\"9951\",\"type\":\"CircleX\"},{\"attributes\":{\"overlay\":{\"id\":\"9931\"}},\"id\":\"9927\",\"type\":\"BoxZoomTool\"},{\"attributes\":{\"data\":{\"x\":[2,4,6],\"y\":[5,8,9]},\"selected\":{\"id\":\"10195\"},\"selection_policy\":{\"id\":\"10194\"}},\"id\":\"9944\",\"type\":\"ColumnDataSource\"},{\"attributes\":{},\"id\":\"10194\",\"type\":\"UnionRenderers\"},{\"attributes\":{\"data_source\":{\"id\":\"9944\"},\"glyph\":{\"id\":\"9945\"},\"hover_glyph\":null,\"muted_glyph\":null,\"nonselection_glyph\":{\"id\":\"9946\"},\"selection_glyph\":null,\"view\":{\"id\":\"9948\"}},\"id\":\"9947\",\"type\":\"GlyphRenderer\"},{\"attributes\":{},\"id\":\"9925\",\"type\":\"PanTool\"},{\"attributes\":{},\"id\":\"10190\",\"type\":\"BasicTickFormatter\"},{\"attributes\":{},\"id\":\"9928\",\"type\":\"SaveTool\"},{\"attributes\":{\"fill_color\":{\"value\":\"red\"},\"line_color\":{\"value\":\"#1f77b4\"},\"size\":{\"units\":\"screen\",\"value\":20},\"x\":{\"field\":\"x\"},\"y\":{\"field\":\"y\"}},\"id\":\"9940\",\"type\":\"Circle\"},{\"attributes\":{},\"id\":\"9922\",\"type\":\"BasicTicker\"},{\"attributes\":{\"active_drag\":\"auto\",\"active_inspect\":\"auto\",\"active_multi\":null,\"active_scroll\":\"auto\",\"active_tap\":\"auto\",\"tools\":[{\"id\":\"9925\"},{\"id\":\"9926\"},{\"id\":\"9927\"},{\"id\":\"9928\"},{\"id\":\"9929\"},{\"id\":\"9930\"}]},\"id\":\"9932\",\"type\":\"Toolbar\"},{\"attributes\":{\"data\":{\"x\":[1,2,3],\"y\":[3,7,5]},\"selected\":{\"id\":\"10193\"},\"selection_policy\":{\"id\":\"10192\"}},\"id\":\"9939\",\"type\":\"ColumnDataSource\"},{\"attributes\":{\"source\":{\"id\":\"9939\"}},\"id\":\"9943\",\"type\":\"CDSView\"},{\"attributes\":{\"data\":{\"x\":[5,7,2],\"y\":[2,4,9]},\"selected\":{\"id\":\"10197\"},\"selection_policy\":{\"id\":\"10196\"}},\"id\":\"9949\",\"type\":\"ColumnDataSource\"},{\"attributes\":{\"axis\":{\"id\":\"9917\"},\"ticker\":null},\"id\":\"9920\",\"type\":\"Grid\"},{\"attributes\":{},\"id\":\"10197\",\"type\":\"Selection\"},{\"attributes\":{\"fill_alpha\":{\"value\":0.2},\"fill_color\":{\"value\":\"blue\"},\"line_color\":{\"value\":\"#1f77b4\"},\"line_width\":{\"value\":2},\"size\":{\"units\":\"screen\",\"value\":20},\"x\":{\"field\":\"x\"},\"y\":{\"field\":\"y\"}},\"id\":\"9945\",\"type\":\"CircleCross\"},{\"attributes\":{\"source\":{\"id\":\"9944\"}},\"id\":\"9948\",\"type\":\"CDSView\"},{\"attributes\":{\"bottom_units\":\"screen\",\"fill_alpha\":0.5,\"fill_color\":\"lightgrey\",\"left_units\":\"screen\",\"level\":\"overlay\",\"line_alpha\":1.0,\"line_color\":\"black\",\"line_dash\":[4,4],\"line_width\":2,\"render_mode\":\"css\",\"right_units\":\"screen\",\"top_units\":\"screen\"},\"id\":\"9931\",\"type\":\"BoxAnnotation\"},{\"attributes\":{},\"id\":\"10196\",\"type\":\"UnionRenderers\"},{\"attributes\":{\"formatter\":{\"id\":\"10188\"},\"ticker\":{\"id\":\"9918\"}},\"id\":\"9917\",\"type\":\"LinearAxis\"}],\"root_ids\":[\"9908\"]},\"title\":\"Bokeh Application\",\"version\":\"2.0.2\"}};\n",
       "  var render_items = [{\"docid\":\"849c2c8b-0b93-4dd6-b7e2-fced0769bf02\",\"root_ids\":[\"9908\"],\"roots\":{\"9908\":\"768294eb-c361-415d-a5ed-1510dfdcb6b4\"}}];\n",
       "  root.Bokeh.embed.embed_items_notebook(docs_json, render_items);\n",
       "\n",
       "  }\n",
       "  if (root.Bokeh !== undefined) {\n",
       "    embed_document(root);\n",
       "  } else {\n",
       "    var attempts = 0;\n",
       "    var timer = setInterval(function(root) {\n",
       "      if (root.Bokeh !== undefined) {\n",
       "        clearInterval(timer);\n",
       "        embed_document(root);\n",
       "      } else {\n",
       "        attempts++;\n",
       "        if (attempts > 100) {\n",
       "          clearInterval(timer);\n",
       "          console.log(\"Bokeh: ERROR: Unable to run BokehJS code because BokehJS library is missing\");\n",
       "        }\n",
       "      }\n",
       "    }, 10, root)\n",
       "  }\n",
       "})(window);"
      ],
      "application/vnd.bokehjs_exec.v0+json": ""
     },
     "metadata": {
      "application/vnd.bokehjs_exec.v0+json": {
       "id": "9908"
      }
     },
     "output_type": "display_data"
    }
   ],
   "source": [
    "circle_plot = figure(plot_width = 300, plot_height = 300)\n",
    "circle_plot.circle(x = [1, 2, 3], y = [3,7,5], size = 20, fill_color = 'red')\n",
    "circle_plot.circle_cross(x = [2,4,6], y = [5,8,9], size = 20, fill_color = 'blue',fill_alpha = 0.2, line_width = 2)\n",
    "circle_plot.circle_x(x = [5,7,2], y = [2,4,9], size = 20, fill_color = 'green',fill_alpha = 0.6, line_width = 2)\n",
    "show(circle_plot)"
   ]
  },
  {
   "cell_type": "markdown",
   "metadata": {},
   "source": [
    "### Bokeh - Rectangle, Oval, Plygon\n",
    "\n",
    "It is possible to render rectangle, ellipse and polygons in a Bokeh figure. The rect() method of Figure class adds a rectangle glyph based on x and y coordinates of center, width and height. The square() method on the other hand has size parameter to decide dimensions.\n",
    "\n",
    "The ellipse() and oval() methods adds an ellipse and oval glyph. They use similar signature to that of rect() having x, y,w and h parameters. Additionally, angle parameter determines rotation from horizontal."
   ]
  },
  {
   "cell_type": "code",
   "execution_count": 36,
   "metadata": {},
   "outputs": [
    {
     "data": {
      "text/html": [
       "\n",
       "\n",
       "\n",
       "\n",
       "\n",
       "\n",
       "  <div class=\"bk-root\" id=\"07277a06-67f1-4596-8df7-884956deaa7f\" data-root-id=\"10447\"></div>\n"
      ]
     },
     "metadata": {},
     "output_type": "display_data"
    },
    {
     "data": {
      "application/javascript": [
       "(function(root) {\n",
       "  function embed_document(root) {\n",
       "    \n",
       "  var docs_json = {\"b037f389-5297-40f5-bb5e-96408d162886\":{\"roots\":{\"references\":[{\"attributes\":{\"below\":[{\"id\":\"10456\"}],\"center\":[{\"id\":\"10459\"},{\"id\":\"10463\"}],\"left\":[{\"id\":\"10460\"}],\"plot_height\":300,\"plot_width\":300,\"renderers\":[{\"id\":\"10481\"},{\"id\":\"10486\"},{\"id\":\"10491\"},{\"id\":\"10496\"}],\"title\":{\"id\":\"10744\"},\"toolbar\":{\"id\":\"10471\"},\"x_range\":{\"id\":\"10448\"},\"x_scale\":{\"id\":\"10452\"},\"y_range\":{\"id\":\"10450\"},\"y_scale\":{\"id\":\"10454\"}},\"id\":\"10447\",\"subtype\":\"Figure\",\"type\":\"Plot\"},{\"attributes\":{\"fill_color\":{\"value\":\"red\"},\"line_color\":{\"value\":\"red\"},\"size\":{\"units\":\"screen\",\"value\":80},\"x\":{\"value\":2},\"y\":{\"value\":3}},\"id\":\"10484\",\"type\":\"Square\"},{\"attributes\":{\"angle\":{\"units\":\"rad\",\"value\":-0.4},\"fill_alpha\":{\"value\":0.1},\"fill_color\":{\"value\":\"#1f77b4\"},\"height\":{\"units\":\"data\",\"value\":1},\"line_alpha\":{\"value\":0.1},\"line_color\":{\"value\":\"#1f77b4\"},\"width\":{\"units\":\"data\",\"value\":2},\"x\":{\"value\":6},\"y\":{\"value\":6}},\"id\":\"10495\",\"type\":\"Oval\"},{\"attributes\":{\"data\":{},\"selected\":{\"id\":\"10754\"},\"selection_policy\":{\"id\":\"10753\"}},\"id\":\"10488\",\"type\":\"ColumnDataSource\"},{\"attributes\":{\"source\":{\"id\":\"10493\"}},\"id\":\"10497\",\"type\":\"CDSView\"},{\"attributes\":{},\"id\":\"10461\",\"type\":\"BasicTicker\"},{\"attributes\":{\"formatter\":{\"id\":\"10745\"},\"ticker\":{\"id\":\"10457\"}},\"id\":\"10456\",\"type\":\"LinearAxis\"},{\"attributes\":{\"data_source\":{\"id\":\"10493\"},\"glyph\":{\"id\":\"10494\"},\"hover_glyph\":null,\"muted_glyph\":null,\"nonselection_glyph\":{\"id\":\"10495\"},\"selection_glyph\":null,\"view\":{\"id\":\"10497\"}},\"id\":\"10496\",\"type\":\"GlyphRenderer\"},{\"attributes\":{\"bottom_units\":\"screen\",\"fill_alpha\":0.5,\"fill_color\":\"lightgrey\",\"left_units\":\"screen\",\"level\":\"overlay\",\"line_alpha\":1.0,\"line_color\":\"black\",\"line_dash\":[4,4],\"line_width\":2,\"render_mode\":\"css\",\"right_units\":\"screen\",\"top_units\":\"screen\"},\"id\":\"10470\",\"type\":\"BoxAnnotation\"},{\"attributes\":{\"fill_alpha\":{\"value\":0.1},\"fill_color\":{\"value\":\"red\"},\"line_alpha\":{\"value\":0.1},\"line_color\":{\"value\":\"red\"},\"size\":{\"units\":\"screen\",\"value\":80},\"x\":{\"value\":2},\"y\":{\"value\":3}},\"id\":\"10485\",\"type\":\"Square\"},{\"attributes\":{},\"id\":\"10756\",\"type\":\"Selection\"},{\"attributes\":{},\"id\":\"10745\",\"type\":\"BasicTickFormatter\"},{\"attributes\":{},\"id\":\"10750\",\"type\":\"Selection\"},{\"attributes\":{},\"id\":\"10454\",\"type\":\"LinearScale\"},{\"attributes\":{\"angle\":{\"units\":\"rad\",\"value\":-0.4},\"fill_color\":{\"value\":\"#1f77b4\"},\"height\":{\"units\":\"data\",\"value\":1},\"line_color\":{\"value\":\"#1f77b4\"},\"width\":{\"units\":\"data\",\"value\":2},\"x\":{\"value\":6},\"y\":{\"value\":6}},\"id\":\"10494\",\"type\":\"Oval\"},{\"attributes\":{},\"id\":\"10457\",\"type\":\"BasicTicker\"},{\"attributes\":{\"fill_alpha\":{\"value\":0.1},\"fill_color\":{\"value\":null},\"height\":{\"units\":\"data\",\"value\":10},\"line_alpha\":{\"value\":0.1},\"line_color\":{\"value\":\"#1f77b4\"},\"line_width\":{\"value\":2},\"width\":{\"units\":\"data\",\"value\":30},\"x\":{\"value\":7},\"y\":{\"value\":6}},\"id\":\"10490\",\"type\":\"Ellipse\"},{\"attributes\":{\"data\":{},\"selected\":{\"id\":\"10756\"},\"selection_policy\":{\"id\":\"10755\"}},\"id\":\"10493\",\"type\":\"ColumnDataSource\"},{\"attributes\":{},\"id\":\"10753\",\"type\":\"UnionRenderers\"},{\"attributes\":{},\"id\":\"10465\",\"type\":\"WheelZoomTool\"},{\"attributes\":{},\"id\":\"10464\",\"type\":\"PanTool\"},{\"attributes\":{},\"id\":\"10754\",\"type\":\"Selection\"},{\"attributes\":{\"source\":{\"id\":\"10483\"}},\"id\":\"10487\",\"type\":\"CDSView\"},{\"attributes\":{\"overlay\":{\"id\":\"10470\"}},\"id\":\"10466\",\"type\":\"BoxZoomTool\"},{\"attributes\":{\"fill_color\":{\"value\":\"#1f77b4\"},\"height\":{\"units\":\"screen\",\"value\":50},\"line_color\":{\"value\":\"#1f77b4\"},\"width\":{\"units\":\"screen\",\"value\":100},\"x\":{\"value\":10},\"y\":{\"value\":10}},\"id\":\"10479\",\"type\":\"Rect\"},{\"attributes\":{},\"id\":\"10469\",\"type\":\"HelpTool\"},{\"attributes\":{\"data\":{},\"selected\":{\"id\":\"10750\"},\"selection_policy\":{\"id\":\"10749\"}},\"id\":\"10478\",\"type\":\"ColumnDataSource\"},{\"attributes\":{\"source\":{\"id\":\"10478\"}},\"id\":\"10482\",\"type\":\"CDSView\"},{\"attributes\":{},\"id\":\"10751\",\"type\":\"UnionRenderers\"},{\"attributes\":{\"axis\":{\"id\":\"10460\"},\"dimension\":1,\"ticker\":null},\"id\":\"10463\",\"type\":\"Grid\"},{\"attributes\":{},\"id\":\"10448\",\"type\":\"DataRange1d\"},{\"attributes\":{\"axis\":{\"id\":\"10456\"},\"ticker\":null},\"id\":\"10459\",\"type\":\"Grid\"},{\"attributes\":{},\"id\":\"10450\",\"type\":\"DataRange1d\"},{\"attributes\":{},\"id\":\"10749\",\"type\":\"UnionRenderers\"},{\"attributes\":{\"data_source\":{\"id\":\"10478\"},\"glyph\":{\"id\":\"10479\"},\"hover_glyph\":null,\"muted_glyph\":null,\"nonselection_glyph\":{\"id\":\"10480\"},\"selection_glyph\":null,\"view\":{\"id\":\"10482\"}},\"id\":\"10481\",\"type\":\"GlyphRenderer\"},{\"attributes\":{\"formatter\":{\"id\":\"10747\"},\"ticker\":{\"id\":\"10461\"}},\"id\":\"10460\",\"type\":\"LinearAxis\"},{\"attributes\":{\"active_drag\":\"auto\",\"active_inspect\":\"auto\",\"active_multi\":null,\"active_scroll\":\"auto\",\"active_tap\":\"auto\",\"tools\":[{\"id\":\"10464\"},{\"id\":\"10465\"},{\"id\":\"10466\"},{\"id\":\"10467\"},{\"id\":\"10468\"},{\"id\":\"10469\"}]},\"id\":\"10471\",\"type\":\"Toolbar\"},{\"attributes\":{},\"id\":\"10755\",\"type\":\"UnionRenderers\"},{\"attributes\":{\"data_source\":{\"id\":\"10488\"},\"glyph\":{\"id\":\"10489\"},\"hover_glyph\":null,\"muted_glyph\":null,\"nonselection_glyph\":{\"id\":\"10490\"},\"selection_glyph\":null,\"view\":{\"id\":\"10492\"}},\"id\":\"10491\",\"type\":\"GlyphRenderer\"},{\"attributes\":{\"data\":{},\"selected\":{\"id\":\"10752\"},\"selection_policy\":{\"id\":\"10751\"}},\"id\":\"10483\",\"type\":\"ColumnDataSource\"},{\"attributes\":{},\"id\":\"10747\",\"type\":\"BasicTickFormatter\"},{\"attributes\":{\"fill_alpha\":{\"value\":0.1},\"fill_color\":{\"value\":\"#1f77b4\"},\"height\":{\"units\":\"screen\",\"value\":50},\"line_alpha\":{\"value\":0.1},\"line_color\":{\"value\":\"#1f77b4\"},\"width\":{\"units\":\"screen\",\"value\":100},\"x\":{\"value\":10},\"y\":{\"value\":10}},\"id\":\"10480\",\"type\":\"Rect\"},{\"attributes\":{\"data_source\":{\"id\":\"10483\"},\"glyph\":{\"id\":\"10484\"},\"hover_glyph\":null,\"muted_glyph\":null,\"nonselection_glyph\":{\"id\":\"10485\"},\"selection_glyph\":null,\"view\":{\"id\":\"10487\"}},\"id\":\"10486\",\"type\":\"GlyphRenderer\"},{\"attributes\":{},\"id\":\"10452\",\"type\":\"LinearScale\"},{\"attributes\":{\"text\":\"\"},\"id\":\"10744\",\"type\":\"Title\"},{\"attributes\":{},\"id\":\"10467\",\"type\":\"SaveTool\"},{\"attributes\":{\"fill_color\":{\"value\":null},\"height\":{\"units\":\"data\",\"value\":10},\"line_color\":{\"value\":\"#1f77b4\"},\"line_width\":{\"value\":2},\"width\":{\"units\":\"data\",\"value\":30},\"x\":{\"value\":7},\"y\":{\"value\":6}},\"id\":\"10489\",\"type\":\"Ellipse\"},{\"attributes\":{},\"id\":\"10468\",\"type\":\"ResetTool\"},{\"attributes\":{},\"id\":\"10752\",\"type\":\"Selection\"},{\"attributes\":{\"source\":{\"id\":\"10488\"}},\"id\":\"10492\",\"type\":\"CDSView\"}],\"root_ids\":[\"10447\"]},\"title\":\"Bokeh Application\",\"version\":\"2.0.2\"}};\n",
       "  var render_items = [{\"docid\":\"b037f389-5297-40f5-bb5e-96408d162886\",\"root_ids\":[\"10447\"],\"roots\":{\"10447\":\"07277a06-67f1-4596-8df7-884956deaa7f\"}}];\n",
       "  root.Bokeh.embed.embed_items_notebook(docs_json, render_items);\n",
       "\n",
       "  }\n",
       "  if (root.Bokeh !== undefined) {\n",
       "    embed_document(root);\n",
       "  } else {\n",
       "    var attempts = 0;\n",
       "    var timer = setInterval(function(root) {\n",
       "      if (root.Bokeh !== undefined) {\n",
       "        clearInterval(timer);\n",
       "        embed_document(root);\n",
       "      } else {\n",
       "        attempts++;\n",
       "        if (attempts > 100) {\n",
       "          clearInterval(timer);\n",
       "          console.log(\"Bokeh: ERROR: Unable to run BokehJS code because BokehJS library is missing\");\n",
       "        }\n",
       "      }\n",
       "    }, 10, root)\n",
       "  }\n",
       "})(window);"
      ],
      "application/vnd.bokehjs_exec.v0+json": ""
     },
     "metadata": {
      "application/vnd.bokehjs_exec.v0+json": {
       "id": "10447"
      }
     },
     "output_type": "display_data"
    }
   ],
   "source": [
    "rop = figure(plot_width = 300, plot_height = 300)\n",
    "rop.rect(x = 10,y = 10,width = 100, height = 50, width_units = 'screen', height_units = 'screen')\n",
    "rop.square(x = 2,y = 3,size = 80, color = 'red')\n",
    "rop.ellipse(x = 7,y = 6, width = 30, height = 10, fill_color = None, line_width = 2)\n",
    "rop.oval(x = 6,y = 6,width = 2, height = 1, angle = -0.4)\n",
    "show(rop)"
   ]
  },
  {
   "cell_type": "markdown",
   "metadata": {},
   "source": [
    "### Bokeh - Wedges and arcs"
   ]
  },
  {
   "cell_type": "code",
   "execution_count": 37,
   "metadata": {},
   "outputs": [
    {
     "data": {
      "text/html": [
       "\n",
       "\n",
       "\n",
       "\n",
       "\n",
       "\n",
       "  <div class=\"bk-root\" id=\"6212abcd-0db0-41af-ac39-95c58447dc8a\" data-root-id=\"11044\"></div>\n"
      ]
     },
     "metadata": {},
     "output_type": "display_data"
    },
    {
     "data": {
      "application/javascript": [
       "(function(root) {\n",
       "  function embed_document(root) {\n",
       "    \n",
       "  var docs_json = {\"8b735d31-b397-471a-97ac-a2a767948fdc\":{\"roots\":{\"references\":[{\"attributes\":{\"below\":[{\"id\":\"11053\"}],\"center\":[{\"id\":\"11056\"},{\"id\":\"11060\"}],\"left\":[{\"id\":\"11057\"}],\"plot_height\":300,\"plot_width\":300,\"renderers\":[{\"id\":\"11078\"},{\"id\":\"11083\"},{\"id\":\"11088\"}],\"title\":{\"id\":\"11351\"},\"toolbar\":{\"id\":\"11068\"},\"x_range\":{\"id\":\"11045\"},\"x_scale\":{\"id\":\"11049\"},\"y_range\":{\"id\":\"11047\"},\"y_scale\":{\"id\":\"11051\"}},\"id\":\"11044\",\"subtype\":\"Figure\",\"type\":\"Plot\"},{\"attributes\":{\"bottom_units\":\"screen\",\"fill_alpha\":0.5,\"fill_color\":\"lightgrey\",\"left_units\":\"screen\",\"level\":\"overlay\",\"line_alpha\":1.0,\"line_color\":\"black\",\"line_dash\":[4,4],\"line_width\":2,\"render_mode\":\"css\",\"right_units\":\"screen\",\"top_units\":\"screen\"},\"id\":\"11067\",\"type\":\"BoxAnnotation\"},{\"attributes\":{},\"id\":\"11051\",\"type\":\"LinearScale\"},{\"attributes\":{\"end_angle\":{\"units\":\"rad\",\"value\":4.5},\"fill_alpha\":{\"value\":0.6},\"fill_color\":{\"value\":\"green\"},\"inner_radius\":{\"units\":\"screen\",\"value\":100},\"line_alpha\":{\"value\":0.6},\"line_color\":{\"value\":\"green\"},\"outer_radius\":{\"units\":\"screen\",\"value\":75},\"start_angle\":{\"units\":\"rad\",\"value\":0.4},\"x\":{\"value\":3},\"y\":{\"value\":3}},\"id\":\"11086\",\"type\":\"AnnularWedge\"},{\"attributes\":{},\"id\":\"11358\",\"type\":\"UnionRenderers\"},{\"attributes\":{},\"id\":\"11360\",\"type\":\"UnionRenderers\"},{\"attributes\":{\"text\":\"\"},\"id\":\"11351\",\"type\":\"Title\"},{\"attributes\":{\"data\":{},\"selected\":{\"id\":\"11361\"},\"selection_policy\":{\"id\":\"11360\"}},\"id\":\"11085\",\"type\":\"ColumnDataSource\"},{\"attributes\":{\"data\":{},\"selected\":{\"id\":\"11359\"},\"selection_policy\":{\"id\":\"11358\"}},\"id\":\"11080\",\"type\":\"ColumnDataSource\"},{\"attributes\":{\"data_source\":{\"id\":\"11075\"},\"glyph\":{\"id\":\"11076\"},\"hover_glyph\":null,\"muted_glyph\":null,\"nonselection_glyph\":{\"id\":\"11077\"},\"selection_glyph\":null,\"view\":{\"id\":\"11079\"}},\"id\":\"11078\",\"type\":\"GlyphRenderer\"},{\"attributes\":{\"direction\":\"clock\",\"end_angle\":{\"units\":\"rad\",\"value\":3.141592653589793},\"fill_alpha\":{\"value\":0.1},\"fill_color\":{\"value\":\"#1f77b4\"},\"line_alpha\":{\"value\":0.1},\"line_color\":{\"value\":\"#1f77b4\"},\"radius\":{\"units\":\"screen\",\"value\":30},\"start_angle\":{\"units\":\"rad\",\"value\":0},\"x\":{\"value\":3},\"y\":{\"value\":3}},\"id\":\"11082\",\"type\":\"Wedge\"},{\"attributes\":{},\"id\":\"11066\",\"type\":\"HelpTool\"},{\"attributes\":{\"axis\":{\"id\":\"11053\"},\"ticker\":null},\"id\":\"11056\",\"type\":\"Grid\"},{\"attributes\":{\"data_source\":{\"id\":\"11085\"},\"glyph\":{\"id\":\"11086\"},\"hover_glyph\":null,\"muted_glyph\":null,\"nonselection_glyph\":{\"id\":\"11087\"},\"selection_glyph\":null,\"view\":{\"id\":\"11089\"}},\"id\":\"11088\",\"type\":\"GlyphRenderer\"},{\"attributes\":{\"formatter\":{\"id\":\"11352\"},\"ticker\":{\"id\":\"11054\"}},\"id\":\"11053\",\"type\":\"LinearAxis\"},{\"attributes\":{\"data_source\":{\"id\":\"11080\"},\"glyph\":{\"id\":\"11081\"},\"hover_glyph\":null,\"muted_glyph\":null,\"nonselection_glyph\":{\"id\":\"11082\"},\"selection_glyph\":null,\"view\":{\"id\":\"11084\"}},\"id\":\"11083\",\"type\":\"GlyphRenderer\"},{\"attributes\":{},\"id\":\"11054\",\"type\":\"BasicTicker\"},{\"attributes\":{},\"id\":\"11049\",\"type\":\"LinearScale\"},{\"attributes\":{},\"id\":\"11058\",\"type\":\"BasicTicker\"},{\"attributes\":{},\"id\":\"11047\",\"type\":\"DataRange1d\"},{\"attributes\":{},\"id\":\"11045\",\"type\":\"DataRange1d\"},{\"attributes\":{\"formatter\":{\"id\":\"11354\"},\"ticker\":{\"id\":\"11058\"}},\"id\":\"11057\",\"type\":\"LinearAxis\"},{\"attributes\":{\"source\":{\"id\":\"11080\"}},\"id\":\"11084\",\"type\":\"CDSView\"},{\"attributes\":{\"axis\":{\"id\":\"11057\"},\"dimension\":1,\"ticker\":null},\"id\":\"11060\",\"type\":\"Grid\"},{\"attributes\":{\"direction\":\"clock\",\"end_angle\":{\"units\":\"rad\",\"value\":3.141592653589793},\"fill_color\":{\"value\":\"#1f77b4\"},\"line_color\":{\"value\":\"#1f77b4\"},\"radius\":{\"units\":\"screen\",\"value\":30},\"start_angle\":{\"units\":\"rad\",\"value\":0},\"x\":{\"value\":3},\"y\":{\"value\":3}},\"id\":\"11081\",\"type\":\"Wedge\"},{\"attributes\":{},\"id\":\"11359\",\"type\":\"Selection\"},{\"attributes\":{\"data\":{},\"selected\":{\"id\":\"11357\"},\"selection_policy\":{\"id\":\"11356\"}},\"id\":\"11075\",\"type\":\"ColumnDataSource\"},{\"attributes\":{},\"id\":\"11361\",\"type\":\"Selection\"},{\"attributes\":{\"source\":{\"id\":\"11075\"}},\"id\":\"11079\",\"type\":\"CDSView\"},{\"attributes\":{\"end_angle\":{\"units\":\"rad\",\"value\":4.5},\"fill_alpha\":{\"value\":0.1},\"fill_color\":{\"value\":\"green\"},\"inner_radius\":{\"units\":\"screen\",\"value\":100},\"line_alpha\":{\"value\":0.1},\"line_color\":{\"value\":\"green\"},\"outer_radius\":{\"units\":\"screen\",\"value\":75},\"start_angle\":{\"units\":\"rad\",\"value\":0.4},\"x\":{\"value\":3},\"y\":{\"value\":3}},\"id\":\"11087\",\"type\":\"AnnularWedge\"},{\"attributes\":{\"end_angle\":{\"units\":\"rad\",\"value\":1.5707963267948966},\"line_color\":{\"value\":\"#1f77b4\"},\"radius\":{\"units\":\"screen\",\"value\":50},\"start_angle\":{\"units\":\"rad\",\"value\":0.0},\"x\":{\"value\":3},\"y\":{\"value\":3}},\"id\":\"11076\",\"type\":\"Arc\"},{\"attributes\":{\"active_drag\":\"auto\",\"active_inspect\":\"auto\",\"active_multi\":null,\"active_scroll\":\"auto\",\"active_tap\":\"auto\",\"tools\":[{\"id\":\"11061\"},{\"id\":\"11062\"},{\"id\":\"11063\"},{\"id\":\"11064\"},{\"id\":\"11065\"},{\"id\":\"11066\"}]},\"id\":\"11068\",\"type\":\"Toolbar\"},{\"attributes\":{},\"id\":\"11354\",\"type\":\"BasicTickFormatter\"},{\"attributes\":{},\"id\":\"11357\",\"type\":\"Selection\"},{\"attributes\":{\"source\":{\"id\":\"11085\"}},\"id\":\"11089\",\"type\":\"CDSView\"},{\"attributes\":{},\"id\":\"11061\",\"type\":\"PanTool\"},{\"attributes\":{},\"id\":\"11064\",\"type\":\"SaveTool\"},{\"attributes\":{},\"id\":\"11352\",\"type\":\"BasicTickFormatter\"},{\"attributes\":{\"overlay\":{\"id\":\"11067\"}},\"id\":\"11063\",\"type\":\"BoxZoomTool\"},{\"attributes\":{},\"id\":\"11062\",\"type\":\"WheelZoomTool\"},{\"attributes\":{},\"id\":\"11065\",\"type\":\"ResetTool\"},{\"attributes\":{},\"id\":\"11356\",\"type\":\"UnionRenderers\"},{\"attributes\":{\"end_angle\":{\"units\":\"rad\",\"value\":1.5707963267948966},\"line_alpha\":{\"value\":0.1},\"line_color\":{\"value\":\"#1f77b4\"},\"radius\":{\"units\":\"screen\",\"value\":50},\"start_angle\":{\"units\":\"rad\",\"value\":0.0},\"x\":{\"value\":3},\"y\":{\"value\":3}},\"id\":\"11077\",\"type\":\"Arc\"}],\"root_ids\":[\"11044\"]},\"title\":\"Bokeh Application\",\"version\":\"2.0.2\"}};\n",
       "  var render_items = [{\"docid\":\"8b735d31-b397-471a-97ac-a2a767948fdc\",\"root_ids\":[\"11044\"],\"roots\":{\"11044\":\"6212abcd-0db0-41af-ac39-95c58447dc8a\"}}];\n",
       "  root.Bokeh.embed.embed_items_notebook(docs_json, render_items);\n",
       "\n",
       "  }\n",
       "  if (root.Bokeh !== undefined) {\n",
       "    embed_document(root);\n",
       "  } else {\n",
       "    var attempts = 0;\n",
       "    var timer = setInterval(function(root) {\n",
       "      if (root.Bokeh !== undefined) {\n",
       "        clearInterval(timer);\n",
       "        embed_document(root);\n",
       "      } else {\n",
       "        attempts++;\n",
       "        if (attempts > 100) {\n",
       "          clearInterval(timer);\n",
       "          console.log(\"Bokeh: ERROR: Unable to run BokehJS code because BokehJS library is missing\");\n",
       "        }\n",
       "      }\n",
       "    }, 10, root)\n",
       "  }\n",
       "})(window);"
      ],
      "application/vnd.bokehjs_exec.v0+json": ""
     },
     "metadata": {
      "application/vnd.bokehjs_exec.v0+json": {
       "id": "11044"
      }
     },
     "output_type": "display_data"
    }
   ],
   "source": [
    "arc_wed = figure(plot_width = 300, plot_height = 300)\n",
    "arc_wed.arc(x = 3, y = 3, radius = 50, radius_units = 'screen', start_angle = 0.0, end_angle = math.pi/2)\n",
    "arc_wed.wedge(x = 3, y = 3, radius = 30, radius_units = 'screen',\n",
    "start_angle = 0, end_angle = math.pi, direction = 'clock')\n",
    "arc_wed.annular_wedge(x = 3,y = 3, inner_radius = 100, outer_radius = 75,outer_radius_units = 'screen',\n",
    "inner_radius_units = 'screen',start_angle = 0.4, end_angle = 4.5,color = \"green\", alpha = 0.6)\n",
    "show(arc_wed)"
   ]
  },
  {
   "cell_type": "markdown",
   "metadata": {},
   "source": [
    "### Bokeh - Specialized Curves"
   ]
  },
  {
   "cell_type": "markdown",
   "metadata": {},
   "source": [
    "The bokeh.plotting API supports methods for rendering following specialised curves −\n",
    "\n",
    "#### beizer()\n",
    "This method adds a Bézier curve to the figure object. A Bézier curve is a parametric curve used in computer graphics. Other uses include the design of computer fonts and animation, user interface design and for smoothing cursor trajectory.\n",
    "\n",
    "In vector graphics, Bézier curves are used to model smooth curves that can be scaled indefinitely. A \"Path\" is combination of linked Bézier curves."
   ]
  },
  {
   "cell_type": "code",
   "execution_count": 40,
   "metadata": {},
   "outputs": [
    {
     "data": {
      "text/html": [
       "\n",
       "\n",
       "\n",
       "\n",
       "\n",
       "\n",
       "  <div class=\"bk-root\" id=\"525ac545-fff7-4dab-89b8-313ce6992930\" data-root-id=\"11649\"></div>\n"
      ]
     },
     "metadata": {},
     "output_type": "display_data"
    },
    {
     "data": {
      "application/javascript": [
       "(function(root) {\n",
       "  function embed_document(root) {\n",
       "    \n",
       "  var docs_json = {\"89e90432-4ee3-43b0-99f8-4999b33684fb\":{\"roots\":{\"references\":[{\"attributes\":{\"below\":[{\"id\":\"11658\"}],\"center\":[{\"id\":\"11661\"},{\"id\":\"11665\"}],\"left\":[{\"id\":\"11662\"}],\"plot_height\":300,\"plot_width\":300,\"renderers\":[{\"id\":\"11683\"}],\"title\":{\"id\":\"11959\"},\"toolbar\":{\"id\":\"11673\"},\"x_range\":{\"id\":\"11650\"},\"x_scale\":{\"id\":\"11654\"},\"y_range\":{\"id\":\"11652\"},\"y_scale\":{\"id\":\"11656\"}},\"id\":\"11649\",\"subtype\":\"Figure\",\"type\":\"Plot\"},{\"attributes\":{},\"id\":\"11659\",\"type\":\"BasicTicker\"},{\"attributes\":{\"axis\":{\"id\":\"11658\"},\"ticker\":null},\"id\":\"11661\",\"type\":\"Grid\"},{\"attributes\":{},\"id\":\"11671\",\"type\":\"HelpTool\"},{\"attributes\":{},\"id\":\"11663\",\"type\":\"BasicTicker\"},{\"attributes\":{\"axis\":{\"id\":\"11662\"},\"dimension\":1,\"ticker\":null},\"id\":\"11665\",\"type\":\"Grid\"},{\"attributes\":{},\"id\":\"11670\",\"type\":\"ResetTool\"},{\"attributes\":{},\"id\":\"11960\",\"type\":\"BasicTickFormatter\"},{\"attributes\":{\"overlay\":{\"id\":\"11672\"}},\"id\":\"11668\",\"type\":\"BoxZoomTool\"},{\"attributes\":{\"data\":{},\"selected\":{\"id\":\"11965\"},\"selection_policy\":{\"id\":\"11964\"}},\"id\":\"11680\",\"type\":\"ColumnDataSource\"},{\"attributes\":{},\"id\":\"11654\",\"type\":\"LinearScale\"},{\"attributes\":{\"formatter\":{\"id\":\"11962\"},\"ticker\":{\"id\":\"11663\"}},\"id\":\"11662\",\"type\":\"LinearAxis\"},{\"attributes\":{},\"id\":\"11652\",\"type\":\"DataRange1d\"},{\"attributes\":{\"data_source\":{\"id\":\"11680\"},\"glyph\":{\"id\":\"11681\"},\"hover_glyph\":null,\"muted_glyph\":null,\"nonselection_glyph\":{\"id\":\"11682\"},\"selection_glyph\":null,\"view\":{\"id\":\"11684\"}},\"id\":\"11683\",\"type\":\"GlyphRenderer\"},{\"attributes\":{\"formatter\":{\"id\":\"11960\"},\"ticker\":{\"id\":\"11659\"}},\"id\":\"11658\",\"type\":\"LinearAxis\"},{\"attributes\":{\"bottom_units\":\"screen\",\"fill_alpha\":0.5,\"fill_color\":\"lightgrey\",\"left_units\":\"screen\",\"level\":\"overlay\",\"line_alpha\":1.0,\"line_color\":\"black\",\"line_dash\":[4,4],\"line_width\":2,\"render_mode\":\"css\",\"right_units\":\"screen\",\"top_units\":\"screen\"},\"id\":\"11672\",\"type\":\"BoxAnnotation\"},{\"attributes\":{},\"id\":\"11656\",\"type\":\"LinearScale\"},{\"attributes\":{\"active_drag\":\"auto\",\"active_inspect\":\"auto\",\"active_multi\":null,\"active_scroll\":\"auto\",\"active_tap\":\"auto\",\"tools\":[{\"id\":\"11666\"},{\"id\":\"11667\"},{\"id\":\"11668\"},{\"id\":\"11669\"},{\"id\":\"11670\"},{\"id\":\"11671\"}]},\"id\":\"11673\",\"type\":\"Toolbar\"},{\"attributes\":{\"source\":{\"id\":\"11680\"}},\"id\":\"11684\",\"type\":\"CDSView\"},{\"attributes\":{},\"id\":\"11964\",\"type\":\"UnionRenderers\"},{\"attributes\":{\"cx0\":{\"value\":2.1},\"cx1\":{\"value\":1.9},\"cy0\":{\"value\":4.2},\"cy1\":{\"value\":3.8},\"line_alpha\":{\"value\":0.1},\"line_color\":{\"value\":\"red\"},\"line_width\":{\"value\":2},\"x0\":{\"value\":2},\"x1\":{\"value\":2.4},\"y0\":{\"value\":4},\"y1\":{\"value\":4}},\"id\":\"11682\",\"type\":\"Bezier\"},{\"attributes\":{},\"id\":\"11650\",\"type\":\"DataRange1d\"},{\"attributes\":{},\"id\":\"11962\",\"type\":\"BasicTickFormatter\"},{\"attributes\":{},\"id\":\"11666\",\"type\":\"PanTool\"},{\"attributes\":{\"text\":\"\"},\"id\":\"11959\",\"type\":\"Title\"},{\"attributes\":{\"cx0\":{\"value\":2.1},\"cx1\":{\"value\":1.9},\"cy0\":{\"value\":4.2},\"cy1\":{\"value\":3.8},\"line_color\":{\"value\":\"red\"},\"line_width\":{\"value\":2},\"x0\":{\"value\":2},\"x1\":{\"value\":2.4},\"y0\":{\"value\":4},\"y1\":{\"value\":4}},\"id\":\"11681\",\"type\":\"Bezier\"},{\"attributes\":{},\"id\":\"11667\",\"type\":\"WheelZoomTool\"},{\"attributes\":{},\"id\":\"11965\",\"type\":\"Selection\"},{\"attributes\":{},\"id\":\"11669\",\"type\":\"SaveTool\"}],\"root_ids\":[\"11649\"]},\"title\":\"Bokeh Application\",\"version\":\"2.0.2\"}};\n",
       "  var render_items = [{\"docid\":\"89e90432-4ee3-43b0-99f8-4999b33684fb\",\"root_ids\":[\"11649\"],\"roots\":{\"11649\":\"525ac545-fff7-4dab-89b8-313ce6992930\"}}];\n",
       "  root.Bokeh.embed.embed_items_notebook(docs_json, render_items);\n",
       "\n",
       "  }\n",
       "  if (root.Bokeh !== undefined) {\n",
       "    embed_document(root);\n",
       "  } else {\n",
       "    var attempts = 0;\n",
       "    var timer = setInterval(function(root) {\n",
       "      if (root.Bokeh !== undefined) {\n",
       "        clearInterval(timer);\n",
       "        embed_document(root);\n",
       "      } else {\n",
       "        attempts++;\n",
       "        if (attempts > 100) {\n",
       "          clearInterval(timer);\n",
       "          console.log(\"Bokeh: ERROR: Unable to run BokehJS code because BokehJS library is missing\");\n",
       "        }\n",
       "      }\n",
       "    }, 10, root)\n",
       "  }\n",
       "})(window);"
      ],
      "application/vnd.bokehjs_exec.v0+json": ""
     },
     "metadata": {
      "application/vnd.bokehjs_exec.v0+json": {
       "id": "11649"
      }
     },
     "output_type": "display_data"
    }
   ],
   "source": [
    "x = 2\n",
    "y = 4\n",
    "xp02 = x+0.4\n",
    "xp01 = x+0.1\n",
    "xm01 = x-0.1\n",
    "yp01 = y+0.2\n",
    "ym01 = y-0.2\n",
    "curve = figure(plot_width = 300, plot_height = 300)\n",
    "curve.bezier(x0 = x, y0 = y, x1 = xp02, y1 = y, cx0 = xp01, cy0 = yp01,\n",
    "cx1 = xm01, cy1 = ym01, line_color = \"red\", line_width = 2)\n",
    "show(curve)"
   ]
  },
  {
   "cell_type": "markdown",
   "metadata": {},
   "source": [
    "#### quadratic()\n",
    "This method adds a parabola glyph to bokeh figure. The function has same parameters as beizer(), except cx0 and cx1."
   ]
  },
  {
   "cell_type": "code",
   "execution_count": 49,
   "metadata": {},
   "outputs": [
    {
     "ename": "TypeError",
     "evalue": "can only concatenate tuple (not \"int\") to tuple",
     "output_type": "error",
     "traceback": [
      "\u001b[0;31m---------------------------------------------------------------------------\u001b[0m",
      "\u001b[0;31mTypeError\u001b[0m                                 Traceback (most recent call last)",
      "\u001b[0;32m<ipython-input-49-d308ddf097e9>\u001b[0m in \u001b[0;36m<module>\u001b[0;34m\u001b[0m\n\u001b[1;32m      8\u001b[0m \u001b[0mx\u001b[0m \u001b[0;34m=\u001b[0m \u001b[0mx\u001b[0m\u001b[0;34m,\u001b[0m\u001b[0;34m\u001b[0m\u001b[0;34m\u001b[0m\u001b[0m\n\u001b[1;32m      9\u001b[0m \u001b[0my\u001b[0m \u001b[0;34m=\u001b[0m \u001b[0my\u001b[0m\u001b[0;34m,\u001b[0m\u001b[0;34m\u001b[0m\u001b[0;34m\u001b[0m\u001b[0m\n\u001b[0;32m---> 10\u001b[0;31m \u001b[0mxp02\u001b[0m \u001b[0;34m=\u001b[0m \u001b[0;34m{\u001b[0m\u001b[0mx\u001b[0m \u001b[0;34m+\u001b[0m \u001b[0;36m4\u001b[0m\u001b[0;34m}\u001b[0m\u001b[0;34m\u001b[0m\u001b[0;34m\u001b[0m\u001b[0m\n\u001b[0m\u001b[1;32m     11\u001b[0m \u001b[0mxp01\u001b[0m \u001b[0;34m=\u001b[0m \u001b[0mx\u001b[0m \u001b[0;34m+\u001b[0m \u001b[0;36m1\u001b[0m\u001b[0;34m,\u001b[0m\u001b[0;34m\u001b[0m\u001b[0;34m\u001b[0m\u001b[0m\n\u001b[1;32m     12\u001b[0m \u001b[0myp01\u001b[0m \u001b[0;34m=\u001b[0m \u001b[0my\u001b[0m \u001b[0;34m+\u001b[0m \u001b[0;36m2\u001b[0m\u001b[0;34m,\u001b[0m\u001b[0;34m\u001b[0m\u001b[0;34m\u001b[0m\u001b[0m\n",
      "\u001b[0;31mTypeError\u001b[0m: can only concatenate tuple (not \"int\") to tuple"
     ]
    }
   ],
   "source": [
    "x = 2\n",
    "y = 4\n",
    "xp02 = x + 0.3\n",
    "xp01 = x + 0.2\n",
    "xm01 = x - 0.4\n",
    "yp01 = y + 0.1\n",
    "ym01 = y - 0.2\n",
    "x = x,\n",
    "y = y,\n",
    "xp02 = x + 0.4,\n",
    "xp01 = x + 0.1,\n",
    "yp01 = y + 0.2,\n",
    "curve.quadratic(x0 = x, y0 = y, x1 = x + 0.4, y1 = y + 0.01, cx = x + 0.1,cy = y + 0.2, line_color = \"blue\", line_width = 3)"
   ]
  },
  {
   "cell_type": "markdown",
   "metadata": {},
   "source": [
    "### Bokeh - Setting Ranges"
   ]
  },
  {
   "cell_type": "markdown",
   "metadata": {},
   "source": [
    "Numeric ranges of data axes of a plot are automatically set by Bokeh taking into consideration the dataset under process. However, sometimes you may want to define the range of values on x and y axis explicitly. This is done by assigning x_range and y_range properties to a figure() function.\n",
    "\n",
    "These ranges are defined with the help of range1d() function."
   ]
  },
  {
   "cell_type": "markdown",
   "metadata": {},
   "source": [
    "xrange=rangeld(0,10)"
   ]
  },
  {
   "cell_type": "markdown",
   "metadata": {},
   "source": [
    "fig = figure(x,y,x_range = xrange)"
   ]
  },
  {
   "cell_type": "markdown",
   "metadata": {},
   "source": [
    "### Bokeh - Axes"
   ]
  },
  {
   "cell_type": "markdown",
   "metadata": {},
   "source": [
    "### Categorical Axes\n",
    "In the examples so far, the Bokeh plots show numerical data along both x and y axes. In order to use categorical data along either of axes, we need to specify a FactorRange to specify categorical dimensions for one of them. For example, to use strings in the given list for x axis"
   ]
  },
  {
   "cell_type": "code",
   "execution_count": 80,
   "metadata": {},
   "outputs": [
    {
     "data": {
      "text/html": [
       "\n",
       "\n",
       "\n",
       "\n",
       "\n",
       "\n",
       "  <div class=\"bk-root\" id=\"f26d4e73-2e7d-4bac-86a5-0e5b1f3862d5\" data-root-id=\"18526\"></div>\n"
      ]
     },
     "metadata": {},
     "output_type": "display_data"
    },
    {
     "data": {
      "application/javascript": [
       "(function(root) {\n",
       "  function embed_document(root) {\n",
       "    \n",
       "  var docs_json = {\"feb687f7-3298-4ea6-ad94-fbe15db77ec4\":{\"roots\":{\"references\":[{\"attributes\":{\"below\":[{\"id\":\"18535\"}],\"center\":[{\"id\":\"18537\"},{\"id\":\"18541\"}],\"left\":[{\"id\":\"18538\"}],\"plot_height\":300,\"plot_width\":300,\"renderers\":[{\"id\":\"18559\"}],\"title\":{\"id\":\"18941\"},\"toolbar\":{\"id\":\"18549\"},\"x_range\":{\"id\":\"18527\"},\"x_scale\":{\"id\":\"18531\"},\"y_range\":{\"id\":\"18529\"},\"y_scale\":{\"id\":\"18533\"}},\"id\":\"18526\",\"subtype\":\"Figure\",\"type\":\"Plot\"},{\"attributes\":{\"text\":\"\"},\"id\":\"18941\",\"type\":\"Title\"},{\"attributes\":{},\"id\":\"18944\",\"type\":\"BasicTickFormatter\"},{\"attributes\":{},\"id\":\"18543\",\"type\":\"WheelZoomTool\"},{\"attributes\":{},\"id\":\"18546\",\"type\":\"ResetTool\"},{\"attributes\":{},\"id\":\"18531\",\"type\":\"CategoricalScale\"},{\"attributes\":{\"fill_color\":{\"value\":\"#1f77b4\"},\"line_color\":{\"value\":\"#1f77b4\"},\"top\":{\"field\":\"top\"},\"width\":{\"value\":0.5},\"x\":{\"field\":\"x\"}},\"id\":\"18557\",\"type\":\"VBar\"},{\"attributes\":{},\"id\":\"18539\",\"type\":\"BasicTicker\"},{\"attributes\":{\"formatter\":{\"id\":\"18942\"},\"ticker\":{\"id\":\"18536\"}},\"id\":\"18535\",\"type\":\"CategoricalAxis\"},{\"attributes\":{\"axis\":{\"id\":\"18538\"},\"dimension\":1,\"ticker\":null},\"id\":\"18541\",\"type\":\"Grid\"},{\"attributes\":{},\"id\":\"18533\",\"type\":\"LinearScale\"},{\"attributes\":{\"formatter\":{\"id\":\"18944\"},\"ticker\":{\"id\":\"18539\"}},\"id\":\"18538\",\"type\":\"LinearAxis\"},{\"attributes\":{\"overlay\":{\"id\":\"18548\"}},\"id\":\"18544\",\"type\":\"BoxZoomTool\"},{\"attributes\":{\"active_drag\":\"auto\",\"active_inspect\":\"auto\",\"active_multi\":null,\"active_scroll\":\"auto\",\"active_tap\":\"auto\",\"tools\":[{\"id\":\"18542\"},{\"id\":\"18543\"},{\"id\":\"18544\"},{\"id\":\"18545\"},{\"id\":\"18546\"},{\"id\":\"18547\"}]},\"id\":\"18549\",\"type\":\"Toolbar\"},{\"attributes\":{},\"id\":\"18536\",\"type\":\"CategoricalTicker\"},{\"attributes\":{},\"id\":\"18946\",\"type\":\"UnionRenderers\"},{\"attributes\":{},\"id\":\"18529\",\"type\":\"DataRange1d\"},{\"attributes\":{\"source\":{\"id\":\"18556\"}},\"id\":\"18560\",\"type\":\"CDSView\"},{\"attributes\":{},\"id\":\"18947\",\"type\":\"Selection\"},{\"attributes\":{},\"id\":\"18545\",\"type\":\"SaveTool\"},{\"attributes\":{\"factors\":[\"C\",\"C++\",\"Java\",\"Python\",\"PHP\"]},\"id\":\"18527\",\"type\":\"FactorRange\"},{\"attributes\":{\"fill_alpha\":{\"value\":0.1},\"fill_color\":{\"value\":\"#1f77b4\"},\"line_alpha\":{\"value\":0.1},\"line_color\":{\"value\":\"#1f77b4\"},\"top\":{\"field\":\"top\"},\"width\":{\"value\":0.5},\"x\":{\"field\":\"x\"}},\"id\":\"18558\",\"type\":\"VBar\"},{\"attributes\":{\"axis\":{\"id\":\"18535\"},\"ticker\":null},\"id\":\"18537\",\"type\":\"Grid\"},{\"attributes\":{\"data_source\":{\"id\":\"18556\"},\"glyph\":{\"id\":\"18557\"},\"hover_glyph\":null,\"muted_glyph\":null,\"nonselection_glyph\":{\"id\":\"18558\"},\"selection_glyph\":null,\"view\":{\"id\":\"18560\"}},\"id\":\"18559\",\"type\":\"GlyphRenderer\"},{\"attributes\":{\"data\":{\"top\":[23,17,35,29,12],\"x\":[\"C\",\"C++\",\"Java\",\"Python\",\"PHP\"]},\"selected\":{\"id\":\"18947\"},\"selection_policy\":{\"id\":\"18946\"}},\"id\":\"18556\",\"type\":\"ColumnDataSource\"},{\"attributes\":{},\"id\":\"18942\",\"type\":\"CategoricalTickFormatter\"},{\"attributes\":{},\"id\":\"18547\",\"type\":\"HelpTool\"},{\"attributes\":{},\"id\":\"18542\",\"type\":\"PanTool\"},{\"attributes\":{\"bottom_units\":\"screen\",\"fill_alpha\":0.5,\"fill_color\":\"lightgrey\",\"left_units\":\"screen\",\"level\":\"overlay\",\"line_alpha\":1.0,\"line_color\":\"black\",\"line_dash\":[4,4],\"line_width\":2,\"render_mode\":\"css\",\"right_units\":\"screen\",\"top_units\":\"screen\"},\"id\":\"18548\",\"type\":\"BoxAnnotation\"}],\"root_ids\":[\"18526\"]},\"title\":\"Bokeh Application\",\"version\":\"2.0.2\"}};\n",
       "  var render_items = [{\"docid\":\"feb687f7-3298-4ea6-ad94-fbe15db77ec4\",\"root_ids\":[\"18526\"],\"roots\":{\"18526\":\"f26d4e73-2e7d-4bac-86a5-0e5b1f3862d5\"}}];\n",
       "  root.Bokeh.embed.embed_items_notebook(docs_json, render_items);\n",
       "\n",
       "  }\n",
       "  if (root.Bokeh !== undefined) {\n",
       "    embed_document(root);\n",
       "  } else {\n",
       "    var attempts = 0;\n",
       "    var timer = setInterval(function(root) {\n",
       "      if (root.Bokeh !== undefined) {\n",
       "        clearInterval(timer);\n",
       "        embed_document(root);\n",
       "      } else {\n",
       "        attempts++;\n",
       "        if (attempts > 100) {\n",
       "          clearInterval(timer);\n",
       "          console.log(\"Bokeh: ERROR: Unable to run BokehJS code because BokehJS library is missing\");\n",
       "        }\n",
       "      }\n",
       "    }, 10, root)\n",
       "  }\n",
       "})(window);"
      ],
      "application/vnd.bokehjs_exec.v0+json": ""
     },
     "metadata": {
      "application/vnd.bokehjs_exec.v0+json": {
       "id": "18526"
      }
     },
     "output_type": "display_data"
    }
   ],
   "source": [
    "langs = ['C', 'C++', 'Java', 'Python', 'PHP']\n",
    "students = [23,17,35,29,12]\n",
    "axes = figure(x_range = langs, plot_width = 300, plot_height = 300)\n",
    "axes.vbar(x = langs, top = students, width = 0.5)\n",
    "show(axes)"
   ]
  },
  {
   "cell_type": "code",
   "execution_count": 88,
   "metadata": {},
   "outputs": [
    {
     "data": {
      "text/html": [
       "\n",
       "\n",
       "\n",
       "\n",
       "\n",
       "\n",
       "  <div class=\"bk-root\" id=\"b91afb75-123f-4d9a-8bf0-c6e80b7f56ad\" data-root-id=\"18526\"></div>\n"
      ]
     },
     "metadata": {},
     "output_type": "display_data"
    },
    {
     "data": {
      "application/javascript": [
       "(function(root) {\n",
       "  function embed_document(root) {\n",
       "    \n",
       "  var docs_json = {\"51375a9a-3d9f-4749-a9c4-959d578a0516\":{\"roots\":{\"references\":[{\"attributes\":{\"below\":[{\"id\":\"18535\"}],\"center\":[{\"id\":\"18537\"},{\"id\":\"18541\"}],\"left\":[{\"id\":\"18538\"}],\"plot_height\":300,\"plot_width\":300,\"renderers\":[{\"id\":\"18559\"},{\"id\":\"19124\"},{\"id\":\"19521\"},{\"id\":\"20166\"},{\"id\":\"20853\"},{\"id\":\"21582\"}],\"title\":{\"id\":\"18941\"},\"toolbar\":{\"id\":\"18549\"},\"x_range\":{\"id\":\"18527\"},\"x_scale\":{\"id\":\"18531\"},\"y_range\":{\"id\":\"18529\"},\"y_scale\":{\"id\":\"18533\"}},\"id\":\"18526\",\"subtype\":\"Figure\",\"type\":\"Plot\"},{\"attributes\":{\"text\":\"\"},\"id\":\"18941\",\"type\":\"Title\"},{\"attributes\":{\"data\":{\"fill_color\":[\"red\",\"green\",\"orange\",\"navy\",\"cyan\"],\"line_color\":[\"red\",\"green\",\"orange\",\"navy\",\"cyan\"],\"top\":[23,17,35,29,12],\"x\":[\"C\",\"C++\",\"Java\",\"Python\",\"PHP\"]},\"selected\":{\"id\":\"19514\"},\"selection_policy\":{\"id\":\"19513\"}},\"id\":\"19121\",\"type\":\"ColumnDataSource\"},{\"attributes\":{},\"id\":\"18944\",\"type\":\"BasicTickFormatter\"},{\"attributes\":{\"source\":{\"id\":\"20850\"}},\"id\":\"20854\",\"type\":\"CDSView\"},{\"attributes\":{\"data\":{\"fill_color\":[\"blue\",\"pink\",\"brown\",\"crimson\",\"gray\"],\"left\":[\"C\",\"C++\",\"Java\",\"Python\",\"PHP\"],\"line_color\":[\"blue\",\"pink\",\"brown\",\"crimson\",\"gray\"],\"y\":[23,17,35,29,12]},\"selected\":{\"id\":\"21249\"},\"selection_policy\":{\"id\":\"21248\"}},\"id\":\"20850\",\"type\":\"ColumnDataSource\"},{\"attributes\":{},\"id\":\"18543\",\"type\":\"WheelZoomTool\"},{\"attributes\":{},\"id\":\"18546\",\"type\":\"ResetTool\"},{\"attributes\":{},\"id\":\"18531\",\"type\":\"CategoricalScale\"},{\"attributes\":{\"fill_color\":{\"field\":\"fill_color\"},\"line_color\":{\"field\":\"line_color\"},\"top\":{\"field\":\"top\"},\"width\":{\"value\":0.5},\"x\":{\"field\":\"x\"}},\"id\":\"19519\",\"type\":\"VBar\"},{\"attributes\":{\"data_source\":{\"id\":\"19518\"},\"glyph\":{\"id\":\"19519\"},\"hover_glyph\":null,\"muted_glyph\":null,\"nonselection_glyph\":{\"id\":\"19520\"},\"selection_glyph\":null,\"view\":{\"id\":\"19522\"}},\"id\":\"19521\",\"type\":\"GlyphRenderer\"},{\"attributes\":{\"fill_color\":{\"value\":\"#1f77b4\"},\"line_color\":{\"value\":\"#1f77b4\"},\"top\":{\"field\":\"top\"},\"width\":{\"value\":0.5},\"x\":{\"field\":\"x\"}},\"id\":\"18557\",\"type\":\"VBar\"},{\"attributes\":{},\"id\":\"18539\",\"type\":\"BasicTicker\"},{\"attributes\":{},\"id\":\"21980\",\"type\":\"Selection\"},{\"attributes\":{\"formatter\":{\"id\":\"18942\"},\"ticker\":{\"id\":\"18536\"}},\"id\":\"18535\",\"type\":\"CategoricalAxis\"},{\"attributes\":{\"axis\":{\"id\":\"18538\"},\"dimension\":1,\"ticker\":null},\"id\":\"18541\",\"type\":\"Grid\"},{\"attributes\":{\"source\":{\"id\":\"19518\"}},\"id\":\"19522\",\"type\":\"CDSView\"},{\"attributes\":{\"fill_alpha\":{\"value\":0.1},\"fill_color\":{\"field\":\"fill_color\"},\"line_alpha\":{\"value\":0.1},\"line_color\":{\"field\":\"line_color\"},\"top\":{\"field\":\"top\"},\"width\":{\"value\":0.5},\"x\":{\"field\":\"x\"}},\"id\":\"20165\",\"type\":\"VBar\"},{\"attributes\":{},\"id\":\"18533\",\"type\":\"LinearScale\"},{\"attributes\":{\"formatter\":{\"id\":\"18944\"},\"ticker\":{\"id\":\"18539\"}},\"id\":\"18538\",\"type\":\"LinearAxis\"},{\"attributes\":{\"overlay\":{\"id\":\"18548\"}},\"id\":\"18544\",\"type\":\"BoxZoomTool\"},{\"attributes\":{\"active_drag\":\"auto\",\"active_inspect\":\"auto\",\"active_multi\":null,\"active_scroll\":\"auto\",\"active_tap\":\"auto\",\"tools\":[{\"id\":\"18542\"},{\"id\":\"18543\"},{\"id\":\"18544\"},{\"id\":\"18545\"},{\"id\":\"18546\"},{\"id\":\"18547\"}]},\"id\":\"18549\",\"type\":\"Toolbar\"},{\"attributes\":{},\"id\":\"18536\",\"type\":\"CategoricalTicker\"},{\"attributes\":{\"fill_color\":{\"field\":\"fill_color\"},\"line_color\":{\"field\":\"line_color\"},\"top\":{\"field\":\"top\"},\"width\":{\"value\":0.5},\"x\":{\"field\":\"x\"}},\"id\":\"19122\",\"type\":\"VBar\"},{\"attributes\":{\"fill_alpha\":{\"value\":0.1},\"fill_color\":{\"field\":\"fill_color\"},\"height\":{\"value\":0.5},\"left\":{\"field\":\"left\"},\"line_alpha\":{\"value\":0.1},\"line_color\":{\"field\":\"line_color\"},\"y\":{\"field\":\"y\"}},\"id\":\"21581\",\"type\":\"HBar\"},{\"attributes\":{\"data\":{\"fill_color\":[\"blue\",\"pink\",\"brown\",\"crimson\",\"gray\"],\"left\":[\"C\",\"C++\",\"Java\",\"Python\",\"PHP\"],\"line_color\":[\"blue\",\"pink\",\"brown\",\"crimson\",\"gray\"],\"y\":[23,17,35,29,12]},\"selected\":{\"id\":\"21980\"},\"selection_policy\":{\"id\":\"21979\"}},\"id\":\"21579\",\"type\":\"ColumnDataSource\"},{\"attributes\":{\"fill_color\":{\"field\":\"fill_color\"},\"height\":{\"value\":0.5},\"left\":{\"field\":\"left\"},\"line_color\":{\"field\":\"line_color\"},\"y\":{\"field\":\"y\"}},\"id\":\"21580\",\"type\":\"HBar\"},{\"attributes\":{},\"id\":\"18946\",\"type\":\"UnionRenderers\"},{\"attributes\":{},\"id\":\"21979\",\"type\":\"UnionRenderers\"},{\"attributes\":{},\"id\":\"18529\",\"type\":\"DataRange1d\"},{\"attributes\":{\"fill_alpha\":{\"value\":0.1},\"fill_color\":{\"field\":\"fill_color\"},\"line_alpha\":{\"value\":0.1},\"line_color\":{\"field\":\"line_color\"},\"top\":{\"field\":\"top\"},\"width\":{\"value\":0.5},\"x\":{\"field\":\"x\"}},\"id\":\"19123\",\"type\":\"VBar\"},{\"attributes\":{\"source\":{\"id\":\"18556\"}},\"id\":\"18560\",\"type\":\"CDSView\"},{\"attributes\":{},\"id\":\"18947\",\"type\":\"Selection\"},{\"attributes\":{\"data_source\":{\"id\":\"21579\"},\"glyph\":{\"id\":\"21580\"},\"hover_glyph\":null,\"muted_glyph\":null,\"nonselection_glyph\":{\"id\":\"21581\"},\"selection_glyph\":null,\"view\":{\"id\":\"21583\"}},\"id\":\"21582\",\"type\":\"GlyphRenderer\"},{\"attributes\":{},\"id\":\"19913\",\"type\":\"Selection\"},{\"attributes\":{},\"id\":\"18545\",\"type\":\"SaveTool\"},{\"attributes\":{\"data_source\":{\"id\":\"19121\"},\"glyph\":{\"id\":\"19122\"},\"hover_glyph\":null,\"muted_glyph\":null,\"nonselection_glyph\":{\"id\":\"19123\"},\"selection_glyph\":null,\"view\":{\"id\":\"19125\"}},\"id\":\"19124\",\"type\":\"GlyphRenderer\"},{\"attributes\":{},\"id\":\"21249\",\"type\":\"Selection\"},{\"attributes\":{\"factors\":[\"C\",\"C++\",\"Java\",\"Python\",\"PHP\"]},\"id\":\"18527\",\"type\":\"FactorRange\"},{\"attributes\":{\"fill_color\":{\"field\":\"fill_color\"},\"left\":{\"field\":\"left\"},\"line_color\":{\"field\":\"line_color\"},\"line_width\":{\"value\":0.5},\"y\":{\"field\":\"y\"}},\"id\":\"20851\",\"type\":\"HBar\"},{\"attributes\":{},\"id\":\"19514\",\"type\":\"Selection\"},{\"attributes\":{\"fill_alpha\":{\"value\":0.1},\"fill_color\":{\"value\":\"#1f77b4\"},\"line_alpha\":{\"value\":0.1},\"line_color\":{\"value\":\"#1f77b4\"},\"top\":{\"field\":\"top\"},\"width\":{\"value\":0.5},\"x\":{\"field\":\"x\"}},\"id\":\"18558\",\"type\":\"VBar\"},{\"attributes\":{\"fill_alpha\":{\"value\":0.1},\"fill_color\":{\"field\":\"fill_color\"},\"line_alpha\":{\"value\":0.1},\"line_color\":{\"field\":\"line_color\"},\"top\":{\"field\":\"top\"},\"width\":{\"value\":0.5},\"x\":{\"field\":\"x\"}},\"id\":\"19520\",\"type\":\"VBar\"},{\"attributes\":{},\"id\":\"20560\",\"type\":\"Selection\"},{\"attributes\":{\"source\":{\"id\":\"19121\"}},\"id\":\"19125\",\"type\":\"CDSView\"},{\"attributes\":{\"data\":{\"fill_color\":[\"red\",\"green\",\"orange\",\"navy\",\"cyan\"],\"line_color\":[\"red\",\"green\",\"orange\",\"navy\",\"cyan\"],\"top\":[23,17,35,29,12],\"x\":[\"C\",\"C++\",\"Java\",\"Python\",\"PHP\"]},\"selected\":{\"id\":\"19913\"},\"selection_policy\":{\"id\":\"19912\"}},\"id\":\"19518\",\"type\":\"ColumnDataSource\"},{\"attributes\":{\"axis\":{\"id\":\"18535\"},\"ticker\":null},\"id\":\"18537\",\"type\":\"Grid\"},{\"attributes\":{\"fill_color\":{\"field\":\"fill_color\"},\"line_color\":{\"field\":\"line_color\"},\"top\":{\"field\":\"top\"},\"width\":{\"value\":0.5},\"x\":{\"field\":\"x\"}},\"id\":\"20164\",\"type\":\"VBar\"},{\"attributes\":{},\"id\":\"19513\",\"type\":\"UnionRenderers\"},{\"attributes\":{\"data_source\":{\"id\":\"18556\"},\"glyph\":{\"id\":\"18557\"},\"hover_glyph\":null,\"muted_glyph\":null,\"nonselection_glyph\":{\"id\":\"18558\"},\"selection_glyph\":null,\"view\":{\"id\":\"18560\"}},\"id\":\"18559\",\"type\":\"GlyphRenderer\"},{\"attributes\":{\"data\":{\"fill_color\":[\"blue\",\"pink\",\"brown\",\"crimson\",\"gray\"],\"line_color\":[\"blue\",\"pink\",\"brown\",\"crimson\",\"gray\"],\"top\":[23,17,35,29,12],\"x\":[\"C\",\"C++\",\"Java\",\"Python\",\"PHP\"]},\"selected\":{\"id\":\"20560\"},\"selection_policy\":{\"id\":\"20559\"}},\"id\":\"20163\",\"type\":\"ColumnDataSource\"},{\"attributes\":{\"source\":{\"id\":\"21579\"}},\"id\":\"21583\",\"type\":\"CDSView\"},{\"attributes\":{},\"id\":\"21248\",\"type\":\"UnionRenderers\"},{\"attributes\":{\"data\":{\"top\":[23,17,35,29,12],\"x\":[\"C\",\"C++\",\"Java\",\"Python\",\"PHP\"]},\"selected\":{\"id\":\"18947\"},\"selection_policy\":{\"id\":\"18946\"}},\"id\":\"18556\",\"type\":\"ColumnDataSource\"},{\"attributes\":{\"data_source\":{\"id\":\"20163\"},\"glyph\":{\"id\":\"20164\"},\"hover_glyph\":null,\"muted_glyph\":null,\"nonselection_glyph\":{\"id\":\"20165\"},\"selection_glyph\":null,\"view\":{\"id\":\"20167\"}},\"id\":\"20166\",\"type\":\"GlyphRenderer\"},{\"attributes\":{},\"id\":\"18942\",\"type\":\"CategoricalTickFormatter\"},{\"attributes\":{\"source\":{\"id\":\"20163\"}},\"id\":\"20167\",\"type\":\"CDSView\"},{\"attributes\":{\"fill_alpha\":{\"value\":0.1},\"fill_color\":{\"field\":\"fill_color\"},\"left\":{\"field\":\"left\"},\"line_alpha\":{\"value\":0.1},\"line_color\":{\"field\":\"line_color\"},\"line_width\":{\"value\":0.5},\"y\":{\"field\":\"y\"}},\"id\":\"20852\",\"type\":\"HBar\"},{\"attributes\":{},\"id\":\"18547\",\"type\":\"HelpTool\"},{\"attributes\":{},\"id\":\"18542\",\"type\":\"PanTool\"},{\"attributes\":{\"bottom_units\":\"screen\",\"fill_alpha\":0.5,\"fill_color\":\"lightgrey\",\"left_units\":\"screen\",\"level\":\"overlay\",\"line_alpha\":1.0,\"line_color\":\"black\",\"line_dash\":[4,4],\"line_width\":2,\"render_mode\":\"css\",\"right_units\":\"screen\",\"top_units\":\"screen\"},\"id\":\"18548\",\"type\":\"BoxAnnotation\"},{\"attributes\":{\"data_source\":{\"id\":\"20850\"},\"glyph\":{\"id\":\"20851\"},\"hover_glyph\":null,\"muted_glyph\":null,\"nonselection_glyph\":{\"id\":\"20852\"},\"selection_glyph\":null,\"view\":{\"id\":\"20854\"}},\"id\":\"20853\",\"type\":\"GlyphRenderer\"},{\"attributes\":{},\"id\":\"20559\",\"type\":\"UnionRenderers\"},{\"attributes\":{},\"id\":\"19912\",\"type\":\"UnionRenderers\"}],\"root_ids\":[\"18526\"]},\"title\":\"Bokeh Application\",\"version\":\"2.0.2\"}};\n",
       "  var render_items = [{\"docid\":\"51375a9a-3d9f-4749-a9c4-959d578a0516\",\"root_ids\":[\"18526\"],\"roots\":{\"18526\":\"b91afb75-123f-4d9a-8bf0-c6e80b7f56ad\"}}];\n",
       "  root.Bokeh.embed.embed_items_notebook(docs_json, render_items);\n",
       "\n",
       "  }\n",
       "  if (root.Bokeh !== undefined) {\n",
       "    embed_document(root);\n",
       "  } else {\n",
       "    var attempts = 0;\n",
       "    var timer = setInterval(function(root) {\n",
       "      if (root.Bokeh !== undefined) {\n",
       "        clearInterval(timer);\n",
       "        embed_document(root);\n",
       "      } else {\n",
       "        attempts++;\n",
       "        if (attempts > 100) {\n",
       "          clearInterval(timer);\n",
       "          console.log(\"Bokeh: ERROR: Unable to run BokehJS code because BokehJS library is missing\");\n",
       "        }\n",
       "      }\n",
       "    }, 10, root)\n",
       "  }\n",
       "})(window);"
      ],
      "application/vnd.bokehjs_exec.v0+json": ""
     },
     "metadata": {
      "application/vnd.bokehjs_exec.v0+json": {
       "id": "18526"
      }
     },
     "output_type": "display_data"
    }
   ],
   "source": [
    "axes.hbar(y=students, left = langs, color = ['blue', 'pink', 'brown', 'crimson', 'gray'],height=0.5)\n",
    "show(axes)"
   ]
  },
  {
   "cell_type": "code",
   "execution_count": 89,
   "metadata": {},
   "outputs": [
    {
     "data": {
      "text/html": [
       "\n",
       "\n",
       "\n",
       "\n",
       "\n",
       "\n",
       "  <div class=\"bk-root\" id=\"3f56cd9c-778c-423e-bdd6-5c7562d437a6\" data-root-id=\"18526\"></div>\n"
      ]
     },
     "metadata": {},
     "output_type": "display_data"
    },
    {
     "data": {
      "application/javascript": [
       "(function(root) {\n",
       "  function embed_document(root) {\n",
       "    \n",
       "  var docs_json = {\"7968c887-140f-424a-9c2d-3d9be6c45de9\":{\"roots\":{\"references\":[{\"attributes\":{\"below\":[{\"id\":\"18535\"}],\"center\":[{\"id\":\"18537\"},{\"id\":\"18541\"}],\"left\":[{\"id\":\"18538\"}],\"plot_height\":300,\"plot_width\":300,\"renderers\":[{\"id\":\"18559\"},{\"id\":\"19124\"},{\"id\":\"19521\"},{\"id\":\"20166\"},{\"id\":\"20853\"},{\"id\":\"21582\"},{\"id\":\"22347\"}],\"title\":{\"id\":\"18941\"},\"toolbar\":{\"id\":\"18549\"},\"x_range\":{\"id\":\"18527\"},\"x_scale\":{\"id\":\"18531\"},\"y_range\":{\"id\":\"18529\"},\"y_scale\":{\"id\":\"18533\"}},\"id\":\"18526\",\"subtype\":\"Figure\",\"type\":\"Plot\"},{\"attributes\":{\"text\":\"\"},\"id\":\"18941\",\"type\":\"Title\"},{\"attributes\":{\"data\":{\"fill_color\":[\"red\",\"green\",\"orange\",\"navy\",\"cyan\"],\"line_color\":[\"red\",\"green\",\"orange\",\"navy\",\"cyan\"],\"top\":[23,17,35,29,12],\"x\":[\"C\",\"C++\",\"Java\",\"Python\",\"PHP\"]},\"selected\":{\"id\":\"19514\"},\"selection_policy\":{\"id\":\"19513\"}},\"id\":\"19121\",\"type\":\"ColumnDataSource\"},{\"attributes\":{},\"id\":\"18944\",\"type\":\"BasicTickFormatter\"},{\"attributes\":{\"source\":{\"id\":\"20850\"}},\"id\":\"20854\",\"type\":\"CDSView\"},{\"attributes\":{\"data\":{\"fill_color\":[\"blue\",\"pink\",\"brown\",\"crimson\",\"gray\"],\"left\":[\"C\",\"C++\",\"Java\",\"Python\",\"PHP\"],\"line_color\":[\"blue\",\"pink\",\"brown\",\"crimson\",\"gray\"],\"y\":[23,17,35,29,12]},\"selected\":{\"id\":\"21249\"},\"selection_policy\":{\"id\":\"21248\"}},\"id\":\"20850\",\"type\":\"ColumnDataSource\"},{\"attributes\":{\"source\":{\"id\":\"22344\"}},\"id\":\"22348\",\"type\":\"CDSView\"},{\"attributes\":{},\"id\":\"18543\",\"type\":\"WheelZoomTool\"},{\"attributes\":{},\"id\":\"18546\",\"type\":\"ResetTool\"},{\"attributes\":{},\"id\":\"18531\",\"type\":\"CategoricalScale\"},{\"attributes\":{\"fill_color\":{\"field\":\"fill_color\"},\"line_color\":{\"field\":\"line_color\"},\"top\":{\"field\":\"top\"},\"width\":{\"value\":0.5},\"x\":{\"field\":\"x\"}},\"id\":\"19519\",\"type\":\"VBar\"},{\"attributes\":{\"data_source\":{\"id\":\"19518\"},\"glyph\":{\"id\":\"19519\"},\"hover_glyph\":null,\"muted_glyph\":null,\"nonselection_glyph\":{\"id\":\"19520\"},\"selection_glyph\":null,\"view\":{\"id\":\"19522\"}},\"id\":\"19521\",\"type\":\"GlyphRenderer\"},{\"attributes\":{\"fill_color\":{\"value\":\"#1f77b4\"},\"line_color\":{\"value\":\"#1f77b4\"},\"top\":{\"field\":\"top\"},\"width\":{\"value\":0.5},\"x\":{\"field\":\"x\"}},\"id\":\"18557\",\"type\":\"VBar\"},{\"attributes\":{},\"id\":\"18539\",\"type\":\"BasicTicker\"},{\"attributes\":{},\"id\":\"21980\",\"type\":\"Selection\"},{\"attributes\":{\"formatter\":{\"id\":\"18942\"},\"ticker\":{\"id\":\"18536\"}},\"id\":\"18535\",\"type\":\"CategoricalAxis\"},{\"attributes\":{\"axis\":{\"id\":\"18538\"},\"dimension\":1,\"ticker\":null},\"id\":\"18541\",\"type\":\"Grid\"},{\"attributes\":{\"source\":{\"id\":\"19518\"}},\"id\":\"19522\",\"type\":\"CDSView\"},{\"attributes\":{\"fill_alpha\":{\"value\":0.1},\"fill_color\":{\"field\":\"fill_color\"},\"line_alpha\":{\"value\":0.1},\"line_color\":{\"field\":\"line_color\"},\"top\":{\"field\":\"top\"},\"width\":{\"value\":0.5},\"x\":{\"field\":\"x\"}},\"id\":\"20165\",\"type\":\"VBar\"},{\"attributes\":{},\"id\":\"18533\",\"type\":\"LinearScale\"},{\"attributes\":{\"formatter\":{\"id\":\"18944\"},\"ticker\":{\"id\":\"18539\"}},\"id\":\"18538\",\"type\":\"LinearAxis\"},{\"attributes\":{\"overlay\":{\"id\":\"18548\"}},\"id\":\"18544\",\"type\":\"BoxZoomTool\"},{\"attributes\":{\"active_drag\":\"auto\",\"active_inspect\":\"auto\",\"active_multi\":null,\"active_scroll\":\"auto\",\"active_tap\":\"auto\",\"tools\":[{\"id\":\"18542\"},{\"id\":\"18543\"},{\"id\":\"18544\"},{\"id\":\"18545\"},{\"id\":\"18546\"},{\"id\":\"18547\"}]},\"id\":\"18549\",\"type\":\"Toolbar\"},{\"attributes\":{},\"id\":\"18536\",\"type\":\"CategoricalTicker\"},{\"attributes\":{\"fill_color\":{\"field\":\"fill_color\"},\"line_color\":{\"field\":\"line_color\"},\"top\":{\"field\":\"top\"},\"width\":{\"value\":0.5},\"x\":{\"field\":\"x\"}},\"id\":\"19122\",\"type\":\"VBar\"},{\"attributes\":{\"fill_alpha\":{\"value\":0.1},\"fill_color\":{\"field\":\"fill_color\"},\"height\":{\"value\":0.5},\"left\":{\"field\":\"left\"},\"line_alpha\":{\"value\":0.1},\"line_color\":{\"field\":\"line_color\"},\"y\":{\"field\":\"y\"}},\"id\":\"21581\",\"type\":\"HBar\"},{\"attributes\":{\"data\":{\"fill_color\":[\"blue\",\"pink\",\"brown\",\"crimson\",\"gray\"],\"left\":[\"C\",\"C++\",\"Java\",\"Python\",\"PHP\"],\"line_color\":[\"blue\",\"pink\",\"brown\",\"crimson\",\"gray\"],\"y\":[23,17,35,29,12]},\"selected\":{\"id\":\"21980\"},\"selection_policy\":{\"id\":\"21979\"}},\"id\":\"21579\",\"type\":\"ColumnDataSource\"},{\"attributes\":{\"fill_color\":{\"field\":\"fill_color\"},\"height\":{\"value\":0.5},\"left\":{\"field\":\"left\"},\"line_color\":{\"field\":\"line_color\"},\"y\":{\"field\":\"y\"}},\"id\":\"21580\",\"type\":\"HBar\"},{\"attributes\":{},\"id\":\"18946\",\"type\":\"UnionRenderers\"},{\"attributes\":{},\"id\":\"22747\",\"type\":\"Selection\"},{\"attributes\":{},\"id\":\"21979\",\"type\":\"UnionRenderers\"},{\"attributes\":{},\"id\":\"22746\",\"type\":\"UnionRenderers\"},{\"attributes\":{\"data_source\":{\"id\":\"22344\"},\"glyph\":{\"id\":\"22345\"},\"hover_glyph\":null,\"muted_glyph\":null,\"nonselection_glyph\":{\"id\":\"22346\"},\"selection_glyph\":null,\"view\":{\"id\":\"22348\"}},\"id\":\"22347\",\"type\":\"GlyphRenderer\"},{\"attributes\":{},\"id\":\"18529\",\"type\":\"DataRange1d\"},{\"attributes\":{\"fill_alpha\":{\"value\":0.1},\"fill_color\":{\"field\":\"fill_color\"},\"line_alpha\":{\"value\":0.1},\"line_color\":{\"field\":\"line_color\"},\"top\":{\"field\":\"top\"},\"width\":{\"value\":0.5},\"x\":{\"field\":\"x\"}},\"id\":\"19123\",\"type\":\"VBar\"},{\"attributes\":{\"source\":{\"id\":\"18556\"}},\"id\":\"18560\",\"type\":\"CDSView\"},{\"attributes\":{},\"id\":\"18947\",\"type\":\"Selection\"},{\"attributes\":{},\"id\":\"19912\",\"type\":\"UnionRenderers\"},{\"attributes\":{\"data_source\":{\"id\":\"21579\"},\"glyph\":{\"id\":\"21580\"},\"hover_glyph\":null,\"muted_glyph\":null,\"nonselection_glyph\":{\"id\":\"21581\"},\"selection_glyph\":null,\"view\":{\"id\":\"21583\"}},\"id\":\"21582\",\"type\":\"GlyphRenderer\"},{\"attributes\":{},\"id\":\"19913\",\"type\":\"Selection\"},{\"attributes\":{},\"id\":\"18545\",\"type\":\"SaveTool\"},{\"attributes\":{\"data_source\":{\"id\":\"19121\"},\"glyph\":{\"id\":\"19122\"},\"hover_glyph\":null,\"muted_glyph\":null,\"nonselection_glyph\":{\"id\":\"19123\"},\"selection_glyph\":null,\"view\":{\"id\":\"19125\"}},\"id\":\"19124\",\"type\":\"GlyphRenderer\"},{\"attributes\":{},\"id\":\"21249\",\"type\":\"Selection\"},{\"attributes\":{\"factors\":[\"C\",\"C++\",\"Java\",\"Python\",\"PHP\"]},\"id\":\"18527\",\"type\":\"FactorRange\"},{\"attributes\":{\"fill_color\":{\"field\":\"fill_color\"},\"left\":{\"field\":\"left\"},\"line_color\":{\"field\":\"line_color\"},\"line_width\":{\"value\":0.5},\"y\":{\"field\":\"y\"}},\"id\":\"20851\",\"type\":\"HBar\"},{\"attributes\":{},\"id\":\"19514\",\"type\":\"Selection\"},{\"attributes\":{\"fill_alpha\":{\"value\":0.1},\"fill_color\":{\"value\":\"#1f77b4\"},\"line_alpha\":{\"value\":0.1},\"line_color\":{\"value\":\"#1f77b4\"},\"top\":{\"field\":\"top\"},\"width\":{\"value\":0.5},\"x\":{\"field\":\"x\"}},\"id\":\"18558\",\"type\":\"VBar\"},{\"attributes\":{\"fill_alpha\":{\"value\":0.1},\"fill_color\":{\"field\":\"fill_color\"},\"line_alpha\":{\"value\":0.1},\"line_color\":{\"field\":\"line_color\"},\"top\":{\"field\":\"top\"},\"width\":{\"value\":0.5},\"x\":{\"field\":\"x\"}},\"id\":\"19520\",\"type\":\"VBar\"},{\"attributes\":{},\"id\":\"20560\",\"type\":\"Selection\"},{\"attributes\":{\"source\":{\"id\":\"19121\"}},\"id\":\"19125\",\"type\":\"CDSView\"},{\"attributes\":{\"data\":{\"fill_color\":[\"red\",\"green\",\"orange\",\"navy\",\"cyan\"],\"line_color\":[\"red\",\"green\",\"orange\",\"navy\",\"cyan\"],\"top\":[23,17,35,29,12],\"x\":[\"C\",\"C++\",\"Java\",\"Python\",\"PHP\"]},\"selected\":{\"id\":\"19913\"},\"selection_policy\":{\"id\":\"19912\"}},\"id\":\"19518\",\"type\":\"ColumnDataSource\"},{\"attributes\":{\"axis\":{\"id\":\"18535\"},\"ticker\":null},\"id\":\"18537\",\"type\":\"Grid\"},{\"attributes\":{\"fill_color\":{\"field\":\"fill_color\"},\"line_color\":{\"field\":\"line_color\"},\"top\":{\"field\":\"top\"},\"width\":{\"value\":0.5},\"x\":{\"field\":\"x\"}},\"id\":\"20164\",\"type\":\"VBar\"},{\"attributes\":{},\"id\":\"19513\",\"type\":\"UnionRenderers\"},{\"attributes\":{\"data_source\":{\"id\":\"18556\"},\"glyph\":{\"id\":\"18557\"},\"hover_glyph\":null,\"muted_glyph\":null,\"nonselection_glyph\":{\"id\":\"18558\"},\"selection_glyph\":null,\"view\":{\"id\":\"18560\"}},\"id\":\"18559\",\"type\":\"GlyphRenderer\"},{\"attributes\":{\"data\":{\"fill_color\":[\"blue\",\"pink\",\"brown\",\"crimson\",\"gray\"],\"line_color\":[\"blue\",\"pink\",\"brown\",\"crimson\",\"gray\"],\"top\":[23,17,35,29,12],\"x\":[\"C\",\"C++\",\"Java\",\"Python\",\"PHP\"]},\"selected\":{\"id\":\"20560\"},\"selection_policy\":{\"id\":\"20559\"}},\"id\":\"20163\",\"type\":\"ColumnDataSource\"},{\"attributes\":{\"source\":{\"id\":\"21579\"}},\"id\":\"21583\",\"type\":\"CDSView\"},{\"attributes\":{\"fill_color\":{\"field\":\"fill_color\"},\"height\":{\"value\":0.75},\"left\":{\"field\":\"left\"},\"line_color\":{\"field\":\"line_color\"},\"y\":{\"field\":\"y\"}},\"id\":\"22345\",\"type\":\"HBar\"},{\"attributes\":{\"data\":{\"top\":[23,17,35,29,12],\"x\":[\"C\",\"C++\",\"Java\",\"Python\",\"PHP\"]},\"selected\":{\"id\":\"18947\"},\"selection_policy\":{\"id\":\"18946\"}},\"id\":\"18556\",\"type\":\"ColumnDataSource\"},{\"attributes\":{},\"id\":\"21248\",\"type\":\"UnionRenderers\"},{\"attributes\":{\"data_source\":{\"id\":\"20163\"},\"glyph\":{\"id\":\"20164\"},\"hover_glyph\":null,\"muted_glyph\":null,\"nonselection_glyph\":{\"id\":\"20165\"},\"selection_glyph\":null,\"view\":{\"id\":\"20167\"}},\"id\":\"20166\",\"type\":\"GlyphRenderer\"},{\"attributes\":{},\"id\":\"18942\",\"type\":\"CategoricalTickFormatter\"},{\"attributes\":{\"source\":{\"id\":\"20163\"}},\"id\":\"20167\",\"type\":\"CDSView\"},{\"attributes\":{\"fill_alpha\":{\"value\":0.1},\"fill_color\":{\"field\":\"fill_color\"},\"left\":{\"field\":\"left\"},\"line_alpha\":{\"value\":0.1},\"line_color\":{\"field\":\"line_color\"},\"line_width\":{\"value\":0.5},\"y\":{\"field\":\"y\"}},\"id\":\"20852\",\"type\":\"HBar\"},{\"attributes\":{},\"id\":\"18547\",\"type\":\"HelpTool\"},{\"attributes\":{},\"id\":\"18542\",\"type\":\"PanTool\"},{\"attributes\":{\"bottom_units\":\"screen\",\"fill_alpha\":0.5,\"fill_color\":\"lightgrey\",\"left_units\":\"screen\",\"level\":\"overlay\",\"line_alpha\":1.0,\"line_color\":\"black\",\"line_dash\":[4,4],\"line_width\":2,\"render_mode\":\"css\",\"right_units\":\"screen\",\"top_units\":\"screen\"},\"id\":\"18548\",\"type\":\"BoxAnnotation\"},{\"attributes\":{\"data_source\":{\"id\":\"20850\"},\"glyph\":{\"id\":\"20851\"},\"hover_glyph\":null,\"muted_glyph\":null,\"nonselection_glyph\":{\"id\":\"20852\"},\"selection_glyph\":null,\"view\":{\"id\":\"20854\"}},\"id\":\"20853\",\"type\":\"GlyphRenderer\"},{\"attributes\":{\"fill_alpha\":{\"value\":0.1},\"fill_color\":{\"field\":\"fill_color\"},\"height\":{\"value\":0.75},\"left\":{\"field\":\"left\"},\"line_alpha\":{\"value\":0.1},\"line_color\":{\"field\":\"line_color\"},\"y\":{\"field\":\"y\"}},\"id\":\"22346\",\"type\":\"HBar\"},{\"attributes\":{},\"id\":\"20559\",\"type\":\"UnionRenderers\"},{\"attributes\":{\"data\":{\"fill_color\":[\"blue\",\"pink\",\"brown\",\"crimson\",\"gray\"],\"left\":[23,17,35,29,12],\"line_color\":[\"blue\",\"pink\",\"brown\",\"crimson\",\"gray\"],\"y\":[\"C\",\"C++\",\"Java\",\"Python\",\"PHP\"]},\"selected\":{\"id\":\"22747\"},\"selection_policy\":{\"id\":\"22746\"}},\"id\":\"22344\",\"type\":\"ColumnDataSource\"}],\"root_ids\":[\"18526\"]},\"title\":\"Bokeh Application\",\"version\":\"2.0.2\"}};\n",
       "  var render_items = [{\"docid\":\"7968c887-140f-424a-9c2d-3d9be6c45de9\",\"root_ids\":[\"18526\"],\"roots\":{\"18526\":\"3f56cd9c-778c-423e-bdd6-5c7562d437a6\"}}];\n",
       "  root.Bokeh.embed.embed_items_notebook(docs_json, render_items);\n",
       "\n",
       "  }\n",
       "  if (root.Bokeh !== undefined) {\n",
       "    embed_document(root);\n",
       "  } else {\n",
       "    var attempts = 0;\n",
       "    var timer = setInterval(function(root) {\n",
       "      if (root.Bokeh !== undefined) {\n",
       "        clearInterval(timer);\n",
       "        embed_document(root);\n",
       "      } else {\n",
       "        attempts++;\n",
       "        if (attempts > 100) {\n",
       "          clearInterval(timer);\n",
       "          console.log(\"Bokeh: ERROR: Unable to run BokehJS code because BokehJS library is missing\");\n",
       "        }\n",
       "      }\n",
       "    }, 10, root)\n",
       "  }\n",
       "})(window);"
      ],
      "application/vnd.bokehjs_exec.v0+json": ""
     },
     "metadata": {
      "application/vnd.bokehjs_exec.v0+json": {
       "id": "18526"
      }
     },
     "output_type": "display_data"
    }
   ],
   "source": [
    "axes.hbar(y = langs, left = students, color = ['blue', 'pink', 'brown', 'crimson', 'gray'],height=0.75)\n",
    "show(axes)"
   ]
  },
  {
   "cell_type": "code",
   "execution_count": 79,
   "metadata": {},
   "outputs": [
    {
     "data": {
      "text/html": [
       "\n",
       "\n",
       "\n",
       "\n",
       "\n",
       "\n",
       "  <div class=\"bk-root\" id=\"ec2210b9-b3e3-474b-822b-28b2ac11aa1c\" data-root-id=\"17982\"></div>\n"
      ]
     },
     "metadata": {},
     "output_type": "display_data"
    },
    {
     "data": {
      "application/javascript": [
       "(function(root) {\n",
       "  function embed_document(root) {\n",
       "    \n",
       "  var docs_json = {\"52d58ad3-8188-44cd-b8cb-ed2c24b0edfe\":{\"roots\":{\"references\":[{\"attributes\":{\"below\":[{\"id\":\"17993\"}],\"center\":[{\"id\":\"17995\"},{\"id\":\"17999\"},{\"id\":\"18011\"}],\"left\":[{\"id\":\"17996\"}],\"plot_height\":250,\"renderers\":[{\"id\":\"18004\"}],\"title\":{\"id\":\"17983\"},\"toolbar\":{\"id\":\"18000\"},\"toolbar_location\":null,\"x_range\":{\"id\":\"17985\"},\"x_scale\":{\"id\":\"17989\"},\"y_range\":{\"id\":\"17987\"},\"y_scale\":{\"id\":\"17991\"}},\"id\":\"17982\",\"subtype\":\"Figure\",\"type\":\"Plot\"},{\"attributes\":{\"text\":\"Fruit Counts\"},\"id\":\"17983\",\"type\":\"Title\"},{\"attributes\":{\"factors\":[\"Apples\",\"Pears\",\"Nectarines\",\"Plums\",\"Grapes\",\"Strawberries\"]},\"id\":\"17985\",\"type\":\"FactorRange\"},{\"attributes\":{},\"id\":\"17989\",\"type\":\"CategoricalScale\"},{\"attributes\":{\"end\":9},\"id\":\"17987\",\"type\":\"Range1d\"},{\"attributes\":{},\"id\":\"18390\",\"type\":\"UnionRenderers\"},{\"attributes\":{\"fill_alpha\":{\"value\":0.1},\"fill_color\":{\"field\":\"color\"},\"line_alpha\":{\"value\":0.1},\"line_color\":{\"field\":\"color\"},\"top\":{\"field\":\"counts\"},\"width\":{\"value\":0.9},\"x\":{\"field\":\"fruits\"}},\"id\":\"18003\",\"type\":\"VBar\"},{\"attributes\":{},\"id\":\"18007\",\"type\":\"CategoricalTickFormatter\"},{\"attributes\":{\"formatter\":{\"id\":\"18007\"},\"ticker\":{\"id\":\"17994\"}},\"id\":\"17993\",\"type\":\"CategoricalAxis\"},{\"attributes\":{\"source\":{\"id\":\"17981\"}},\"id\":\"18005\",\"type\":\"CDSView\"},{\"attributes\":{},\"id\":\"17997\",\"type\":\"BasicTicker\"},{\"attributes\":{},\"id\":\"17991\",\"type\":\"LinearScale\"},{\"attributes\":{},\"id\":\"17994\",\"type\":\"CategoricalTicker\"},{\"attributes\":{\"axis\":{\"id\":\"17993\"},\"grid_line_color\":null,\"ticker\":null},\"id\":\"17995\",\"type\":\"Grid\"},{\"attributes\":{\"data_source\":{\"id\":\"17981\"},\"glyph\":{\"id\":\"18002\"},\"hover_glyph\":null,\"muted_glyph\":null,\"nonselection_glyph\":{\"id\":\"18003\"},\"selection_glyph\":null,\"view\":{\"id\":\"18005\"}},\"id\":\"18004\",\"type\":\"GlyphRenderer\"},{\"attributes\":{\"active_drag\":\"auto\",\"active_inspect\":\"auto\",\"active_multi\":null,\"active_scroll\":\"auto\",\"active_tap\":\"auto\"},\"id\":\"18000\",\"type\":\"Toolbar\"},{\"attributes\":{\"axis\":{\"id\":\"17996\"},\"dimension\":1,\"ticker\":null},\"id\":\"17999\",\"type\":\"Grid\"},{\"attributes\":{\"formatter\":{\"id\":\"18009\"},\"ticker\":{\"id\":\"17997\"}},\"id\":\"17996\",\"type\":\"LinearAxis\"},{\"attributes\":{\"data\":{\"color\":[\"#3288bd\",\"#99d594\",\"#e6f598\",\"#fee08b\",\"#fc8d59\",\"#d53e4f\"],\"counts\":[5,3,4,2,4,6],\"fruits\":[\"Apples\",\"Pears\",\"Nectarines\",\"Plums\",\"Grapes\",\"Strawberries\"]},\"selected\":{\"id\":\"18391\"},\"selection_policy\":{\"id\":\"18390\"}},\"id\":\"17981\",\"type\":\"ColumnDataSource\"},{\"attributes\":{\"items\":[{\"id\":\"18012\"}],\"location\":\"top_center\",\"orientation\":\"horizontal\"},\"id\":\"18011\",\"type\":\"Legend\"},{\"attributes\":{},\"id\":\"18009\",\"type\":\"BasicTickFormatter\"},{\"attributes\":{\"label\":{\"field\":\"fruits\"},\"renderers\":[{\"id\":\"18004\"}]},\"id\":\"18012\",\"type\":\"LegendItem\"},{\"attributes\":{},\"id\":\"18391\",\"type\":\"Selection\"},{\"attributes\":{\"fill_color\":{\"field\":\"color\"},\"line_color\":{\"field\":\"color\"},\"top\":{\"field\":\"counts\"},\"width\":{\"value\":0.9},\"x\":{\"field\":\"fruits\"}},\"id\":\"18002\",\"type\":\"VBar\"}],\"root_ids\":[\"17982\"]},\"title\":\"Bokeh Application\",\"version\":\"2.0.2\"}};\n",
       "  var render_items = [{\"docid\":\"52d58ad3-8188-44cd-b8cb-ed2c24b0edfe\",\"root_ids\":[\"17982\"],\"roots\":{\"17982\":\"ec2210b9-b3e3-474b-822b-28b2ac11aa1c\"}}];\n",
       "  root.Bokeh.embed.embed_items_notebook(docs_json, render_items);\n",
       "\n",
       "  }\n",
       "  if (root.Bokeh !== undefined) {\n",
       "    embed_document(root);\n",
       "  } else {\n",
       "    var attempts = 0;\n",
       "    var timer = setInterval(function(root) {\n",
       "      if (root.Bokeh !== undefined) {\n",
       "        clearInterval(timer);\n",
       "        embed_document(root);\n",
       "      } else {\n",
       "        attempts++;\n",
       "        if (attempts > 100) {\n",
       "          clearInterval(timer);\n",
       "          console.log(\"Bokeh: ERROR: Unable to run BokehJS code because BokehJS library is missing\");\n",
       "        }\n",
       "      }\n",
       "    }, 10, root)\n",
       "  }\n",
       "})(window);"
      ],
      "application/vnd.bokehjs_exec.v0+json": ""
     },
     "metadata": {
      "application/vnd.bokehjs_exec.v0+json": {
       "id": "17982"
      }
     },
     "output_type": "display_data"
    }
   ],
   "source": [
    "from bokeh.io import output_file, show\n",
    "from bokeh.models import ColumnDataSource\n",
    "from bokeh.palettes import Spectral6\n",
    "from bokeh.plotting import figure\n",
    "\n",
    "output_file(\"colormapped_bars.html\")\n",
    "\n",
    "fruits = ['Apples', 'Pears', 'Nectarines', 'Plums', 'Grapes', 'Strawberries']\n",
    "counts = [5, 3, 4, 2, 4, 6]\n",
    "\n",
    "source = ColumnDataSource(data=dict(fruits=fruits, counts=counts, color=Spectral6))\n",
    "\n",
    "p = figure(x_range=fruits, y_range=(0,9), plot_height=250, title=\"Fruit Counts\",\n",
    "           toolbar_location=None, tools=\"\")\n",
    "\n",
    "p.vbar(x='fruits', top='counts', width=0.9, color='color', legend_field=\"fruits\", source=source)\n",
    "\n",
    "p.xgrid.grid_line_color = None\n",
    "p.legend.orientation = \"horizontal\"\n",
    "p.legend.location = \"top_center\"\n",
    "\n",
    "show(p)"
   ]
  },
  {
   "cell_type": "markdown",
   "metadata": {},
   "source": [
    "### Stacked bars\n",
    "\n"
   ]
  },
  {
   "cell_type": "markdown",
   "metadata": {},
   "source": [
    "To render a vertical (or horizontal) stacked bar using vbar_stack() or hbar_stack() function, set stackers property to list of fields to stack successively and source property to a dict object containing values corresponding to each field.\n",
    "\n",
    "In following example, sales is a dictionary showing sales figures of three products in three months."
   ]
  },
  {
   "cell_type": "markdown",
   "metadata": {},
   "source": [
    "#### vbar_stack()"
   ]
  },
  {
   "cell_type": "code",
   "execution_count": 178,
   "metadata": {},
   "outputs": [
    {
     "data": {
      "text/html": [
       "\n",
       "\n",
       "\n",
       "\n",
       "\n",
       "\n",
       "  <div class=\"bk-root\" id=\"3cec2ebc-ecf4-4c81-8631-0dc658a62a79\" data-root-id=\"30806\"></div>\n"
      ]
     },
     "metadata": {},
     "output_type": "display_data"
    },
    {
     "data": {
      "application/javascript": [
       "(function(root) {\n",
       "  function embed_document(root) {\n",
       "    \n",
       "  var docs_json = {\"b7262345-053f-4036-9457-1f398e33916a\":{\"roots\":{\"references\":[{\"attributes\":{\"below\":[{\"id\":\"30815\"}],\"center\":[{\"id\":\"30817\"},{\"id\":\"30821\"}],\"left\":[{\"id\":\"30818\"}],\"plot_height\":300,\"plot_width\":300,\"renderers\":[{\"id\":\"30846\"},{\"id\":\"30852\"},{\"id\":\"30858\"}],\"title\":{\"id\":\"31392\"},\"toolbar\":{\"id\":\"30829\"},\"x_range\":{\"id\":\"30807\"},\"x_scale\":{\"id\":\"30811\"},\"y_range\":{\"id\":\"30809\"},\"y_scale\":{\"id\":\"30813\"}},\"id\":\"30806\",\"subtype\":\"Figure\",\"type\":\"Plot\"},{\"attributes\":{},\"id\":\"31397\",\"type\":\"UnionRenderers\"},{\"attributes\":{\"fields\":[\"Jan\"]},\"id\":\"30838\",\"type\":\"Stack\"},{\"attributes\":{\"axis\":{\"id\":\"30815\"},\"ticker\":null},\"id\":\"30817\",\"type\":\"Grid\"},{\"attributes\":{\"active_drag\":\"auto\",\"active_inspect\":\"auto\",\"active_multi\":null,\"active_scroll\":\"auto\",\"active_tap\":\"auto\",\"tools\":[{\"id\":\"30822\"},{\"id\":\"30823\"},{\"id\":\"30824\"},{\"id\":\"30825\"},{\"id\":\"30826\"},{\"id\":\"30827\"}]},\"id\":\"30829\",\"type\":\"Toolbar\"},{\"attributes\":{\"bottom\":{\"expr\":{\"id\":\"30838\"}},\"fill_color\":{\"value\":\"green\"},\"line_color\":{\"value\":\"green\"},\"top\":{\"expr\":{\"id\":\"30839\"}},\"width\":{\"value\":0.5},\"x\":{\"field\":\"products\"}},\"id\":\"30850\",\"type\":\"VBar\"},{\"attributes\":{\"formatter\":{\"id\":\"31395\"},\"ticker\":{\"id\":\"30819\"}},\"id\":\"30818\",\"type\":\"LinearAxis\"},{\"attributes\":{\"fields\":[\"Jan\"]},\"id\":\"30837\",\"type\":\"Stack\"},{\"attributes\":{\"fields\":[\"Jan\",\"Feb\"]},\"id\":\"30840\",\"type\":\"Stack\"},{\"attributes\":{\"fields\":[]},\"id\":\"30836\",\"type\":\"Stack\"},{\"attributes\":{},\"id\":\"31395\",\"type\":\"BasicTickFormatter\"},{\"attributes\":{},\"id\":\"30826\",\"type\":\"ResetTool\"},{\"attributes\":{},\"id\":\"30811\",\"type\":\"CategoricalScale\"},{\"attributes\":{},\"id\":\"30827\",\"type\":\"HelpTool\"},{\"attributes\":{},\"id\":\"30809\",\"type\":\"DataRange1d\"},{\"attributes\":{},\"id\":\"30825\",\"type\":\"SaveTool\"},{\"attributes\":{\"factors\":[\"computer\",\"mobile\",\"printer\"]},\"id\":\"30807\",\"type\":\"FactorRange\"},{\"attributes\":{\"data\":{\"Feb\":[8,45,10],\"Jan\":[10,40,5],\"Mar\":[25,60,22],\"products\":[\"computer\",\"mobile\",\"printer\"]},\"selected\":{\"id\":\"31398\"},\"selection_policy\":{\"id\":\"31397\"}},\"id\":\"30842\",\"type\":\"ColumnDataSource\"},{\"attributes\":{},\"id\":\"31393\",\"type\":\"CategoricalTickFormatter\"},{\"attributes\":{\"source\":{\"id\":\"30842\"}},\"id\":\"30847\",\"type\":\"CDSView\"},{\"attributes\":{\"fields\":[\"Jan\",\"Feb\",\"Mar\"]},\"id\":\"30841\",\"type\":\"Stack\"},{\"attributes\":{},\"id\":\"30822\",\"type\":\"PanTool\"},{\"attributes\":{\"bottom\":{\"expr\":{\"id\":\"30840\"}},\"fill_alpha\":{\"value\":0.1},\"fill_color\":{\"value\":\"blue\"},\"line_alpha\":{\"value\":0.1},\"line_color\":{\"value\":\"blue\"},\"top\":{\"expr\":{\"id\":\"30841\"}},\"width\":{\"value\":0.5},\"x\":{\"field\":\"products\"}},\"id\":\"30857\",\"type\":\"VBar\"},{\"attributes\":{\"axis\":{\"id\":\"30818\"},\"dimension\":1,\"ticker\":null},\"id\":\"30821\",\"type\":\"Grid\"},{\"attributes\":{\"bottom\":{\"expr\":{\"id\":\"30836\"}},\"fill_color\":{\"value\":\"red\"},\"line_color\":{\"value\":\"red\"},\"top\":{\"expr\":{\"id\":\"30837\"}},\"width\":{\"value\":0.5},\"x\":{\"field\":\"products\"}},\"id\":\"30844\",\"type\":\"VBar\"},{\"attributes\":{\"data\":{\"Feb\":[8,45,10],\"Jan\":[10,40,5],\"Mar\":[25,60,22],\"products\":[\"computer\",\"mobile\",\"printer\"]},\"selected\":{\"id\":\"31400\"},\"selection_policy\":{\"id\":\"31399\"}},\"id\":\"30848\",\"type\":\"ColumnDataSource\"},{\"attributes\":{\"bottom\":{\"expr\":{\"id\":\"30840\"}},\"fill_color\":{\"value\":\"blue\"},\"line_color\":{\"value\":\"blue\"},\"top\":{\"expr\":{\"id\":\"30841\"}},\"width\":{\"value\":0.5},\"x\":{\"field\":\"products\"}},\"id\":\"30856\",\"type\":\"VBar\"},{\"attributes\":{},\"id\":\"31400\",\"type\":\"Selection\"},{\"attributes\":{\"data_source\":{\"id\":\"30842\"},\"glyph\":{\"id\":\"30844\"},\"hover_glyph\":null,\"muted_glyph\":null,\"name\":\"Jan\",\"nonselection_glyph\":{\"id\":\"30845\"},\"selection_glyph\":null,\"view\":{\"id\":\"30847\"}},\"id\":\"30846\",\"type\":\"GlyphRenderer\"},{\"attributes\":{\"data_source\":{\"id\":\"30854\"},\"glyph\":{\"id\":\"30856\"},\"hover_glyph\":null,\"muted_glyph\":null,\"name\":\"Mar\",\"nonselection_glyph\":{\"id\":\"30857\"},\"selection_glyph\":null,\"view\":{\"id\":\"30859\"}},\"id\":\"30858\",\"type\":\"GlyphRenderer\"},{\"attributes\":{},\"id\":\"30819\",\"type\":\"BasicTicker\"},{\"attributes\":{},\"id\":\"31398\",\"type\":\"Selection\"},{\"attributes\":{},\"id\":\"31401\",\"type\":\"UnionRenderers\"},{\"attributes\":{\"bottom\":{\"expr\":{\"id\":\"30836\"}},\"fill_alpha\":{\"value\":0.1},\"fill_color\":{\"value\":\"red\"},\"line_alpha\":{\"value\":0.1},\"line_color\":{\"value\":\"red\"},\"top\":{\"expr\":{\"id\":\"30837\"}},\"width\":{\"value\":0.5},\"x\":{\"field\":\"products\"}},\"id\":\"30845\",\"type\":\"VBar\"},{\"attributes\":{\"source\":{\"id\":\"30848\"}},\"id\":\"30853\",\"type\":\"CDSView\"},{\"attributes\":{\"text\":\"\"},\"id\":\"31392\",\"type\":\"Title\"},{\"attributes\":{\"data\":{\"Feb\":[8,45,10],\"Jan\":[10,40,5],\"Mar\":[25,60,22],\"products\":[\"computer\",\"mobile\",\"printer\"]},\"selected\":{\"id\":\"31402\"},\"selection_policy\":{\"id\":\"31401\"}},\"id\":\"30854\",\"type\":\"ColumnDataSource\"},{\"attributes\":{},\"id\":\"30813\",\"type\":\"LinearScale\"},{\"attributes\":{\"bottom\":{\"expr\":{\"id\":\"30838\"}},\"fill_alpha\":{\"value\":0.1},\"fill_color\":{\"value\":\"green\"},\"line_alpha\":{\"value\":0.1},\"line_color\":{\"value\":\"green\"},\"top\":{\"expr\":{\"id\":\"30839\"}},\"width\":{\"value\":0.5},\"x\":{\"field\":\"products\"}},\"id\":\"30851\",\"type\":\"VBar\"},{\"attributes\":{},\"id\":\"31402\",\"type\":\"Selection\"},{\"attributes\":{\"formatter\":{\"id\":\"31393\"},\"ticker\":{\"id\":\"30816\"}},\"id\":\"30815\",\"type\":\"CategoricalAxis\"},{\"attributes\":{\"overlay\":{\"id\":\"30828\"}},\"id\":\"30824\",\"type\":\"BoxZoomTool\"},{\"attributes\":{\"bottom_units\":\"screen\",\"fill_alpha\":0.5,\"fill_color\":\"lightgrey\",\"left_units\":\"screen\",\"level\":\"overlay\",\"line_alpha\":1.0,\"line_color\":\"black\",\"line_dash\":[4,4],\"line_width\":2,\"render_mode\":\"css\",\"right_units\":\"screen\",\"top_units\":\"screen\"},\"id\":\"30828\",\"type\":\"BoxAnnotation\"},{\"attributes\":{\"data_source\":{\"id\":\"30848\"},\"glyph\":{\"id\":\"30850\"},\"hover_glyph\":null,\"muted_glyph\":null,\"name\":\"Feb\",\"nonselection_glyph\":{\"id\":\"30851\"},\"selection_glyph\":null,\"view\":{\"id\":\"30853\"}},\"id\":\"30852\",\"type\":\"GlyphRenderer\"},{\"attributes\":{},\"id\":\"30816\",\"type\":\"CategoricalTicker\"},{\"attributes\":{\"source\":{\"id\":\"30854\"}},\"id\":\"30859\",\"type\":\"CDSView\"},{\"attributes\":{\"fields\":[\"Jan\",\"Feb\"]},\"id\":\"30839\",\"type\":\"Stack\"},{\"attributes\":{},\"id\":\"30823\",\"type\":\"WheelZoomTool\"},{\"attributes\":{},\"id\":\"31399\",\"type\":\"UnionRenderers\"}],\"root_ids\":[\"30806\"]},\"title\":\"Bokeh Application\",\"version\":\"2.0.2\"}};\n",
       "  var render_items = [{\"docid\":\"b7262345-053f-4036-9457-1f398e33916a\",\"root_ids\":[\"30806\"],\"roots\":{\"30806\":\"3cec2ebc-ecf4-4c81-8631-0dc658a62a79\"}}];\n",
       "  root.Bokeh.embed.embed_items_notebook(docs_json, render_items);\n",
       "\n",
       "  }\n",
       "  if (root.Bokeh !== undefined) {\n",
       "    embed_document(root);\n",
       "  } else {\n",
       "    var attempts = 0;\n",
       "    var timer = setInterval(function(root) {\n",
       "      if (root.Bokeh !== undefined) {\n",
       "        clearInterval(timer);\n",
       "        embed_document(root);\n",
       "      } else {\n",
       "        attempts++;\n",
       "        if (attempts > 100) {\n",
       "          clearInterval(timer);\n",
       "          console.log(\"Bokeh: ERROR: Unable to run BokehJS code because BokehJS library is missing\");\n",
       "        }\n",
       "      }\n",
       "    }, 10, root)\n",
       "  }\n",
       "})(window);"
      ],
      "application/vnd.bokehjs_exec.v0+json": ""
     },
     "metadata": {
      "application/vnd.bokehjs_exec.v0+json": {
       "id": "30806"
      }
     },
     "output_type": "display_data"
    }
   ],
   "source": [
    "from bokeh.plotting import figure, output_file, show\n",
    "products = ['computer','mobile','printer']\n",
    "months = ['Jan','Feb','Mar']\n",
    "sales = {'products':products,\n",
    "   'Jan':[10,40,5],\n",
    "   'Feb':[8,45,10],\n",
    "   'Mar':[25,60,22]}\n",
    "cols = ['red','green','blue']#,'navy', 'cyan']\n",
    "v_stack = figure(x_range = products, plot_width = 300, plot_height = 300)\n",
    "v_stack.vbar_stack(months, x = 'products', source = sales, color = cols,width = 0.5)\n",
    "show(v_stack)"
   ]
  },
  {
   "cell_type": "code",
   "execution_count": 166,
   "metadata": {},
   "outputs": [
    {
     "data": {
      "text/html": [
       "<div>\n",
       "<style scoped>\n",
       "    .dataframe tbody tr th:only-of-type {\n",
       "        vertical-align: middle;\n",
       "    }\n",
       "\n",
       "    .dataframe tbody tr th {\n",
       "        vertical-align: top;\n",
       "    }\n",
       "\n",
       "    .dataframe thead th {\n",
       "        text-align: right;\n",
       "    }\n",
       "</style>\n",
       "<table border=\"1\" class=\"dataframe\">\n",
       "  <thead>\n",
       "    <tr style=\"text-align: right;\">\n",
       "      <th></th>\n",
       "      <th>Acceleration</th>\n",
       "      <th>Cylinders</th>\n",
       "      <th>Displacement</th>\n",
       "      <th>Horsepower</th>\n",
       "      <th>Manufacturer</th>\n",
       "    </tr>\n",
       "  </thead>\n",
       "  <tbody>\n",
       "    <tr>\n",
       "      <th>0</th>\n",
       "      <td>12.0</td>\n",
       "      <td>8</td>\n",
       "      <td>307</td>\n",
       "      <td>130</td>\n",
       "      <td>chevrolet</td>\n",
       "    </tr>\n",
       "    <tr>\n",
       "      <th>1</th>\n",
       "      <td>11.5</td>\n",
       "      <td>8</td>\n",
       "      <td>350</td>\n",
       "      <td>165</td>\n",
       "      <td>buick</td>\n",
       "    </tr>\n",
       "    <tr>\n",
       "      <th>2</th>\n",
       "      <td>11.0</td>\n",
       "      <td>8</td>\n",
       "      <td>318</td>\n",
       "      <td>150</td>\n",
       "      <td>plymouth</td>\n",
       "    </tr>\n",
       "    <tr>\n",
       "      <th>3</th>\n",
       "      <td>12.0</td>\n",
       "      <td>8</td>\n",
       "      <td>304</td>\n",
       "      <td>150</td>\n",
       "      <td>amc</td>\n",
       "    </tr>\n",
       "    <tr>\n",
       "      <th>4</th>\n",
       "      <td>10.5</td>\n",
       "      <td>8</td>\n",
       "      <td>302</td>\n",
       "      <td>140</td>\n",
       "      <td>ford</td>\n",
       "    </tr>\n",
       "  </tbody>\n",
       "</table>\n",
       "</div>"
      ],
      "text/plain": [
       "   Acceleration  Cylinders  Displacement  Horsepower   Manufacturer\n",
       "0          12.0          8           307         130  chevrolet    \n",
       "1          11.5          8           350         165  buick        \n",
       "2          11.0          8           318         150  plymouth     \n",
       "3          12.0          8           304         150  amc          \n",
       "4          10.5          8           302         140  ford         "
      ]
     },
     "execution_count": 166,
     "metadata": {},
     "output_type": "execute_result"
    }
   ],
   "source": [
    "cars_1=cars.iloc[:5, :5]\n",
    "cars_1"
   ]
  },
  {
   "cell_type": "markdown",
   "metadata": {},
   "source": [
    "A grouped bar plot is obtained by specifying a visual displacement for the bars with the help of dodge() function in bokeh.transform module.\n",
    "\n",
    "The dodge() function introduces a relative offset for each bar plot thereby achieving a visual impression of group. In following example, vbar() glyph is separated by an offset of 0.25 for each group of bars for a particular month."
   ]
  },
  {
   "cell_type": "code",
   "execution_count": 190,
   "metadata": {},
   "outputs": [
    {
     "data": {
      "text/html": [
       "\n",
       "\n",
       "\n",
       "\n",
       "\n",
       "\n",
       "  <div class=\"bk-root\" id=\"6c3f6a12-30dc-4fca-aea2-875edf24810d\" data-root-id=\"34234\"></div>\n"
      ]
     },
     "metadata": {},
     "output_type": "display_data"
    },
    {
     "data": {
      "application/javascript": [
       "(function(root) {\n",
       "  function embed_document(root) {\n",
       "    \n",
       "  var docs_json = {\"2956cd9c-3af5-46f0-8e8c-7621601d8e3d\":{\"roots\":{\"references\":[{\"attributes\":{\"below\":[{\"id\":\"34243\"}],\"center\":[{\"id\":\"34245\"},{\"id\":\"34249\"}],\"left\":[{\"id\":\"34246\"}],\"plot_height\":300,\"plot_width\":300,\"renderers\":[{\"id\":\"34268\"},{\"id\":\"34274\"},{\"id\":\"34280\"}],\"title\":{\"id\":\"34854\"},\"toolbar\":{\"id\":\"34257\"},\"x_range\":{\"id\":\"34235\"},\"x_scale\":{\"id\":\"34239\"},\"y_range\":{\"id\":\"34237\"},\"y_scale\":{\"id\":\"34241\"}},\"id\":\"34234\",\"subtype\":\"Figure\",\"type\":\"Plot\"},{\"attributes\":{\"fill_color\":{\"value\":\"red\"},\"line_color\":{\"value\":\"red\"},\"top\":{\"field\":\"Jan\"},\"width\":{\"value\":0.2},\"x\":{\"field\":\"products\",\"transform\":{\"id\":\"34264\"}}},\"id\":\"34266\",\"type\":\"VBar\"},{\"attributes\":{},\"id\":\"34250\",\"type\":\"PanTool\"},{\"attributes\":{\"data\":{\"Feb\":[8,45,10],\"Jan\":[10,40,5],\"Mar\":[25,60,22],\"products\":[\"computer\",\"mobile\",\"printer\"]},\"selected\":{\"id\":\"34860\"},\"selection_policy\":{\"id\":\"34859\"}},\"id\":\"34233\",\"type\":\"ColumnDataSource\"},{\"attributes\":{\"formatter\":{\"id\":\"34857\"},\"ticker\":{\"id\":\"34247\"}},\"id\":\"34246\",\"type\":\"LinearAxis\"},{\"attributes\":{\"range\":{\"id\":\"34235\"}},\"id\":\"34270\",\"type\":\"Dodge\"},{\"attributes\":{\"range\":{\"id\":\"34235\"},\"value\":-0.25},\"id\":\"34264\",\"type\":\"Dodge\"},{\"attributes\":{},\"id\":\"34860\",\"type\":\"Selection\"},{\"attributes\":{\"source\":{\"id\":\"34233\"}},\"id\":\"34269\",\"type\":\"CDSView\"},{\"attributes\":{\"fill_alpha\":{\"value\":0.1},\"fill_color\":{\"value\":\"green\"},\"line_alpha\":{\"value\":0.1},\"line_color\":{\"value\":\"green\"},\"top\":{\"field\":\"Feb\"},\"width\":{\"value\":0.2},\"x\":{\"field\":\"products\",\"transform\":{\"id\":\"34270\"}}},\"id\":\"34273\",\"type\":\"VBar\"},{\"attributes\":{\"factors\":[\"computer\",\"mobile\",\"printer\"],\"range_padding\":0.1},\"id\":\"34235\",\"type\":\"FactorRange\"},{\"attributes\":{},\"id\":\"34237\",\"type\":\"DataRange1d\"},{\"attributes\":{\"source\":{\"id\":\"34233\"}},\"id\":\"34275\",\"type\":\"CDSView\"},{\"attributes\":{\"axis\":{\"id\":\"34246\"},\"dimension\":1,\"ticker\":null},\"id\":\"34249\",\"type\":\"Grid\"},{\"attributes\":{\"bottom_units\":\"screen\",\"fill_alpha\":0.5,\"fill_color\":\"lightgrey\",\"left_units\":\"screen\",\"level\":\"overlay\",\"line_alpha\":1.0,\"line_color\":\"black\",\"line_dash\":[4,4],\"line_width\":2,\"render_mode\":\"css\",\"right_units\":\"screen\",\"top_units\":\"screen\"},\"id\":\"34256\",\"type\":\"BoxAnnotation\"},{\"attributes\":{},\"id\":\"34857\",\"type\":\"BasicTickFormatter\"},{\"attributes\":{},\"id\":\"34855\",\"type\":\"CategoricalTickFormatter\"},{\"attributes\":{},\"id\":\"34253\",\"type\":\"SaveTool\"},{\"attributes\":{\"fill_color\":{\"value\":\"blue\"},\"line_color\":{\"value\":\"blue\"},\"top\":{\"field\":\"Mar\"},\"width\":{\"value\":0.2},\"x\":{\"field\":\"products\",\"transform\":{\"id\":\"34276\"}}},\"id\":\"34278\",\"type\":\"VBar\"},{\"attributes\":{\"active_drag\":\"auto\",\"active_inspect\":\"auto\",\"active_multi\":null,\"active_scroll\":\"auto\",\"active_tap\":\"auto\",\"tools\":[{\"id\":\"34250\"},{\"id\":\"34251\"},{\"id\":\"34252\"},{\"id\":\"34253\"},{\"id\":\"34254\"},{\"id\":\"34255\"}]},\"id\":\"34257\",\"type\":\"Toolbar\"},{\"attributes\":{},\"id\":\"34244\",\"type\":\"CategoricalTicker\"},{\"attributes\":{\"fill_alpha\":{\"value\":0.1},\"fill_color\":{\"value\":\"blue\"},\"line_alpha\":{\"value\":0.1},\"line_color\":{\"value\":\"blue\"},\"top\":{\"field\":\"Mar\"},\"width\":{\"value\":0.2},\"x\":{\"field\":\"products\",\"transform\":{\"id\":\"34276\"}}},\"id\":\"34279\",\"type\":\"VBar\"},{\"attributes\":{},\"id\":\"34239\",\"type\":\"CategoricalScale\"},{\"attributes\":{\"overlay\":{\"id\":\"34256\"}},\"id\":\"34252\",\"type\":\"BoxZoomTool\"},{\"attributes\":{\"fill_alpha\":{\"value\":0.1},\"fill_color\":{\"value\":\"red\"},\"line_alpha\":{\"value\":0.1},\"line_color\":{\"value\":\"red\"},\"top\":{\"field\":\"Jan\"},\"width\":{\"value\":0.2},\"x\":{\"field\":\"products\",\"transform\":{\"id\":\"34264\"}}},\"id\":\"34267\",\"type\":\"VBar\"},{\"attributes\":{},\"id\":\"34254\",\"type\":\"ResetTool\"},{\"attributes\":{},\"id\":\"34859\",\"type\":\"UnionRenderers\"},{\"attributes\":{},\"id\":\"34247\",\"type\":\"BasicTicker\"},{\"attributes\":{\"range\":{\"id\":\"34235\"},\"value\":0.25},\"id\":\"34276\",\"type\":\"Dodge\"},{\"attributes\":{\"formatter\":{\"id\":\"34855\"},\"ticker\":{\"id\":\"34244\"}},\"id\":\"34243\",\"type\":\"CategoricalAxis\"},{\"attributes\":{\"axis\":{\"id\":\"34243\"},\"ticker\":null},\"id\":\"34245\",\"type\":\"Grid\"},{\"attributes\":{\"fill_color\":{\"value\":\"green\"},\"line_color\":{\"value\":\"green\"},\"top\":{\"field\":\"Feb\"},\"width\":{\"value\":0.2},\"x\":{\"field\":\"products\",\"transform\":{\"id\":\"34270\"}}},\"id\":\"34272\",\"type\":\"VBar\"},{\"attributes\":{\"source\":{\"id\":\"34233\"}},\"id\":\"34281\",\"type\":\"CDSView\"},{\"attributes\":{\"data_source\":{\"id\":\"34233\"},\"glyph\":{\"id\":\"34272\"},\"hover_glyph\":null,\"muted_glyph\":null,\"nonselection_glyph\":{\"id\":\"34273\"},\"selection_glyph\":null,\"view\":{\"id\":\"34275\"}},\"id\":\"34274\",\"type\":\"GlyphRenderer\"},{\"attributes\":{},\"id\":\"34241\",\"type\":\"LinearScale\"},{\"attributes\":{},\"id\":\"34251\",\"type\":\"WheelZoomTool\"},{\"attributes\":{\"data_source\":{\"id\":\"34233\"},\"glyph\":{\"id\":\"34266\"},\"hover_glyph\":null,\"muted_glyph\":null,\"nonselection_glyph\":{\"id\":\"34267\"},\"selection_glyph\":null,\"view\":{\"id\":\"34269\"}},\"id\":\"34268\",\"type\":\"GlyphRenderer\"},{\"attributes\":{},\"id\":\"34255\",\"type\":\"HelpTool\"},{\"attributes\":{\"data_source\":{\"id\":\"34233\"},\"glyph\":{\"id\":\"34278\"},\"hover_glyph\":null,\"muted_glyph\":null,\"nonselection_glyph\":{\"id\":\"34279\"},\"selection_glyph\":null,\"view\":{\"id\":\"34281\"}},\"id\":\"34280\",\"type\":\"GlyphRenderer\"},{\"attributes\":{\"text\":\"\"},\"id\":\"34854\",\"type\":\"Title\"}],\"root_ids\":[\"34234\"]},\"title\":\"Bokeh Application\",\"version\":\"2.0.2\"}};\n",
       "  var render_items = [{\"docid\":\"2956cd9c-3af5-46f0-8e8c-7621601d8e3d\",\"root_ids\":[\"34234\"],\"roots\":{\"34234\":\"6c3f6a12-30dc-4fca-aea2-875edf24810d\"}}];\n",
       "  root.Bokeh.embed.embed_items_notebook(docs_json, render_items);\n",
       "\n",
       "  }\n",
       "  if (root.Bokeh !== undefined) {\n",
       "    embed_document(root);\n",
       "  } else {\n",
       "    var attempts = 0;\n",
       "    var timer = setInterval(function(root) {\n",
       "      if (root.Bokeh !== undefined) {\n",
       "        clearInterval(timer);\n",
       "        embed_document(root);\n",
       "      } else {\n",
       "        attempts++;\n",
       "        if (attempts > 100) {\n",
       "          clearInterval(timer);\n",
       "          console.log(\"Bokeh: ERROR: Unable to run BokehJS code because BokehJS library is missing\");\n",
       "        }\n",
       "      }\n",
       "    }, 10, root)\n",
       "  }\n",
       "})(window);"
      ],
      "application/vnd.bokehjs_exec.v0+json": ""
     },
     "metadata": {
      "application/vnd.bokehjs_exec.v0+json": {
       "id": "34234"
      }
     },
     "output_type": "display_data"
    }
   ],
   "source": [
    "from bokeh.plotting import figure, output_file, show\n",
    "from bokeh.transform import dodge\n",
    "\n",
    "\n",
    "products = ['computer','mobile','printer']\n",
    "months = ['Jan','Feb','Mar']\n",
    "sales = {'products':products,'Jan':[10,40,5], 'Feb':[8,45,10],'Mar':[25,60,22]}\n",
    "source=ColumnDataSource(data=sales)\n",
    "dod = figure(x_range = products, plot_width = 300, plot_height = 300)\n",
    "\n",
    "dod.vbar(x = dodge('products', -0.25, range = dod.x_range), top = 'Jan',width = 0.2,source = source, color = \"red\")\n",
    "dod.vbar(x = dodge('products', 0.0, range = dod.x_range), top = 'Feb',width = 0.2, source = source,color = \"green\")\n",
    "dod.vbar(x = dodge('products', 0.25, range = dod.x_range), top = 'Mar',width = 0.2,source = source,color = \"blue\")\n",
    "dod.x_range.range_padding=0.1\n",
    "show(dod)"
   ]
  },
  {
   "cell_type": "markdown",
   "metadata": {},
   "source": [
    "### Log Scale Axes\n",
    "When values on one of the axes of a plot grow exponentially with linearly increasing values of another, it is often necessary to have the data on former axis be displayed on a log scale. For example, if there exists a power law relationship between x and y data series, it is desirable to use log scales on both axes.\n",
    "\n",
    "Bokeh.plotting API's figure() function accepts x_axis_type and y_axis_type as arguments which may be specified as log axis by passing \"log\" for the value of either of these parameters.\n",
    "\n",
    "First figure shows plot between x and 10x on a linear scale. In second figure y_axis_type is set to 'log'"
   ]
  },
  {
   "cell_type": "code",
   "execution_count": 191,
   "metadata": {},
   "outputs": [
    {
     "data": {
      "text/html": [
       "\n",
       "\n",
       "\n",
       "\n",
       "\n",
       "\n",
       "  <div class=\"bk-root\" id=\"d63ceb35-df8e-4a4a-85e7-447c480c612a\" data-root-id=\"35034\"></div>\n"
      ]
     },
     "metadata": {},
     "output_type": "display_data"
    },
    {
     "data": {
      "application/javascript": [
       "(function(root) {\n",
       "  function embed_document(root) {\n",
       "    \n",
       "  var docs_json = {\"2e9f1ecb-2a04-4cf2-a670-fbc6544bbce6\":{\"roots\":{\"references\":[{\"attributes\":{\"below\":[{\"id\":\"35045\"}],\"center\":[{\"id\":\"35048\"},{\"id\":\"35052\"}],\"left\":[{\"id\":\"35049\"}],\"plot_height\":400,\"plot_width\":400,\"renderers\":[{\"id\":\"35070\"}],\"title\":{\"id\":\"35035\"},\"toolbar\":{\"id\":\"35060\"},\"x_range\":{\"id\":\"35037\"},\"x_scale\":{\"id\":\"35041\"},\"y_range\":{\"id\":\"35039\"},\"y_scale\":{\"id\":\"35043\"}},\"id\":\"35034\",\"subtype\":\"Figure\",\"type\":\"Plot\"},{\"attributes\":{\"formatter\":{\"id\":\"35655\"},\"ticker\":{\"id\":\"35050\"}},\"id\":\"35049\",\"type\":\"LinearAxis\"},{\"attributes\":{},\"id\":\"35058\",\"type\":\"HelpTool\"},{\"attributes\":{\"data_source\":{\"id\":\"35067\"},\"glyph\":{\"id\":\"35068\"},\"hover_glyph\":null,\"muted_glyph\":null,\"nonselection_glyph\":{\"id\":\"35069\"},\"selection_glyph\":null,\"view\":{\"id\":\"35071\"}},\"id\":\"35070\",\"type\":\"GlyphRenderer\"},{\"attributes\":{},\"id\":\"35041\",\"type\":\"LinearScale\"},{\"attributes\":{\"active_drag\":\"auto\",\"active_inspect\":\"auto\",\"active_multi\":null,\"active_scroll\":\"auto\",\"active_tap\":\"auto\",\"tools\":[{\"id\":\"35053\"},{\"id\":\"35054\"},{\"id\":\"35055\"},{\"id\":\"35056\"},{\"id\":\"35057\"},{\"id\":\"35058\"}]},\"id\":\"35060\",\"type\":\"Toolbar\"},{\"attributes\":{},\"id\":\"35050\",\"type\":\"BasicTicker\"},{\"attributes\":{},\"id\":\"35658\",\"type\":\"Selection\"},{\"attributes\":{},\"id\":\"35046\",\"type\":\"BasicTicker\"},{\"attributes\":{},\"id\":\"35653\",\"type\":\"BasicTickFormatter\"},{\"attributes\":{},\"id\":\"35054\",\"type\":\"WheelZoomTool\"},{\"attributes\":{\"overlay\":{\"id\":\"35059\"}},\"id\":\"35055\",\"type\":\"BoxZoomTool\"},{\"attributes\":{},\"id\":\"35056\",\"type\":\"SaveTool\"},{\"attributes\":{\"formatter\":{\"id\":\"35653\"},\"ticker\":{\"id\":\"35046\"}},\"id\":\"35045\",\"type\":\"LinearAxis\"},{\"attributes\":{},\"id\":\"35657\",\"type\":\"UnionRenderers\"},{\"attributes\":{},\"id\":\"35039\",\"type\":\"DataRange1d\"},{\"attributes\":{},\"id\":\"35053\",\"type\":\"PanTool\"},{\"attributes\":{\"bottom_units\":\"screen\",\"fill_alpha\":0.5,\"fill_color\":\"lightgrey\",\"left_units\":\"screen\",\"level\":\"overlay\",\"line_alpha\":1.0,\"line_color\":\"black\",\"line_dash\":[4,4],\"line_width\":2,\"render_mode\":\"css\",\"right_units\":\"screen\",\"top_units\":\"screen\"},\"id\":\"35059\",\"type\":\"BoxAnnotation\"},{\"attributes\":{\"data\":{\"x\":[0.1,0.5,1.0,1.5,2.0,2.5,3.0],\"y\":[1.2589254117941673,3.1622776601683795,10.0,31.622776601683793,100.0,316.22776601683796,1000.0]},\"selected\":{\"id\":\"35658\"},\"selection_policy\":{\"id\":\"35657\"}},\"id\":\"35067\",\"type\":\"ColumnDataSource\"},{\"attributes\":{},\"id\":\"35655\",\"type\":\"BasicTickFormatter\"},{\"attributes\":{\"axis\":{\"id\":\"35049\"},\"dimension\":1,\"ticker\":null},\"id\":\"35052\",\"type\":\"Grid\"},{\"attributes\":{\"source\":{\"id\":\"35067\"}},\"id\":\"35071\",\"type\":\"CDSView\"},{\"attributes\":{\"text\":\"Linear scale example\"},\"id\":\"35035\",\"type\":\"Title\"},{\"attributes\":{\"axis\":{\"id\":\"35045\"},\"ticker\":null},\"id\":\"35048\",\"type\":\"Grid\"},{\"attributes\":{\"line_alpha\":0.1,\"line_color\":\"#1f77b4\",\"line_width\":2,\"x\":{\"field\":\"x\"},\"y\":{\"field\":\"y\"}},\"id\":\"35069\",\"type\":\"Line\"},{\"attributes\":{\"line_color\":\"#1f77b4\",\"line_width\":2,\"x\":{\"field\":\"x\"},\"y\":{\"field\":\"y\"}},\"id\":\"35068\",\"type\":\"Line\"},{\"attributes\":{},\"id\":\"35057\",\"type\":\"ResetTool\"},{\"attributes\":{},\"id\":\"35043\",\"type\":\"LinearScale\"},{\"attributes\":{},\"id\":\"35037\",\"type\":\"DataRange1d\"}],\"root_ids\":[\"35034\"]},\"title\":\"Bokeh Application\",\"version\":\"2.0.2\"}};\n",
       "  var render_items = [{\"docid\":\"2e9f1ecb-2a04-4cf2-a670-fbc6544bbce6\",\"root_ids\":[\"35034\"],\"roots\":{\"35034\":\"d63ceb35-df8e-4a4a-85e7-447c480c612a\"}}];\n",
       "  root.Bokeh.embed.embed_items_notebook(docs_json, render_items);\n",
       "\n",
       "  }\n",
       "  if (root.Bokeh !== undefined) {\n",
       "    embed_document(root);\n",
       "  } else {\n",
       "    var attempts = 0;\n",
       "    var timer = setInterval(function(root) {\n",
       "      if (root.Bokeh !== undefined) {\n",
       "        clearInterval(timer);\n",
       "        embed_document(root);\n",
       "      } else {\n",
       "        attempts++;\n",
       "        if (attempts > 100) {\n",
       "          clearInterval(timer);\n",
       "          console.log(\"Bokeh: ERROR: Unable to run BokehJS code because BokehJS library is missing\");\n",
       "        }\n",
       "      }\n",
       "    }, 10, root)\n",
       "  }\n",
       "})(window);"
      ],
      "application/vnd.bokehjs_exec.v0+json": ""
     },
     "metadata": {
      "application/vnd.bokehjs_exec.v0+json": {
       "id": "35034"
      }
     },
     "output_type": "display_data"
    }
   ],
   "source": [
    "from bokeh.plotting import figure, output_file, show\n",
    "x = [0.1, 0.5, 1.0, 1.5, 2.0, 2.5, 3.0]\n",
    "y = [10**i for i in x]\n",
    "log = figure(title = 'Linear scale example',plot_width = 400, plot_height = 400)\n",
    "log.line(x, y, line_width = 2)\n",
    "show(log)"
   ]
  },
  {
   "cell_type": "markdown",
   "metadata": {},
   "source": [
    "Now change figure() function to configure y_axis_type=’log’"
   ]
  },
  {
   "cell_type": "code",
   "execution_count": 195,
   "metadata": {},
   "outputs": [
    {
     "data": {
      "text/html": [
       "\n",
       "\n",
       "\n",
       "\n",
       "\n",
       "\n",
       "  <div class=\"bk-root\" id=\"fd30995c-f35a-49ab-ab01-c6ac8647d1d6\" data-root-id=\"37336\"></div>\n"
      ]
     },
     "metadata": {},
     "output_type": "display_data"
    },
    {
     "data": {
      "application/javascript": [
       "(function(root) {\n",
       "  function embed_document(root) {\n",
       "    \n",
       "  var docs_json = {\"28f090d0-e604-4d94-a90e-bf267c44ef3a\":{\"roots\":{\"references\":[{\"attributes\":{\"below\":[{\"id\":\"37347\"}],\"center\":[{\"id\":\"37350\"},{\"id\":\"37354\"}],\"left\":[{\"id\":\"37351\"}],\"plot_height\":400,\"plot_width\":400,\"renderers\":[{\"id\":\"37372\"}],\"title\":{\"id\":\"37337\"},\"toolbar\":{\"id\":\"37362\"},\"x_range\":{\"id\":\"37339\"},\"x_scale\":{\"id\":\"37343\"},\"y_range\":{\"id\":\"37341\"},\"y_scale\":{\"id\":\"37345\"}},\"id\":\"37336\",\"subtype\":\"Figure\",\"type\":\"Plot\"},{\"attributes\":{\"line_alpha\":0.1,\"line_color\":\"#1f77b4\",\"line_width\":2,\"x\":{\"field\":\"x\"},\"y\":{\"field\":\"y\"}},\"id\":\"37371\",\"type\":\"Line\"},{\"attributes\":{\"bottom_units\":\"screen\",\"fill_alpha\":0.5,\"fill_color\":\"lightgrey\",\"left_units\":\"screen\",\"level\":\"overlay\",\"line_alpha\":1.0,\"line_color\":\"black\",\"line_dash\":[4,4],\"line_width\":2,\"render_mode\":\"css\",\"right_units\":\"screen\",\"top_units\":\"screen\"},\"id\":\"37361\",\"type\":\"BoxAnnotation\"},{\"attributes\":{\"ticker\":null},\"id\":\"37977\",\"type\":\"LogTickFormatter\"},{\"attributes\":{},\"id\":\"37356\",\"type\":\"WheelZoomTool\"},{\"attributes\":{},\"id\":\"37339\",\"type\":\"DataRange1d\"},{\"attributes\":{},\"id\":\"37358\",\"type\":\"SaveTool\"},{\"attributes\":{},\"id\":\"37341\",\"type\":\"DataRange1d\"},{\"attributes\":{},\"id\":\"37360\",\"type\":\"HelpTool\"},{\"attributes\":{},\"id\":\"37345\",\"type\":\"LogScale\"},{\"attributes\":{},\"id\":\"37975\",\"type\":\"BasicTickFormatter\"},{\"attributes\":{},\"id\":\"37979\",\"type\":\"UnionRenderers\"},{\"attributes\":{\"active_drag\":\"auto\",\"active_inspect\":\"auto\",\"active_multi\":null,\"active_scroll\":\"auto\",\"active_tap\":\"auto\",\"tools\":[{\"id\":\"37355\"},{\"id\":\"37356\"},{\"id\":\"37357\"},{\"id\":\"37358\"},{\"id\":\"37359\"},{\"id\":\"37360\"}]},\"id\":\"37362\",\"type\":\"Toolbar\"},{\"attributes\":{},\"id\":\"37359\",\"type\":\"ResetTool\"},{\"attributes\":{},\"id\":\"37348\",\"type\":\"BasicTicker\"},{\"attributes\":{\"source\":{\"id\":\"37369\"}},\"id\":\"37373\",\"type\":\"CDSView\"},{\"attributes\":{\"data\":{\"x\":[0.1,0.5,1.0,1.5,2.0,2.5,3.0],\"y\":[1.2589254117941673,3.1622776601683795,10.0,31.622776601683793,100.0,316.22776601683796,1000.0]},\"selected\":{\"id\":\"37980\"},\"selection_policy\":{\"id\":\"37979\"}},\"id\":\"37369\",\"type\":\"ColumnDataSource\"},{\"attributes\":{},\"id\":\"37343\",\"type\":\"LinearScale\"},{\"attributes\":{\"overlay\":{\"id\":\"37361\"}},\"id\":\"37357\",\"type\":\"BoxZoomTool\"},{\"attributes\":{\"formatter\":{\"id\":\"37977\"},\"ticker\":{\"id\":\"37352\"}},\"id\":\"37351\",\"type\":\"LogAxis\"},{\"attributes\":{\"line_color\":\"#1f77b4\",\"line_width\":2,\"x\":{\"field\":\"x\"},\"y\":{\"field\":\"y\"}},\"id\":\"37370\",\"type\":\"Line\"},{\"attributes\":{},\"id\":\"37355\",\"type\":\"PanTool\"},{\"attributes\":{\"num_minor_ticks\":10},\"id\":\"37352\",\"type\":\"LogTicker\"},{\"attributes\":{\"data_source\":{\"id\":\"37369\"},\"glyph\":{\"id\":\"37370\"},\"hover_glyph\":null,\"muted_glyph\":null,\"nonselection_glyph\":{\"id\":\"37371\"},\"selection_glyph\":null,\"view\":{\"id\":\"37373\"}},\"id\":\"37372\",\"type\":\"GlyphRenderer\"},{\"attributes\":{\"text\":\"Linear scale example\"},\"id\":\"37337\",\"type\":\"Title\"},{\"attributes\":{},\"id\":\"37980\",\"type\":\"Selection\"},{\"attributes\":{\"formatter\":{\"id\":\"37975\"},\"ticker\":{\"id\":\"37348\"}},\"id\":\"37347\",\"type\":\"LinearAxis\"},{\"attributes\":{\"axis\":{\"id\":\"37347\"},\"ticker\":null},\"id\":\"37350\",\"type\":\"Grid\"},{\"attributes\":{\"axis\":{\"id\":\"37351\"},\"dimension\":1,\"ticker\":null},\"id\":\"37354\",\"type\":\"Grid\"}],\"root_ids\":[\"37336\"]},\"title\":\"Bokeh Application\",\"version\":\"2.0.2\"}};\n",
       "  var render_items = [{\"docid\":\"28f090d0-e604-4d94-a90e-bf267c44ef3a\",\"root_ids\":[\"37336\"],\"roots\":{\"37336\":\"fd30995c-f35a-49ab-ab01-c6ac8647d1d6\"}}];\n",
       "  root.Bokeh.embed.embed_items_notebook(docs_json, render_items);\n",
       "\n",
       "  }\n",
       "  if (root.Bokeh !== undefined) {\n",
       "    embed_document(root);\n",
       "  } else {\n",
       "    var attempts = 0;\n",
       "    var timer = setInterval(function(root) {\n",
       "      if (root.Bokeh !== undefined) {\n",
       "        clearInterval(timer);\n",
       "        embed_document(root);\n",
       "      } else {\n",
       "        attempts++;\n",
       "        if (attempts > 100) {\n",
       "          clearInterval(timer);\n",
       "          console.log(\"Bokeh: ERROR: Unable to run BokehJS code because BokehJS library is missing\");\n",
       "        }\n",
       "      }\n",
       "    }, 10, root)\n",
       "  }\n",
       "})(window);"
      ],
      "application/vnd.bokehjs_exec.v0+json": ""
     },
     "metadata": {
      "application/vnd.bokehjs_exec.v0+json": {
       "id": "37336"
      }
     },
     "output_type": "display_data"
    }
   ],
   "source": [
    "x = [0.1, 0.5, 1.0, 1.5, 2.0, 2.5, 3.0]\n",
    "y = [10**i for i in x]\n",
    "log_1 = figure(title = 'Linear scale example',plot_width = 400, plot_height = 400, y_axis_type = \"log\")\n",
    "log_1.line(x, y, line_width = 2)\n",
    "show(log_1)"
   ]
  },
  {
   "cell_type": "markdown",
   "metadata": {},
   "source": [
    "### Twin Axes\n",
    "In certain situations, it may be needed to show multiple axes representing varying ranges on a single plot figure. The figure object can be so configured by defining extra_x_range and extra_y_range properties. While adding new glyph to the figure, these named ranges are used.\n",
    "\n",
    "We try to display a sine curve and a straight line in same plot. Both glyphs have y axes with different ranges. The x and y data series for sine curve and line are obtained by the following"
   ]
  },
  {
   "cell_type": "code",
   "execution_count": 208,
   "metadata": {},
   "outputs": [],
   "source": [
    "from numpy import pi, arange, sin, linspace\n",
    "x = arange(-2*pi, 2*pi, 0.1)\n",
    "y = sin(x)\n",
    "y2 = linspace(0, 100, len(y))"
   ]
  },
  {
   "cell_type": "code",
   "execution_count": 197,
   "metadata": {},
   "outputs": [
    {
     "data": {
      "text/html": [
       "<div style=\"display: table;\"><div style=\"display: table-row;\"><div style=\"display: table-cell;\"><b title=\"bokeh.models.renderers.GlyphRenderer\">GlyphRenderer</b>(</div><div style=\"display: table-cell;\">id&nbsp;=&nbsp;'38171', <span id=\"38174\" style=\"cursor: pointer;\">&hellip;)</span></div></div><div class=\"38173\" style=\"display: none;\"><div style=\"display: table-cell;\"></div><div style=\"display: table-cell;\">data_source&nbsp;=&nbsp;ColumnDataSource(id='38168', ...),</div></div><div class=\"38173\" style=\"display: none;\"><div style=\"display: table-cell;\"></div><div style=\"display: table-cell;\">glyph&nbsp;=&nbsp;Line(id='38169', ...),</div></div><div class=\"38173\" style=\"display: none;\"><div style=\"display: table-cell;\"></div><div style=\"display: table-cell;\">hover_glyph&nbsp;=&nbsp;None,</div></div><div class=\"38173\" style=\"display: none;\"><div style=\"display: table-cell;\"></div><div style=\"display: table-cell;\">js_event_callbacks&nbsp;=&nbsp;{},</div></div><div class=\"38173\" style=\"display: none;\"><div style=\"display: table-cell;\"></div><div style=\"display: table-cell;\">js_property_callbacks&nbsp;=&nbsp;{},</div></div><div class=\"38173\" style=\"display: none;\"><div style=\"display: table-cell;\"></div><div style=\"display: table-cell;\">level&nbsp;=&nbsp;'glyph',</div></div><div class=\"38173\" style=\"display: none;\"><div style=\"display: table-cell;\"></div><div style=\"display: table-cell;\">muted&nbsp;=&nbsp;False,</div></div><div class=\"38173\" style=\"display: none;\"><div style=\"display: table-cell;\"></div><div style=\"display: table-cell;\">muted_glyph&nbsp;=&nbsp;None,</div></div><div class=\"38173\" style=\"display: none;\"><div style=\"display: table-cell;\"></div><div style=\"display: table-cell;\">name&nbsp;=&nbsp;None,</div></div><div class=\"38173\" style=\"display: none;\"><div style=\"display: table-cell;\"></div><div style=\"display: table-cell;\">nonselection_glyph&nbsp;=&nbsp;Line(id='38170', ...),</div></div><div class=\"38173\" style=\"display: none;\"><div style=\"display: table-cell;\"></div><div style=\"display: table-cell;\">selection_glyph&nbsp;=&nbsp;None,</div></div><div class=\"38173\" style=\"display: none;\"><div style=\"display: table-cell;\"></div><div style=\"display: table-cell;\">subscribed_events&nbsp;=&nbsp;[],</div></div><div class=\"38173\" style=\"display: none;\"><div style=\"display: table-cell;\"></div><div style=\"display: table-cell;\">tags&nbsp;=&nbsp;[],</div></div><div class=\"38173\" style=\"display: none;\"><div style=\"display: table-cell;\"></div><div style=\"display: table-cell;\">view&nbsp;=&nbsp;CDSView(id='38172', ...),</div></div><div class=\"38173\" style=\"display: none;\"><div style=\"display: table-cell;\"></div><div style=\"display: table-cell;\">visible&nbsp;=&nbsp;True,</div></div><div class=\"38173\" style=\"display: none;\"><div style=\"display: table-cell;\"></div><div style=\"display: table-cell;\">x_range_name&nbsp;=&nbsp;'default',</div></div><div class=\"38173\" style=\"display: none;\"><div style=\"display: table-cell;\"></div><div style=\"display: table-cell;\">y_range_name&nbsp;=&nbsp;'default')</div></div></div>\n",
       "<script>\n",
       "(function() {\n",
       "  var expanded = false;\n",
       "  var ellipsis = document.getElementById(\"38174\");\n",
       "  ellipsis.addEventListener(\"click\", function() {\n",
       "    var rows = document.getElementsByClassName(\"38173\");\n",
       "    for (var i = 0; i < rows.length; i++) {\n",
       "      var el = rows[i];\n",
       "      el.style.display = expanded ? \"none\" : \"table-row\";\n",
       "    }\n",
       "    ellipsis.innerHTML = expanded ? \"&hellip;)\" : \"&lsaquo;&lsaquo;&lsaquo;\";\n",
       "    expanded = !expanded;\n",
       "  });\n",
       "})();\n",
       "</script>\n"
      ],
      "text/plain": [
       "GlyphRenderer(id='38171', ...)"
      ]
     },
     "execution_count": 197,
     "metadata": {},
     "output_type": "execute_result"
    }
   ],
   "source": [
    "diagram = figure(title = 'Twin Axis Example', y_range = (-1.1, 1.1))\n",
    "diagram.line(x, y, color = \"red\")"
   ]
  },
  {
   "cell_type": "code",
   "execution_count": 205,
   "metadata": {},
   "outputs": [],
   "source": [
    "from bokeh.models import Range1d, LinearAxis\n",
    "diagram.extra_y_ranges = {\"y2\": Range1d(start = 0, end = 100)}"
   ]
  },
  {
   "cell_type": "code",
   "execution_count": 206,
   "metadata": {},
   "outputs": [
    {
     "data": {
      "text/html": [
       "<div style=\"display: table;\"><div style=\"display: table-row;\"><div style=\"display: table-cell;\"><b title=\"bokeh.models.renderers.GlyphRenderer\">GlyphRenderer</b>(</div><div style=\"display: table-cell;\">id&nbsp;=&nbsp;'38181', <span id=\"38184\" style=\"cursor: pointer;\">&hellip;)</span></div></div><div class=\"38183\" style=\"display: none;\"><div style=\"display: table-cell;\"></div><div style=\"display: table-cell;\">data_source&nbsp;=&nbsp;ColumnDataSource(id='38178', ...),</div></div><div class=\"38183\" style=\"display: none;\"><div style=\"display: table-cell;\"></div><div style=\"display: table-cell;\">glyph&nbsp;=&nbsp;Line(id='38179', ...),</div></div><div class=\"38183\" style=\"display: none;\"><div style=\"display: table-cell;\"></div><div style=\"display: table-cell;\">hover_glyph&nbsp;=&nbsp;None,</div></div><div class=\"38183\" style=\"display: none;\"><div style=\"display: table-cell;\"></div><div style=\"display: table-cell;\">js_event_callbacks&nbsp;=&nbsp;{},</div></div><div class=\"38183\" style=\"display: none;\"><div style=\"display: table-cell;\"></div><div style=\"display: table-cell;\">js_property_callbacks&nbsp;=&nbsp;{},</div></div><div class=\"38183\" style=\"display: none;\"><div style=\"display: table-cell;\"></div><div style=\"display: table-cell;\">level&nbsp;=&nbsp;'glyph',</div></div><div class=\"38183\" style=\"display: none;\"><div style=\"display: table-cell;\"></div><div style=\"display: table-cell;\">muted&nbsp;=&nbsp;False,</div></div><div class=\"38183\" style=\"display: none;\"><div style=\"display: table-cell;\"></div><div style=\"display: table-cell;\">muted_glyph&nbsp;=&nbsp;None,</div></div><div class=\"38183\" style=\"display: none;\"><div style=\"display: table-cell;\"></div><div style=\"display: table-cell;\">name&nbsp;=&nbsp;None,</div></div><div class=\"38183\" style=\"display: none;\"><div style=\"display: table-cell;\"></div><div style=\"display: table-cell;\">nonselection_glyph&nbsp;=&nbsp;Line(id='38180', ...),</div></div><div class=\"38183\" style=\"display: none;\"><div style=\"display: table-cell;\"></div><div style=\"display: table-cell;\">selection_glyph&nbsp;=&nbsp;None,</div></div><div class=\"38183\" style=\"display: none;\"><div style=\"display: table-cell;\"></div><div style=\"display: table-cell;\">subscribed_events&nbsp;=&nbsp;[],</div></div><div class=\"38183\" style=\"display: none;\"><div style=\"display: table-cell;\"></div><div style=\"display: table-cell;\">tags&nbsp;=&nbsp;[],</div></div><div class=\"38183\" style=\"display: none;\"><div style=\"display: table-cell;\"></div><div style=\"display: table-cell;\">view&nbsp;=&nbsp;CDSView(id='38182', ...),</div></div><div class=\"38183\" style=\"display: none;\"><div style=\"display: table-cell;\"></div><div style=\"display: table-cell;\">visible&nbsp;=&nbsp;True,</div></div><div class=\"38183\" style=\"display: none;\"><div style=\"display: table-cell;\"></div><div style=\"display: table-cell;\">x_range_name&nbsp;=&nbsp;'default',</div></div><div class=\"38183\" style=\"display: none;\"><div style=\"display: table-cell;\"></div><div style=\"display: table-cell;\">y_range_name&nbsp;=&nbsp;'y2')</div></div></div>\n",
       "<script>\n",
       "(function() {\n",
       "  var expanded = false;\n",
       "  var ellipsis = document.getElementById(\"38184\");\n",
       "  ellipsis.addEventListener(\"click\", function() {\n",
       "    var rows = document.getElementsByClassName(\"38183\");\n",
       "    for (var i = 0; i < rows.length; i++) {\n",
       "      var el = rows[i];\n",
       "      el.style.display = expanded ? \"none\" : \"table-row\";\n",
       "    }\n",
       "    ellipsis.innerHTML = expanded ? \"&hellip;)\" : \"&lsaquo;&lsaquo;&lsaquo;\";\n",
       "    expanded = !expanded;\n",
       "  });\n",
       "})();\n",
       "</script>\n"
      ],
      "text/plain": [
       "GlyphRenderer(id='38181', ...)"
      ]
     },
     "execution_count": 206,
     "metadata": {},
     "output_type": "execute_result"
    }
   ],
   "source": [
    "diagram.add_layout(LinearAxis(y_range_name = \"y2\"), 'right')\n",
    "diagram.line(x, y2, color = \"blue\", y_range_name = \"y2\")"
   ]
  },
  {
   "cell_type": "code",
   "execution_count": 207,
   "metadata": {},
   "outputs": [
    {
     "data": {
      "text/html": [
       "\n",
       "\n",
       "\n",
       "\n",
       "\n",
       "\n",
       "  <div class=\"bk-root\" id=\"11375e5a-d653-46b7-a71a-ce6aec4a0147\" data-root-id=\"38185\"></div>\n"
      ]
     },
     "metadata": {},
     "output_type": "display_data"
    },
    {
     "data": {
      "application/javascript": [
       "(function(root) {\n",
       "  function embed_document(root) {\n",
       "    \n",
       "  var docs_json = {\"bf0c82e4-f744-4fc0-8b03-acfa82e298c1\":{\"roots\":{\"references\":[{\"attributes\":{\"below\":[{\"id\":\"38196\"}],\"center\":[{\"id\":\"38199\"},{\"id\":\"38203\"}],\"extra_y_ranges\":{\"y2\":{\"id\":\"38223\"}},\"left\":[{\"id\":\"38200\"}],\"renderers\":[{\"id\":\"38221\"},{\"id\":\"38228\"}],\"right\":[{\"id\":\"38224\"}],\"title\":{\"id\":\"38186\"},\"toolbar\":{\"id\":\"38211\"},\"x_range\":{\"id\":\"38188\"},\"x_scale\":{\"id\":\"38192\"},\"y_range\":{\"id\":\"38190\"},\"y_scale\":{\"id\":\"38194\"}},\"id\":\"38185\",\"subtype\":\"Figure\",\"type\":\"Plot\"},{\"attributes\":{\"end\":1.1,\"start\":-1.1},\"id\":\"38190\",\"type\":\"Range1d\"},{\"attributes\":{},\"id\":\"38188\",\"type\":\"DataRange1d\"},{\"attributes\":{\"source\":{\"id\":\"38225\"}},\"id\":\"38229\",\"type\":\"CDSView\"},{\"attributes\":{\"text\":\"Twin Axis Example\"},\"id\":\"38186\",\"type\":\"Title\"},{\"attributes\":{\"data\":{\"x\":{\"__ndarray__\":\"GC1EVPshGcCyxt3tlLsYwExgd4cuVRjA5vkQIcjuF8CAk6q6YYgXwBotRFT7IRfAtMbd7ZS7FsBOYHeHLlUWwOj5ECHI7hXAgpOqumGIFcAcLURU+yEVwLbG3e2UuxTAUGB3hy5VFMDq+RAhyO4TwISTqrphiBPAHi1EVPshE8C4xt3tlLsSwFJgd4cuVRLA7PkQIcjuEcCGk6q6YYgRwCAtRFT7IRHAusbd7ZS7EMBUYHeHLlUQwNzzIUKQ3Q/AECdVdcMQD8BEWoio9kMOwHiNu9spdw3ArMDuDl2qDMDg8yFCkN0LwBQnVXXDEAvASFqIqPZDCsB8jbvbKXcJwLDA7g5dqgjA5PMhQpDdB8AYJ1V1wxAHwExaiKj2QwbAgI272yl3BcC0wO4OXaoEwOjzIUKQ3QPAHCdVdcMQA8BQWoio9kMCwISNu9spdwHAuMDuDl2qAMDY50OEILv/v0BOquqGIf6/qLQQUe2H/L8QG3e3U+76v3iB3R26VPm/4OdDhCC7979ITqrqhiH2v7C0EFHth/S/GBt3t1Pu8r+Agd0dulTxv9DPhwhBdu+/oJxU1Q1D7L9waSGi2g/pv0A27m6n3OW/EAO7O3Sp4r/Anw8Rguzev2A5qaobhti/ANNCRLUf0r9A2bi7nXLHvwAZ2N2hS7W/AAIG7943kT8AGltVkee9P8BZeneVwMs/QJMjIrFG1D+g+YmIF63aPwAwePe+ieA/MGOrKvK84z9glt5dJfDmP5DJEZFYI+o/wPxExItW7T/4F7x730TwP5CxVRV53vE/KEvvrhJ48z/A5IhIrBH1P1h+IuJFq/Y/8Be8e99E+D+IsVUVed75PyBL764SePs/uOSISKwR/T9QfiLiRav+P/QL3r1vIgBAwNiqijzvAECMpXdXCbwBQFhyRCTWiAJAJD8R8aJVA0DwC969byIEQLzYqoo87wRAiKV3Vwm8BUBUckQk1ogGQCA/EfGiVQdA7AvevW8iCEC42KqKPO8IQISld1cJvAlAUHJEJNaICkAcPxHxolULQOgL3r1vIgxAtNiqijzvDECApXdXCbwNQExyRCTWiA5AGD8R8aJVD0DyBe/eNxEQQFhsVUWedxBAvtK7qwTeEEAkOSISa0QRQIqfiHjRqhFA8AXv3jcREkBWbFVFnncSQLzSu6sE3hJAIjkiEmtEE0CIn4h40aoTQO4F7943ERRAVGxVRZ53FEC60rurBN4UQCA5IhJrRBVAhp+IeNGqFUDsBe/eNxEWQFJsVUWedxZAuNK7qwTeFkAeOSISa0QXQISfiHjRqhdA6gXv3jcRGEBQbFVFnncYQLbSu6sE3hhA\",\"dtype\":\"float64\",\"shape\":[126]},\"y\":{\"__ndarray__\":\"B1wUMyamsTwky4vLro65P6zSPSP/bck/Jbq6lc3p0j9XZyvpOuzYP9cFS3Tort4/S0GlF40R4j+pGUZpbp3kP7z+v8KU9OY/MKhdmAMR6T/eDAmPVO3qPyhjLUzFhOw/t1UaokPT7T9AHsX5d9XuP/vgRN/NiO8/iG0sm3rr7z/HQuDHgfzvP72YL9e3u+8//RW9gcIp7z9qOBofF0juP2C00er2GO0/HHPrP2mf6z8w16rZM9/pP1IvWC3R3Oc/0tHD9WSd5T/vys8NrybjPwGGoLv8fuA/p6ckJDFa2z9q5l0jcnDVP0AySNa4n84/z9a2bTgQwj9JFpiCD0qlP9km6Dk3462/9Aq3ygIxxL+fS/8QyVrQv1Fhun47c9a/JdHwQ0FS3L/dGi7savTgv0DA7P9WlOO/crMfLS4C5r9cHtzduTfov3DI4npTL+q/lhLQ3/Lj67/wiQE6O1Htv8QoRTGGc+6/Y0DHPe1H77+p7F0TUczvv1HsNw9f/++/DT4MmpTg77/B6yJ2QHDvv2CZ4PWBr+6/+CLYHEag7b8lJbqyQkXsv5cSvFTvoeq/3gUyl3y66L/SsApOyZPmv0H2lhdWM+S/OMh6STef4b8a4Y7HCrzdv3u+C2SY7de/LaSwivHh0b9m/jPXGVHHv0bTvttYRbW/xSXLwqk3kT/JIzUvK9a9PxjIxkANics//AfpL0vw0z91hzWkD+nZP4cP6pqNn98/CxrYG5SC4j9hCW3CCAblP+5iZOG2U+c/hMjjJbpl6T/Mcx3cxjbrP44pBXs3wuw/3a38hhgE7j/R9xCtMvnuPzNU7vwSn+8/IbeALBH07z+1XzrVU/fvP6DPKKDSqO8/pbRJW1YJ7z+JM+n3dhruP8RhK3eX3uw/Jvgtz99Y6z+f2l/YNI3pP+WxtFcugOc/zaIuPws35T/F08pCpLfiP3g4I+RcCOA/mTEMNiZg2j8025+JG2zUPwOg1R2oh8w/rDXOvj7cvz+YZ0Soul6ZPxMepJQaPbO/RLIVCFdQxr8Pn7GuhmTRv7Nrs+BkdNe/PLQgoURI3b9ITvP1nmjhv9zlVSmUAOS/XGXQmV9l5r9YNdHU4ZDov+OMb++Nfeq/d0LwuHcm7L9QJSxSYIftv8TXognBnO6/SRtzYNRj779HhCYhndrvv+yTLnbr/++/NaAP81/T77/KpXWIbFXvv+6vwmBTh+6/2k8AqCNr7b+D929HtAPsv7RWM6KcVOq/8K2gZSti6L8bWsKEWzHmvw8RMHvHx+O/52bX95or4b9I9bkoBsfcv2FS64I67da/RcPLJ8rY0L9F3NCChDLFvyPcIcx4+rC/\",\"dtype\":\"float64\",\"shape\":[126]}},\"selected\":{\"id\":\"38846\"},\"selection_policy\":{\"id\":\"38845\"}},\"id\":\"38218\",\"type\":\"ColumnDataSource\"},{\"attributes\":{\"bottom_units\":\"screen\",\"fill_alpha\":0.5,\"fill_color\":\"lightgrey\",\"left_units\":\"screen\",\"level\":\"overlay\",\"line_alpha\":1.0,\"line_color\":\"black\",\"line_dash\":[4,4],\"line_width\":2,\"render_mode\":\"css\",\"right_units\":\"screen\",\"top_units\":\"screen\"},\"id\":\"38210\",\"type\":\"BoxAnnotation\"},{\"attributes\":{\"formatter\":{\"id\":\"38843\"},\"ticker\":{\"id\":\"38844\"},\"y_range_name\":\"y2\"},\"id\":\"38224\",\"type\":\"LinearAxis\"},{\"attributes\":{\"line_color\":\"blue\",\"x\":{\"field\":\"x\"},\"y\":{\"field\":\"y\"}},\"id\":\"38226\",\"type\":\"Line\"},{\"attributes\":{\"source\":{\"id\":\"38218\"}},\"id\":\"38222\",\"type\":\"CDSView\"},{\"attributes\":{},\"id\":\"38201\",\"type\":\"BasicTicker\"},{\"attributes\":{\"active_drag\":\"auto\",\"active_inspect\":\"auto\",\"active_multi\":null,\"active_scroll\":\"auto\",\"active_tap\":\"auto\",\"tools\":[{\"id\":\"38204\"},{\"id\":\"38205\"},{\"id\":\"38206\"},{\"id\":\"38207\"},{\"id\":\"38208\"},{\"id\":\"38209\"}]},\"id\":\"38211\",\"type\":\"Toolbar\"},{\"attributes\":{},\"id\":\"38839\",\"type\":\"BasicTickFormatter\"},{\"attributes\":{},\"id\":\"38847\",\"type\":\"UnionRenderers\"},{\"attributes\":{},\"id\":\"38843\",\"type\":\"BasicTickFormatter\"},{\"attributes\":{\"axis\":{\"id\":\"38200\"},\"dimension\":1,\"ticker\":null},\"id\":\"38203\",\"type\":\"Grid\"},{\"attributes\":{\"line_alpha\":0.1,\"line_color\":\"red\",\"x\":{\"field\":\"x\"},\"y\":{\"field\":\"y\"}},\"id\":\"38220\",\"type\":\"Line\"},{\"attributes\":{},\"id\":\"38841\",\"type\":\"BasicTickFormatter\"},{\"attributes\":{\"data_source\":{\"id\":\"38225\"},\"glyph\":{\"id\":\"38226\"},\"hover_glyph\":null,\"muted_glyph\":null,\"nonselection_glyph\":{\"id\":\"38227\"},\"selection_glyph\":null,\"view\":{\"id\":\"38229\"},\"y_range_name\":\"y2\"},\"id\":\"38228\",\"type\":\"GlyphRenderer\"},{\"attributes\":{\"line_alpha\":0.1,\"line_color\":\"blue\",\"x\":{\"field\":\"x\"},\"y\":{\"field\":\"y\"}},\"id\":\"38227\",\"type\":\"Line\"},{\"attributes\":{\"end\":100},\"id\":\"38223\",\"type\":\"Range1d\"},{\"attributes\":{},\"id\":\"38204\",\"type\":\"PanTool\"},{\"attributes\":{\"overlay\":{\"id\":\"38210\"}},\"id\":\"38206\",\"type\":\"BoxZoomTool\"},{\"attributes\":{\"data_source\":{\"id\":\"38218\"},\"glyph\":{\"id\":\"38219\"},\"hover_glyph\":null,\"muted_glyph\":null,\"nonselection_glyph\":{\"id\":\"38220\"},\"selection_glyph\":null,\"view\":{\"id\":\"38222\"}},\"id\":\"38221\",\"type\":\"GlyphRenderer\"},{\"attributes\":{\"formatter\":{\"id\":\"38841\"},\"ticker\":{\"id\":\"38201\"}},\"id\":\"38200\",\"type\":\"LinearAxis\"},{\"attributes\":{},\"id\":\"38844\",\"type\":\"BasicTicker\"},{\"attributes\":{},\"id\":\"38846\",\"type\":\"Selection\"},{\"attributes\":{},\"id\":\"38197\",\"type\":\"BasicTicker\"},{\"attributes\":{},\"id\":\"38192\",\"type\":\"LinearScale\"},{\"attributes\":{},\"id\":\"38209\",\"type\":\"HelpTool\"},{\"attributes\":{\"axis\":{\"id\":\"38196\"},\"ticker\":null},\"id\":\"38199\",\"type\":\"Grid\"},{\"attributes\":{},\"id\":\"38207\",\"type\":\"SaveTool\"},{\"attributes\":{},\"id\":\"38208\",\"type\":\"ResetTool\"},{\"attributes\":{},\"id\":\"38848\",\"type\":\"Selection\"},{\"attributes\":{},\"id\":\"38194\",\"type\":\"LinearScale\"},{\"attributes\":{},\"id\":\"38205\",\"type\":\"WheelZoomTool\"},{\"attributes\":{\"line_color\":\"red\",\"x\":{\"field\":\"x\"},\"y\":{\"field\":\"y\"}},\"id\":\"38219\",\"type\":\"Line\"},{\"attributes\":{},\"id\":\"38845\",\"type\":\"UnionRenderers\"},{\"attributes\":{\"data\":{\"x\":{\"__ndarray__\":\"GC1EVPshGcCyxt3tlLsYwExgd4cuVRjA5vkQIcjuF8CAk6q6YYgXwBotRFT7IRfAtMbd7ZS7FsBOYHeHLlUWwOj5ECHI7hXAgpOqumGIFcAcLURU+yEVwLbG3e2UuxTAUGB3hy5VFMDq+RAhyO4TwISTqrphiBPAHi1EVPshE8C4xt3tlLsSwFJgd4cuVRLA7PkQIcjuEcCGk6q6YYgRwCAtRFT7IRHAusbd7ZS7EMBUYHeHLlUQwNzzIUKQ3Q/AECdVdcMQD8BEWoio9kMOwHiNu9spdw3ArMDuDl2qDMDg8yFCkN0LwBQnVXXDEAvASFqIqPZDCsB8jbvbKXcJwLDA7g5dqgjA5PMhQpDdB8AYJ1V1wxAHwExaiKj2QwbAgI272yl3BcC0wO4OXaoEwOjzIUKQ3QPAHCdVdcMQA8BQWoio9kMCwISNu9spdwHAuMDuDl2qAMDY50OEILv/v0BOquqGIf6/qLQQUe2H/L8QG3e3U+76v3iB3R26VPm/4OdDhCC7979ITqrqhiH2v7C0EFHth/S/GBt3t1Pu8r+Agd0dulTxv9DPhwhBdu+/oJxU1Q1D7L9waSGi2g/pv0A27m6n3OW/EAO7O3Sp4r/Anw8Rguzev2A5qaobhti/ANNCRLUf0r9A2bi7nXLHvwAZ2N2hS7W/AAIG7943kT8AGltVkee9P8BZeneVwMs/QJMjIrFG1D+g+YmIF63aPwAwePe+ieA/MGOrKvK84z9glt5dJfDmP5DJEZFYI+o/wPxExItW7T/4F7x730TwP5CxVRV53vE/KEvvrhJ48z/A5IhIrBH1P1h+IuJFq/Y/8Be8e99E+D+IsVUVed75PyBL764SePs/uOSISKwR/T9QfiLiRav+P/QL3r1vIgBAwNiqijzvAECMpXdXCbwBQFhyRCTWiAJAJD8R8aJVA0DwC969byIEQLzYqoo87wRAiKV3Vwm8BUBUckQk1ogGQCA/EfGiVQdA7AvevW8iCEC42KqKPO8IQISld1cJvAlAUHJEJNaICkAcPxHxolULQOgL3r1vIgxAtNiqijzvDECApXdXCbwNQExyRCTWiA5AGD8R8aJVD0DyBe/eNxEQQFhsVUWedxBAvtK7qwTeEEAkOSISa0QRQIqfiHjRqhFA8AXv3jcREkBWbFVFnncSQLzSu6sE3hJAIjkiEmtEE0CIn4h40aoTQO4F7943ERRAVGxVRZ53FEC60rurBN4UQCA5IhJrRBVAhp+IeNGqFUDsBe/eNxEWQFJsVUWedxZAuNK7qwTeFkAeOSISa0QXQISfiHjRqhdA6gXv3jcRGEBQbFVFnncYQLbSu6sE3hhA\",\"dtype\":\"float64\",\"shape\":[126]},\"y\":{\"__ndarray__\":\"AAAAAAAAAACamZmZmZnpP5qZmZmZmfk/NDMzMzMzA0CamZmZmZkJQAAAAAAAABBANDMzMzMzE0BnZmZmZmYWQJqZmZmZmRlAzczMzMzMHEAAAAAAAAAgQJqZmZmZmSFANDMzMzMzI0DNzMzMzMwkQGdmZmZmZiZAAAAAAAAAKECamZmZmZkpQDQzMzMzMytAzczMzMzMLEBnZmZmZmYuQAAAAAAAADBAzczMzMzMMECamZmZmZkxQGdmZmZmZjJANDMzMzMzM0AAAAAAAAA0QM3MzMzMzDRAmpmZmZmZNUBnZmZmZmY2QDQzMzMzMzdAAAAAAAAAOEDNzMzMzMw4QJqZmZmZmTlAZ2ZmZmZmOkA0MzMzMzM7QAAAAAAAADxAzczMzMzMPECamZmZmZk9QGdmZmZmZj5ANDMzMzMzP0AAAAAAAABAQGdmZmZmZkBAzczMzMzMQEAzMzMzMzNBQJqZmZmZmUFAAAAAAAAAQkBnZmZmZmZCQM3MzMzMzEJANDMzMzMzQ0CamZmZmZlDQAAAAAAAAERAZ2ZmZmZmREDNzMzMzMxEQDQzMzMzM0VAmpmZmZmZRUAAAAAAAABGQGdmZmZmZkZAzczMzMzMRkA0MzMzMzNHQJqZmZmZmUdAAAAAAAAASEBnZmZmZmZIQM3MzMzMzEhANDMzMzMzSUCamZmZmZlJQAAAAAAAAEpAZ2ZmZmZmSkDNzMzMzMxKQDQzMzMzM0tAmpmZmZmZS0AAAAAAAABMQGdmZmZmZkxAzczMzMzMTEA0MzMzMzNNQJqZmZmZmU1AAAAAAAAATkBnZmZmZmZOQM3MzMzMzE5ANDMzMzMzT0CamZmZmZlPQAAAAAAAAFBAMzMzMzMzUEBnZmZmZmZQQJqZmZmZmVBAzczMzMzMUEAAAAAAAABRQDMzMzMzM1FAZ2ZmZmZmUUCamZmZmZlRQM3MzMzMzFFAAAAAAAAAUkAzMzMzMzNSQGdmZmZmZlJAmpmZmZmZUkDNzMzMzMxSQAAAAAAAAFNANDMzMzMzU0BnZmZmZmZTQJqZmZmZmVNAzczMzMzMU0AAAAAAAABUQDQzMzMzM1RAZ2ZmZmZmVECamZmZmZlUQM3MzMzMzFRAAAAAAAAAVUA0MzMzMzNVQGdmZmZmZlVAmpmZmZmZVUDNzMzMzMxVQAAAAAAAAFZANDMzMzMzVkBnZmZmZmZWQJqZmZmZmVZAzczMzMzMVkAAAAAAAABXQDQzMzMzM1dAZ2ZmZmZmV0CamZmZmZlXQM3MzMzMzFdAAAAAAAAAWEA0MzMzMzNYQGdmZmZmZlhAmpmZmZmZWEDNzMzMzMxYQAAAAAAAAFlA\",\"dtype\":\"float64\",\"shape\":[126]}},\"selected\":{\"id\":\"38848\"},\"selection_policy\":{\"id\":\"38847\"}},\"id\":\"38225\",\"type\":\"ColumnDataSource\"},{\"attributes\":{\"formatter\":{\"id\":\"38839\"},\"ticker\":{\"id\":\"38197\"}},\"id\":\"38196\",\"type\":\"LinearAxis\"}],\"root_ids\":[\"38185\"]},\"title\":\"Bokeh Application\",\"version\":\"2.0.2\"}};\n",
       "  var render_items = [{\"docid\":\"bf0c82e4-f744-4fc0-8b03-acfa82e298c1\",\"root_ids\":[\"38185\"],\"roots\":{\"38185\":\"11375e5a-d653-46b7-a71a-ce6aec4a0147\"}}];\n",
       "  root.Bokeh.embed.embed_items_notebook(docs_json, render_items);\n",
       "\n",
       "  }\n",
       "  if (root.Bokeh !== undefined) {\n",
       "    embed_document(root);\n",
       "  } else {\n",
       "    var attempts = 0;\n",
       "    var timer = setInterval(function(root) {\n",
       "      if (root.Bokeh !== undefined) {\n",
       "        clearInterval(timer);\n",
       "        embed_document(root);\n",
       "      } else {\n",
       "        attempts++;\n",
       "        if (attempts > 100) {\n",
       "          clearInterval(timer);\n",
       "          console.log(\"Bokeh: ERROR: Unable to run BokehJS code because BokehJS library is missing\");\n",
       "        }\n",
       "      }\n",
       "    }, 10, root)\n",
       "  }\n",
       "})(window);"
      ],
      "application/vnd.bokehjs_exec.v0+json": ""
     },
     "metadata": {
      "application/vnd.bokehjs_exec.v0+json": {
       "id": "38185"
      }
     },
     "output_type": "display_data"
    }
   ],
   "source": [
    "from numpy import pi, arange, sin, linspace\n",
    "x = arange(-2*pi, 2*pi, 0.1)\n",
    "y = sin(x)\n",
    "y2 = linspace(0, 100, len(y))\n",
    "from bokeh.plotting import output_file, figure, show\n",
    "from bokeh.models import LinearAxis, Range1d\n",
    "diagram = figure(title='Twin Axis Example', y_range = (-1.1, 1.1))\n",
    "diagram.line(x, y, color = \"red\")\n",
    "diagram.extra_y_ranges = {\"y2\": Range1d(start = 0, end = 100)}\n",
    "diagram.add_layout(LinearAxis(y_range_name = \"y2\"), 'right')\n",
    "diagram.line(x, y2, color = \"blue\", y_range_name = \"y2\")\n",
    "show(diagram)"
   ]
  },
  {
   "cell_type": "markdown",
   "metadata": {},
   "source": [
    "### Bokeh - Annotations and Legends\n",
    "\n",
    "Annotations are pieces of explanatory text added to the diagram. Bokeh plot can be annotated by way of specifying plot title, labels for x and y axes as well as inserting text labels anywhere in the plot area.\n",
    "\n",
    "Plot title as well as x and y axis labels can be provided in the Figure constructor itself."
   ]
  },
  {
   "cell_type": "markdown",
   "metadata": {},
   "source": [
    "fig = figure(title, x_axis_label, y_axis_label)"
   ]
  },
  {
   "cell_type": "code",
   "execution_count": 214,
   "metadata": {},
   "outputs": [
    {
     "data": {
      "text/html": [
       "\n",
       "\n",
       "\n",
       "\n",
       "\n",
       "\n",
       "  <div class=\"bk-root\" id=\"ecd81006-a454-4d1c-a855-0d435fe264bd\" data-root-id=\"39079\"></div>\n"
      ]
     },
     "metadata": {},
     "output_type": "display_data"
    },
    {
     "data": {
      "application/javascript": [
       "(function(root) {\n",
       "  function embed_document(root) {\n",
       "    \n",
       "  var docs_json = {\"c97ddd48-dd37-4c53-aaef-3e4098e6a9b3\":{\"roots\":{\"references\":[{\"attributes\":{\"below\":[{\"id\":\"39090\"}],\"center\":[{\"id\":\"39093\"},{\"id\":\"39097\"}],\"left\":[{\"id\":\"39094\"}],\"renderers\":[{\"id\":\"39115\"}],\"title\":{\"id\":\"39080\"},\"toolbar\":{\"id\":\"39105\"},\"x_range\":{\"id\":\"39082\"},\"x_scale\":{\"id\":\"39086\"},\"y_range\":{\"id\":\"39084\"},\"y_scale\":{\"id\":\"39088\"}},\"id\":\"39079\",\"subtype\":\"Figure\",\"type\":\"Plot\"},{\"attributes\":{\"data\":{\"x\":{\"__ndarray__\":\"AAAAAAAAAACamZmZmZmpP5qZmZmZmbk/NDMzMzMzwz+amZmZmZnJPwAAAAAAANA/NDMzMzMz0z9nZmZmZmbWP5qZmZmZmdk/zczMzMzM3D8AAAAAAADgP5qZmZmZmeE/NDMzMzMz4z/NzMzMzMzkP2dmZmZmZuY/AAAAAAAA6D+amZmZmZnpPzQzMzMzM+s/zczMzMzM7D9nZmZmZmbuPwAAAAAAAPA/zczMzMzM8D+amZmZmZnxP2dmZmZmZvI/NDMzMzMz8z8AAAAAAAD0P83MzMzMzPQ/mpmZmZmZ9T9nZmZmZmb2PzQzMzMzM/c/AAAAAAAA+D/NzMzMzMz4P5qZmZmZmfk/Z2ZmZmZm+j80MzMzMzP7PwAAAAAAAPw/zczMzMzM/D+amZmZmZn9P2dmZmZmZv4/NDMzMzMz/z8AAAAAAAAAQGdmZmZmZgBAzczMzMzMAEAzMzMzMzMBQJqZmZmZmQFAAAAAAAAAAkBnZmZmZmYCQM3MzMzMzAJANDMzMzMzA0CamZmZmZkDQAAAAAAAAARAZ2ZmZmZmBEDNzMzMzMwEQDQzMzMzMwVAmpmZmZmZBUAAAAAAAAAGQGdmZmZmZgZAzczMzMzMBkA0MzMzMzMHQJqZmZmZmQdAAAAAAAAACEBnZmZmZmYIQM3MzMzMzAhANDMzMzMzCUCamZmZmZkJQAAAAAAAAApAZ2ZmZmZmCkDNzMzMzMwKQDQzMzMzMwtAmpmZmZmZC0AAAAAAAAAMQGdmZmZmZgxAzczMzMzMDEA0MzMzMzMNQJqZmZmZmQ1AAAAAAAAADkBnZmZmZmYOQM3MzMzMzA5ANDMzMzMzD0CamZmZmZkPQAAAAAAAABBAMzMzMzMzEEBnZmZmZmYQQJqZmZmZmRBAzczMzMzMEEAAAAAAAAARQDMzMzMzMxFAZ2ZmZmZmEUCamZmZmZkRQM3MzMzMzBFAAAAAAAAAEkAzMzMzMzMSQGdmZmZmZhJAmpmZmZmZEkDNzMzMzMwSQAAAAAAAABNANDMzMzMzE0BnZmZmZmYTQJqZmZmZmRNAzczMzMzME0AAAAAAAAAUQDQzMzMzMxRAZ2ZmZmZmFECamZmZmZkUQM3MzMzMzBRAAAAAAAAAFUA0MzMzMzMVQGdmZmZmZhVAmpmZmZmZFUDNzMzMzMwVQAAAAAAAABZANDMzMzMzFkBnZmZmZmYWQJqZmZmZmRZAzczMzMzMFkAAAAAAAAAXQDQzMzMzMxdAZ2ZmZmZmF0CamZmZmZkXQM3MzMzMzBdAAAAAAAAAGEA0MzMzMzMYQGdmZmZmZhhAmpmZmZmZGEDNzMzMzMwYQAAAAAAAABlA\",\"dtype\":\"float64\",\"shape\":[126]},\"y\":{\"__ndarray__\":\"AAAAAAAAAAA8ZP+i3papPyzLi8uujrk/I+3f6ckgwz+80j0j/23JP3cV89Tuqs8/NLq6lc3p0j+MCjmlCfLVP2tnK+k67Ng/JUb5rXnW2z/wBUt06K7eP9RoSZHaueA/WkGlF40R4j+r15Phr13jP7kZRmluneQ/Do+/FvzP5T/N/r/ClPTmP4OARjR9Cug/QKhdmAMR6T9vJuTzfwfqP+4MCY9U7eo/wPI2Wu7B6z84Yy1MxYTsP5liDLlcNe0/xVUaokPT7T+MQRH+FF7uP0sexfl31e4/vuH5MCA57z8D4UTfzYjvP9xD2ghOxO8/i20sm3rr7z9oe0iFOv7vP8VC4MeB/O8/yIr3fFHm7z+2mC/Xt7vvP0aCsRjQfO8/8BW9gcIp7z91guc2xMLuP1c4Gh8XSO4/d8dnuQm67T9GtNHq9hjtP/tnH8RFZew//HLrP2mf6z/rUxH538fqPwjXqtkz3+k/quPQwvnl6D8iL1gt0dznP+jJxsNjxOY/mNHD9WSd5T98v0aFkWjkP7DKzw2vJuM/oqb2hYvY4T+7haC7/H7gP/1nY5a/Nd4/DKckJDFa2z/7g8E5Im3YP8DlXSNycNU/1yNVLQpm0j/TMEjWuJ/OP0aravHEX8g/W9W2bTgQwj+f7yAPOmq3Py4QmIIPSqU/DCjuo9E3gb8yLeg5N+Otv4ykZCStsru/lwy3ygIxxL+BV+iIw3vKv3RM/xDJWtC/nOiDYTlt078fYrp+O3PWv9c1iiXgatm/8dHwQ0FS3L9ZwwYwgyffv0EbLuxq9OC/IgZ19jpK4r+gwOz/VpTjvyvQtM7r0eS/zrMfLS4C5r9A1LlrWyTnv64e3N25N+i/KpR6UJk76b+9yOJ6Uy/qv7wtImlMEuu/1xLQ3/Lj679wg/u4wKPsvyWKATo7Ue2/7e0UYvPr7b/wKEUxhnPuv6km1+ec5+6/gEDHPe1H77+N9FCSOZTvv7rsXRNRzO+/zhrD3A/w779S7DcPX//vv2Dk+N40+u+//z0MmpTg779ylCSmjrLvv6TrInZAcO+/k88+d9QZ778zmeD1ga/uv8Y3P/qMMe6/uSLYHEag7b+WTt1SCvzsv9ckurJCRey/pI3VMGR86783ErxU76Hqv4P64eZvtum/cAUyl3y66L9Q96Gctq7nv1ewCk7Jk+a/zcyFtGlq5b+09ZYXVjPkv7UAa4NV7+K/oMd6STef4b8uNuN70kPgv8rfjscKvN2/ajkq5mnd2r8bvQtkmO3Xvwpad1F37tS/wKKwivHh0b+L+Mn79JPNv1z7M9cZUce/2vTYRFP/wL8ezb7bWEW1v7wS9cPd/KC/\",\"dtype\":\"float64\",\"shape\":[126]}},\"selected\":{\"id\":\"39743\"},\"selection_policy\":{\"id\":\"39742\"}},\"id\":\"39112\",\"type\":\"ColumnDataSource\"},{\"attributes\":{},\"id\":\"39098\",\"type\":\"PanTool\"},{\"attributes\":{},\"id\":\"39082\",\"type\":\"DataRange1d\"},{\"attributes\":{},\"id\":\"39099\",\"type\":\"WheelZoomTool\"},{\"attributes\":{},\"id\":\"39086\",\"type\":\"LinearScale\"},{\"attributes\":{\"axis_label\":\"angle\",\"formatter\":{\"id\":\"39738\"},\"ticker\":{\"id\":\"39091\"}},\"id\":\"39090\",\"type\":\"LinearAxis\"},{\"attributes\":{\"overlay\":{\"id\":\"39104\"}},\"id\":\"39100\",\"type\":\"BoxZoomTool\"},{\"attributes\":{\"axis\":{\"id\":\"39090\"},\"ticker\":null},\"id\":\"39093\",\"type\":\"Grid\"},{\"attributes\":{},\"id\":\"39101\",\"type\":\"SaveTool\"},{\"attributes\":{},\"id\":\"39084\",\"type\":\"DataRange1d\"},{\"attributes\":{},\"id\":\"39102\",\"type\":\"ResetTool\"},{\"attributes\":{},\"id\":\"39738\",\"type\":\"BasicTickFormatter\"},{\"attributes\":{},\"id\":\"39088\",\"type\":\"LinearScale\"},{\"attributes\":{},\"id\":\"39103\",\"type\":\"HelpTool\"},{\"attributes\":{\"active_drag\":\"auto\",\"active_inspect\":\"auto\",\"active_multi\":null,\"active_scroll\":\"auto\",\"active_tap\":\"auto\",\"tools\":[{\"id\":\"39098\"},{\"id\":\"39099\"},{\"id\":\"39100\"},{\"id\":\"39101\"},{\"id\":\"39102\"},{\"id\":\"39103\"}]},\"id\":\"39105\",\"type\":\"Toolbar\"},{\"attributes\":{},\"id\":\"39091\",\"type\":\"BasicTicker\"},{\"attributes\":{\"line_color\":\"#1f77b4\",\"line_width\":2,\"x\":{\"field\":\"x\"},\"y\":{\"field\":\"y\"}},\"id\":\"39113\",\"type\":\"Line\"},{\"attributes\":{},\"id\":\"39740\",\"type\":\"BasicTickFormatter\"},{\"attributes\":{\"axis\":{\"id\":\"39094\"},\"dimension\":1,\"ticker\":null},\"id\":\"39097\",\"type\":\"Grid\"},{\"attributes\":{\"text\":\"sine wave example\"},\"id\":\"39080\",\"type\":\"Title\"},{\"attributes\":{},\"id\":\"39095\",\"type\":\"BasicTicker\"},{\"attributes\":{\"axis_label\":\"sin\",\"formatter\":{\"id\":\"39740\"},\"ticker\":{\"id\":\"39095\"}},\"id\":\"39094\",\"type\":\"LinearAxis\"},{\"attributes\":{\"data_source\":{\"id\":\"39112\"},\"glyph\":{\"id\":\"39113\"},\"hover_glyph\":null,\"muted_glyph\":null,\"nonselection_glyph\":{\"id\":\"39114\"},\"selection_glyph\":null,\"view\":{\"id\":\"39116\"}},\"id\":\"39115\",\"type\":\"GlyphRenderer\"},{\"attributes\":{\"line_alpha\":0.1,\"line_color\":\"#1f77b4\",\"line_width\":2,\"x\":{\"field\":\"x\"},\"y\":{\"field\":\"y\"}},\"id\":\"39114\",\"type\":\"Line\"},{\"attributes\":{},\"id\":\"39743\",\"type\":\"Selection\"},{\"attributes\":{},\"id\":\"39742\",\"type\":\"UnionRenderers\"},{\"attributes\":{\"bottom_units\":\"screen\",\"fill_alpha\":0.5,\"fill_color\":\"lightgrey\",\"left_units\":\"screen\",\"level\":\"overlay\",\"line_alpha\":1.0,\"line_color\":\"black\",\"line_dash\":[4,4],\"line_width\":2,\"render_mode\":\"css\",\"right_units\":\"screen\",\"top_units\":\"screen\"},\"id\":\"39104\",\"type\":\"BoxAnnotation\"},{\"attributes\":{\"source\":{\"id\":\"39112\"}},\"id\":\"39116\",\"type\":\"CDSView\"}],\"root_ids\":[\"39079\"]},\"title\":\"Bokeh Application\",\"version\":\"2.0.2\"}};\n",
       "  var render_items = [{\"docid\":\"c97ddd48-dd37-4c53-aaef-3e4098e6a9b3\",\"root_ids\":[\"39079\"],\"roots\":{\"39079\":\"ecd81006-a454-4d1c-a855-0d435fe264bd\"}}];\n",
       "  root.Bokeh.embed.embed_items_notebook(docs_json, render_items);\n",
       "\n",
       "  }\n",
       "  if (root.Bokeh !== undefined) {\n",
       "    embed_document(root);\n",
       "  } else {\n",
       "    var attempts = 0;\n",
       "    var timer = setInterval(function(root) {\n",
       "      if (root.Bokeh !== undefined) {\n",
       "        clearInterval(timer);\n",
       "        embed_document(root);\n",
       "      } else {\n",
       "        attempts++;\n",
       "        if (attempts > 100) {\n",
       "          clearInterval(timer);\n",
       "          console.log(\"Bokeh: ERROR: Unable to run BokehJS code because BokehJS library is missing\");\n",
       "        }\n",
       "      }\n",
       "    }, 10, root)\n",
       "  }\n",
       "})(window);"
      ],
      "application/vnd.bokehjs_exec.v0+json": ""
     },
     "metadata": {
      "application/vnd.bokehjs_exec.v0+json": {
       "id": "39079"
      }
     },
     "output_type": "display_data"
    }
   ],
   "source": [
    "from bokeh.plotting import figure, output_file, show\n",
    "import numpy as np\n",
    "import math\n",
    "x = np.arange(0, math.pi*2, 0.05)\n",
    "y = np.sin(x)\n",
    "annot = figure(title = \"sine wave example\", x_axis_label = 'angle', y_axis_label = 'sin')\n",
    "annot.line(x, y,line_width = 2)\n",
    "show(annot)"
   ]
  },
  {
   "cell_type": "markdown",
   "metadata": {},
   "source": [
    "The title’s text and axis labels can also be specified by assigning appropriate string values to corresponding properties of figure object."
   ]
  },
  {
   "cell_type": "code",
   "execution_count": 215,
   "metadata": {},
   "outputs": [],
   "source": [
    "annot.title.text=\"sine example\"\n",
    "annot.xaxis.axis_label='angle'\n",
    "annot.yaxis.axis_label='sin'"
   ]
  },
  {
   "cell_type": "markdown",
   "metadata": {},
   "source": [
    "It is also possible to specify location, alignment, font and color of title."
   ]
  },
  {
   "cell_type": "code",
   "execution_count": 217,
   "metadata": {},
   "outputs": [],
   "source": [
    "annot.title.align = \"right\"\n",
    "annot.title.text_color = \"orange\"\n",
    "annot.title.text_font_size = \"25px\"\n",
    "annot.title.background_fill_color = \"blue\""
   ]
  },
  {
   "cell_type": "markdown",
   "metadata": {},
   "source": [
    "Adding legends to the plot figure is very easy. We have to use legend property of any glyph method.\n",
    "\n",
    "Below we have three glyph curves in the plot with three different legends"
   ]
  },
  {
   "cell_type": "code",
   "execution_count": 218,
   "metadata": {},
   "outputs": [
    {
     "name": "stderr",
     "output_type": "stream",
     "text": [
      "BokehDeprecationWarning: 'legend' keyword is deprecated, use explicit 'legend_label', 'legend_field', or 'legend_group' keywords instead\n",
      "BokehDeprecationWarning: 'legend' keyword is deprecated, use explicit 'legend_label', 'legend_field', or 'legend_group' keywords instead\n",
      "BokehDeprecationWarning: 'legend' keyword is deprecated, use explicit 'legend_label', 'legend_field', or 'legend_group' keywords instead\n"
     ]
    },
    {
     "data": {
      "text/html": [
       "\n",
       "\n",
       "\n",
       "\n",
       "\n",
       "\n",
       "  <div class=\"bk-root\" id=\"d9faa981-7e03-4bea-b5e6-73436b7a637c\" data-root-id=\"39898\"></div>\n"
      ]
     },
     "metadata": {},
     "output_type": "display_data"
    },
    {
     "data": {
      "application/javascript": [
       "(function(root) {\n",
       "  function embed_document(root) {\n",
       "    \n",
       "  var docs_json = {\"1d44b201-3aea-41a2-a49f-29aa19fdd3c7\":{\"roots\":{\"references\":[{\"attributes\":{\"below\":[{\"id\":\"39907\"}],\"center\":[{\"id\":\"39910\"},{\"id\":\"39914\"},{\"id\":\"39941\"}],\"left\":[{\"id\":\"39911\"}],\"renderers\":[{\"id\":\"39932\"},{\"id\":\"39946\"},{\"id\":\"39961\"}],\"title\":{\"id\":\"39935\"},\"toolbar\":{\"id\":\"39922\"},\"x_range\":{\"id\":\"39899\"},\"x_scale\":{\"id\":\"39903\"},\"y_range\":{\"id\":\"39901\"},\"y_scale\":{\"id\":\"39905\"}},\"id\":\"39898\",\"subtype\":\"Figure\",\"type\":\"Plot\"},{\"attributes\":{\"fill_color\":{\"value\":\"#1f77b4\"},\"line_color\":{\"value\":\"orange\"},\"line_width\":{\"value\":2},\"x\":{\"field\":\"x\"},\"y\":{\"field\":\"y\"}},\"id\":\"39944\",\"type\":\"Circle\"},{\"attributes\":{\"fill_alpha\":{\"value\":0.1},\"fill_color\":{\"value\":\"#1f77b4\"},\"line_alpha\":{\"value\":0.1},\"line_color\":{\"value\":\"orange\"},\"line_width\":{\"value\":2},\"x\":{\"field\":\"x\"},\"y\":{\"field\":\"y\"}},\"id\":\"39945\",\"type\":\"Circle\"},{\"attributes\":{\"fill_alpha\":{\"value\":0.1},\"fill_color\":{\"value\":\"#1f77b4\"},\"line_alpha\":{\"value\":0.1},\"line_color\":{\"value\":\"grey\"},\"line_width\":{\"value\":2},\"x\":{\"field\":\"x\"},\"y\":{\"field\":\"y\"}},\"id\":\"39960\",\"type\":\"Square\"},{\"attributes\":{\"text\":\"\"},\"id\":\"39935\",\"type\":\"Title\"},{\"attributes\":{\"bottom_units\":\"screen\",\"fill_alpha\":0.5,\"fill_color\":\"lightgrey\",\"left_units\":\"screen\",\"level\":\"overlay\",\"line_alpha\":1.0,\"line_color\":\"black\",\"line_dash\":[4,4],\"line_width\":2,\"render_mode\":\"css\",\"right_units\":\"screen\",\"top_units\":\"screen\"},\"id\":\"39921\",\"type\":\"BoxAnnotation\"},{\"attributes\":{},\"id\":\"40613\",\"type\":\"UnionRenderers\"},{\"attributes\":{},\"id\":\"39915\",\"type\":\"PanTool\"},{\"attributes\":{\"data\":{\"x\":{\"__ndarray__\":\"AAAAAAAAAACamZmZmZmpP5qZmZmZmbk/NDMzMzMzwz+amZmZmZnJPwAAAAAAANA/NDMzMzMz0z9nZmZmZmbWP5qZmZmZmdk/zczMzMzM3D8AAAAAAADgP5qZmZmZmeE/NDMzMzMz4z/NzMzMzMzkP2dmZmZmZuY/AAAAAAAA6D+amZmZmZnpPzQzMzMzM+s/zczMzMzM7D9nZmZmZmbuPwAAAAAAAPA/zczMzMzM8D+amZmZmZnxP2dmZmZmZvI/NDMzMzMz8z8AAAAAAAD0P83MzMzMzPQ/mpmZmZmZ9T9nZmZmZmb2PzQzMzMzM/c/AAAAAAAA+D/NzMzMzMz4P5qZmZmZmfk/Z2ZmZmZm+j80MzMzMzP7PwAAAAAAAPw/zczMzMzM/D+amZmZmZn9P2dmZmZmZv4/NDMzMzMz/z8AAAAAAAAAQGdmZmZmZgBAzczMzMzMAEAzMzMzMzMBQJqZmZmZmQFAAAAAAAAAAkBnZmZmZmYCQM3MzMzMzAJANDMzMzMzA0CamZmZmZkDQAAAAAAAAARAZ2ZmZmZmBEDNzMzMzMwEQDQzMzMzMwVAmpmZmZmZBUAAAAAAAAAGQGdmZmZmZgZAzczMzMzMBkA0MzMzMzMHQJqZmZmZmQdAAAAAAAAACEBnZmZmZmYIQM3MzMzMzAhANDMzMzMzCUCamZmZmZkJQAAAAAAAAApAZ2ZmZmZmCkDNzMzMzMwKQDQzMzMzMwtAmpmZmZmZC0AAAAAAAAAMQGdmZmZmZgxAzczMzMzMDEA0MzMzMzMNQJqZmZmZmQ1AAAAAAAAADkBnZmZmZmYOQM3MzMzMzA5ANDMzMzMzD0CamZmZmZkPQAAAAAAAABBAMzMzMzMzEEBnZmZmZmYQQJqZmZmZmRBAzczMzMzMEEAAAAAAAAARQDMzMzMzMxFAZ2ZmZmZmEUCamZmZmZkRQM3MzMzMzBFAAAAAAAAAEkAzMzMzMzMSQGdmZmZmZhJAmpmZmZmZEkDNzMzMzMwSQAAAAAAAABNANDMzMzMzE0BnZmZmZmYTQJqZmZmZmRNAzczMzMzME0AAAAAAAAAUQDQzMzMzMxRAZ2ZmZmZmFECamZmZmZkUQM3MzMzMzBRAAAAAAAAAFUA0MzMzMzMVQGdmZmZmZhVAmpmZmZmZFUDNzMzMzMwVQAAAAAAAABZANDMzMzMzFkBnZmZmZmYWQJqZmZmZmRZAzczMzMzMFkAAAAAAAAAXQDQzMzMzMxdAZ2ZmZmZmF0CamZmZmZkXQM3MzMzMzBdAAAAAAAAAGEA0MzMzMzMYQGdmZmZmZhhAmpmZmZmZGEDNzMzMzMwYQAAAAAAAABlA\",\"dtype\":\"float64\",\"shape\":[126]},\"y\":{\"__ndarray__\":\"AAAAAAAA8D9Ykigbw/XvP8AXqPkS1+8/N+lePgOk7z96YneVtFzvP6HufZ9UAe8/ugkv1B2S7j+35Q1dVw/uP/ii2+dUee0/LT8McXbQ7D9QfVsGKBXsP1ATqYHhR+s/FFtIPCZp6j/CmPS6hHnpP5Kdn1KWeeg/HyFVxv5p5z9mmHHea0vmPxuXb/mUHuU/HeKSljrk4z+hRrzaJZ3iP4wGtQ8oSuE/JGmIPDTY3z8RYccGuAfdP+cl24GoJNo/0Hk7lN4w1z9S2YvYPS7UP19MKmizHtE/5L9VP2kIzD8DVxO8e8HFPwGhgv1E2b4/p/nFT9Ubsj8tZlxFPUuVPzMWX8V65p2/4vnaPURBtL+ObKL0+X3Av4rp00nE0Ma/eg4lT/UUzb9uTU1GRaPRv69FNLnGsNS/tKEQ8Qqx178FclNXJqLav/Sqogg3gt2/yZ6YBLMn4L9KfA459IPhv3CtiEsA1eK/bLq5kf8Z5L/jLzAXIlLlv7DYZiKgfOa/iNGQtLqY578osM8DvKXov32Lhe/3oum/fXZ4bsyP6r9w9ID2oWvrvzIPgd3rNey/pgNmsyju7L8U7fqU4pPtv0xwV3evJu6/dSK6azGm7r/KQKPbFhLvv7JDCb0aau+/0uWFvgSu77+0Wl9rqd3vvySmVkfq+O+/gkkp4rX/77+2y7niB/Lvv/j31wnpz++/tgunLG+Z778HaaUmvU7vvwK+XsMC8O6/mObWn3x97r9fGsEDdPftv6M3nLI+Xu2/WSzStD6y7L82mv0Y4vPrvzfZfa2iI+u/92eGsgVC6r/oqNuEm0/pvwR7c0H/TOi/58g0YtY657+9kBVU0Bnmv8Ek2wam6uS/xXfEdhmu479kLWow9WTiv3zaI88LEOG/HseK7G5g37/0ZxWLsozcv1M7FpKxptm/yRohykaw1r+qwmJ8V6vTv3wmHDzSmdC/az1YVFv7yr9y2uNmzrHEv4qNWSsHtry/8eVh/iTsr780alBDOl+Jv3V70+GWQKM/gEBOWFVmtj8W1x0FBY/BP2MWfCej38c/YI7Jp/ogzj/aSmtwhSfSP/KIr8HvMtU/q1zkjskw2D8/HC/NKB/bP+5qN1kt/N0/CFQwFQFj4D/cMnQ/b73hP7DuFICDDOM/i7Alb2dP5D/rIVBxTIXlP0jUBzxsreY/h4RrVAnH5z+ECoOIb9HoP/NgjGL0y+k/Kv4Nlve16j+Us2hm447rPydypwYtVuw/SaVP8lQL7T8pUPk+563tP5K3euZ7Pe4/9iJ4Cbe57j9cHS0qSSLvP7SYSV/vdu8/1WfCfnO37z/OqXlArOPvP3X5qFh9++8/\",\"dtype\":\"float64\",\"shape\":[126]}},\"selected\":{\"id\":\"39972\"},\"selection_policy\":{\"id\":\"39971\"}},\"id\":\"39943\",\"type\":\"ColumnDataSource\"},{\"attributes\":{},\"id\":\"39954\",\"type\":\"UnionRenderers\"},{\"attributes\":{},\"id\":\"39899\",\"type\":\"DataRange1d\"},{\"attributes\":{},\"id\":\"39912\",\"type\":\"BasicTicker\"},{\"attributes\":{\"data_source\":{\"id\":\"39958\"},\"glyph\":{\"id\":\"39959\"},\"hover_glyph\":null,\"muted_glyph\":null,\"nonselection_glyph\":{\"id\":\"39960\"},\"selection_glyph\":null,\"view\":{\"id\":\"39962\"}},\"id\":\"39961\",\"type\":\"GlyphRenderer\"},{\"attributes\":{\"axis\":{\"id\":\"39907\"},\"ticker\":null},\"id\":\"39910\",\"type\":\"Grid\"},{\"attributes\":{\"data\":{\"x\":{\"__ndarray__\":\"AAAAAAAAAACamZmZmZmpP5qZmZmZmbk/NDMzMzMzwz+amZmZmZnJPwAAAAAAANA/NDMzMzMz0z9nZmZmZmbWP5qZmZmZmdk/zczMzMzM3D8AAAAAAADgP5qZmZmZmeE/NDMzMzMz4z/NzMzMzMzkP2dmZmZmZuY/AAAAAAAA6D+amZmZmZnpPzQzMzMzM+s/zczMzMzM7D9nZmZmZmbuPwAAAAAAAPA/zczMzMzM8D+amZmZmZnxP2dmZmZmZvI/NDMzMzMz8z8AAAAAAAD0P83MzMzMzPQ/mpmZmZmZ9T9nZmZmZmb2PzQzMzMzM/c/AAAAAAAA+D/NzMzMzMz4P5qZmZmZmfk/Z2ZmZmZm+j80MzMzMzP7PwAAAAAAAPw/zczMzMzM/D+amZmZmZn9P2dmZmZmZv4/NDMzMzMz/z8AAAAAAAAAQGdmZmZmZgBAzczMzMzMAEAzMzMzMzMBQJqZmZmZmQFAAAAAAAAAAkBnZmZmZmYCQM3MzMzMzAJANDMzMzMzA0CamZmZmZkDQAAAAAAAAARAZ2ZmZmZmBEDNzMzMzMwEQDQzMzMzMwVAmpmZmZmZBUAAAAAAAAAGQGdmZmZmZgZAzczMzMzMBkA0MzMzMzMHQJqZmZmZmQdAAAAAAAAACEBnZmZmZmYIQM3MzMzMzAhANDMzMzMzCUCamZmZmZkJQAAAAAAAAApAZ2ZmZmZmCkDNzMzMzMwKQDQzMzMzMwtAmpmZmZmZC0AAAAAAAAAMQGdmZmZmZgxAzczMzMzMDEA0MzMzMzMNQJqZmZmZmQ1AAAAAAAAADkBnZmZmZmYOQM3MzMzMzA5ANDMzMzMzD0CamZmZmZkPQAAAAAAAABBAMzMzMzMzEEBnZmZmZmYQQJqZmZmZmRBAzczMzMzMEEAAAAAAAAARQDMzMzMzMxFAZ2ZmZmZmEUCamZmZmZkRQM3MzMzMzBFAAAAAAAAAEkAzMzMzMzMSQGdmZmZmZhJAmpmZmZmZEkDNzMzMzMwSQAAAAAAAABNANDMzMzMzE0BnZmZmZmYTQJqZmZmZmRNAzczMzMzME0AAAAAAAAAUQDQzMzMzMxRAZ2ZmZmZmFECamZmZmZkUQM3MzMzMzBRAAAAAAAAAFUA0MzMzMzMVQGdmZmZmZhVAmpmZmZmZFUDNzMzMzMwVQAAAAAAAABZANDMzMzMzFkBnZmZmZmYWQJqZmZmZmRZAzczMzMzMFkAAAAAAAAAXQDQzMzMzMxdAZ2ZmZmZmF0CamZmZmZkXQM3MzMzMzBdAAAAAAAAAGEA0MzMzMzMYQGdmZmZmZhhAmpmZmZmZGEDNzMzMzMwYQAAAAAAAABlA\",\"dtype\":\"float64\",\"shape\":[126]},\"y\":{\"__ndarray__\":\"AAAAAAAAAAA8ZP+i3papPyzLi8uujrk/I+3f6ckgwz+80j0j/23JP3cV89Tuqs8/NLq6lc3p0j+MCjmlCfLVP2tnK+k67Ng/JUb5rXnW2z/wBUt06K7eP9RoSZHaueA/WkGlF40R4j+r15Phr13jP7kZRmluneQ/Do+/FvzP5T/N/r/ClPTmP4OARjR9Cug/QKhdmAMR6T9vJuTzfwfqP+4MCY9U7eo/wPI2Wu7B6z84Yy1MxYTsP5liDLlcNe0/xVUaokPT7T+MQRH+FF7uP0sexfl31e4/vuH5MCA57z8D4UTfzYjvP9xD2ghOxO8/i20sm3rr7z9oe0iFOv7vP8VC4MeB/O8/yIr3fFHm7z+2mC/Xt7vvP0aCsRjQfO8/8BW9gcIp7z91guc2xMLuP1c4Gh8XSO4/d8dnuQm67T9GtNHq9hjtP/tnH8RFZew//HLrP2mf6z/rUxH538fqPwjXqtkz3+k/quPQwvnl6D8iL1gt0dznP+jJxsNjxOY/mNHD9WSd5T98v0aFkWjkP7DKzw2vJuM/oqb2hYvY4T+7haC7/H7gP/1nY5a/Nd4/DKckJDFa2z/7g8E5Im3YP8DlXSNycNU/1yNVLQpm0j/TMEjWuJ/OP0aravHEX8g/W9W2bTgQwj+f7yAPOmq3Py4QmIIPSqU/DCjuo9E3gb8yLeg5N+Otv4ykZCStsru/lwy3ygIxxL+BV+iIw3vKv3RM/xDJWtC/nOiDYTlt078fYrp+O3PWv9c1iiXgatm/8dHwQ0FS3L9ZwwYwgyffv0EbLuxq9OC/IgZ19jpK4r+gwOz/VpTjvyvQtM7r0eS/zrMfLS4C5r9A1LlrWyTnv64e3N25N+i/KpR6UJk76b+9yOJ6Uy/qv7wtImlMEuu/1xLQ3/Lj679wg/u4wKPsvyWKATo7Ue2/7e0UYvPr7b/wKEUxhnPuv6km1+ec5+6/gEDHPe1H77+N9FCSOZTvv7rsXRNRzO+/zhrD3A/w779S7DcPX//vv2Dk+N40+u+//z0MmpTg779ylCSmjrLvv6TrInZAcO+/k88+d9QZ778zmeD1ga/uv8Y3P/qMMe6/uSLYHEag7b+WTt1SCvzsv9ckurJCRey/pI3VMGR86783ErxU76Hqv4P64eZvtum/cAUyl3y66L9Q96Gctq7nv1ewCk7Jk+a/zcyFtGlq5b+09ZYXVjPkv7UAa4NV7+K/oMd6STef4b8uNuN70kPgv8rfjscKvN2/ajkq5mnd2r8bvQtkmO3Xvwpad1F37tS/wKKwivHh0b+L+Mn79JPNv1z7M9cZUce/2vTYRFP/wL8ezb7bWEW1v7wS9cPd/KC/\",\"dtype\":\"float64\",\"shape\":[126]}},\"selected\":{\"id\":\"39955\"},\"selection_policy\":{\"id\":\"39954\"}},\"id\":\"39929\",\"type\":\"ColumnDataSource\"},{\"attributes\":{},\"id\":\"39971\",\"type\":\"UnionRenderers\"},{\"attributes\":{\"overlay\":{\"id\":\"39921\"}},\"id\":\"39917\",\"type\":\"BoxZoomTool\"},{\"attributes\":{\"label\":{\"value\":\"cosine\"},\"renderers\":[{\"id\":\"39946\"}]},\"id\":\"39957\",\"type\":\"LegendItem\"},{\"attributes\":{},\"id\":\"39916\",\"type\":\"WheelZoomTool\"},{\"attributes\":{},\"id\":\"39901\",\"type\":\"DataRange1d\"},{\"attributes\":{\"data_source\":{\"id\":\"39943\"},\"glyph\":{\"id\":\"39944\"},\"hover_glyph\":null,\"muted_glyph\":null,\"nonselection_glyph\":{\"id\":\"39945\"},\"selection_glyph\":null,\"view\":{\"id\":\"39947\"}},\"id\":\"39946\",\"type\":\"GlyphRenderer\"},{\"attributes\":{\"fill_color\":{\"value\":\"#1f77b4\"},\"line_color\":{\"value\":\"grey\"},\"line_width\":{\"value\":2},\"x\":{\"field\":\"x\"},\"y\":{\"field\":\"y\"}},\"id\":\"39959\",\"type\":\"Square\"},{\"attributes\":{},\"id\":\"39938\",\"type\":\"BasicTickFormatter\"},{\"attributes\":{},\"id\":\"39918\",\"type\":\"SaveTool\"},{\"attributes\":{\"data\":{\"x\":{\"__ndarray__\":\"AAAAAAAAAACamZmZmZmpP5qZmZmZmbk/NDMzMzMzwz+amZmZmZnJPwAAAAAAANA/NDMzMzMz0z9nZmZmZmbWP5qZmZmZmdk/zczMzMzM3D8AAAAAAADgP5qZmZmZmeE/NDMzMzMz4z/NzMzMzMzkP2dmZmZmZuY/AAAAAAAA6D+amZmZmZnpPzQzMzMzM+s/zczMzMzM7D9nZmZmZmbuPwAAAAAAAPA/zczMzMzM8D+amZmZmZnxP2dmZmZmZvI/NDMzMzMz8z8AAAAAAAD0P83MzMzMzPQ/mpmZmZmZ9T9nZmZmZmb2PzQzMzMzM/c/AAAAAAAA+D/NzMzMzMz4P5qZmZmZmfk/Z2ZmZmZm+j80MzMzMzP7PwAAAAAAAPw/zczMzMzM/D+amZmZmZn9P2dmZmZmZv4/NDMzMzMz/z8AAAAAAAAAQGdmZmZmZgBAzczMzMzMAEAzMzMzMzMBQJqZmZmZmQFAAAAAAAAAAkBnZmZmZmYCQM3MzMzMzAJANDMzMzMzA0CamZmZmZkDQAAAAAAAAARAZ2ZmZmZmBEDNzMzMzMwEQDQzMzMzMwVAmpmZmZmZBUAAAAAAAAAGQGdmZmZmZgZAzczMzMzMBkA0MzMzMzMHQJqZmZmZmQdAAAAAAAAACEBnZmZmZmYIQM3MzMzMzAhANDMzMzMzCUCamZmZmZkJQAAAAAAAAApAZ2ZmZmZmCkDNzMzMzMwKQDQzMzMzMwtAmpmZmZmZC0AAAAAAAAAMQGdmZmZmZgxAzczMzMzMDEA0MzMzMzMNQJqZmZmZmQ1AAAAAAAAADkBnZmZmZmYOQM3MzMzMzA5ANDMzMzMzD0CamZmZmZkPQAAAAAAAABBAMzMzMzMzEEBnZmZmZmYQQJqZmZmZmRBAzczMzMzMEEAAAAAAAAARQDMzMzMzMxFAZ2ZmZmZmEUCamZmZmZkRQM3MzMzMzBFAAAAAAAAAEkAzMzMzMzMSQGdmZmZmZhJAmpmZmZmZEkDNzMzMzMwSQAAAAAAAABNANDMzMzMzE0BnZmZmZmYTQJqZmZmZmRNAzczMzMzME0AAAAAAAAAUQDQzMzMzMxRAZ2ZmZmZmFECamZmZmZkUQM3MzMzMzBRAAAAAAAAAFUA0MzMzMzMVQGdmZmZmZhVAmpmZmZmZFUDNzMzMzMwVQAAAAAAAABZANDMzMzMzFkBnZmZmZmYWQJqZmZmZmRZAzczMzMzMFkAAAAAAAAAXQDQzMzMzMxdAZ2ZmZmZmF0CamZmZmZkXQM3MzMzMzBdAAAAAAAAAGEA0MzMzMzMYQGdmZmZmZhhAmpmZmZmZGEDNzMzMzMwYQAAAAAAAABlA\",\"dtype\":\"float64\",\"shape\":[126]},\"y\":{\"__ndarray__\":\"AAAAAAAAAIA8ZP+i3papvyzLi8uujrm/I+3f6ckgw7+80j0j/23Jv3cV89Tuqs+/NLq6lc3p0r+MCjmlCfLVv2tnK+k67Ni/JUb5rXnW27/wBUt06K7ev9RoSZHaueC/WkGlF40R4r+r15Phr13jv7kZRmluneS/Do+/FvzP5b/N/r/ClPTmv4OARjR9Cui/QKhdmAMR6b9vJuTzfwfqv+4MCY9U7eq/wPI2Wu7B6784Yy1MxYTsv5liDLlcNe2/xVUaokPT7b+MQRH+FF7uv0sexfl31e6/vuH5MCA5778D4UTfzYjvv9xD2ghOxO+/i20sm3rr779oe0iFOv7vv8VC4MeB/O+/yIr3fFHm77+2mC/Xt7vvv0aCsRjQfO+/8BW9gcIp7791guc2xMLuv1c4Gh8XSO6/d8dnuQm67b9GtNHq9hjtv/tnH8RFZey//HLrP2mf67/rUxH538fqvwjXqtkz3+m/quPQwvnl6L8iL1gt0dznv+jJxsNjxOa/mNHD9WSd5b98v0aFkWjkv7DKzw2vJuO/oqb2hYvY4b+7haC7/H7gv/1nY5a/Nd6/DKckJDFa27/7g8E5Im3Yv8DlXSNycNW/1yNVLQpm0r/TMEjWuJ/Ov0aravHEX8i/W9W2bTgQwr+f7yAPOmq3vy4QmIIPSqW/DCjuo9E3gT8yLeg5N+OtP4ykZCStsrs/lwy3ygIxxD+BV+iIw3vKP3RM/xDJWtA/nOiDYTlt0z8fYrp+O3PWP9c1iiXgatk/8dHwQ0FS3D9ZwwYwgyffP0EbLuxq9OA/IgZ19jpK4j+gwOz/VpTjPyvQtM7r0eQ/zrMfLS4C5j9A1LlrWyTnP64e3N25N+g/KpR6UJk76T+9yOJ6Uy/qP7wtImlMEus/1xLQ3/Lj6z9wg/u4wKPsPyWKATo7Ue0/7e0UYvPr7T/wKEUxhnPuP6km1+ec5+4/gEDHPe1H7z+N9FCSOZTvP7rsXRNRzO8/zhrD3A/w7z9S7DcPX//vP2Dk+N40+u8//z0MmpTg7z9ylCSmjrLvP6TrInZAcO8/k88+d9QZ7z8zmeD1ga/uP8Y3P/qMMe4/uSLYHEag7T+WTt1SCvzsP9ckurJCRew/pI3VMGR86z83ErxU76HqP4P64eZvtuk/cAUyl3y66D9Q96Gctq7nP1ewCk7Jk+Y/zcyFtGlq5T+09ZYXVjPkP7UAa4NV7+I/oMd6STef4T8uNuN70kPgP8rfjscKvN0/ajkq5mnd2j8bvQtkmO3XPwpad1F37tQ/wKKwivHh0T+L+Mn79JPNP1z7M9cZUcc/2vTYRFP/wD8ezb7bWEW1P7wS9cPd/KA/\",\"dtype\":\"float64\",\"shape\":[126]}},\"selected\":{\"id\":\"40614\"},\"selection_policy\":{\"id\":\"40613\"}},\"id\":\"39958\",\"type\":\"ColumnDataSource\"},{\"attributes\":{\"source\":{\"id\":\"39958\"}},\"id\":\"39962\",\"type\":\"CDSView\"},{\"attributes\":{\"items\":[{\"id\":\"39942\"},{\"id\":\"39957\"},{\"id\":\"39974\"}]},\"id\":\"39941\",\"type\":\"Legend\"},{\"attributes\":{\"label\":{\"value\":\"-sine\"},\"renderers\":[{\"id\":\"39961\"}]},\"id\":\"39974\",\"type\":\"LegendItem\"},{\"attributes\":{\"label\":{\"value\":\"sine\"},\"renderers\":[{\"id\":\"39932\"}]},\"id\":\"39942\",\"type\":\"LegendItem\"},{\"attributes\":{},\"id\":\"40614\",\"type\":\"Selection\"},{\"attributes\":{\"axis\":{\"id\":\"39911\"},\"dimension\":1,\"ticker\":null},\"id\":\"39914\",\"type\":\"Grid\"},{\"attributes\":{},\"id\":\"39905\",\"type\":\"LinearScale\"},{\"attributes\":{},\"id\":\"39920\",\"type\":\"HelpTool\"},{\"attributes\":{\"source\":{\"id\":\"39929\"}},\"id\":\"39933\",\"type\":\"CDSView\"},{\"attributes\":{},\"id\":\"39936\",\"type\":\"BasicTickFormatter\"},{\"attributes\":{\"line_alpha\":0.1,\"line_color\":\"navy\",\"line_width\":2,\"x\":{\"field\":\"x\"},\"y\":{\"field\":\"y\"}},\"id\":\"39931\",\"type\":\"Line\"},{\"attributes\":{\"active_drag\":\"auto\",\"active_inspect\":\"auto\",\"active_multi\":null,\"active_scroll\":\"auto\",\"active_tap\":\"auto\",\"tools\":[{\"id\":\"39915\"},{\"id\":\"39916\"},{\"id\":\"39917\"},{\"id\":\"39918\"},{\"id\":\"39919\"},{\"id\":\"39920\"}]},\"id\":\"39922\",\"type\":\"Toolbar\"},{\"attributes\":{},\"id\":\"39903\",\"type\":\"LinearScale\"},{\"attributes\":{},\"id\":\"39919\",\"type\":\"ResetTool\"},{\"attributes\":{\"source\":{\"id\":\"39943\"}},\"id\":\"39947\",\"type\":\"CDSView\"},{\"attributes\":{},\"id\":\"39955\",\"type\":\"Selection\"},{\"attributes\":{},\"id\":\"39972\",\"type\":\"Selection\"},{\"attributes\":{\"data_source\":{\"id\":\"39929\"},\"glyph\":{\"id\":\"39930\"},\"hover_glyph\":null,\"muted_glyph\":null,\"nonselection_glyph\":{\"id\":\"39931\"},\"selection_glyph\":null,\"view\":{\"id\":\"39933\"}},\"id\":\"39932\",\"type\":\"GlyphRenderer\"},{\"attributes\":{\"formatter\":{\"id\":\"39938\"},\"ticker\":{\"id\":\"39912\"}},\"id\":\"39911\",\"type\":\"LinearAxis\"},{\"attributes\":{},\"id\":\"39908\",\"type\":\"BasicTicker\"},{\"attributes\":{\"line_color\":\"navy\",\"line_width\":2,\"x\":{\"field\":\"x\"},\"y\":{\"field\":\"y\"}},\"id\":\"39930\",\"type\":\"Line\"},{\"attributes\":{\"formatter\":{\"id\":\"39936\"},\"ticker\":{\"id\":\"39908\"}},\"id\":\"39907\",\"type\":\"LinearAxis\"}],\"root_ids\":[\"39898\"]},\"title\":\"Bokeh Application\",\"version\":\"2.0.2\"}};\n",
       "  var render_items = [{\"docid\":\"1d44b201-3aea-41a2-a49f-29aa19fdd3c7\",\"root_ids\":[\"39898\"],\"roots\":{\"39898\":\"d9faa981-7e03-4bea-b5e6-73436b7a637c\"}}];\n",
       "  root.Bokeh.embed.embed_items_notebook(docs_json, render_items);\n",
       "\n",
       "  }\n",
       "  if (root.Bokeh !== undefined) {\n",
       "    embed_document(root);\n",
       "  } else {\n",
       "    var attempts = 0;\n",
       "    var timer = setInterval(function(root) {\n",
       "      if (root.Bokeh !== undefined) {\n",
       "        clearInterval(timer);\n",
       "        embed_document(root);\n",
       "      } else {\n",
       "        attempts++;\n",
       "        if (attempts > 100) {\n",
       "          clearInterval(timer);\n",
       "          console.log(\"Bokeh: ERROR: Unable to run BokehJS code because BokehJS library is missing\");\n",
       "        }\n",
       "      }\n",
       "    }, 10, root)\n",
       "  }\n",
       "})(window);"
      ],
      "application/vnd.bokehjs_exec.v0+json": ""
     },
     "metadata": {
      "application/vnd.bokehjs_exec.v0+json": {
       "id": "39898"
      }
     },
     "output_type": "display_data"
    }
   ],
   "source": [
    "from bokeh.plotting import figure, output_file, show\n",
    "import numpy as np\n",
    "import math\n",
    "x = np.arange(0, math.pi*2, 0.05)\n",
    "annot_1 = figure()\n",
    "annot_1.line(x, np.sin(x),line_width = 2, line_color = 'navy', legend = 'sine')\n",
    "annot_1.circle(x,np.cos(x), line_width = 2, line_color = 'orange', legend = 'cosine')\n",
    "annot_1.square(x,-np.sin(x),line_width = 2, line_color = 'grey', legend = '-sine')\n",
    "show(annot_1)"
   ]
  },
  {
   "cell_type": "markdown",
   "metadata": {},
   "source": [
    "### Bokeh - Pandas\n",
    "\n",
    "n all the examples above, the data to be plotted has been provided in the form of Python lists or numpy arrays. It is also possible to provide the data source in the form of pandas DataFrame object.\n",
    "\n",
    "DataFrame is a two-dimensional data structure. Columns in the dataframe can be of different data types. The Pandas library has functions to create dataframe from various sources such as CSV file, Excel worksheet, SQL table, etc.\n",
    "\n",
    "For the purpose of following example, we are using a CSV file consisting of two columns representing a number x and 10x. The test.csv file is as below "
   ]
  },
  {
   "cell_type": "code",
   "execution_count": 220,
   "metadata": {},
   "outputs": [
    {
     "data": {
      "text/html": [
       "<div>\n",
       "<style scoped>\n",
       "    .dataframe tbody tr th:only-of-type {\n",
       "        vertical-align: middle;\n",
       "    }\n",
       "\n",
       "    .dataframe tbody tr th {\n",
       "        vertical-align: top;\n",
       "    }\n",
       "\n",
       "    .dataframe thead th {\n",
       "        text-align: right;\n",
       "    }\n",
       "</style>\n",
       "<table border=\"1\" class=\"dataframe\">\n",
       "  <thead>\n",
       "    <tr style=\"text-align: right;\">\n",
       "      <th></th>\n",
       "      <th>Acceleration</th>\n",
       "      <th>Cylinders</th>\n",
       "      <th>Displacement</th>\n",
       "      <th>Horsepower</th>\n",
       "      <th>Manufacturer</th>\n",
       "      <th>Model</th>\n",
       "      <th>Model_Year</th>\n",
       "      <th>MPG</th>\n",
       "      <th>Origin</th>\n",
       "      <th>Weight</th>\n",
       "    </tr>\n",
       "  </thead>\n",
       "  <tbody>\n",
       "    <tr>\n",
       "      <th>0</th>\n",
       "      <td>12.0</td>\n",
       "      <td>8</td>\n",
       "      <td>307</td>\n",
       "      <td>130</td>\n",
       "      <td>chevrolet</td>\n",
       "      <td>chevrolet chevelle malibu</td>\n",
       "      <td>70</td>\n",
       "      <td>18.0</td>\n",
       "      <td>USA</td>\n",
       "      <td>3504</td>\n",
       "    </tr>\n",
       "    <tr>\n",
       "      <th>1</th>\n",
       "      <td>11.5</td>\n",
       "      <td>8</td>\n",
       "      <td>350</td>\n",
       "      <td>165</td>\n",
       "      <td>buick</td>\n",
       "      <td>buick skylark 320</td>\n",
       "      <td>70</td>\n",
       "      <td>15.0</td>\n",
       "      <td>USA</td>\n",
       "      <td>3693</td>\n",
       "    </tr>\n",
       "    <tr>\n",
       "      <th>2</th>\n",
       "      <td>11.0</td>\n",
       "      <td>8</td>\n",
       "      <td>318</td>\n",
       "      <td>150</td>\n",
       "      <td>plymouth</td>\n",
       "      <td>plymouth satellite</td>\n",
       "      <td>70</td>\n",
       "      <td>18.0</td>\n",
       "      <td>USA</td>\n",
       "      <td>3436</td>\n",
       "    </tr>\n",
       "    <tr>\n",
       "      <th>3</th>\n",
       "      <td>12.0</td>\n",
       "      <td>8</td>\n",
       "      <td>304</td>\n",
       "      <td>150</td>\n",
       "      <td>amc</td>\n",
       "      <td>amc rebel sst</td>\n",
       "      <td>70</td>\n",
       "      <td>16.0</td>\n",
       "      <td>USA</td>\n",
       "      <td>3433</td>\n",
       "    </tr>\n",
       "    <tr>\n",
       "      <th>4</th>\n",
       "      <td>10.5</td>\n",
       "      <td>8</td>\n",
       "      <td>302</td>\n",
       "      <td>140</td>\n",
       "      <td>ford</td>\n",
       "      <td>ford torino</td>\n",
       "      <td>70</td>\n",
       "      <td>17.0</td>\n",
       "      <td>USA</td>\n",
       "      <td>3449</td>\n",
       "    </tr>\n",
       "    <tr>\n",
       "      <th>...</th>\n",
       "      <td>...</td>\n",
       "      <td>...</td>\n",
       "      <td>...</td>\n",
       "      <td>...</td>\n",
       "      <td>...</td>\n",
       "      <td>...</td>\n",
       "      <td>...</td>\n",
       "      <td>...</td>\n",
       "      <td>...</td>\n",
       "      <td>...</td>\n",
       "    </tr>\n",
       "    <tr>\n",
       "      <th>95</th>\n",
       "      <td>15.6</td>\n",
       "      <td>4</td>\n",
       "      <td>140</td>\n",
       "      <td>86</td>\n",
       "      <td>ford</td>\n",
       "      <td>ford mustang gl</td>\n",
       "      <td>82</td>\n",
       "      <td>27.0</td>\n",
       "      <td>USA</td>\n",
       "      <td>2790</td>\n",
       "    </tr>\n",
       "    <tr>\n",
       "      <th>96</th>\n",
       "      <td>24.6</td>\n",
       "      <td>4</td>\n",
       "      <td>97</td>\n",
       "      <td>52</td>\n",
       "      <td>volkswagen</td>\n",
       "      <td>volkswagen pickup</td>\n",
       "      <td>82</td>\n",
       "      <td>44.0</td>\n",
       "      <td>Germany</td>\n",
       "      <td>2130</td>\n",
       "    </tr>\n",
       "    <tr>\n",
       "      <th>97</th>\n",
       "      <td>11.6</td>\n",
       "      <td>4</td>\n",
       "      <td>135</td>\n",
       "      <td>84</td>\n",
       "      <td>dodge</td>\n",
       "      <td>dodge rampage</td>\n",
       "      <td>82</td>\n",
       "      <td>32.0</td>\n",
       "      <td>USA</td>\n",
       "      <td>2295</td>\n",
       "    </tr>\n",
       "    <tr>\n",
       "      <th>98</th>\n",
       "      <td>18.6</td>\n",
       "      <td>4</td>\n",
       "      <td>120</td>\n",
       "      <td>79</td>\n",
       "      <td>ford</td>\n",
       "      <td>ford ranger</td>\n",
       "      <td>82</td>\n",
       "      <td>28.0</td>\n",
       "      <td>USA</td>\n",
       "      <td>2625</td>\n",
       "    </tr>\n",
       "    <tr>\n",
       "      <th>99</th>\n",
       "      <td>19.4</td>\n",
       "      <td>4</td>\n",
       "      <td>119</td>\n",
       "      <td>82</td>\n",
       "      <td>chevrolet</td>\n",
       "      <td>chevrolet s-10</td>\n",
       "      <td>82</td>\n",
       "      <td>31.0</td>\n",
       "      <td>USA</td>\n",
       "      <td>2720</td>\n",
       "    </tr>\n",
       "  </tbody>\n",
       "</table>\n",
       "<p>100 rows × 10 columns</p>\n",
       "</div>"
      ],
      "text/plain": [
       "    Acceleration  Cylinders  Displacement  Horsepower   Manufacturer  \\\n",
       "0           12.0          8           307         130  chevrolet       \n",
       "1           11.5          8           350         165  buick           \n",
       "2           11.0          8           318         150  plymouth        \n",
       "3           12.0          8           304         150  amc             \n",
       "4           10.5          8           302         140  ford            \n",
       "..           ...        ...           ...         ...            ...   \n",
       "95          15.6          4           140          86  ford            \n",
       "96          24.6          4            97          52  volkswagen      \n",
       "97          11.6          4           135          84  dodge           \n",
       "98          18.6          4           120          79  ford            \n",
       "99          19.4          4           119          82  chevrolet       \n",
       "\n",
       "                                Model  Model_Year   MPG   Origin  Weight  \n",
       "0   chevrolet chevelle malibu                  70  18.0  USA        3504  \n",
       "1   buick skylark 320                          70  15.0  USA        3693  \n",
       "2   plymouth satellite                         70  18.0  USA        3436  \n",
       "3   amc rebel sst                              70  16.0  USA        3433  \n",
       "4   ford torino                                70  17.0  USA        3449  \n",
       "..                                ...         ...   ...      ...     ...  \n",
       "95  ford mustang gl                            82  27.0  USA        2790  \n",
       "96  volkswagen pickup                          82  44.0  Germany    2130  \n",
       "97  dodge rampage                              82  32.0  USA        2295  \n",
       "98  ford ranger                                82  28.0  USA        2625  \n",
       "99  chevrolet s-10                             82  31.0  USA        2720  \n",
       "\n",
       "[100 rows x 10 columns]"
      ]
     },
     "execution_count": 220,
     "metadata": {},
     "output_type": "execute_result"
    }
   ],
   "source": [
    "cars"
   ]
  },
  {
   "cell_type": "code",
   "execution_count": 224,
   "metadata": {},
   "outputs": [
    {
     "data": {
      "text/html": [
       "\n",
       "\n",
       "\n",
       "\n",
       "\n",
       "\n",
       "  <div class=\"bk-root\" id=\"9372e529-cbd5-47ca-8091-637db63f642b\" data-root-id=\"42681\"></div>\n"
      ]
     },
     "metadata": {},
     "output_type": "display_data"
    },
    {
     "data": {
      "application/javascript": [
       "(function(root) {\n",
       "  function embed_document(root) {\n",
       "    \n",
       "  var docs_json = {\"7e68c444-7ea5-4661-b6a1-799a1186b5b2\":{\"roots\":{\"references\":[{\"attributes\":{\"below\":[{\"id\":\"42690\"}],\"center\":[{\"id\":\"42693\"},{\"id\":\"42697\"}],\"left\":[{\"id\":\"42694\"}],\"renderers\":[{\"id\":\"42715\"},{\"id\":\"42720\"}],\"title\":{\"id\":\"43386\"},\"toolbar\":{\"id\":\"42705\"},\"x_range\":{\"id\":\"42682\"},\"x_scale\":{\"id\":\"42686\"},\"y_range\":{\"id\":\"42684\"},\"y_scale\":{\"id\":\"42688\"}},\"id\":\"42681\",\"subtype\":\"Figure\",\"type\":\"Plot\"},{\"attributes\":{},\"id\":\"43387\",\"type\":\"BasicTickFormatter\"},{\"attributes\":{},\"id\":\"42698\",\"type\":\"PanTool\"},{\"attributes\":{},\"id\":\"42699\",\"type\":\"WheelZoomTool\"},{\"attributes\":{},\"id\":\"43393\",\"type\":\"UnionRenderers\"},{\"attributes\":{\"data\":{\"x\":{\"__ndarray__\":\"AAAAAAAAKEAAAAAAAAAnQAAAAAAAACZAAAAAAAAAKEAAAAAAAAAlQAAAAAAAACRAAAAAAAAAIkAAAAAAAAAhQAAAAAAAACRAAAAAAAAAIUAAAAAAAIAxQAAAAAAAACdAAAAAAAAAJkAAAAAAAAAlQAAAAAAAACZAAAAAAAAAJEA=\",\"dtype\":\"float64\",\"shape\":[16]},\"y\":[130,165,150,150,140,198,220,215,225,190,115,165,153,175,175,170]},\"selected\":{\"id\":\"43392\"},\"selection_policy\":{\"id\":\"43391\"}},\"id\":\"42712\",\"type\":\"ColumnDataSource\"},{\"attributes\":{},\"id\":\"43394\",\"type\":\"Selection\"},{\"attributes\":{\"bottom_units\":\"screen\",\"fill_alpha\":0.5,\"fill_color\":\"lightgrey\",\"left_units\":\"screen\",\"level\":\"overlay\",\"line_alpha\":1.0,\"line_color\":\"black\",\"line_dash\":[4,4],\"line_width\":2,\"render_mode\":\"css\",\"right_units\":\"screen\",\"top_units\":\"screen\"},\"id\":\"42704\",\"type\":\"BoxAnnotation\"},{\"attributes\":{},\"id\":\"43392\",\"type\":\"Selection\"},{\"attributes\":{},\"id\":\"42701\",\"type\":\"SaveTool\"},{\"attributes\":{},\"id\":\"42686\",\"type\":\"LinearScale\"},{\"attributes\":{\"data\":{\"x\":{\"__ndarray__\":\"AAAAAAAAKEAAAAAAAAAnQAAAAAAAACZAAAAAAAAAKEAAAAAAAAAlQAAAAAAAACRAAAAAAAAAIkAAAAAAAAAhQAAAAAAAACRAAAAAAAAAIUAAAAAAAIAxQAAAAAAAACdAAAAAAAAAJkAAAAAAAAAlQAAAAAAAACZAAAAAAAAAJEA=\",\"dtype\":\"float64\",\"shape\":[16]},\"y\":[130,165,150,150,140,198,220,215,225,190,115,165,153,175,175,170]},\"selected\":{\"id\":\"43394\"},\"selection_policy\":{\"id\":\"43393\"}},\"id\":\"42717\",\"type\":\"ColumnDataSource\"},{\"attributes\":{\"source\":{\"id\":\"42712\"}},\"id\":\"42716\",\"type\":\"CDSView\"},{\"attributes\":{\"text\":\"\"},\"id\":\"43386\",\"type\":\"Title\"},{\"attributes\":{\"data_source\":{\"id\":\"42712\"},\"glyph\":{\"id\":\"42713\"},\"hover_glyph\":null,\"muted_glyph\":null,\"nonselection_glyph\":{\"id\":\"42714\"},\"selection_glyph\":null,\"view\":{\"id\":\"42716\"}},\"id\":\"42715\",\"type\":\"GlyphRenderer\"},{\"attributes\":{},\"id\":\"42703\",\"type\":\"HelpTool\"},{\"attributes\":{},\"id\":\"43391\",\"type\":\"UnionRenderers\"},{\"attributes\":{\"data_source\":{\"id\":\"42717\"},\"glyph\":{\"id\":\"42718\"},\"hover_glyph\":null,\"muted_glyph\":null,\"nonselection_glyph\":{\"id\":\"42719\"},\"selection_glyph\":null,\"view\":{\"id\":\"42721\"}},\"id\":\"42720\",\"type\":\"GlyphRenderer\"},{\"attributes\":{},\"id\":\"42691\",\"type\":\"BasicTicker\"},{\"attributes\":{\"source\":{\"id\":\"42717\"}},\"id\":\"42721\",\"type\":\"CDSView\"},{\"attributes\":{},\"id\":\"42695\",\"type\":\"BasicTicker\"},{\"attributes\":{\"axis\":{\"id\":\"42694\"},\"dimension\":1,\"ticker\":null},\"id\":\"42697\",\"type\":\"Grid\"},{\"attributes\":{},\"id\":\"42682\",\"type\":\"DataRange1d\"},{\"attributes\":{\"active_drag\":\"auto\",\"active_inspect\":\"auto\",\"active_multi\":null,\"active_scroll\":\"auto\",\"active_tap\":\"auto\",\"tools\":[{\"id\":\"42698\"},{\"id\":\"42699\"},{\"id\":\"42700\"},{\"id\":\"42701\"},{\"id\":\"42702\"},{\"id\":\"42703\"}]},\"id\":\"42705\",\"type\":\"Toolbar\"},{\"attributes\":{\"line_alpha\":0.1,\"line_color\":\"#1f77b4\",\"line_width\":2,\"x\":{\"field\":\"x\"},\"y\":{\"field\":\"y\"}},\"id\":\"42714\",\"type\":\"Line\"},{\"attributes\":{\"fill_alpha\":{\"value\":0.1},\"fill_color\":{\"value\":\"#1f77b4\"},\"line_alpha\":{\"value\":0.1},\"line_color\":{\"value\":\"#1f77b4\"},\"size\":{\"units\":\"screen\",\"value\":20},\"x\":{\"field\":\"x\"},\"y\":{\"field\":\"y\"}},\"id\":\"42719\",\"type\":\"Circle\"},{\"attributes\":{\"line_color\":\"#1f77b4\",\"line_width\":2,\"x\":{\"field\":\"x\"},\"y\":{\"field\":\"y\"}},\"id\":\"42713\",\"type\":\"Line\"},{\"attributes\":{\"axis\":{\"id\":\"42690\"},\"ticker\":null},\"id\":\"42693\",\"type\":\"Grid\"},{\"attributes\":{\"formatter\":{\"id\":\"43389\"},\"ticker\":{\"id\":\"42695\"}},\"id\":\"42694\",\"type\":\"LinearAxis\"},{\"attributes\":{},\"id\":\"42702\",\"type\":\"ResetTool\"},{\"attributes\":{},\"id\":\"42688\",\"type\":\"LinearScale\"},{\"attributes\":{\"overlay\":{\"id\":\"42704\"}},\"id\":\"42700\",\"type\":\"BoxZoomTool\"},{\"attributes\":{},\"id\":\"42684\",\"type\":\"DataRange1d\"},{\"attributes\":{\"fill_color\":{\"value\":\"#1f77b4\"},\"line_color\":{\"value\":\"#1f77b4\"},\"size\":{\"units\":\"screen\",\"value\":20},\"x\":{\"field\":\"x\"},\"y\":{\"field\":\"y\"}},\"id\":\"42718\",\"type\":\"Circle\"},{\"attributes\":{},\"id\":\"43389\",\"type\":\"BasicTickFormatter\"},{\"attributes\":{\"formatter\":{\"id\":\"43387\"},\"ticker\":{\"id\":\"42691\"}},\"id\":\"42690\",\"type\":\"LinearAxis\"}],\"root_ids\":[\"42681\"]},\"title\":\"Bokeh Application\",\"version\":\"2.0.2\"}};\n",
       "  var render_items = [{\"docid\":\"7e68c444-7ea5-4661-b6a1-799a1186b5b2\",\"root_ids\":[\"42681\"],\"roots\":{\"42681\":\"9372e529-cbd5-47ca-8091-637db63f642b\"}}];\n",
       "  root.Bokeh.embed.embed_items_notebook(docs_json, render_items);\n",
       "\n",
       "  }\n",
       "  if (root.Bokeh !== undefined) {\n",
       "    embed_document(root);\n",
       "  } else {\n",
       "    var attempts = 0;\n",
       "    var timer = setInterval(function(root) {\n",
       "      if (root.Bokeh !== undefined) {\n",
       "        clearInterval(timer);\n",
       "        embed_document(root);\n",
       "      } else {\n",
       "        attempts++;\n",
       "        if (attempts > 100) {\n",
       "          clearInterval(timer);\n",
       "          console.log(\"Bokeh: ERROR: Unable to run BokehJS code because BokehJS library is missing\");\n",
       "        }\n",
       "      }\n",
       "    }, 10, root)\n",
       "  }\n",
       "})(window);"
      ],
      "application/vnd.bokehjs_exec.v0+json": ""
     },
     "metadata": {
      "application/vnd.bokehjs_exec.v0+json": {
       "id": "42681"
      }
     },
     "output_type": "display_data"
    }
   ],
   "source": [
    "pic=figure()\n",
    "x1=cars.loc[:15,'Acceleration']\n",
    "y1=cars.loc[:15,'Horsepower']\n",
    "pic.line(x1,y1,line_width=2)\n",
    "pic.circle(x1,y1,size=20)\n",
    "show(pic)"
   ]
  },
  {
   "cell_type": "markdown",
   "metadata": {},
   "source": [
    "### Bokeh - ColumnDataSource\n",
    "\n"
   ]
  },
  {
   "cell_type": "markdown",
   "metadata": {},
   "source": [
    "Most of the plotting methods in Bokeh API are able to receive data source parameters through ColumnDatasource object. It makes sharing data between plots and ‘DataTables’.\n",
    "\n",
    "A ColumnDatasource can be considered as a mapping between column name and list of data. A Python dict object with one or more string keys and lists or numpy arrays as values is passed to ColumnDataSource constructor."
   ]
  },
  {
   "cell_type": "code",
   "execution_count": 225,
   "metadata": {},
   "outputs": [
    {
     "data": {
      "text/html": [
       "\n",
       "\n",
       "\n",
       "\n",
       "\n",
       "\n",
       "  <div class=\"bk-root\" id=\"a20c31dc-c21a-4491-8639-22b8c7eb9e03\" data-root-id=\"43607\"></div>\n"
      ]
     },
     "metadata": {},
     "output_type": "display_data"
    },
    {
     "data": {
      "application/javascript": [
       "(function(root) {\n",
       "  function embed_document(root) {\n",
       "    \n",
       "  var docs_json = {\"d6d0059c-bc4b-40c3-bc59-bc8b5ac1ed90\":{\"roots\":{\"references\":[{\"attributes\":{\"below\":[{\"id\":\"43616\"}],\"center\":[{\"id\":\"43619\"},{\"id\":\"43623\"}],\"left\":[{\"id\":\"43620\"}],\"renderers\":[{\"id\":\"43641\"}],\"title\":{\"id\":\"44318\"},\"toolbar\":{\"id\":\"43631\"},\"x_range\":{\"id\":\"43608\"},\"x_scale\":{\"id\":\"43612\"},\"y_range\":{\"id\":\"43610\"},\"y_scale\":{\"id\":\"43614\"}},\"id\":\"43607\",\"subtype\":\"Figure\",\"type\":\"Plot\"},{\"attributes\":{\"axis\":{\"id\":\"43620\"},\"dimension\":1,\"ticker\":null},\"id\":\"43623\",\"type\":\"Grid\"},{\"attributes\":{\"axis\":{\"id\":\"43616\"},\"ticker\":null},\"id\":\"43619\",\"type\":\"Grid\"},{\"attributes\":{\"text\":\"\"},\"id\":\"44318\",\"type\":\"Title\"},{\"attributes\":{\"active_drag\":\"auto\",\"active_inspect\":\"auto\",\"active_multi\":null,\"active_scroll\":\"auto\",\"active_tap\":\"auto\",\"tools\":[{\"id\":\"43624\"},{\"id\":\"43625\"},{\"id\":\"43626\"},{\"id\":\"43627\"},{\"id\":\"43628\"},{\"id\":\"43629\"}]},\"id\":\"43631\",\"type\":\"Toolbar\"},{\"attributes\":{\"formatter\":{\"id\":\"44319\"},\"ticker\":{\"id\":\"43617\"}},\"id\":\"43616\",\"type\":\"LinearAxis\"},{\"attributes\":{},\"id\":\"43614\",\"type\":\"LinearScale\"},{\"attributes\":{\"fill_color\":{\"value\":\"grey\"},\"line_color\":{\"value\":\"#1f77b4\"},\"marker\":{\"value\":\"triangle\"},\"size\":{\"units\":\"screen\",\"value\":20},\"x\":{\"field\":\"x\"},\"y\":{\"field\":\"y\"}},\"id\":\"43639\",\"type\":\"Scatter\"},{\"attributes\":{},\"id\":\"44319\",\"type\":\"BasicTickFormatter\"},{\"attributes\":{\"bottom_units\":\"screen\",\"fill_alpha\":0.5,\"fill_color\":\"lightgrey\",\"left_units\":\"screen\",\"level\":\"overlay\",\"line_alpha\":1.0,\"line_color\":\"black\",\"line_dash\":[4,4],\"line_width\":2,\"render_mode\":\"css\",\"right_units\":\"screen\",\"top_units\":\"screen\"},\"id\":\"43630\",\"type\":\"BoxAnnotation\"},{\"attributes\":{\"source\":{\"id\":\"43606\"}},\"id\":\"43642\",\"type\":\"CDSView\"},{\"attributes\":{\"fill_alpha\":{\"value\":0.1},\"fill_color\":{\"value\":\"grey\"},\"line_alpha\":{\"value\":0.1},\"line_color\":{\"value\":\"#1f77b4\"},\"marker\":{\"value\":\"triangle\"},\"size\":{\"units\":\"screen\",\"value\":20},\"x\":{\"field\":\"x\"},\"y\":{\"field\":\"y\"}},\"id\":\"43640\",\"type\":\"Scatter\"},{\"attributes\":{},\"id\":\"44321\",\"type\":\"BasicTickFormatter\"},{\"attributes\":{},\"id\":\"43628\",\"type\":\"ResetTool\"},{\"attributes\":{},\"id\":\"43624\",\"type\":\"PanTool\"},{\"attributes\":{\"formatter\":{\"id\":\"44321\"},\"ticker\":{\"id\":\"43621\"}},\"id\":\"43620\",\"type\":\"LinearAxis\"},{\"attributes\":{\"data_source\":{\"id\":\"43606\"},\"glyph\":{\"id\":\"43639\"},\"hover_glyph\":null,\"muted_glyph\":null,\"nonselection_glyph\":{\"id\":\"43640\"},\"selection_glyph\":null,\"view\":{\"id\":\"43642\"}},\"id\":\"43641\",\"type\":\"GlyphRenderer\"},{\"attributes\":{},\"id\":\"43621\",\"type\":\"BasicTicker\"},{\"attributes\":{},\"id\":\"44323\",\"type\":\"UnionRenderers\"},{\"attributes\":{},\"id\":\"43625\",\"type\":\"WheelZoomTool\"},{\"attributes\":{\"data\":{\"x\":[1,4,3,2,5],\"y\":[6,5,2,4,7]},\"selected\":{\"id\":\"44324\"},\"selection_policy\":{\"id\":\"44323\"}},\"id\":\"43606\",\"type\":\"ColumnDataSource\"},{\"attributes\":{},\"id\":\"43629\",\"type\":\"HelpTool\"},{\"attributes\":{},\"id\":\"43610\",\"type\":\"DataRange1d\"},{\"attributes\":{},\"id\":\"43627\",\"type\":\"SaveTool\"},{\"attributes\":{},\"id\":\"44324\",\"type\":\"Selection\"},{\"attributes\":{},\"id\":\"43608\",\"type\":\"DataRange1d\"},{\"attributes\":{\"overlay\":{\"id\":\"43630\"}},\"id\":\"43626\",\"type\":\"BoxZoomTool\"},{\"attributes\":{},\"id\":\"43617\",\"type\":\"BasicTicker\"},{\"attributes\":{},\"id\":\"43612\",\"type\":\"LinearScale\"}],\"root_ids\":[\"43607\"]},\"title\":\"Bokeh Application\",\"version\":\"2.0.2\"}};\n",
       "  var render_items = [{\"docid\":\"d6d0059c-bc4b-40c3-bc59-bc8b5ac1ed90\",\"root_ids\":[\"43607\"],\"roots\":{\"43607\":\"a20c31dc-c21a-4491-8639-22b8c7eb9e03\"}}];\n",
       "  root.Bokeh.embed.embed_items_notebook(docs_json, render_items);\n",
       "\n",
       "  }\n",
       "  if (root.Bokeh !== undefined) {\n",
       "    embed_document(root);\n",
       "  } else {\n",
       "    var attempts = 0;\n",
       "    var timer = setInterval(function(root) {\n",
       "      if (root.Bokeh !== undefined) {\n",
       "        clearInterval(timer);\n",
       "        embed_document(root);\n",
       "      } else {\n",
       "        attempts++;\n",
       "        if (attempts > 100) {\n",
       "          clearInterval(timer);\n",
       "          console.log(\"Bokeh: ERROR: Unable to run BokehJS code because BokehJS library is missing\");\n",
       "        }\n",
       "      }\n",
       "    }, 10, root)\n",
       "  }\n",
       "})(window);"
      ],
      "application/vnd.bokehjs_exec.v0+json": ""
     },
     "metadata": {
      "application/vnd.bokehjs_exec.v0+json": {
       "id": "43607"
      }
     },
     "output_type": "display_data"
    }
   ],
   "source": [
    "from bokeh.models import ColumnDataSource\n",
    "data = {'x':[1, 4, 3, 2, 5],\n",
    "   'y':[6, 5, 2, 4, 7]}\n",
    "cds = ColumnDataSource(data = data)\n",
    "fig_cds = figure()\n",
    "fig_cds.scatter(x = 'x', y = 'y',source = cds, marker = \"triangle\", size = 20, fill_color = \"grey\")\n",
    "show(fig_cds)"
   ]
  },
  {
   "cell_type": "code",
   "execution_count": 227,
   "metadata": {},
   "outputs": [
    {
     "data": {
      "text/html": [
       "\n",
       "\n",
       "\n",
       "\n",
       "\n",
       "\n",
       "  <div class=\"bk-root\" id=\"756f28cd-1b31-40fc-b18c-a257fde3ec17\" data-root-id=\"44536\"></div>\n"
      ]
     },
     "metadata": {},
     "output_type": "display_data"
    },
    {
     "data": {
      "application/javascript": [
       "(function(root) {\n",
       "  function embed_document(root) {\n",
       "    \n",
       "  var docs_json = {\"42bf8271-b867-4e8c-92e1-74685d3b2ff7\":{\"roots\":{\"references\":[{\"attributes\":{\"below\":[{\"id\":\"44545\"}],\"center\":[{\"id\":\"44548\"},{\"id\":\"44552\"}],\"left\":[{\"id\":\"44549\"}],\"renderers\":[{\"id\":\"44570\"}],\"title\":{\"id\":\"45256\"},\"toolbar\":{\"id\":\"44560\"},\"x_range\":{\"id\":\"44537\"},\"x_scale\":{\"id\":\"44541\"},\"y_range\":{\"id\":\"44539\"},\"y_scale\":{\"id\":\"44543\"}},\"id\":\"44536\",\"subtype\":\"Figure\",\"type\":\"Plot\"},{\"attributes\":{\"axis\":{\"id\":\"44545\"},\"ticker\":null},\"id\":\"44548\",\"type\":\"Grid\"},{\"attributes\":{\"overlay\":{\"id\":\"44559\"}},\"id\":\"44555\",\"type\":\"BoxZoomTool\"},{\"attributes\":{},\"id\":\"44539\",\"type\":\"DataRange1d\"},{\"attributes\":{},\"id\":\"44557\",\"type\":\"ResetTool\"},{\"attributes\":{},\"id\":\"44558\",\"type\":\"HelpTool\"},{\"attributes\":{\"text\":\"\"},\"id\":\"45256\",\"type\":\"Title\"},{\"attributes\":{},\"id\":\"45257\",\"type\":\"BasicTickFormatter\"},{\"attributes\":{\"bottom_units\":\"screen\",\"fill_alpha\":0.5,\"fill_color\":\"lightgrey\",\"left_units\":\"screen\",\"level\":\"overlay\",\"line_alpha\":1.0,\"line_color\":\"black\",\"line_dash\":[4,4],\"line_width\":2,\"render_mode\":\"css\",\"right_units\":\"screen\",\"top_units\":\"screen\"},\"id\":\"44559\",\"type\":\"BoxAnnotation\"},{\"attributes\":{},\"id\":\"44537\",\"type\":\"DataRange1d\"},{\"attributes\":{\"line_alpha\":0.1,\"line_color\":\"red\",\"x\":{\"field\":\"Acceleration\"},\"y\":{\"field\":\"Horsepower\"}},\"id\":\"44569\",\"type\":\"Line\"},{\"attributes\":{},\"id\":\"44556\",\"type\":\"SaveTool\"},{\"attributes\":{\"active_drag\":\"auto\",\"active_inspect\":\"auto\",\"active_multi\":null,\"active_scroll\":\"auto\",\"active_tap\":\"auto\",\"tools\":[{\"id\":\"44553\"},{\"id\":\"44554\"},{\"id\":\"44555\"},{\"id\":\"44556\"},{\"id\":\"44557\"},{\"id\":\"44558\"}]},\"id\":\"44560\",\"type\":\"Toolbar\"},{\"attributes\":{},\"id\":\"45261\",\"type\":\"UnionRenderers\"},{\"attributes\":{\"line_color\":\"red\",\"x\":{\"field\":\"Acceleration\"},\"y\":{\"field\":\"Horsepower\"}},\"id\":\"44568\",\"type\":\"Line\"},{\"attributes\":{},\"id\":\"44554\",\"type\":\"WheelZoomTool\"},{\"attributes\":{\"data_source\":{\"id\":\"44535\"},\"glyph\":{\"id\":\"44568\"},\"hover_glyph\":null,\"muted_glyph\":null,\"nonselection_glyph\":{\"id\":\"44569\"},\"selection_glyph\":null,\"view\":{\"id\":\"44571\"}},\"id\":\"44570\",\"type\":\"GlyphRenderer\"},{\"attributes\":{\"source\":{\"id\":\"44535\"}},\"id\":\"44571\",\"type\":\"CDSView\"},{\"attributes\":{},\"id\":\"44543\",\"type\":\"LogScale\"},{\"attributes\":{},\"id\":\"44546\",\"type\":\"BasicTicker\"},{\"attributes\":{\"data\":{\"Acceleration\":{\"__ndarray__\":\"AAAAAAAAKEAAAAAAAAAnQAAAAAAAACZAAAAAAAAAKEAAAAAAAAAlQAAAAAAAACRAAAAAAAAAIkAAAAAAAAAhQAAAAAAAACRAAAAAAAAAIUAAAAAAAIAxQAAAAAAAACdAAAAAAAAAJkAAAAAAAAAlQAAAAAAAACZAAAAAAAAAJEAAAAAAAAAgQAAAAAAAACBAAAAAAAAAI0AAAAAAAAAkQAAAAAAAAC5AAAAAAAAAL0AAAAAAAAAvQAAAAAAAADBAAAAAAAAALUAAAAAAAIA0QAAAAAAAgDFAAAAAAAAALUAAAAAAAIAxQAAAAAAAAClAAAAAAAAALkAAAAAAAAAsQAAAAAAAAC5AAAAAAAAAK0AAAAAAAIAyQAAAAAAAAC9AZmZmZmbmMEDNzMzMzMwtQDMzMzMzszFAmpmZmZmZLkAAAAAAAAAqQAAAAAAAACpAzczMzMzMK0CamZmZmZkpQM3MzMzMzC5AAAAAAAAALUCamZmZmZkxQJqZmZmZmTFAMzMzMzMzNkCamZmZmRk2QGZmZmZmZixAZmZmZmZmMUAzMzMzM7MxQAAAAAAAADVAMzMzMzMzMEDNzMzMzMwxQGZmZmZmZihAAAAAAAAAMUBmZmZmZmYwQDMzMzMzMytAZmZmZmZmL0BmZmZmZmYqQGZmZmZm5jVAAAAAAAAAL0AzMzMzM7MwQDMzMzMzMyhAAAAAAAAAKEAAAAAAAAAuQAAAAAAAACxAmpmZmZmZM0CamZmZmZkyQAAAAAAAADJAMzMzMzMzMEAAAAAAAAAwQAAAAAAAADJAZmZmZmZmMEAAAAAAAIA0QJqZmZmZmS5AMzMzMzMzMkCamZmZmZkxQGZmZmZmZi1AzczMzMxMMUAAAAAAAAAtQAAAAAAAAC1AZmZmZmbmMEAAAAAAAAAuQGZmZmZmZi9AMzMzMzMzMEBmZmZmZmYwQAAAAAAAADFAAAAAAAAALUBmZmZmZmYtQM3MzMzMzCtAAAAAAAAAKkDNzMzMzEwxQDMzMzMzMy9AmpmZmZmZOEAzMzMzMzMnQJqZmZmZmTJAZmZmZmZmM0A=\",\"dtype\":\"float64\",\"shape\":[100]},\"Cylinders\":[8,8,8,8,8,8,8,8,8,8,4,8,8,8,8,8,8,8,8,8,4,6,6,6,4,4,4,4,4,4,6,8,8,8,8,4,4,4,4,4,8,8,8,8,6,6,6,6,4,4,4,4,6,6,6,6,4,4,4,4,4,8,4,6,6,8,8,8,8,4,4,4,4,4,4,4,4,4,4,4,4,4,4,4,4,4,4,4,6,6,4,6,4,4,4,4,4,4,4,4],\"Displacement\":[307,350,318,304,302,429,454,440,455,390,133,350,351,383,360,383,340,302,400,455,113,198,199,200,97,97,110,107,104,121,199,360,307,318,304,107,116,140,98,101,305,318,304,351,225,250,200,232,85,98,90,91,225,250,250,258,97,85,97,140,130,318,120,156,168,350,350,302,318,112,112,112,112,135,151,140,151,105,91,91,105,98,120,107,108,91,91,91,181,262,156,232,144,135,151,140,97,135,120,119],\"Horsepower\":[130,165,150,150,140,198,220,215,225,190,115,165,153,175,175,170,160,140,150,225,95,95,97,85,88,46,87,90,95,113,90,215,200,210,193,86,81,92,79,83,140,150,120,152,100,105,81,90,52,60,70,53,100,78,110,95,71,70,75,72,102,150,88,108,120,180,145,130,150,88,88,88,85,84,90,92,91,74,68,68,63,70,88,75,70,67,67,67,110,85,92,112,96,84,90,86,52,84,79,82],\"MPG\":{\"__ndarray__\":\"AAAAAAAAMkAAAAAAAAAuQAAAAAAAADJAAAAAAAAAMEAAAAAAAAAxQAAAAAAAAC5AAAAAAAAALEAAAAAAAAAsQAAAAAAAACxAAAAAAAAALkAAAAAAAAAsQAAAAAAAADBAAAAAAAAAMUAAAAAAAAAzQAAAAAAAADRAAAAAAAAALkAAAAAAAAAsQAAAAAAAADBAAAAAAAAALkAAAAAAAAAsQAAAAAAAADhAAAAAAAAANkAAAAAAAAAyQAAAAAAAADVAAAAAAAAAO0AAAAAAAAA6QAAAAAAAADlAAAAAAAAAOEAAAAAAAAA5QAAAAAAAADpAAAAAAAAANUAAAAAAAAAkQAAAAAAAACRAAAAAAAAAJkAAAAAAAAAiQAAAAAAAADxAAAAAAAAAOUAAAAAAAAA5QAAAAAAAADpAAAAAAAAAO0AAAAAAAIAxQAAAAAAAADBAAAAAAAAAL0AAAAAAAAAtQAAAAAAAADZAAAAAAAAANkAAAAAAAAA4QAAAAAAAgDZAAAAAAAAAPUAAAAAAAIA4QAAAAAAAAD1AAAAAAACAQEAAAAAAAAA0QAAAAAAAADJAAAAAAACAMkAAAAAAAIAxQAAAAAAAgD1AAAAAAAAAQEAAAAAAAAA8QAAAAAAAgDpAAAAAAAAANEAAAAAAAAAqQAAAAAAAADNAAAAAAAAAM0AAAAAAAIAwQAAAAAAAgDBAAAAAAAAAKkAAAAAAAAAqQAAAAAAAACpAAAAAAAAAPEAAAAAAAAA7QAAAAAAAAEFAAAAAAAAAP0AAAAAAAAA9QAAAAAAAADtAAAAAAAAAOEAAAAAAAAA3QAAAAAAAAEJAAAAAAACAQkAAAAAAAAA/QAAAAAAAAENAAAAAAAAAQkAAAAAAAABCQAAAAAAAAEJAAAAAAAAAQUAAAAAAAABDQAAAAAAAAEBAAAAAAAAAQ0AAAAAAAAA5QAAAAAAAAENAAAAAAAAAOkAAAAAAAAA2QAAAAAAAAEBAAAAAAAAAQkAAAAAAAAA7QAAAAAAAADtAAAAAAAAARkAAAAAAAABAQAAAAAAAADxAAAAAAAAAP0A=\",\"dtype\":\"float64\",\"shape\":[100]},\"Manufacturer\":[\"chevrolet    \",\"buick        \",\"plymouth     \",\"amc          \",\"ford         \",\"ford         \",\"chevrolet    \",\"plymouth     \",\"pontiac      \",\"amc          \",\"citroen      \",\"chevrolet    \",\"ford         \",\"plymouth     \",\"amc          \",\"dodge        \",\"plymouth     \",\"ford         \",\"chevrolet    \",\"buick        \",\"toyota       \",\"plymouth     \",\"amc          \",\"ford         \",\"datsun       \",\"volkswagen   \",\"peugeot      \",\"audi         \",\"saab         \",\"bmw          \",\"amc          \",\"ford         \",\"chevrolet    \",\"dodge        \",\"ih           \",\"fiat         \",\"opel         \",\"ford         \",\"dodge        \",\"renault      \",\"chevrolet    \",\"dodge        \",\"amc          \",\"ford         \",\"plymouth     \",\"chevrolet    \",\"ford         \",\"amc          \",\"chevrolet    \",\"chevrolet    \",\"volkswagen   \",\"honda        \",\"dodge        \",\"ford         \",\"pontiac      \",\"amc          \",\"volkswagen   \",\"datsun       \",\"toyota       \",\"ford         \",\"volvo        \",\"plymouth     \",\"peugeot      \",\"toyota       \",\"mercedes-benz\",\"cadillac     \",\"chevrolet    \",\"ford         \",\"dodge        \",\"chevrolet    \",\"chevrolet    \",\"chevrolet    \",\"pontiac      \",\"dodge        \",\"pontiac      \",\"ford         \",\"amc          \",\"volkswagen   \",\"mazda        \",\"mazda        \",\"plymouth     \",\"mercury      \",\"nissan       \",\"honda        \",\"toyota       \",\"honda        \",\"honda        \",\"datsun       \",\"buick        \",\"oldsmobile   \",\"chrysler     \",\"ford         \",\"toyota       \",\"dodge        \",\"chevrolet    \",\"ford         \",\"volkswagen   \",\"dodge        \",\"ford         \",\"chevrolet    \"],\"Model\":[\"chevrolet chevelle malibu        \",\"buick skylark 320                \",\"plymouth satellite               \",\"amc rebel sst                    \",\"ford torino                      \",\"ford galaxie 500                 \",\"chevrolet impala                 \",\"plymouth fury iii                \",\"pontiac catalina                 \",\"amc ambassador dpl               \",\"citroen ds-21 pallas             \",\"chevrolet chevelle concours (sw) \",\"ford torino (sw)                 \",\"plymouth satellite (sw)          \",\"amc rebel sst (sw)               \",\"dodge challenger se              \",\"plymouth 'cuda 340               \",\"ford mustang boss 302            \",\"chevrolet monte carlo            \",\"buick estate wagon (sw)          \",\"toyota corona mark ii            \",\"plymouth duster                  \",\"amc hornet                       \",\"ford maverick                    \",\"datsun pl510                     \",\"volkswagen 1131 deluxe sedan     \",\"peugeot 504                      \",\"audi 100 ls                      \",\"saab 99e                         \",\"bmw 2002                         \",\"amc gremlin                      \",\"ford f250                        \",\"chevrolet c20                    \",\"dodge d200                       \",\"ih 1200d                         \",\"fiat 131                         \",\"opel 1900                        \",\"ford capri ii                    \",\"dodge colt                       \",\"renault 12tl                     \",\"chevrolet chevelle malibu classic\",\"dodge coronet brougham           \",\"amc matador                      \",\"ford gran torino                 \",\"plymouth valiant                 \",\"chevrolet nova                   \",\"ford maverick                    \",\"amc hornet                       \",\"chevrolet chevette               \",\"chevrolet woody                  \",\"volkswagen rabbit                \",\"honda civic                      \",\"dodge aspen se                   \",\"ford granada ghia                \",\"pontiac ventura sj               \",\"amc pacer d/l                    \",\"volkswagen rabbit                \",\"datsun b-210                     \",\"toyota corolla                   \",\"ford pinto                       \",\"volvo 245                        \",\"plymouth volare premier v8       \",\"peugeot 504                      \",\"toyota mark ii                   \",\"mercedes-benz 280s               \",\"cadillac seville                 \",\"chevrolet c10                    \",\"ford f108                        \",\"dodge d100                       \",\"chevrolet cavalier               \",\"chevrolet cavalier wagon         \",\"chevrolet cavalier 2-door        \",\"pontiac j2000 se hatchback       \",\"dodge aries se                   \",\"pontiac phoenix                  \",\"ford fairmont futura             \",\"amc concord dl                   \",\"volkswagen rabbit l              \",\"mazda glc custom l               \",\"mazda glc custom                 \",\"plymouth horizon miser           \",\"mercury lynx l                   \",\"nissan stanza xe                 \",\"honda accord                     \",\"toyota corolla                   \",\"honda civic                      \",\"honda civic (auto)               \",\"datsun 310 gx                    \",\"buick century limited            \",\"oldsmobile cutlass ciera (diesel)\",\"chrysler lebaron medallion       \",\"ford granada l                   \",\"toyota celica gt                 \",\"dodge charger 2.2                \",\"chevrolet camaro                 \",\"ford mustang gl                  \",\"volkswagen pickup                \",\"dodge rampage                    \",\"ford ranger                      \",\"chevrolet s-10                   \"],\"Model_Year\":[70,70,70,70,70,70,70,70,70,70,70,70,70,70,70,70,70,70,70,70,70,70,70,70,70,70,70,70,70,70,70,70,70,70,70,76,76,76,76,76,76,76,76,76,76,76,76,76,76,76,76,76,76,76,76,76,76,76,76,76,76,76,76,76,76,76,76,76,76,82,82,82,82,82,82,82,82,82,82,82,82,82,82,82,82,82,82,82,82,82,82,82,82,82,82,82,82,82,82,82],\"Origin\":[\"USA    \",\"USA    \",\"USA    \",\"USA    \",\"USA    \",\"USA    \",\"USA    \",\"USA    \",\"USA    \",\"USA    \",\"France \",\"USA    \",\"USA    \",\"USA    \",\"USA    \",\"USA    \",\"USA    \",\"USA    \",\"USA    \",\"USA    \",\"Japan  \",\"USA    \",\"USA    \",\"USA    \",\"Japan  \",\"Germany\",\"France \",\"Germany\",\"Sweden \",\"Germany\",\"USA    \",\"USA    \",\"USA    \",\"USA    \",\"USA    \",\"Italy  \",\"Germany\",\"USA    \",\"USA    \",\"France \",\"USA    \",\"USA    \",\"USA    \",\"USA    \",\"USA    \",\"USA    \",\"USA    \",\"USA    \",\"USA    \",\"USA    \",\"Germany\",\"Japan  \",\"USA    \",\"USA    \",\"USA    \",\"USA    \",\"Germany\",\"Japan  \",\"Japan  \",\"USA    \",\"Sweden \",\"USA    \",\"France \",\"Japan  \",\"Germany\",\"USA    \",\"USA    \",\"USA    \",\"USA    \",\"USA    \",\"USA    \",\"USA    \",\"USA    \",\"USA    \",\"USA    \",\"USA    \",\"USA    \",\"Germany\",\"Japan  \",\"Japan  \",\"USA    \",\"USA    \",\"Japan  \",\"Japan  \",\"Japan  \",\"Japan  \",\"Japan  \",\"Japan  \",\"USA    \",\"USA    \",\"USA    \",\"USA    \",\"Japan  \",\"USA    \",\"USA    \",\"USA    \",\"Germany\",\"USA    \",\"USA    \",\"USA    \"],\"Weight\":[3504,3693,3436,3433,3449,4341,4354,4312,4425,3850,3090,4142,4034,4166,3850,3563,3609,3353,3761,3086,2372,2833,2774,2587,2130,1835,2672,2430,2375,2234,2648,4615,4376,4382,4732,2464,2220,2572,2255,2202,4215,4190,3962,4215,3233,3353,3012,3085,2035,2164,1937,1795,3651,3574,3645,3193,1825,1990,2155,2565,3150,3940,3270,2930,3820,4380,4055,3870,3755,2605,2640,2395,2575,2525,2735,2865,3035,1980,2025,1970,2125,2125,2160,2205,2245,1965,1965,1995,2945,3015,2585,2835,2665,2370,2950,2790,2130,2295,2625,2720],\"index\":[0,1,2,3,4,5,6,7,8,9,10,11,12,13,14,15,16,17,18,19,20,21,22,23,24,25,26,27,28,29,30,31,32,33,34,35,36,37,38,39,40,41,42,43,44,45,46,47,48,49,50,51,52,53,54,55,56,57,58,59,60,61,62,63,64,65,66,67,68,69,70,71,72,73,74,75,76,77,78,79,80,81,82,83,84,85,86,87,88,89,90,91,92,93,94,95,96,97,98,99]},\"selected\":{\"id\":\"45262\"},\"selection_policy\":{\"id\":\"45261\"}},\"id\":\"44535\",\"type\":\"ColumnDataSource\"},{\"attributes\":{\"axis\":{\"id\":\"44549\"},\"dimension\":1,\"ticker\":null},\"id\":\"44552\",\"type\":\"Grid\"},{\"attributes\":{\"formatter\":{\"id\":\"45257\"},\"ticker\":{\"id\":\"44546\"}},\"id\":\"44545\",\"type\":\"LinearAxis\"},{\"attributes\":{},\"id\":\"44541\",\"type\":\"LinearScale\"},{\"attributes\":{},\"id\":\"44553\",\"type\":\"PanTool\"},{\"attributes\":{},\"id\":\"45262\",\"type\":\"Selection\"},{\"attributes\":{\"formatter\":{\"id\":\"45259\"},\"ticker\":{\"id\":\"44550\"}},\"id\":\"44549\",\"type\":\"LogAxis\"},{\"attributes\":{\"ticker\":null},\"id\":\"45259\",\"type\":\"LogTickFormatter\"},{\"attributes\":{\"num_minor_ticks\":10},\"id\":\"44550\",\"type\":\"LogTicker\"}],\"root_ids\":[\"44536\"]},\"title\":\"Bokeh Application\",\"version\":\"2.0.2\"}};\n",
       "  var render_items = [{\"docid\":\"42bf8271-b867-4e8c-92e1-74685d3b2ff7\",\"root_ids\":[\"44536\"],\"roots\":{\"44536\":\"756f28cd-1b31-40fc-b18c-a257fde3ec17\"}}];\n",
       "  root.Bokeh.embed.embed_items_notebook(docs_json, render_items);\n",
       "\n",
       "  }\n",
       "  if (root.Bokeh !== undefined) {\n",
       "    embed_document(root);\n",
       "  } else {\n",
       "    var attempts = 0;\n",
       "    var timer = setInterval(function(root) {\n",
       "      if (root.Bokeh !== undefined) {\n",
       "        clearInterval(timer);\n",
       "        embed_document(root);\n",
       "      } else {\n",
       "        attempts++;\n",
       "        if (attempts > 100) {\n",
       "          clearInterval(timer);\n",
       "          console.log(\"Bokeh: ERROR: Unable to run BokehJS code because BokehJS library is missing\");\n",
       "        }\n",
       "      }\n",
       "    }, 10, root)\n",
       "  }\n",
       "})(window);"
      ],
      "application/vnd.bokehjs_exec.v0+json": ""
     },
     "metadata": {
      "application/vnd.bokehjs_exec.v0+json": {
       "id": "44536"
      }
     },
     "output_type": "display_data"
    }
   ],
   "source": [
    "cds_1=ColumnDataSource(cars)\n",
    "fig_cds1=figure(y_axis_type='log')\n",
    "fig_cds1.line(x='Acceleration', y='Horsepower', source=cds_1, line_color='red')\n",
    "show(fig_cds1)"
   ]
  },
  {
   "cell_type": "markdown",
   "metadata": {},
   "source": [
    "### Bokeh - Filtering Data\n",
    "\n",
    "Often, you may want to obtain a plot pertaining to a part of data that satisfies certain conditions instead of the entire dataset. Object of the CDSView class defined in bokeh.models module returns a subset of ColumnDatasource under consideration by applying one or more filters over it.\n",
    "\n",
    "IndexFilter is the simplest type of filter. You have to specify indices of only those rows from the dataset that you want to use while plotting the figure.\n",
    "\n",
    "Following example demonstrates use of IndexFilter to set up a CDSView. The resultant figure shows a line glyph between x and y data series of the ColumnDataSource. A view object is obtained by applying index filter over it. The view is used to plot circle glyph as a result of IndexFilter."
   ]
  },
  {
   "cell_type": "code",
   "execution_count": 228,
   "metadata": {},
   "outputs": [
    {
     "name": "stderr",
     "output_type": "stream",
     "text": [
      "BokehDeprecationWarning: 'legend' keyword is deprecated, use explicit 'legend_label', 'legend_field', or 'legend_group' keywords instead\n",
      "BokehDeprecationWarning: 'legend' keyword is deprecated, use explicit 'legend_label', 'legend_field', or 'legend_group' keywords instead\n"
     ]
    },
    {
     "data": {
      "text/html": [
       "\n",
       "\n",
       "\n",
       "\n",
       "\n",
       "\n",
       "  <div class=\"bk-root\" id=\"90d151ed-5440-468e-8d00-0d343b01a265\" data-root-id=\"45439\"></div>\n"
      ]
     },
     "metadata": {},
     "output_type": "display_data"
    },
    {
     "data": {
      "application/javascript": [
       "(function(root) {\n",
       "  function embed_document(root) {\n",
       "    \n",
       "  var docs_json = {\"942d98d8-6f6c-47c1-9eb3-fe82901aee73\":{\"roots\":{\"references\":[{\"attributes\":{\"below\":[{\"id\":\"45450\"}],\"center\":[{\"id\":\"45453\"},{\"id\":\"45457\"},{\"id\":\"45482\"}],\"left\":[{\"id\":\"45454\"}],\"renderers\":[{\"id\":\"45475\"},{\"id\":\"45487\"}],\"title\":{\"id\":\"45440\"},\"toolbar\":{\"id\":\"45465\"},\"x_range\":{\"id\":\"45442\"},\"x_scale\":{\"id\":\"45446\"},\"y_range\":{\"id\":\"45444\"},\"y_scale\":{\"id\":\"45448\"}},\"id\":\"45439\",\"subtype\":\"Figure\",\"type\":\"Plot\"},{\"attributes\":{\"items\":[{\"id\":\"45483\"},{\"id\":\"45497\"}]},\"id\":\"45482\",\"type\":\"Legend\"},{\"attributes\":{},\"id\":\"45458\",\"type\":\"PanTool\"},{\"attributes\":{\"text\":\"Line Plot example\"},\"id\":\"45440\",\"type\":\"Title\"},{\"attributes\":{},\"id\":\"45477\",\"type\":\"BasicTickFormatter\"},{\"attributes\":{\"fill_color\":{\"value\":\"#1f77b4\"},\"line_color\":{\"value\":\"#1f77b4\"},\"size\":{\"units\":\"screen\",\"value\":10},\"x\":{\"field\":\"x\"},\"y\":{\"field\":\"y\"}},\"id\":\"45473\",\"type\":\"Circle\"},{\"attributes\":{},\"id\":\"45479\",\"type\":\"BasicTickFormatter\"},{\"attributes\":{},\"id\":\"45459\",\"type\":\"WheelZoomTool\"},{\"attributes\":{},\"id\":\"45442\",\"type\":\"DataRange1d\"},{\"attributes\":{\"overlay\":{\"id\":\"45464\"}},\"id\":\"45460\",\"type\":\"BoxZoomTool\"},{\"attributes\":{},\"id\":\"45446\",\"type\":\"LinearScale\"},{\"attributes\":{},\"id\":\"45461\",\"type\":\"SaveTool\"},{\"attributes\":{},\"id\":\"45462\",\"type\":\"ResetTool\"},{\"attributes\":{},\"id\":\"45444\",\"type\":\"DataRange1d\"},{\"attributes\":{\"fill_alpha\":{\"value\":0.1},\"fill_color\":{\"value\":\"#1f77b4\"},\"line_alpha\":{\"value\":0.1},\"line_color\":{\"value\":\"#1f77b4\"},\"size\":{\"units\":\"screen\",\"value\":10},\"x\":{\"field\":\"x\"},\"y\":{\"field\":\"y\"}},\"id\":\"45474\",\"type\":\"Circle\"},{\"attributes\":{},\"id\":\"45463\",\"type\":\"HelpTool\"},{\"attributes\":{},\"id\":\"45495\",\"type\":\"Selection\"},{\"attributes\":{},\"id\":\"45448\",\"type\":\"LinearScale\"},{\"attributes\":{\"active_drag\":\"auto\",\"active_inspect\":\"auto\",\"active_multi\":null,\"active_scroll\":\"auto\",\"active_tap\":\"auto\",\"tools\":[{\"id\":\"45458\"},{\"id\":\"45459\"},{\"id\":\"45460\"},{\"id\":\"45461\"},{\"id\":\"45462\"},{\"id\":\"45463\"}]},\"id\":\"45465\",\"type\":\"Toolbar\"},{\"attributes\":{\"filters\":[{\"id\":\"45437\"}],\"source\":{\"id\":\"45436\"}},\"id\":\"45438\",\"type\":\"CDSView\"},{\"attributes\":{\"line_alpha\":0.1,\"line_color\":\"#1f77b4\",\"x\":{\"field\":\"x\"},\"y\":{\"field\":\"y\"}},\"id\":\"45486\",\"type\":\"Line\"},{\"attributes\":{\"indices\":[0,2,4,6]},\"id\":\"45437\",\"type\":\"IndexFilter\"},{\"attributes\":{},\"id\":\"46197\",\"type\":\"UnionRenderers\"},{\"attributes\":{\"axis_label\":\"x\",\"formatter\":{\"id\":\"45477\"},\"ticker\":{\"id\":\"45451\"}},\"id\":\"45450\",\"type\":\"LinearAxis\"},{\"attributes\":{\"label\":{\"value\":\"filtered\"},\"renderers\":[{\"id\":\"45475\"}]},\"id\":\"45483\",\"type\":\"LegendItem\"},{\"attributes\":{\"axis\":{\"id\":\"45454\"},\"dimension\":1,\"ticker\":null},\"id\":\"45457\",\"type\":\"Grid\"},{\"attributes\":{\"source\":{\"id\":\"45484\"}},\"id\":\"45488\",\"type\":\"CDSView\"},{\"attributes\":{},\"id\":\"45451\",\"type\":\"BasicTicker\"},{\"attributes\":{\"data\":{\"x\":[1,2,3,4,5,6,7,8,9,10],\"y\":[2,4,6,8,10,12,14,16,18,20]},\"selected\":{\"id\":\"45495\"},\"selection_policy\":{\"id\":\"45494\"}},\"id\":\"45436\",\"type\":\"ColumnDataSource\"},{\"attributes\":{\"axis\":{\"id\":\"45450\"},\"ticker\":null},\"id\":\"45453\",\"type\":\"Grid\"},{\"attributes\":{\"data_source\":{\"id\":\"45484\"},\"glyph\":{\"id\":\"45485\"},\"hover_glyph\":null,\"muted_glyph\":null,\"nonselection_glyph\":{\"id\":\"45486\"},\"selection_glyph\":null,\"view\":{\"id\":\"45488\"}},\"id\":\"45487\",\"type\":\"GlyphRenderer\"},{\"attributes\":{},\"id\":\"45455\",\"type\":\"BasicTicker\"},{\"attributes\":{\"axis_label\":\"y\",\"formatter\":{\"id\":\"45479\"},\"ticker\":{\"id\":\"45455\"}},\"id\":\"45454\",\"type\":\"LinearAxis\"},{\"attributes\":{},\"id\":\"46198\",\"type\":\"Selection\"},{\"attributes\":{},\"id\":\"45494\",\"type\":\"UnionRenderers\"},{\"attributes\":{\"label\":{\"value\":\"unfiltered\"},\"renderers\":[{\"id\":\"45487\"}]},\"id\":\"45497\",\"type\":\"LegendItem\"},{\"attributes\":{\"data\":{\"x\":[1,2,3,4,5,6,7,8,9,10],\"y\":[2,4,6,8,10,12,14,16,18,20]},\"selected\":{\"id\":\"46198\"},\"selection_policy\":{\"id\":\"46197\"}},\"id\":\"45484\",\"type\":\"ColumnDataSource\"},{\"attributes\":{\"bottom_units\":\"screen\",\"fill_alpha\":0.5,\"fill_color\":\"lightgrey\",\"left_units\":\"screen\",\"level\":\"overlay\",\"line_alpha\":1.0,\"line_color\":\"black\",\"line_dash\":[4,4],\"line_width\":2,\"render_mode\":\"css\",\"right_units\":\"screen\",\"top_units\":\"screen\"},\"id\":\"45464\",\"type\":\"BoxAnnotation\"},{\"attributes\":{\"data_source\":{\"id\":\"45436\"},\"glyph\":{\"id\":\"45473\"},\"hover_glyph\":null,\"muted_glyph\":null,\"nonselection_glyph\":{\"id\":\"45474\"},\"selection_glyph\":null,\"view\":{\"id\":\"45438\"}},\"id\":\"45475\",\"type\":\"GlyphRenderer\"},{\"attributes\":{\"line_color\":\"#1f77b4\",\"x\":{\"field\":\"x\"},\"y\":{\"field\":\"y\"}},\"id\":\"45485\",\"type\":\"Line\"}],\"root_ids\":[\"45439\"]},\"title\":\"Bokeh Application\",\"version\":\"2.0.2\"}};\n",
       "  var render_items = [{\"docid\":\"942d98d8-6f6c-47c1-9eb3-fe82901aee73\",\"root_ids\":[\"45439\"],\"roots\":{\"45439\":\"90d151ed-5440-468e-8d00-0d343b01a265\"}}];\n",
       "  root.Bokeh.embed.embed_items_notebook(docs_json, render_items);\n",
       "\n",
       "  }\n",
       "  if (root.Bokeh !== undefined) {\n",
       "    embed_document(root);\n",
       "  } else {\n",
       "    var attempts = 0;\n",
       "    var timer = setInterval(function(root) {\n",
       "      if (root.Bokeh !== undefined) {\n",
       "        clearInterval(timer);\n",
       "        embed_document(root);\n",
       "      } else {\n",
       "        attempts++;\n",
       "        if (attempts > 100) {\n",
       "          clearInterval(timer);\n",
       "          console.log(\"Bokeh: ERROR: Unable to run BokehJS code because BokehJS library is missing\");\n",
       "        }\n",
       "      }\n",
       "    }, 10, root)\n",
       "  }\n",
       "})(window);"
      ],
      "application/vnd.bokehjs_exec.v0+json": ""
     },
     "metadata": {
      "application/vnd.bokehjs_exec.v0+json": {
       "id": "45439"
      }
     },
     "output_type": "display_data"
    }
   ],
   "source": [
    "from bokeh.models import ColumnDataSource, CDSView, IndexFilter\n",
    "from bokeh.plotting import figure, output_file, show\n",
    "source = ColumnDataSource(data = dict(x = list(range(1,11)), y = list(range(2,22,2))))\n",
    "view = CDSView(source=source, filters = [IndexFilter([0, 2, 4,6])])\n",
    "filt = figure(title = 'Line Plot example', x_axis_label = 'x', y_axis_label = 'y')\n",
    "filt.circle(x = \"x\", y = \"y\", size = 10, source = source, view = view, legend = 'filtered')\n",
    "filt.line(source.data['x'],source.data['y'], legend = 'unfiltered')\n",
    "show(filt)"
   ]
  },
  {
   "cell_type": "markdown",
   "metadata": {},
   "source": [
    "To choose only those rows from the data source, that satisfy a certain Boolean condition, apply a BooleanFilter.\n",
    "\n",
    "A typical Bokeh installation consists of a number of sample data sets in sampledata directory. For following example, we use unemployment1948 dataset provided in the form of unemployment1948.csv. It stores year wise percentage of unemployment in USA since 1948. We want to generate a plot only for year 1980 onwards. For that purpose, a CDSView object is obtained by applying BooleanFilter over the given data source."
   ]
  },
  {
   "cell_type": "code",
   "execution_count": 232,
   "metadata": {},
   "outputs": [
    {
     "name": "stderr",
     "output_type": "stream",
     "text": [
      "ERROR:bokeh.core.validation.check:E-1010 (CDSVIEW_SOURCE_DOESNT_MATCH): CDSView used by Glyph renderer must have a source that matches the Glyph renderer's data source: GlyphRenderer(id=48327, glyph=Line(id='48325', ...), ...)\n",
      "ERROR:bokeh.core.validation.check:E-1024 (CDSVIEW_FILTERS_WITH_CONNECTED): CDSView filters are not compatible with glyphs with connected topology such as Line or Patch: GlyphRenderer(id=48327, glyph=Line(id='48325', ...), ...)\n"
     ]
    },
    {
     "name": "stdout",
     "output_type": "stream",
     "text": [
      "[False, False, False, False, False, False, False, False, False, False, False, False, False, False, False, False, False, False, False, False, False, False, False, False, False, False, False, False, False, False, False, False, True, True, True, True, True, True, True, True, True, True, True, True, True, True, True, True, True, True, True, True, True, True, True, True, True, True, True, True, True, True, True, True, True, True, True, True, True]\n"
     ]
    },
    {
     "data": {
      "text/html": [
       "\n",
       "\n",
       "\n",
       "\n",
       "\n",
       "\n",
       "  <div class=\"bk-root\" id=\"16db1f48-a7dc-4a92-8c30-6e5e14d3a162\" data-root-id=\"48291\"></div>\n"
      ]
     },
     "metadata": {},
     "output_type": "display_data"
    },
    {
     "data": {
      "application/javascript": [
       "(function(root) {\n",
       "  function embed_document(root) {\n",
       "    \n",
       "  var docs_json = {\"e570ed14-c301-4334-aecc-e720f90ca9ff\":{\"roots\":{\"references\":[{\"attributes\":{\"below\":[{\"id\":\"48302\"}],\"center\":[{\"id\":\"48305\"},{\"id\":\"48309\"}],\"left\":[{\"id\":\"48306\"}],\"renderers\":[{\"id\":\"48327\"}],\"title\":{\"id\":\"48292\"},\"toolbar\":{\"id\":\"48317\"},\"x_range\":{\"id\":\"48294\"},\"x_scale\":{\"id\":\"48298\"},\"y_range\":{\"id\":\"48296\"},\"y_scale\":{\"id\":\"48300\"}},\"id\":\"48291\",\"subtype\":\"Figure\",\"type\":\"Plot\"},{\"attributes\":{},\"id\":\"49051\",\"type\":\"BasicTickFormatter\"},{\"attributes\":{\"data\":{\"Annual\":{\"__ndarray__\":\"ZmZmZmZmDkCamZmZmZkXQDMzMzMzMxVAZmZmZmZmCkAAAAAAAAAIQDMzMzMzMwdAAAAAAAAAFkCamZmZmZkRQGZmZmZmZhBAMzMzMzMzEUAzMzMzMzMbQAAAAAAAABZAAAAAAAAAFkDNzMzMzMwaQAAAAAAAABZAzczMzMzMFkDNzMzMzMwUQAAAAAAAABJAZmZmZmZmDkBmZmZmZmYOQM3MzMzMzAxAAAAAAAAADECamZmZmZkTQJqZmZmZmRdAZmZmZmZmFkCamZmZmZkTQGZmZmZmZhZAAAAAAAAAIUDNzMzMzMweQGZmZmZmZhxAZmZmZmZmGEAzMzMzMzMXQGZmZmZmZhxAZmZmZmZmHkBmZmZmZmYjQDMzMzMzMyNAAAAAAAAAHkDNzMzMzMwcQAAAAAAAABxAzczMzMzMGEAAAAAAAAAWQDMzMzMzMxVAZmZmZmZmFkAzMzMzMzMbQAAAAAAAAB5AmpmZmZmZG0BmZmZmZmYYQGZmZmZmZhZAmpmZmZmZFUCamZmZmZkTQAAAAAAAABJAzczMzMzMEEAAAAAAAAAQQM3MzMzMzBJAMzMzMzMzF0AAAAAAAAAYQAAAAAAAABZAZmZmZmZmFEBmZmZmZmYSQGZmZmZmZhJAMzMzMzMzF0CamZmZmZkiQDMzMzMzMyNAzczMzMzMIUAzMzMzMzMgQJqZmZmZmR1AzczMzMzMGEAzMzMzMzMVQJqZmZmZmRNA\",\"dtype\":\"float64\",\"shape\":[69]},\"Apr\":{\"__ndarray__\":\"AAAAAAAAEECamZmZmZkVQAAAAAAAABhAmpmZmZmZCUAAAAAAAAAIQGZmZmZmZgZAZmZmZmZmGECamZmZmZkTQGZmZmZmZhBAAAAAAAAAEEAAAAAAAAAeQM3MzMzMzBRAzczMzMzMFEAAAAAAAAAcQAAAAAAAABZAZmZmZmZmFkAzMzMzMzMVQM3MzMzMzBJAzczMzMzMDEAAAAAAAAAMQJqZmZmZmQlAmpmZmZmZCUAzMzMzMzMRQM3MzMzMzBZAAAAAAAAAFkAzMzMzMzMTQDMzMzMzMxNAMzMzMzMzIUCamZmZmZkdQJqZmZmZmRtAMzMzMzMzF0AAAAAAAAAWQM3MzMzMzBpAAAAAAAAAHEBmZmZmZmYiQAAAAAAAACRAZmZmZmZmHkBmZmZmZmYcQAAAAAAAABxAzczMzMzMGEAzMzMzMzMVQGZmZmZmZhRAMzMzMzMzFUAAAAAAAAAaQM3MzMzMzBxAmpmZmZmZG0DNzMzMzMwYQGZmZmZmZhZAmpmZmZmZFUAzMzMzMzMTQGZmZmZmZhBAZmZmZmZmEECamZmZmZkNQM3MzMzMzBBAzczMzMzMFkAzMzMzMzMXQJqZmZmZmRVAmpmZmZmZE0AAAAAAAAASQDMzMzMzMxFAMzMzMzMzE0AzMzMzMzMhQAAAAAAAACNAZmZmZmZmIUDNzMzMzMweQGZmZmZmZhxAmpmZmZmZF0BmZmZmZmYUQM3MzMzMzBJA\",\"dtype\":\"float64\",\"shape\":[69]},\"Aug\":{\"__ndarray__\":\"zczMzMzMDEAzMzMzMzMZQGZmZmZmZhBAMzMzMzMzB0DNzMzMzMwIQDMzMzMzMwNAmpmZmZmZFUBmZmZmZmYOQJqZmZmZmQ1AmpmZmZmZDUDNzMzMzMwaQDMzMzMzMxNAzczMzMzMFEDNzMzMzMwYQDMzMzMzMxVAzczMzMzMFEAzMzMzMzMTQM3MzMzMzBBAzczMzMzMDECamZmZmZkNQAAAAAAAAAxAAAAAAAAADEAAAAAAAAAUQJqZmZmZmRdAAAAAAAAAFkDNzMzMzMwSQDMzMzMzMxVAZmZmZmZmIEBmZmZmZmYeQDMzMzMzMxtAmpmZmZmZF0CamZmZmZkXQGZmZmZmZh5AzczMzMzMHEAzMzMzMzMjQGZmZmZmZiJAMzMzMzMzHUCamZmZmZkbQM3MzMzMzBpAMzMzMzMzF0CamZmZmZkVQGZmZmZmZhRAAAAAAAAAFkBmZmZmZmYaQJqZmZmZmR1AZmZmZmZmGkCamZmZmZkXQGZmZmZmZhZAZmZmZmZmFEAzMzMzMzMTQAAAAAAAABJAzczMzMzMEEBmZmZmZmYQQJqZmZmZmRNAzczMzMzMFkAAAAAAAAAYQJqZmZmZmRVAmpmZmZmZE0BmZmZmZmYSQGZmZmZmZhJAZmZmZmZmGEAzMzMzMzMjQAAAAAAAACNAMzMzMzMzIkBmZmZmZmYgQDMzMzMzMx1AMzMzMzMzGUDNzMzMzMwUQAAAAAAAABRA\",\"dtype\":\"float64\",\"shape\":[69]},\"Dec\":{\"__ndarray__\":\"zczMzMzMDEAAAAAAAAAYQDMzMzMzMw9AMzMzMzMzB0AAAAAAAAAEQM3MzMzMzBBAMzMzMzMzE0AzMzMzMzMPQAAAAAAAABBAAAAAAAAAFEAAAAAAAAAYQGZmZmZmZhRAmpmZmZmZGUAzMzMzMzMXQDMzMzMzMxVAMzMzMzMzFUDNzMzMzMwSQJqZmZmZmQ1AAAAAAAAADEAAAAAAAAAMQM3MzMzMzAhAmpmZmZmZCUBmZmZmZmYWQAAAAAAAABZAMzMzMzMzE0BmZmZmZmYSQM3MzMzMzBpAMzMzMzMzH0CamZmZmZkdQAAAAAAAABhAzczMzMzMFkDNzMzMzMwWQJqZmZmZmRtAmpmZmZmZIEAAAAAAAAAlQAAAAAAAACBAAAAAAAAAHEDNzMzMzMwaQDMzMzMzMxlAmpmZmZmZFUAAAAAAAAAUQGZmZmZmZhRAAAAAAAAAGECamZmZmZkbQGZmZmZmZhxAZmZmZmZmGEBmZmZmZmYUQM3MzMzMzBRAAAAAAAAAFECamZmZmZkRQAAAAAAAABBAmpmZmZmZDUCamZmZmZkNQJqZmZmZmRVAzczMzMzMFkCamZmZmZkVQGZmZmZmZhRAZmZmZmZmEkAzMzMzMzMRQDMzMzMzMxNAZmZmZmZmHEBmZmZmZmYjQDMzMzMzMyJAmpmZmZmZIEBmZmZmZmYeQAAAAAAAABpAmpmZmZmZFUAzMzMzMzMTQAAAAAAAABJA\",\"dtype\":\"float64\",\"shape\":[69]},\"Feb\":{\"__ndarray__\":\"zczMzMzMEkAzMzMzMzMXQJqZmZmZmR9AzczMzMzMEEBmZmZmZmYOQJqZmZmZmQlAMzMzMzMzGUDNzMzMzMwWQDMzMzMzMxNAzczMzMzMEkDNzMzMzMweQAAAAAAAABxAzczMzMzMFkAzMzMzMzMgQAAAAAAAABpAmpmZmZmZG0DNzMzMzMwYQM3MzMzMzBZAzczMzMzMEEDNzMzMzMwQQM3MzMzMzBBAmpmZmZmZDUDNzMzMzMwSQGZmZmZmZhpAmpmZmZmZGUBmZmZmZmYWQDMzMzMzMxdAMzMzMzMzIkBmZmZmZmYhQAAAAAAAACFAmpmZmZmZG0CamZmZmZkZQDMzMzMzMxtAAAAAAAAAIEAzMzMzMzMjQJqZmZmZmSZAzczMzMzMIEAzMzMzMzMfQDMzMzMzMx9AzczMzMzMHEDNzMzMzMwYQGZmZmZmZhZAmpmZmZmZF0AzMzMzMzMdQGZmZmZmZiBAMzMzMzMzH0BmZmZmZmYcQJqZmZmZmRdAAAAAAAAAGEDNzMzMzMwWQAAAAAAAABRAzczMzMzMEkCamZmZmZkRQGZmZmZmZhJAZmZmZmZmGECamZmZmZkZQAAAAAAAABhAMzMzMzMzF0BmZmZmZmYUQJqZmZmZmRNAzczMzMzMFEDNzMzMzMwhQM3MzMzMzCRAAAAAAAAAI0BmZmZmZmYhQDMzMzMzMyBAAAAAAAAAHEAzMzMzMzMXQM3MzMzMzBRA\",\"dtype\":\"float64\",\"shape\":[69]},\"Jan\":{\"__ndarray__\":\"AAAAAAAAEEAAAAAAAAAUQGZmZmZmZh5AmpmZmZmZEUCamZmZmZkNQDMzMzMzMwtAzczMzMzMFkAzMzMzMzMXQM3MzMzMzBJAmpmZmZmZE0AzMzMzMzMbQAAAAAAAABxAZmZmZmZmGEDNzMzMzMweQM3MzMzMzBpAZmZmZmZmGkCamZmZmZkZQAAAAAAAABZAmpmZmZmZEUDNzMzMzMwQQAAAAAAAABBAmpmZmZmZDUDNzMzMzMwQQGZmZmZmZhpAAAAAAAAAGkAAAAAAAAAWQM3MzMzMzBZAAAAAAAAAIkCamZmZmZkhQJqZmZmZmSBAZmZmZmZmHECamZmZmZkZQJqZmZmZmRtAZmZmZmZmIEDNzMzMzMwiQM3MzMzMzCZAmpmZmZmZIUAAAAAAAAAgQDMzMzMzMx1AMzMzMzMzHUAzMzMzMzMZQAAAAAAAABhAAAAAAAAAGEBmZmZmZmYcQDMzMzMzMyBAAAAAAAAAIEAzMzMzMzMdQM3MzMzMzBhAMzMzMzMzGUCamZmZmZkXQM3MzMzMzBRAMzMzMzMzE0AAAAAAAAASQM3MzMzMzBJAMzMzMzMzGUAAAAAAAAAaQDMzMzMzMxlAzczMzMzMFkBmZmZmZmYUQAAAAAAAABRAmpmZmZmZFUAAAAAAAAAhQDMzMzMzMyVAmpmZmZmZI0CamZmZmZkhQAAAAAAAACFAAAAAAAAAHEBmZmZmZmYYQDMzMzMzMxVA\",\"dtype\":\"float64\",\"shape\":[69]},\"Jul\":{\"__ndarray__\":\"MzMzMzMzD0AAAAAAAAAcQDMzMzMzMxVAZmZmZmZmCkBmZmZmZmYKQJqZmZmZmQVAzczMzMzMFkAAAAAAAAAQQJqZmZmZmRFAZmZmZmZmEECamZmZmZkdQM3MzMzMzBRAAAAAAAAAFkCamZmZmZkbQDMzMzMzMxVAZmZmZmZmFkCamZmZmZkTQAAAAAAAABJAMzMzMzMzD0BmZmZmZmYQQAAAAAAAABBAZmZmZmZmDkAzMzMzMzMVQM3MzMzMzBhAmpmZmZmZF0AAAAAAAAAUQM3MzMzMzBZAZmZmZmZmIUAzMzMzMzMfQAAAAAAAABxAMzMzMzMzGUCamZmZmZkXQJqZmZmZmR9AMzMzMzMzHUCamZmZmZkjQM3MzMzMzCJAAAAAAAAAHkCamZmZmZkdQAAAAAAAABxAZmZmZmZmGEAAAAAAAAAWQDMzMzMzMxVAZmZmZmZmFkAzMzMzMzMbQM3MzMzMzB5AAAAAAAAAHEDNzMzMzMwYQJqZmZmZmRdAZmZmZmZmFkAAAAAAAAAUQM3MzMzMzBJAAAAAAAAAEkDNzMzMzMwQQM3MzMzMzBJAmpmZmZmZF0AzMzMzMzMZQM3MzMzMzBZAzczMzMzMFEAAAAAAAAAUQJqZmZmZmRNAAAAAAAAAGEBmZmZmZmYjQGZmZmZmZiNAmpmZmZmZIkAzMzMzMzMhQM3MzMzMzB5AAAAAAAAAGkBmZmZmZmYWQGZmZmZmZhRA\",\"dtype\":\"float64\",\"shape\":[69]},\"Jun\":{\"__ndarray__\":\"MzMzMzMzD0CamZmZmZkZQGZmZmZmZhZAMzMzMzMzC0CamZmZmZkJQJqZmZmZmQVAzczMzMzMFkCamZmZmZkRQM3MzMzMzBJAZmZmZmZmEkBmZmZmZmYeQJqZmZmZmRVAMzMzMzMzF0AzMzMzMzMdQJqZmZmZmRdAzczMzMzMGECamZmZmZkXQDMzMzMzMxVAZmZmZmZmEkBmZmZmZmYSQAAAAAAAABJAZmZmZmZmEEBmZmZmZmYWQAAAAAAAABpAzczMzMzMGECamZmZmZkVQDMzMzMzMxdAMzMzMzMzIkAAAAAAAAAgQAAAAAAAAB5AzczMzMzMGEAAAAAAAAAYQDMzMzMzMx9AzczMzMzMHkCamZmZmZkjQGZmZmZmZiRAmpmZmZmZHUAAAAAAAAAeQDMzMzMzMx1AMzMzMzMzGUAAAAAAAAAWQAAAAAAAABZAmpmZmZmZFUAAAAAAAAAcQAAAAAAAACBAzczMzMzMHEDNzMzMzMwYQDMzMzMzMxdAAAAAAAAAFkDNzMzMzMwUQM3MzMzMzBJAAAAAAAAAEkBmZmZmZmYQQM3MzMzMzBJAAAAAAAAAGEAAAAAAAAAaQDMzMzMzMxdAzczMzMzMFEAzMzMzMzMTQM3MzMzMzBJAzczMzMzMFkBmZmZmZmYjQDMzMzMzMyNAmpmZmZmZIkDNzMzMzMwgQDMzMzMzMx9AMzMzMzMzGUAAAAAAAAAWQGZmZmZmZhRA\",\"dtype\":\"float64\",\"shape\":[69]},\"Mar\":{\"__ndarray__\":\"AAAAAAAAEkBmZmZmZmYWQGZmZmZmZhxAZmZmZmZmDkBmZmZmZmYKQDMzMzMzMwdAmpmZmZmZGUDNzMzMzMwUQM3MzMzMzBJAMzMzMzMzEUDNzMzMzMweQJqZmZmZmRlAZmZmZmZmGEDNzMzMzMweQM3MzMzMzBhAMzMzMzMzGUCamZmZmZkXQGZmZmZmZhRAAAAAAAAAEEAzMzMzMzMPQGZmZmZmZg5AAAAAAAAADEBmZmZmZmYSQDMzMzMzMxlAZmZmZmZmGEDNzMzMzMwUQDMzMzMzMxVAMzMzMzMzIkAzMzMzMzMgQJqZmZmZmR9AZmZmZmZmGkBmZmZmZmYYQGZmZmZmZhpAzczMzMzMHkAAAAAAAAAjQJqZmZmZmSVAMzMzMzMzIEAAAAAAAAAeQAAAAAAAAB5AmpmZmZmZG0CamZmZmZkXQM3MzMzMzBRAAAAAAAAAFkDNzMzMzMwcQDMzMzMzMx9AmpmZmZmZHUAzMzMzMzMbQM3MzMzMzBZAMzMzMzMzF0AAAAAAAAAWQAAAAAAAABRAmpmZmZmZEUAzMzMzMzMRQAAAAAAAABJAZmZmZmZmGEDNzMzMzMwYQAAAAAAAABhAmpmZmZmZFUAzMzMzMzMTQAAAAAAAABJAzczMzMzMFEAAAAAAAAAiQGZmZmZmZiRAZmZmZmZmIkDNzMzMzMwgQGZmZmZmZh5AMzMzMzMzG0BmZmZmZmYWQGZmZmZmZhRA\",\"dtype\":\"float64\",\"shape\":[69]},\"May\":{\"__ndarray__\":\"MzMzMzMzC0DNzMzMzMwWQDMzMzMzMxVAMzMzMzMzB0AzMzMzMzMHQAAAAAAAAARAzczMzMzMFkDNzMzMzMwQQM3MzMzMzBBAMzMzMzMzD0BmZmZmZmYcQJqZmZmZmRNAMzMzMzMzE0BmZmZmZmYaQGZmZmZmZhRAAAAAAAAAFkAzMzMzMzMTQDMzMzMzMxFAmpmZmZmZDUCamZmZmZkJQDMzMzMzMwdAMzMzMzMzB0BmZmZmZmYQQDMzMzMzMxVAZmZmZmZmFECamZmZmZkRQGZmZmZmZhJAmpmZmZmZIEAzMzMzMzMbQJqZmZmZmRlAAAAAAAAAFkDNzMzMzMwUQGZmZmZmZhxAZmZmZmZmHEAzMzMzMzMiQJqZmZmZmSNAzczMzMzMHEAAAAAAAAAcQAAAAAAAABxAZmZmZmZmGECamZmZmZkVQAAAAAAAABRAzczMzMzMFEDNzMzMzMwaQDMzMzMzMx1AMzMzMzMzG0CamZmZmZkXQAAAAAAAABZAmpmZmZmZFUDNzMzMzMwSQM3MzMzMzBBAAAAAAAAAEEBmZmZmZmYOQGZmZmZmZhBAAAAAAAAAFkAzMzMzMzMXQDMzMzMzMxVAmpmZmZmZE0CamZmZmZkRQDMzMzMzMxFAzczMzMzMFEAzMzMzMzMiQJqZmZmZmSJAZmZmZmZmIUCamZmZmZkfQDMzMzMzMx1AZmZmZmZmGEAzMzMzMzMVQAAAAAAAABJA\",\"dtype\":\"float64\",\"shape\":[69]},\"Nov\":{\"__ndarray__\":\"ZmZmZmZmCkDNzMzMzMwWQGZmZmZmZg5AmpmZmZmZCUAAAAAAAAAEQJqZmZmZmQlAmpmZmZmZE0BmZmZmZmYOQDMzMzMzMw9AZmZmZmZmEkBmZmZmZmYWQDMzMzMzMxVAZmZmZmZmFkBmZmZmZmYWQDMzMzMzMxVAMzMzMzMzFUAAAAAAAAASQDMzMzMzMw9AMzMzMzMzC0CamZmZmZkNQGZmZmZmZgpAZmZmZmZmCkAAAAAAAAAWQM3MzMzMzBZAmpmZmZmZE0BmZmZmZmYSQM3MzMzMzBhAMzMzMzMzH0CamZmZmZkdQAAAAAAAABpAZmZmZmZmFkBmZmZmZmYWQGZmZmZmZhxAmpmZmZmZH0DNzMzMzMwkQDMzMzMzMyBAmpmZmZmZG0DNzMzMzMwaQGZmZmZmZhpAZmZmZmZmFkDNzMzMzMwUQM3MzMzMzBRAmpmZmZmZF0DNzMzMzMwaQGZmZmZmZhxAzczMzMzMGEAzMzMzMzMVQDMzMzMzMxVAAAAAAAAAFEAzMzMzMzMRQGZmZmZmZhBAZmZmZmZmDkCamZmZmZkNQDMzMzMzMxVAZmZmZmZmFkBmZmZmZmYWQM3MzMzMzBRAMzMzMzMzE0AzMzMzMzMRQAAAAAAAABJAAAAAAAAAGkDNzMzMzMwiQJqZmZmZmSJAZmZmZmZmIECamZmZmZkdQGZmZmZmZhpAAAAAAAAAFkAzMzMzMzMTQJqZmZmZmRFA\",\"dtype\":\"float64\",\"shape\":[69]},\"Oct\":{\"__ndarray__\":\"MzMzMzMzB0BmZmZmZmYYQGZmZmZmZgpAZmZmZmZmBkAzMzMzMzMDQAAAAAAAAARAZmZmZmZmEkAzMzMzMzMLQM3MzMzMzAhAzczMzMzMDEAAAAAAAAAWQM3MzMzMzBJAAAAAAAAAFEAAAAAAAAAWQAAAAAAAABJAzczMzMzMEkCamZmZmZkRQM3MzMzMzAxAmpmZmZmZCUBmZmZmZmYOQJqZmZmZmQlAAAAAAAAADEBmZmZmZmYUQJqZmZmZmRVAZmZmZmZmFEDNzMzMzMwQQAAAAAAAABZAMzMzMzMzH0DNzMzMzMwcQJqZmZmZmRlAmpmZmZmZFUBmZmZmZmYWQGZmZmZmZhxAAAAAAAAAHkDNzMzMzMwjQM3MzMzMzCBAAAAAAAAAHEAzMzMzMzMbQGZmZmZmZhpAzczMzMzMFkAAAAAAAAAUQAAAAAAAABRAAAAAAAAAFkAAAAAAAAAaQJqZmZmZmRtAmpmZmZmZGUCamZmZmZkVQM3MzMzMzBRAmpmZmZmZE0CamZmZmZkRQM3MzMzMzBBAZmZmZmZmDkDNzMzMzMwMQAAAAAAAABRAMzMzMzMzFUBmZmZmZmYWQGZmZmZmZhRAZmZmZmZmEkBmZmZmZmYQQJqZmZmZmRFAZmZmZmZmGEAAAAAAAAAjQAAAAAAAACJAAAAAAAAAIUAAAAAAAAAeQAAAAAAAABxAAAAAAAAAFkAzMzMzMzMTQM3MzMzMzBJA\",\"dtype\":\"float64\",\"shape\":[69]},\"Sep\":{\"__ndarray__\":\"MzMzMzMzC0CamZmZmZkXQAAAAAAAABBAAAAAAAAACECamZmZmZkFQM3MzMzMzARAMzMzMzMzFUAAAAAAAAAMQDMzMzMzMwtAmpmZmZmZDUAAAAAAAAAYQM3MzMzMzBJAzczMzMzMEkAzMzMzMzMXQJqZmZmZmRNAMzMzMzMzE0AAAAAAAAASQGZmZmZmZg5AZmZmZmZmCkCamZmZmZkNQGZmZmZmZgpAmpmZmZmZDUDNzMzMzMwUQDMzMzMzMxdAmpmZmZmZFUDNzMzMzMwSQM3MzMzMzBZAMzMzMzMzIECamZmZmZkdQGZmZmZmZhpAMzMzMzMzF0DNzMzMzMwWQM3MzMzMzBxAMzMzMzMzHUBmZmZmZmYjQJqZmZmZmSFAZmZmZmZmHECamZmZmZkbQDMzMzMzMxtAzczMzMzMFkDNzMzMzMwUQGZmZmZmZhRAZmZmZmZmFkAAAAAAAAAaQDMzMzMzMx1AmpmZmZmZGUBmZmZmZmYWQJqZmZmZmRVAAAAAAAAAFEDNzMzMzMwSQJqZmZmZmRFAZmZmZmZmEEBmZmZmZmYOQM3MzMzMzBJAmpmZmZmZFUAzMzMzMzMXQGZmZmZmZhRAMzMzMzMzE0CamZmZmZkRQAAAAAAAABJAAAAAAAAAGEAAAAAAAAAjQGZmZmZmZiJAmpmZmZmZIUBmZmZmZmYeQAAAAAAAABxAzczMzMzMFkCamZmZmZkTQDMzMzMzMxNA\",\"dtype\":\"float64\",\"shape\":[69]},\"Year\":[1948,1949,1950,1951,1952,1953,1954,1955,1956,1957,1958,1959,1960,1961,1962,1963,1964,1965,1966,1967,1968,1969,1970,1971,1972,1973,1974,1975,1976,1977,1978,1979,1980,1981,1982,1983,1984,1985,1986,1987,1988,1989,1990,1991,1992,1993,1994,1995,1996,1997,1998,1999,2000,2001,2002,2003,2004,2005,2006,2007,2008,2009,2010,2011,2012,2013,2014,2015,2016],\"index\":[0,1,2,3,4,5,6,7,8,9,10,11,12,13,14,15,16,17,18,19,20,21,22,23,24,25,26,27,28,29,30,31,32,33,34,35,36,37,38,39,40,41,42,43,44,45,46,47,48,49,50,51,52,53,54,55,56,57,58,59,60,61,62,63,64,65,66,67,68]},\"selected\":{\"id\":\"49056\"},\"selection_policy\":{\"id\":\"49055\"}},\"id\":\"48288\",\"type\":\"ColumnDataSource\"},{\"attributes\":{},\"id\":\"48311\",\"type\":\"WheelZoomTool\"},{\"attributes\":{},\"id\":\"48296\",\"type\":\"DataRange1d\"},{\"attributes\":{},\"id\":\"49053\",\"type\":\"BasicTickFormatter\"},{\"attributes\":{\"overlay\":{\"id\":\"48316\"}},\"id\":\"48312\",\"type\":\"BoxZoomTool\"},{\"attributes\":{\"axis_label\":\"Year\",\"formatter\":{\"id\":\"49051\"},\"ticker\":{\"id\":\"48303\"}},\"id\":\"48302\",\"type\":\"LinearAxis\"},{\"attributes\":{\"line_alpha\":0.1,\"line_color\":\"red\",\"line_width\":2,\"x\":{\"field\":\"Year\"},\"y\":{\"field\":\"Annual\"}},\"id\":\"48326\",\"type\":\"Line\"},{\"attributes\":{\"booleans\":[false,false,false,false,false,false,false,false,false,false,false,false,false,false,false,false,false,false,false,false,false,false,false,false,false,false,false,false,false,false,false,false,true,true,true,true,true,true,true,true,true,true,true,true,true,true,true,true,true,true,true,true,true,true,true,true,true,true,true,true,true,true,true,true,true,true,true,true,true]},\"id\":\"48289\",\"type\":\"BooleanFilter\"},{\"attributes\":{\"data_source\":{\"id\":\"48288\"},\"glyph\":{\"id\":\"48325\"},\"hover_glyph\":null,\"muted_glyph\":null,\"nonselection_glyph\":{\"id\":\"48326\"},\"selection_glyph\":null,\"view\":{\"id\":\"48290\"}},\"id\":\"48327\",\"type\":\"GlyphRenderer\"},{\"attributes\":{\"end\":2020,\"start\":1980},\"id\":\"48294\",\"type\":\"Range1d\"},{\"attributes\":{},\"id\":\"48298\",\"type\":\"LinearScale\"},{\"attributes\":{},\"id\":\"48300\",\"type\":\"LinearScale\"},{\"attributes\":{\"text\":\"Unemployment data\"},\"id\":\"48292\",\"type\":\"Title\"},{\"attributes\":{},\"id\":\"48310\",\"type\":\"PanTool\"},{\"attributes\":{},\"id\":\"45495\",\"type\":\"Selection\"},{\"attributes\":{},\"id\":\"48303\",\"type\":\"BasicTicker\"},{\"attributes\":{},\"id\":\"48315\",\"type\":\"HelpTool\"},{\"attributes\":{},\"id\":\"48314\",\"type\":\"ResetTool\"},{\"attributes\":{\"data\":{\"x\":[1,2,3,4,5,6,7,8,9,10],\"y\":[2,4,6,8,10,12,14,16,18,20]},\"selected\":{\"id\":\"45495\"},\"selection_policy\":{\"id\":\"45494\"}},\"id\":\"45436\",\"type\":\"ColumnDataSource\"},{\"attributes\":{\"line_color\":\"red\",\"line_width\":2,\"x\":{\"field\":\"Year\"},\"y\":{\"field\":\"Annual\"}},\"id\":\"48325\",\"type\":\"Line\"},{\"attributes\":{\"bottom_units\":\"screen\",\"fill_alpha\":0.5,\"fill_color\":\"lightgrey\",\"left_units\":\"screen\",\"level\":\"overlay\",\"line_alpha\":1.0,\"line_color\":\"black\",\"line_dash\":[4,4],\"line_width\":2,\"render_mode\":\"css\",\"right_units\":\"screen\",\"top_units\":\"screen\"},\"id\":\"48316\",\"type\":\"BoxAnnotation\"},{\"attributes\":{\"axis_label\":\"Percentage\",\"formatter\":{\"id\":\"49053\"},\"ticker\":{\"id\":\"48307\"}},\"id\":\"48306\",\"type\":\"LinearAxis\"},{\"attributes\":{},\"id\":\"48313\",\"type\":\"SaveTool\"},{\"attributes\":{\"axis\":{\"id\":\"48306\"},\"dimension\":1,\"ticker\":null},\"id\":\"48309\",\"type\":\"Grid\"},{\"attributes\":{},\"id\":\"49056\",\"type\":\"Selection\"},{\"attributes\":{\"filters\":[{\"id\":\"48289\"}],\"source\":{\"id\":\"45436\"}},\"id\":\"48290\",\"type\":\"CDSView\"},{\"attributes\":{},\"id\":\"45494\",\"type\":\"UnionRenderers\"},{\"attributes\":{},\"id\":\"48307\",\"type\":\"BasicTicker\"},{\"attributes\":{\"active_drag\":\"auto\",\"active_inspect\":\"auto\",\"active_multi\":null,\"active_scroll\":\"auto\",\"active_tap\":\"auto\",\"tools\":[{\"id\":\"48310\"},{\"id\":\"48311\"},{\"id\":\"48312\"},{\"id\":\"48313\"},{\"id\":\"48314\"},{\"id\":\"48315\"}]},\"id\":\"48317\",\"type\":\"Toolbar\"},{\"attributes\":{},\"id\":\"49055\",\"type\":\"UnionRenderers\"},{\"attributes\":{\"axis\":{\"id\":\"48302\"},\"ticker\":null},\"id\":\"48305\",\"type\":\"Grid\"}],\"root_ids\":[\"48291\"]},\"title\":\"Bokeh Application\",\"version\":\"2.0.2\"}};\n",
       "  var render_items = [{\"docid\":\"e570ed14-c301-4334-aecc-e720f90ca9ff\",\"root_ids\":[\"48291\"],\"roots\":{\"48291\":\"16db1f48-a7dc-4a92-8c30-6e5e14d3a162\"}}];\n",
       "  root.Bokeh.embed.embed_items_notebook(docs_json, render_items);\n",
       "\n",
       "  }\n",
       "  if (root.Bokeh !== undefined) {\n",
       "    embed_document(root);\n",
       "  } else {\n",
       "    var attempts = 0;\n",
       "    var timer = setInterval(function(root) {\n",
       "      if (root.Bokeh !== undefined) {\n",
       "        clearInterval(timer);\n",
       "        embed_document(root);\n",
       "      } else {\n",
       "        attempts++;\n",
       "        if (attempts > 100) {\n",
       "          clearInterval(timer);\n",
       "          console.log(\"Bokeh: ERROR: Unable to run BokehJS code because BokehJS library is missing\");\n",
       "        }\n",
       "      }\n",
       "    }, 10, root)\n",
       "  }\n",
       "})(window);"
      ],
      "application/vnd.bokehjs_exec.v0+json": ""
     },
     "metadata": {
      "application/vnd.bokehjs_exec.v0+json": {
       "id": "48291"
      }
     },
     "output_type": "display_data"
    },
    {
     "name": "stderr",
     "output_type": "stream",
     "text": [
      "ERROR:bokeh.core.validation.check:E-1010 (CDSVIEW_SOURCE_DOESNT_MATCH): CDSView used by Glyph renderer must have a source that matches the Glyph renderer's data source: GlyphRenderer(id=48327, glyph=Line(id='48325', ...), ...)\n",
      "ERROR:bokeh.core.validation.check:E-1024 (CDSVIEW_FILTERS_WITH_CONNECTED): CDSView filters are not compatible with glyphs with connected topology such as Line or Patch: GlyphRenderer(id=48327, glyph=Line(id='48325', ...), ...)\n"
     ]
    }
   ],
   "source": [
    "from bokeh.models import ColumnDataSource, CDSView, BooleanFilter\n",
    "from bokeh.plotting import figure, show\n",
    "from bokeh.sampledata.unemployment1948 import data\n",
    "source_1 = ColumnDataSource(data)\n",
    "booleans = [True if int(year) >= 1980 else False for year in\n",
    "source_1.data['Year']]\n",
    "print (booleans)\n",
    "view1 = CDSView(source = source, filters=[BooleanFilter(booleans)])\n",
    "p_filt = figure(title = \"Unemployment data\", x_range = (1980,2020), x_axis_label = 'Year', y_axis_label='Percentage')\n",
    "p_filt.line(x = 'Year', y = 'Annual', source = source_1, view = view1, color = 'red', line_width = 2)\n",
    "show(p_filt)"
   ]
  },
  {
   "cell_type": "code",
   "execution_count": 234,
   "metadata": {},
   "outputs": [
    {
     "name": "stderr",
     "output_type": "stream",
     "text": [
      "ERROR:bokeh.core.validation.check:E-1010 (CDSVIEW_SOURCE_DOESNT_MATCH): CDSView used by Glyph renderer must have a source that matches the Glyph renderer's data source: GlyphRenderer(id=50263, glyph=Line(id='50261', ...), ...)\n",
      "ERROR:bokeh.core.validation.check:E-1024 (CDSVIEW_FILTERS_WITH_CONNECTED): CDSView filters are not compatible with glyphs with connected topology such as Line or Patch: GlyphRenderer(id=50263, glyph=Line(id='50261', ...), ...)\n"
     ]
    },
    {
     "data": {
      "text/html": [
       "\n",
       "\n",
       "\n",
       "\n",
       "\n",
       "\n",
       "  <div class=\"bk-root\" id=\"08f74cb4-803e-45e7-a9f7-9398ef4428ce\" data-root-id=\"50227\"></div>\n"
      ]
     },
     "metadata": {},
     "output_type": "display_data"
    },
    {
     "data": {
      "application/javascript": [
       "(function(root) {\n",
       "  function embed_document(root) {\n",
       "    \n",
       "  var docs_json = {\"b2819cb3-8ba2-4753-ad43-fac5bf7891ae\":{\"roots\":{\"references\":[{\"attributes\":{\"below\":[{\"id\":\"50238\"}],\"center\":[{\"id\":\"50241\"},{\"id\":\"50245\"}],\"left\":[{\"id\":\"50242\"}],\"renderers\":[{\"id\":\"50263\"}],\"title\":{\"id\":\"50228\"},\"toolbar\":{\"id\":\"50253\"},\"x_range\":{\"id\":\"50230\"},\"x_scale\":{\"id\":\"50234\"},\"y_range\":{\"id\":\"50232\"},\"y_scale\":{\"id\":\"50236\"}},\"id\":\"50227\",\"subtype\":\"Figure\",\"type\":\"Plot\"},{\"attributes\":{\"active_drag\":\"auto\",\"active_inspect\":\"auto\",\"active_multi\":null,\"active_scroll\":\"auto\",\"active_tap\":\"auto\",\"tools\":[{\"id\":\"50246\"},{\"id\":\"50247\"},{\"id\":\"50248\"},{\"id\":\"50249\"},{\"id\":\"50250\"},{\"id\":\"50251\"}]},\"id\":\"50253\",\"type\":\"Toolbar\"},{\"attributes\":{\"end\":2020,\"start\":1980},\"id\":\"50230\",\"type\":\"Range1d\"},{\"attributes\":{\"data_source\":{\"id\":\"50224\"},\"glyph\":{\"id\":\"50261\"},\"hover_glyph\":null,\"muted_glyph\":null,\"nonselection_glyph\":{\"id\":\"50262\"},\"selection_glyph\":null,\"view\":{\"id\":\"50226\"}},\"id\":\"50263\",\"type\":\"GlyphRenderer\"},{\"attributes\":{\"filters\":[{\"id\":\"50225\"}],\"source\":{\"id\":\"45436\"}},\"id\":\"50226\",\"type\":\"CDSView\"},{\"attributes\":{\"axis_label\":\"Percentage\",\"formatter\":{\"id\":\"51009\"},\"ticker\":{\"id\":\"50243\"}},\"id\":\"50242\",\"type\":\"LinearAxis\"},{\"attributes\":{\"axis_label\":\"Year\",\"formatter\":{\"id\":\"51007\"},\"ticker\":{\"id\":\"50239\"}},\"id\":\"50238\",\"type\":\"LinearAxis\"},{\"attributes\":{\"line_color\":\"red\",\"line_width\":2,\"x\":{\"field\":\"Year\"},\"y\":{\"field\":\"Annual\"}},\"id\":\"50261\",\"type\":\"Line\"},{\"attributes\":{},\"id\":\"50236\",\"type\":\"LinearScale\"},{\"attributes\":{},\"id\":\"51012\",\"type\":\"Selection\"},{\"attributes\":{},\"id\":\"50232\",\"type\":\"DataRange1d\"},{\"attributes\":{},\"id\":\"45495\",\"type\":\"Selection\"},{\"attributes\":{},\"id\":\"50251\",\"type\":\"HelpTool\"},{\"attributes\":{\"axis\":{\"id\":\"50238\"},\"ticker\":null},\"id\":\"50241\",\"type\":\"Grid\"},{\"attributes\":{},\"id\":\"50246\",\"type\":\"PanTool\"},{\"attributes\":{},\"id\":\"51011\",\"type\":\"UnionRenderers\"},{\"attributes\":{\"data\":{\"x\":[1,2,3,4,5,6,7,8,9,10],\"y\":[2,4,6,8,10,12,14,16,18,20]},\"selected\":{\"id\":\"45495\"},\"selection_policy\":{\"id\":\"45494\"}},\"id\":\"45436\",\"type\":\"ColumnDataSource\"},{\"attributes\":{\"code\":\"\\n   var indices = [];\\n\\n   for (var i = 0; i < source.get_length(); i++){\\n      if (parseInt(source.data['Year'][i]) > = 1980){\\n         indices.push(true);\\n      } else {\\n         indices.push(false);\\n      }\\n   }\\n   return indices;\\n\"},\"id\":\"50225\",\"type\":\"CustomJSFilter\"},{\"attributes\":{\"text\":\"Unemployment data\"},\"id\":\"50228\",\"type\":\"Title\"},{\"attributes\":{},\"id\":\"50234\",\"type\":\"LinearScale\"},{\"attributes\":{},\"id\":\"50249\",\"type\":\"SaveTool\"},{\"attributes\":{\"data\":{\"Annual\":{\"__ndarray__\":\"ZmZmZmZmDkCamZmZmZkXQDMzMzMzMxVAZmZmZmZmCkAAAAAAAAAIQDMzMzMzMwdAAAAAAAAAFkCamZmZmZkRQGZmZmZmZhBAMzMzMzMzEUAzMzMzMzMbQAAAAAAAABZAAAAAAAAAFkDNzMzMzMwaQAAAAAAAABZAzczMzMzMFkDNzMzMzMwUQAAAAAAAABJAZmZmZmZmDkBmZmZmZmYOQM3MzMzMzAxAAAAAAAAADECamZmZmZkTQJqZmZmZmRdAZmZmZmZmFkCamZmZmZkTQGZmZmZmZhZAAAAAAAAAIUDNzMzMzMweQGZmZmZmZhxAZmZmZmZmGEAzMzMzMzMXQGZmZmZmZhxAZmZmZmZmHkBmZmZmZmYjQDMzMzMzMyNAAAAAAAAAHkDNzMzMzMwcQAAAAAAAABxAzczMzMzMGEAAAAAAAAAWQDMzMzMzMxVAZmZmZmZmFkAzMzMzMzMbQAAAAAAAAB5AmpmZmZmZG0BmZmZmZmYYQGZmZmZmZhZAmpmZmZmZFUCamZmZmZkTQAAAAAAAABJAzczMzMzMEEAAAAAAAAAQQM3MzMzMzBJAMzMzMzMzF0AAAAAAAAAYQAAAAAAAABZAZmZmZmZmFEBmZmZmZmYSQGZmZmZmZhJAMzMzMzMzF0CamZmZmZkiQDMzMzMzMyNAzczMzMzMIUAzMzMzMzMgQJqZmZmZmR1AzczMzMzMGEAzMzMzMzMVQJqZmZmZmRNA\",\"dtype\":\"float64\",\"shape\":[69]},\"Apr\":{\"__ndarray__\":\"AAAAAAAAEECamZmZmZkVQAAAAAAAABhAmpmZmZmZCUAAAAAAAAAIQGZmZmZmZgZAZmZmZmZmGECamZmZmZkTQGZmZmZmZhBAAAAAAAAAEEAAAAAAAAAeQM3MzMzMzBRAzczMzMzMFEAAAAAAAAAcQAAAAAAAABZAZmZmZmZmFkAzMzMzMzMVQM3MzMzMzBJAzczMzMzMDEAAAAAAAAAMQJqZmZmZmQlAmpmZmZmZCUAzMzMzMzMRQM3MzMzMzBZAAAAAAAAAFkAzMzMzMzMTQDMzMzMzMxNAMzMzMzMzIUCamZmZmZkdQJqZmZmZmRtAMzMzMzMzF0AAAAAAAAAWQM3MzMzMzBpAAAAAAAAAHEBmZmZmZmYiQAAAAAAAACRAZmZmZmZmHkBmZmZmZmYcQAAAAAAAABxAzczMzMzMGEAzMzMzMzMVQGZmZmZmZhRAMzMzMzMzFUAAAAAAAAAaQM3MzMzMzBxAmpmZmZmZG0DNzMzMzMwYQGZmZmZmZhZAmpmZmZmZFUAzMzMzMzMTQGZmZmZmZhBAZmZmZmZmEECamZmZmZkNQM3MzMzMzBBAzczMzMzMFkAzMzMzMzMXQJqZmZmZmRVAmpmZmZmZE0AAAAAAAAASQDMzMzMzMxFAMzMzMzMzE0AzMzMzMzMhQAAAAAAAACNAZmZmZmZmIUDNzMzMzMweQGZmZmZmZhxAmpmZmZmZF0BmZmZmZmYUQM3MzMzMzBJA\",\"dtype\":\"float64\",\"shape\":[69]},\"Aug\":{\"__ndarray__\":\"zczMzMzMDEAzMzMzMzMZQGZmZmZmZhBAMzMzMzMzB0DNzMzMzMwIQDMzMzMzMwNAmpmZmZmZFUBmZmZmZmYOQJqZmZmZmQ1AmpmZmZmZDUDNzMzMzMwaQDMzMzMzMxNAzczMzMzMFEDNzMzMzMwYQDMzMzMzMxVAzczMzMzMFEAzMzMzMzMTQM3MzMzMzBBAzczMzMzMDECamZmZmZkNQAAAAAAAAAxAAAAAAAAADEAAAAAAAAAUQJqZmZmZmRdAAAAAAAAAFkDNzMzMzMwSQDMzMzMzMxVAZmZmZmZmIEBmZmZmZmYeQDMzMzMzMxtAmpmZmZmZF0CamZmZmZkXQGZmZmZmZh5AzczMzMzMHEAzMzMzMzMjQGZmZmZmZiJAMzMzMzMzHUCamZmZmZkbQM3MzMzMzBpAMzMzMzMzF0CamZmZmZkVQGZmZmZmZhRAAAAAAAAAFkBmZmZmZmYaQJqZmZmZmR1AZmZmZmZmGkCamZmZmZkXQGZmZmZmZhZAZmZmZmZmFEAzMzMzMzMTQAAAAAAAABJAzczMzMzMEEBmZmZmZmYQQJqZmZmZmRNAzczMzMzMFkAAAAAAAAAYQJqZmZmZmRVAmpmZmZmZE0BmZmZmZmYSQGZmZmZmZhJAZmZmZmZmGEAzMzMzMzMjQAAAAAAAACNAMzMzMzMzIkBmZmZmZmYgQDMzMzMzMx1AMzMzMzMzGUDNzMzMzMwUQAAAAAAAABRA\",\"dtype\":\"float64\",\"shape\":[69]},\"Dec\":{\"__ndarray__\":\"zczMzMzMDEAAAAAAAAAYQDMzMzMzMw9AMzMzMzMzB0AAAAAAAAAEQM3MzMzMzBBAMzMzMzMzE0AzMzMzMzMPQAAAAAAAABBAAAAAAAAAFEAAAAAAAAAYQGZmZmZmZhRAmpmZmZmZGUAzMzMzMzMXQDMzMzMzMxVAMzMzMzMzFUDNzMzMzMwSQJqZmZmZmQ1AAAAAAAAADEAAAAAAAAAMQM3MzMzMzAhAmpmZmZmZCUBmZmZmZmYWQAAAAAAAABZAMzMzMzMzE0BmZmZmZmYSQM3MzMzMzBpAMzMzMzMzH0CamZmZmZkdQAAAAAAAABhAzczMzMzMFkDNzMzMzMwWQJqZmZmZmRtAmpmZmZmZIEAAAAAAAAAlQAAAAAAAACBAAAAAAAAAHEDNzMzMzMwaQDMzMzMzMxlAmpmZmZmZFUAAAAAAAAAUQGZmZmZmZhRAAAAAAAAAGECamZmZmZkbQGZmZmZmZhxAZmZmZmZmGEBmZmZmZmYUQM3MzMzMzBRAAAAAAAAAFECamZmZmZkRQAAAAAAAABBAmpmZmZmZDUCamZmZmZkNQJqZmZmZmRVAzczMzMzMFkCamZmZmZkVQGZmZmZmZhRAZmZmZmZmEkAzMzMzMzMRQDMzMzMzMxNAZmZmZmZmHEBmZmZmZmYjQDMzMzMzMyJAmpmZmZmZIEBmZmZmZmYeQAAAAAAAABpAmpmZmZmZFUAzMzMzMzMTQAAAAAAAABJA\",\"dtype\":\"float64\",\"shape\":[69]},\"Feb\":{\"__ndarray__\":\"zczMzMzMEkAzMzMzMzMXQJqZmZmZmR9AzczMzMzMEEBmZmZmZmYOQJqZmZmZmQlAMzMzMzMzGUDNzMzMzMwWQDMzMzMzMxNAzczMzMzMEkDNzMzMzMweQAAAAAAAABxAzczMzMzMFkAzMzMzMzMgQAAAAAAAABpAmpmZmZmZG0DNzMzMzMwYQM3MzMzMzBZAzczMzMzMEEDNzMzMzMwQQM3MzMzMzBBAmpmZmZmZDUDNzMzMzMwSQGZmZmZmZhpAmpmZmZmZGUBmZmZmZmYWQDMzMzMzMxdAMzMzMzMzIkBmZmZmZmYhQAAAAAAAACFAmpmZmZmZG0CamZmZmZkZQDMzMzMzMxtAAAAAAAAAIEAzMzMzMzMjQJqZmZmZmSZAzczMzMzMIEAzMzMzMzMfQDMzMzMzMx9AzczMzMzMHEDNzMzMzMwYQGZmZmZmZhZAmpmZmZmZF0AzMzMzMzMdQGZmZmZmZiBAMzMzMzMzH0BmZmZmZmYcQJqZmZmZmRdAAAAAAAAAGEDNzMzMzMwWQAAAAAAAABRAzczMzMzMEkCamZmZmZkRQGZmZmZmZhJAZmZmZmZmGECamZmZmZkZQAAAAAAAABhAMzMzMzMzF0BmZmZmZmYUQJqZmZmZmRNAzczMzMzMFEDNzMzMzMwhQM3MzMzMzCRAAAAAAAAAI0BmZmZmZmYhQDMzMzMzMyBAAAAAAAAAHEAzMzMzMzMXQM3MzMzMzBRA\",\"dtype\":\"float64\",\"shape\":[69]},\"Jan\":{\"__ndarray__\":\"AAAAAAAAEEAAAAAAAAAUQGZmZmZmZh5AmpmZmZmZEUCamZmZmZkNQDMzMzMzMwtAzczMzMzMFkAzMzMzMzMXQM3MzMzMzBJAmpmZmZmZE0AzMzMzMzMbQAAAAAAAABxAZmZmZmZmGEDNzMzMzMweQM3MzMzMzBpAZmZmZmZmGkCamZmZmZkZQAAAAAAAABZAmpmZmZmZEUDNzMzMzMwQQAAAAAAAABBAmpmZmZmZDUDNzMzMzMwQQGZmZmZmZhpAAAAAAAAAGkAAAAAAAAAWQM3MzMzMzBZAAAAAAAAAIkCamZmZmZkhQJqZmZmZmSBAZmZmZmZmHECamZmZmZkZQJqZmZmZmRtAZmZmZmZmIEDNzMzMzMwiQM3MzMzMzCZAmpmZmZmZIUAAAAAAAAAgQDMzMzMzMx1AMzMzMzMzHUAzMzMzMzMZQAAAAAAAABhAAAAAAAAAGEBmZmZmZmYcQDMzMzMzMyBAAAAAAAAAIEAzMzMzMzMdQM3MzMzMzBhAMzMzMzMzGUCamZmZmZkXQM3MzMzMzBRAMzMzMzMzE0AAAAAAAAASQM3MzMzMzBJAMzMzMzMzGUAAAAAAAAAaQDMzMzMzMxlAzczMzMzMFkBmZmZmZmYUQAAAAAAAABRAmpmZmZmZFUAAAAAAAAAhQDMzMzMzMyVAmpmZmZmZI0CamZmZmZkhQAAAAAAAACFAAAAAAAAAHEBmZmZmZmYYQDMzMzMzMxVA\",\"dtype\":\"float64\",\"shape\":[69]},\"Jul\":{\"__ndarray__\":\"MzMzMzMzD0AAAAAAAAAcQDMzMzMzMxVAZmZmZmZmCkBmZmZmZmYKQJqZmZmZmQVAzczMzMzMFkAAAAAAAAAQQJqZmZmZmRFAZmZmZmZmEECamZmZmZkdQM3MzMzMzBRAAAAAAAAAFkCamZmZmZkbQDMzMzMzMxVAZmZmZmZmFkCamZmZmZkTQAAAAAAAABJAMzMzMzMzD0BmZmZmZmYQQAAAAAAAABBAZmZmZmZmDkAzMzMzMzMVQM3MzMzMzBhAmpmZmZmZF0AAAAAAAAAUQM3MzMzMzBZAZmZmZmZmIUAzMzMzMzMfQAAAAAAAABxAMzMzMzMzGUCamZmZmZkXQJqZmZmZmR9AMzMzMzMzHUCamZmZmZkjQM3MzMzMzCJAAAAAAAAAHkCamZmZmZkdQAAAAAAAABxAZmZmZmZmGEAAAAAAAAAWQDMzMzMzMxVAZmZmZmZmFkAzMzMzMzMbQM3MzMzMzB5AAAAAAAAAHEDNzMzMzMwYQJqZmZmZmRdAZmZmZmZmFkAAAAAAAAAUQM3MzMzMzBJAAAAAAAAAEkDNzMzMzMwQQM3MzMzMzBJAmpmZmZmZF0AzMzMzMzMZQM3MzMzMzBZAzczMzMzMFEAAAAAAAAAUQJqZmZmZmRNAAAAAAAAAGEBmZmZmZmYjQGZmZmZmZiNAmpmZmZmZIkAzMzMzMzMhQM3MzMzMzB5AAAAAAAAAGkBmZmZmZmYWQGZmZmZmZhRA\",\"dtype\":\"float64\",\"shape\":[69]},\"Jun\":{\"__ndarray__\":\"MzMzMzMzD0CamZmZmZkZQGZmZmZmZhZAMzMzMzMzC0CamZmZmZkJQJqZmZmZmQVAzczMzMzMFkCamZmZmZkRQM3MzMzMzBJAZmZmZmZmEkBmZmZmZmYeQJqZmZmZmRVAMzMzMzMzF0AzMzMzMzMdQJqZmZmZmRdAzczMzMzMGECamZmZmZkXQDMzMzMzMxVAZmZmZmZmEkBmZmZmZmYSQAAAAAAAABJAZmZmZmZmEEBmZmZmZmYWQAAAAAAAABpAzczMzMzMGECamZmZmZkVQDMzMzMzMxdAMzMzMzMzIkAAAAAAAAAgQAAAAAAAAB5AzczMzMzMGEAAAAAAAAAYQDMzMzMzMx9AzczMzMzMHkCamZmZmZkjQGZmZmZmZiRAmpmZmZmZHUAAAAAAAAAeQDMzMzMzMx1AMzMzMzMzGUAAAAAAAAAWQAAAAAAAABZAmpmZmZmZFUAAAAAAAAAcQAAAAAAAACBAzczMzMzMHEDNzMzMzMwYQDMzMzMzMxdAAAAAAAAAFkDNzMzMzMwUQM3MzMzMzBJAAAAAAAAAEkBmZmZmZmYQQM3MzMzMzBJAAAAAAAAAGEAAAAAAAAAaQDMzMzMzMxdAzczMzMzMFEAzMzMzMzMTQM3MzMzMzBJAzczMzMzMFkBmZmZmZmYjQDMzMzMzMyNAmpmZmZmZIkDNzMzMzMwgQDMzMzMzMx9AMzMzMzMzGUAAAAAAAAAWQGZmZmZmZhRA\",\"dtype\":\"float64\",\"shape\":[69]},\"Mar\":{\"__ndarray__\":\"AAAAAAAAEkBmZmZmZmYWQGZmZmZmZhxAZmZmZmZmDkBmZmZmZmYKQDMzMzMzMwdAmpmZmZmZGUDNzMzMzMwUQM3MzMzMzBJAMzMzMzMzEUDNzMzMzMweQJqZmZmZmRlAZmZmZmZmGEDNzMzMzMweQM3MzMzMzBhAMzMzMzMzGUCamZmZmZkXQGZmZmZmZhRAAAAAAAAAEEAzMzMzMzMPQGZmZmZmZg5AAAAAAAAADEBmZmZmZmYSQDMzMzMzMxlAZmZmZmZmGEDNzMzMzMwUQDMzMzMzMxVAMzMzMzMzIkAzMzMzMzMgQJqZmZmZmR9AZmZmZmZmGkBmZmZmZmYYQGZmZmZmZhpAzczMzMzMHkAAAAAAAAAjQJqZmZmZmSVAMzMzMzMzIEAAAAAAAAAeQAAAAAAAAB5AmpmZmZmZG0CamZmZmZkXQM3MzMzMzBRAAAAAAAAAFkDNzMzMzMwcQDMzMzMzMx9AmpmZmZmZHUAzMzMzMzMbQM3MzMzMzBZAMzMzMzMzF0AAAAAAAAAWQAAAAAAAABRAmpmZmZmZEUAzMzMzMzMRQAAAAAAAABJAZmZmZmZmGEDNzMzMzMwYQAAAAAAAABhAmpmZmZmZFUAzMzMzMzMTQAAAAAAAABJAzczMzMzMFEAAAAAAAAAiQGZmZmZmZiRAZmZmZmZmIkDNzMzMzMwgQGZmZmZmZh5AMzMzMzMzG0BmZmZmZmYWQGZmZmZmZhRA\",\"dtype\":\"float64\",\"shape\":[69]},\"May\":{\"__ndarray__\":\"MzMzMzMzC0DNzMzMzMwWQDMzMzMzMxVAMzMzMzMzB0AzMzMzMzMHQAAAAAAAAARAzczMzMzMFkDNzMzMzMwQQM3MzMzMzBBAMzMzMzMzD0BmZmZmZmYcQJqZmZmZmRNAMzMzMzMzE0BmZmZmZmYaQGZmZmZmZhRAAAAAAAAAFkAzMzMzMzMTQDMzMzMzMxFAmpmZmZmZDUCamZmZmZkJQDMzMzMzMwdAMzMzMzMzB0BmZmZmZmYQQDMzMzMzMxVAZmZmZmZmFECamZmZmZkRQGZmZmZmZhJAmpmZmZmZIEAzMzMzMzMbQJqZmZmZmRlAAAAAAAAAFkDNzMzMzMwUQGZmZmZmZhxAZmZmZmZmHEAzMzMzMzMiQJqZmZmZmSNAzczMzMzMHEAAAAAAAAAcQAAAAAAAABxAZmZmZmZmGECamZmZmZkVQAAAAAAAABRAzczMzMzMFEDNzMzMzMwaQDMzMzMzMx1AMzMzMzMzG0CamZmZmZkXQAAAAAAAABZAmpmZmZmZFUDNzMzMzMwSQM3MzMzMzBBAAAAAAAAAEEBmZmZmZmYOQGZmZmZmZhBAAAAAAAAAFkAzMzMzMzMXQDMzMzMzMxVAmpmZmZmZE0CamZmZmZkRQDMzMzMzMxFAzczMzMzMFEAzMzMzMzMiQJqZmZmZmSJAZmZmZmZmIUCamZmZmZkfQDMzMzMzMx1AZmZmZmZmGEAzMzMzMzMVQAAAAAAAABJA\",\"dtype\":\"float64\",\"shape\":[69]},\"Nov\":{\"__ndarray__\":\"ZmZmZmZmCkDNzMzMzMwWQGZmZmZmZg5AmpmZmZmZCUAAAAAAAAAEQJqZmZmZmQlAmpmZmZmZE0BmZmZmZmYOQDMzMzMzMw9AZmZmZmZmEkBmZmZmZmYWQDMzMzMzMxVAZmZmZmZmFkBmZmZmZmYWQDMzMzMzMxVAMzMzMzMzFUAAAAAAAAASQDMzMzMzMw9AMzMzMzMzC0CamZmZmZkNQGZmZmZmZgpAZmZmZmZmCkAAAAAAAAAWQM3MzMzMzBZAmpmZmZmZE0BmZmZmZmYSQM3MzMzMzBhAMzMzMzMzH0CamZmZmZkdQAAAAAAAABpAZmZmZmZmFkBmZmZmZmYWQGZmZmZmZhxAmpmZmZmZH0DNzMzMzMwkQDMzMzMzMyBAmpmZmZmZG0DNzMzMzMwaQGZmZmZmZhpAZmZmZmZmFkDNzMzMzMwUQM3MzMzMzBRAmpmZmZmZF0DNzMzMzMwaQGZmZmZmZhxAzczMzMzMGEAzMzMzMzMVQDMzMzMzMxVAAAAAAAAAFEAzMzMzMzMRQGZmZmZmZhBAZmZmZmZmDkCamZmZmZkNQDMzMzMzMxVAZmZmZmZmFkBmZmZmZmYWQM3MzMzMzBRAMzMzMzMzE0AzMzMzMzMRQAAAAAAAABJAAAAAAAAAGkDNzMzMzMwiQJqZmZmZmSJAZmZmZmZmIECamZmZmZkdQGZmZmZmZhpAAAAAAAAAFkAzMzMzMzMTQJqZmZmZmRFA\",\"dtype\":\"float64\",\"shape\":[69]},\"Oct\":{\"__ndarray__\":\"MzMzMzMzB0BmZmZmZmYYQGZmZmZmZgpAZmZmZmZmBkAzMzMzMzMDQAAAAAAAAARAZmZmZmZmEkAzMzMzMzMLQM3MzMzMzAhAzczMzMzMDEAAAAAAAAAWQM3MzMzMzBJAAAAAAAAAFEAAAAAAAAAWQAAAAAAAABJAzczMzMzMEkCamZmZmZkRQM3MzMzMzAxAmpmZmZmZCUBmZmZmZmYOQJqZmZmZmQlAAAAAAAAADEBmZmZmZmYUQJqZmZmZmRVAZmZmZmZmFEDNzMzMzMwQQAAAAAAAABZAMzMzMzMzH0DNzMzMzMwcQJqZmZmZmRlAmpmZmZmZFUBmZmZmZmYWQGZmZmZmZhxAAAAAAAAAHkDNzMzMzMwjQM3MzMzMzCBAAAAAAAAAHEAzMzMzMzMbQGZmZmZmZhpAzczMzMzMFkAAAAAAAAAUQAAAAAAAABRAAAAAAAAAFkAAAAAAAAAaQJqZmZmZmRtAmpmZmZmZGUCamZmZmZkVQM3MzMzMzBRAmpmZmZmZE0CamZmZmZkRQM3MzMzMzBBAZmZmZmZmDkDNzMzMzMwMQAAAAAAAABRAMzMzMzMzFUBmZmZmZmYWQGZmZmZmZhRAZmZmZmZmEkBmZmZmZmYQQJqZmZmZmRFAZmZmZmZmGEAAAAAAAAAjQAAAAAAAACJAAAAAAAAAIUAAAAAAAAAeQAAAAAAAABxAAAAAAAAAFkAzMzMzMzMTQM3MzMzMzBJA\",\"dtype\":\"float64\",\"shape\":[69]},\"Sep\":{\"__ndarray__\":\"MzMzMzMzC0CamZmZmZkXQAAAAAAAABBAAAAAAAAACECamZmZmZkFQM3MzMzMzARAMzMzMzMzFUAAAAAAAAAMQDMzMzMzMwtAmpmZmZmZDUAAAAAAAAAYQM3MzMzMzBJAzczMzMzMEkAzMzMzMzMXQJqZmZmZmRNAMzMzMzMzE0AAAAAAAAASQGZmZmZmZg5AZmZmZmZmCkCamZmZmZkNQGZmZmZmZgpAmpmZmZmZDUDNzMzMzMwUQDMzMzMzMxdAmpmZmZmZFUDNzMzMzMwSQM3MzMzMzBZAMzMzMzMzIECamZmZmZkdQGZmZmZmZhpAMzMzMzMzF0DNzMzMzMwWQM3MzMzMzBxAMzMzMzMzHUBmZmZmZmYjQJqZmZmZmSFAZmZmZmZmHECamZmZmZkbQDMzMzMzMxtAzczMzMzMFkDNzMzMzMwUQGZmZmZmZhRAZmZmZmZmFkAAAAAAAAAaQDMzMzMzMx1AmpmZmZmZGUBmZmZmZmYWQJqZmZmZmRVAAAAAAAAAFEDNzMzMzMwSQJqZmZmZmRFAZmZmZmZmEEBmZmZmZmYOQM3MzMzMzBJAmpmZmZmZFUAzMzMzMzMXQGZmZmZmZhRAMzMzMzMzE0CamZmZmZkRQAAAAAAAABJAAAAAAAAAGEAAAAAAAAAjQGZmZmZmZiJAmpmZmZmZIUBmZmZmZmYeQAAAAAAAABxAzczMzMzMFkCamZmZmZkTQDMzMzMzMxNA\",\"dtype\":\"float64\",\"shape\":[69]},\"Year\":[1948,1949,1950,1951,1952,1953,1954,1955,1956,1957,1958,1959,1960,1961,1962,1963,1964,1965,1966,1967,1968,1969,1970,1971,1972,1973,1974,1975,1976,1977,1978,1979,1980,1981,1982,1983,1984,1985,1986,1987,1988,1989,1990,1991,1992,1993,1994,1995,1996,1997,1998,1999,2000,2001,2002,2003,2004,2005,2006,2007,2008,2009,2010,2011,2012,2013,2014,2015,2016],\"index\":[0,1,2,3,4,5,6,7,8,9,10,11,12,13,14,15,16,17,18,19,20,21,22,23,24,25,26,27,28,29,30,31,32,33,34,35,36,37,38,39,40,41,42,43,44,45,46,47,48,49,50,51,52,53,54,55,56,57,58,59,60,61,62,63,64,65,66,67,68]},\"selected\":{\"id\":\"51012\"},\"selection_policy\":{\"id\":\"51011\"}},\"id\":\"50224\",\"type\":\"ColumnDataSource\"},{\"attributes\":{},\"id\":\"50243\",\"type\":\"BasicTicker\"},{\"attributes\":{},\"id\":\"51009\",\"type\":\"BasicTickFormatter\"},{\"attributes\":{\"bottom_units\":\"screen\",\"fill_alpha\":0.5,\"fill_color\":\"lightgrey\",\"left_units\":\"screen\",\"level\":\"overlay\",\"line_alpha\":1.0,\"line_color\":\"black\",\"line_dash\":[4,4],\"line_width\":2,\"render_mode\":\"css\",\"right_units\":\"screen\",\"top_units\":\"screen\"},\"id\":\"50252\",\"type\":\"BoxAnnotation\"},{\"attributes\":{\"overlay\":{\"id\":\"50252\"}},\"id\":\"50248\",\"type\":\"BoxZoomTool\"},{\"attributes\":{},\"id\":\"45494\",\"type\":\"UnionRenderers\"},{\"attributes\":{},\"id\":\"50239\",\"type\":\"BasicTicker\"},{\"attributes\":{},\"id\":\"50250\",\"type\":\"ResetTool\"},{\"attributes\":{},\"id\":\"50247\",\"type\":\"WheelZoomTool\"},{\"attributes\":{},\"id\":\"51007\",\"type\":\"BasicTickFormatter\"},{\"attributes\":{\"axis\":{\"id\":\"50242\"},\"dimension\":1,\"ticker\":null},\"id\":\"50245\",\"type\":\"Grid\"},{\"attributes\":{\"line_alpha\":0.1,\"line_color\":\"red\",\"line_width\":2,\"x\":{\"field\":\"Year\"},\"y\":{\"field\":\"Annual\"}},\"id\":\"50262\",\"type\":\"Line\"}],\"root_ids\":[\"50227\"]},\"title\":\"Bokeh Application\",\"version\":\"2.0.2\"}};\n",
       "  var render_items = [{\"docid\":\"b2819cb3-8ba2-4753-ad43-fac5bf7891ae\",\"root_ids\":[\"50227\"],\"roots\":{\"50227\":\"08f74cb4-803e-45e7-a9f7-9398ef4428ce\"}}];\n",
       "  root.Bokeh.embed.embed_items_notebook(docs_json, render_items);\n",
       "\n",
       "  }\n",
       "  if (root.Bokeh !== undefined) {\n",
       "    embed_document(root);\n",
       "  } else {\n",
       "    var attempts = 0;\n",
       "    var timer = setInterval(function(root) {\n",
       "      if (root.Bokeh !== undefined) {\n",
       "        clearInterval(timer);\n",
       "        embed_document(root);\n",
       "      } else {\n",
       "        attempts++;\n",
       "        if (attempts > 100) {\n",
       "          clearInterval(timer);\n",
       "          console.log(\"Bokeh: ERROR: Unable to run BokehJS code because BokehJS library is missing\");\n",
       "        }\n",
       "      }\n",
       "    }, 10, root)\n",
       "  }\n",
       "})(window);"
      ],
      "application/vnd.bokehjs_exec.v0+json": ""
     },
     "metadata": {
      "application/vnd.bokehjs_exec.v0+json": {
       "id": "50227"
      }
     },
     "output_type": "display_data"
    },
    {
     "name": "stderr",
     "output_type": "stream",
     "text": [
      "ERROR:bokeh.core.validation.check:E-1010 (CDSVIEW_SOURCE_DOESNT_MATCH): CDSView used by Glyph renderer must have a source that matches the Glyph renderer's data source: GlyphRenderer(id=50263, glyph=Line(id='50261', ...), ...)\n",
      "ERROR:bokeh.core.validation.check:E-1024 (CDSVIEW_FILTERS_WITH_CONNECTED): CDSView filters are not compatible with glyphs with connected topology such as Line or Patch: GlyphRenderer(id=50263, glyph=Line(id='50261', ...), ...)\n"
     ]
    }
   ],
   "source": [
    "from bokeh.models import ColumnDataSource, CDSView, CustomJSFilter\n",
    "from bokeh.plotting import figure, show\n",
    "from bokeh.sampledata.unemployment1948 import data\n",
    "source_2 = ColumnDataSource(data)\n",
    "custom_filter = CustomJSFilter(code = '''\n",
    "   var indices = [];\n",
    "\n",
    "   for (var i = 0; i < source.get_length(); i++){\n",
    "      if (parseInt(source.data['Year'][i]) > = 1980){\n",
    "         indices.push(true);\n",
    "      } else {\n",
    "         indices.push(false);\n",
    "      }\n",
    "   }\n",
    "   return indices;\n",
    "''')\n",
    "view2 = CDSView(source = source, filters = [custom_filter])\n",
    "pfilt = figure(title = \"Unemployment data\", x_range = (1980,2020), x_axis_label = 'Year', y_axis_label = 'Percentage')\n",
    "pfilt.line(x = 'Year', y = 'Annual', source = source_2, view = view2, color = 'red', line_width = 2)\n",
    "show(pfilt)"
   ]
  },
  {
   "cell_type": "markdown",
   "metadata": {},
   "source": [
    "### Bokeh - Layouts\n",
    "Bokeh visualizations can be suitably arranged in different layout options. These layouts as well as sizing modes result in plots and widgets resizing automatically as per the size of browser window. For consistent appearance, all items in a layout must have same sizing mode. The widgets (buttons, menus, etc.) are kept in a separate widget box and not in plot figure.\n",
    "\n",
    "First type of layout is Column layout which displays plot figures vertically. The column() function is defined in bokeh.layouts module and takes following signature "
   ]
  },
  {
   "cell_type": "markdown",
   "metadata": {},
   "source": [
    "**from bokeh.layouts import column**\n",
    "\n",
    "**colum=column(children, sizing_mode)**"
   ]
  },
  {
   "cell_type": "markdown",
   "metadata": {},
   "source": [
    "**children** − List of plots and/or widgets.\n",
    "\n",
    "**sizing_mode** − determines how items in the layout resize. Possible values are \"fixed\", \"stretch_both\", \"scale_width\", \"scale_height\", \"scale_both\". Default is “fixed”.\n",
    "\n",
    "Following code produces two Bokeh figures and places them in a column layout so that they are displayed vertically. Line glyphs representing sine and cos relationship between x and y data series is displayed in Each figure."
   ]
  },
  {
   "cell_type": "code",
   "execution_count": 237,
   "metadata": {},
   "outputs": [
    {
     "data": {
      "text/html": [
       "\n",
       "\n",
       "\n",
       "\n",
       "\n",
       "\n",
       "  <div class=\"bk-root\" id=\"f7aa09ae-8dd0-4531-ad71-1a69557818e5\" data-root-id=\"51279\"></div>\n"
      ]
     },
     "metadata": {},
     "output_type": "display_data"
    },
    {
     "data": {
      "application/javascript": [
       "(function(root) {\n",
       "  function embed_document(root) {\n",
       "    \n",
       "  var docs_json = {\"5b97899d-966a-4632-aade-9de42fb0960d\":{\"roots\":{\"references\":[{\"attributes\":{\"children\":[{\"id\":\"51207\"},{\"id\":\"51243\"}],\"sizing_mode\":\"stretch_both\"},\"id\":\"51279\",\"type\":\"Column\"},{\"attributes\":{},\"id\":\"51246\",\"type\":\"DataRange1d\"},{\"attributes\":{\"line_alpha\":0.1,\"line_color\":\"blue\",\"line_width\":2,\"x\":{\"field\":\"x\"},\"y\":{\"field\":\"y\"}},\"id\":\"51240\",\"type\":\"Line\"},{\"attributes\":{},\"id\":\"51227\",\"type\":\"SaveTool\"},{\"attributes\":{},\"id\":\"51265\",\"type\":\"HelpTool\"},{\"attributes\":{},\"id\":\"51208\",\"type\":\"DataRange1d\"},{\"attributes\":{\"overlay\":{\"id\":\"51266\"}},\"id\":\"51262\",\"type\":\"BoxZoomTool\"},{\"attributes\":{\"data_source\":{\"id\":\"51238\"},\"glyph\":{\"id\":\"51239\"},\"hover_glyph\":null,\"muted_glyph\":null,\"nonselection_glyph\":{\"id\":\"51240\"},\"selection_glyph\":null,\"view\":{\"id\":\"51242\"}},\"id\":\"51241\",\"type\":\"GlyphRenderer\"},{\"attributes\":{\"data\":{\"x\":{\"__ndarray__\":\"AAAAAAAAAACamZmZmZmpP5qZmZmZmbk/NDMzMzMzwz+amZmZmZnJPwAAAAAAANA/NDMzMzMz0z9nZmZmZmbWP5qZmZmZmdk/zczMzMzM3D8AAAAAAADgP5qZmZmZmeE/NDMzMzMz4z/NzMzMzMzkP2dmZmZmZuY/AAAAAAAA6D+amZmZmZnpPzQzMzMzM+s/zczMzMzM7D9nZmZmZmbuPwAAAAAAAPA/zczMzMzM8D+amZmZmZnxP2dmZmZmZvI/NDMzMzMz8z8AAAAAAAD0P83MzMzMzPQ/mpmZmZmZ9T9nZmZmZmb2PzQzMzMzM/c/AAAAAAAA+D/NzMzMzMz4P5qZmZmZmfk/Z2ZmZmZm+j80MzMzMzP7PwAAAAAAAPw/zczMzMzM/D+amZmZmZn9P2dmZmZmZv4/NDMzMzMz/z8AAAAAAAAAQGdmZmZmZgBAzczMzMzMAEAzMzMzMzMBQJqZmZmZmQFAAAAAAAAAAkBnZmZmZmYCQM3MzMzMzAJANDMzMzMzA0CamZmZmZkDQAAAAAAAAARAZ2ZmZmZmBEDNzMzMzMwEQDQzMzMzMwVAmpmZmZmZBUAAAAAAAAAGQGdmZmZmZgZAzczMzMzMBkA0MzMzMzMHQJqZmZmZmQdAAAAAAAAACEBnZmZmZmYIQM3MzMzMzAhANDMzMzMzCUCamZmZmZkJQAAAAAAAAApAZ2ZmZmZmCkDNzMzMzMwKQDQzMzMzMwtAmpmZmZmZC0AAAAAAAAAMQGdmZmZmZgxAzczMzMzMDEA0MzMzMzMNQJqZmZmZmQ1AAAAAAAAADkBnZmZmZmYOQM3MzMzMzA5ANDMzMzMzD0CamZmZmZkPQAAAAAAAABBAMzMzMzMzEEBnZmZmZmYQQJqZmZmZmRBAzczMzMzMEEAAAAAAAAARQDMzMzMzMxFAZ2ZmZmZmEUCamZmZmZkRQM3MzMzMzBFAAAAAAAAAEkAzMzMzMzMSQGdmZmZmZhJAmpmZmZmZEkDNzMzMzMwSQAAAAAAAABNANDMzMzMzE0BnZmZmZmYTQJqZmZmZmRNAzczMzMzME0AAAAAAAAAUQDQzMzMzMxRAZ2ZmZmZmFECamZmZmZkUQM3MzMzMzBRAAAAAAAAAFUA0MzMzMzMVQGdmZmZmZhVAmpmZmZmZFUDNzMzMzMwVQAAAAAAAABZANDMzMzMzFkBnZmZmZmYWQJqZmZmZmRZAzczMzMzMFkAAAAAAAAAXQDQzMzMzMxdAZ2ZmZmZmF0CamZmZmZkXQM3MzMzMzBdAAAAAAAAAGEA0MzMzMzMYQGdmZmZmZhhAmpmZmZmZGEDNzMzMzMwYQAAAAAAAABlA\",\"dtype\":\"float64\",\"shape\":[126]},\"y\":{\"__ndarray__\":\"AAAAAAAAAAA8ZP+i3papPyzLi8uujrk/I+3f6ckgwz+80j0j/23JP3cV89Tuqs8/NLq6lc3p0j+MCjmlCfLVP2tnK+k67Ng/JUb5rXnW2z/wBUt06K7eP9RoSZHaueA/WkGlF40R4j+r15Phr13jP7kZRmluneQ/Do+/FvzP5T/N/r/ClPTmP4OARjR9Cug/QKhdmAMR6T9vJuTzfwfqP+4MCY9U7eo/wPI2Wu7B6z84Yy1MxYTsP5liDLlcNe0/xVUaokPT7T+MQRH+FF7uP0sexfl31e4/vuH5MCA57z8D4UTfzYjvP9xD2ghOxO8/i20sm3rr7z9oe0iFOv7vP8VC4MeB/O8/yIr3fFHm7z+2mC/Xt7vvP0aCsRjQfO8/8BW9gcIp7z91guc2xMLuP1c4Gh8XSO4/d8dnuQm67T9GtNHq9hjtP/tnH8RFZew//HLrP2mf6z/rUxH538fqPwjXqtkz3+k/quPQwvnl6D8iL1gt0dznP+jJxsNjxOY/mNHD9WSd5T98v0aFkWjkP7DKzw2vJuM/oqb2hYvY4T+7haC7/H7gP/1nY5a/Nd4/DKckJDFa2z/7g8E5Im3YP8DlXSNycNU/1yNVLQpm0j/TMEjWuJ/OP0aravHEX8g/W9W2bTgQwj+f7yAPOmq3Py4QmIIPSqU/DCjuo9E3gb8yLeg5N+Otv4ykZCStsru/lwy3ygIxxL+BV+iIw3vKv3RM/xDJWtC/nOiDYTlt078fYrp+O3PWv9c1iiXgatm/8dHwQ0FS3L9ZwwYwgyffv0EbLuxq9OC/IgZ19jpK4r+gwOz/VpTjvyvQtM7r0eS/zrMfLS4C5r9A1LlrWyTnv64e3N25N+i/KpR6UJk76b+9yOJ6Uy/qv7wtImlMEuu/1xLQ3/Lj679wg/u4wKPsvyWKATo7Ue2/7e0UYvPr7b/wKEUxhnPuv6km1+ec5+6/gEDHPe1H77+N9FCSOZTvv7rsXRNRzO+/zhrD3A/w779S7DcPX//vv2Dk+N40+u+//z0MmpTg779ylCSmjrLvv6TrInZAcO+/k88+d9QZ778zmeD1ga/uv8Y3P/qMMe6/uSLYHEag7b+WTt1SCvzsv9ckurJCRey/pI3VMGR86783ErxU76Hqv4P64eZvtum/cAUyl3y66L9Q96Gctq7nv1ewCk7Jk+a/zcyFtGlq5b+09ZYXVjPkv7UAa4NV7+K/oMd6STef4b8uNuN70kPgv8rfjscKvN2/ajkq5mnd2r8bvQtkmO3Xvwpad1F37tS/wKKwivHh0b+L+Mn79JPNv1z7M9cZUce/2vTYRFP/wL8ezb7bWEW1v7wS9cPd/KC/\",\"dtype\":\"float64\",\"shape\":[126]}},\"selected\":{\"id\":\"52045\"},\"selection_policy\":{\"id\":\"52044\"}},\"id\":\"51238\",\"type\":\"ColumnDataSource\"},{\"attributes\":{},\"id\":\"52042\",\"type\":\"BasicTickFormatter\"},{\"attributes\":{},\"id\":\"51261\",\"type\":\"WheelZoomTool\"},{\"attributes\":{\"formatter\":{\"id\":\"52036\"},\"ticker\":{\"id\":\"51217\"}},\"id\":\"51216\",\"type\":\"LinearAxis\"},{\"attributes\":{},\"id\":\"52048\",\"type\":\"Selection\"},{\"attributes\":{\"data_source\":{\"id\":\"51274\"},\"glyph\":{\"id\":\"51275\"},\"hover_glyph\":null,\"muted_glyph\":null,\"nonselection_glyph\":{\"id\":\"51276\"},\"selection_glyph\":null,\"view\":{\"id\":\"51278\"}},\"id\":\"51277\",\"type\":\"GlyphRenderer\"},{\"attributes\":{},\"id\":\"51248\",\"type\":\"LinearScale\"},{\"attributes\":{\"below\":[{\"id\":\"51216\"}],\"center\":[{\"id\":\"51219\"},{\"id\":\"51223\"}],\"left\":[{\"id\":\"51220\"}],\"plot_height\":200,\"plot_width\":200,\"renderers\":[{\"id\":\"51241\"}],\"sizing_mode\":\"stretch_both\",\"title\":{\"id\":\"52033\"},\"toolbar\":{\"id\":\"51231\"},\"x_range\":{\"id\":\"51208\"},\"x_scale\":{\"id\":\"51212\"},\"y_range\":{\"id\":\"51210\"},\"y_scale\":{\"id\":\"51214\"}},\"id\":\"51207\",\"subtype\":\"Figure\",\"type\":\"Plot\"},{\"attributes\":{},\"id\":\"51264\",\"type\":\"ResetTool\"},{\"attributes\":{},\"id\":\"51212\",\"type\":\"LinearScale\"},{\"attributes\":{},\"id\":\"51260\",\"type\":\"PanTool\"},{\"attributes\":{\"overlay\":{\"id\":\"51230\"}},\"id\":\"51226\",\"type\":\"BoxZoomTool\"},{\"attributes\":{},\"id\":\"51228\",\"type\":\"ResetTool\"},{\"attributes\":{\"bottom_units\":\"screen\",\"fill_alpha\":0.5,\"fill_color\":\"lightgrey\",\"left_units\":\"screen\",\"level\":\"overlay\",\"line_alpha\":1.0,\"line_color\":\"black\",\"line_dash\":[4,4],\"line_width\":2,\"render_mode\":\"css\",\"right_units\":\"screen\",\"top_units\":\"screen\"},\"id\":\"51266\",\"type\":\"BoxAnnotation\"},{\"attributes\":{\"text\":\"\"},\"id\":\"52033\",\"type\":\"Title\"},{\"attributes\":{},\"id\":\"51217\",\"type\":\"BasicTicker\"},{\"attributes\":{\"line_color\":\"blue\",\"line_width\":2,\"x\":{\"field\":\"x\"},\"y\":{\"field\":\"y\"}},\"id\":\"51239\",\"type\":\"Line\"},{\"attributes\":{\"line_color\":\"red\",\"line_width\":2,\"x\":{\"field\":\"x\"},\"y\":{\"field\":\"y\"}},\"id\":\"51275\",\"type\":\"Line\"},{\"attributes\":{},\"id\":\"51221\",\"type\":\"BasicTicker\"},{\"attributes\":{},\"id\":\"51225\",\"type\":\"WheelZoomTool\"},{\"attributes\":{},\"id\":\"51229\",\"type\":\"HelpTool\"},{\"attributes\":{},\"id\":\"51210\",\"type\":\"DataRange1d\"},{\"attributes\":{},\"id\":\"51224\",\"type\":\"PanTool\"},{\"attributes\":{},\"id\":\"52047\",\"type\":\"UnionRenderers\"},{\"attributes\":{},\"id\":\"51250\",\"type\":\"LinearScale\"},{\"attributes\":{\"line_alpha\":0.1,\"line_color\":\"red\",\"line_width\":2,\"x\":{\"field\":\"x\"},\"y\":{\"field\":\"y\"}},\"id\":\"51276\",\"type\":\"Line\"},{\"attributes\":{\"formatter\":{\"id\":\"52042\"},\"ticker\":{\"id\":\"51257\"}},\"id\":\"51256\",\"type\":\"LinearAxis\"},{\"attributes\":{\"active_drag\":\"auto\",\"active_inspect\":\"auto\",\"active_multi\":null,\"active_scroll\":\"auto\",\"active_tap\":\"auto\",\"tools\":[{\"id\":\"51260\"},{\"id\":\"51261\"},{\"id\":\"51262\"},{\"id\":\"51263\"},{\"id\":\"51264\"},{\"id\":\"51265\"}]},\"id\":\"51267\",\"type\":\"Toolbar\"},{\"attributes\":{},\"id\":\"52045\",\"type\":\"Selection\"},{\"attributes\":{\"axis\":{\"id\":\"51216\"},\"ticker\":null},\"id\":\"51219\",\"type\":\"Grid\"},{\"attributes\":{},\"id\":\"52038\",\"type\":\"BasicTickFormatter\"},{\"attributes\":{\"source\":{\"id\":\"51274\"}},\"id\":\"51278\",\"type\":\"CDSView\"},{\"attributes\":{},\"id\":\"51214\",\"type\":\"LinearScale\"},{\"attributes\":{},\"id\":\"52036\",\"type\":\"BasicTickFormatter\"},{\"attributes\":{},\"id\":\"51263\",\"type\":\"SaveTool\"},{\"attributes\":{},\"id\":\"52044\",\"type\":\"UnionRenderers\"},{\"attributes\":{\"below\":[{\"id\":\"51252\"}],\"center\":[{\"id\":\"51255\"},{\"id\":\"51259\"}],\"left\":[{\"id\":\"51256\"}],\"plot_height\":200,\"plot_width\":200,\"renderers\":[{\"id\":\"51277\"}],\"sizing_mode\":\"stretch_both\",\"title\":{\"id\":\"52035\"},\"toolbar\":{\"id\":\"51267\"},\"x_range\":{\"id\":\"51244\"},\"x_scale\":{\"id\":\"51248\"},\"y_range\":{\"id\":\"51246\"},\"y_scale\":{\"id\":\"51250\"}},\"id\":\"51243\",\"subtype\":\"Figure\",\"type\":\"Plot\"},{\"attributes\":{\"source\":{\"id\":\"51238\"}},\"id\":\"51242\",\"type\":\"CDSView\"},{\"attributes\":{\"formatter\":{\"id\":\"52040\"},\"ticker\":{\"id\":\"51253\"}},\"id\":\"51252\",\"type\":\"LinearAxis\"},{\"attributes\":{},\"id\":\"52040\",\"type\":\"BasicTickFormatter\"},{\"attributes\":{\"bottom_units\":\"screen\",\"fill_alpha\":0.5,\"fill_color\":\"lightgrey\",\"left_units\":\"screen\",\"level\":\"overlay\",\"line_alpha\":1.0,\"line_color\":\"black\",\"line_dash\":[4,4],\"line_width\":2,\"render_mode\":\"css\",\"right_units\":\"screen\",\"top_units\":\"screen\"},\"id\":\"51230\",\"type\":\"BoxAnnotation\"},{\"attributes\":{\"active_drag\":\"auto\",\"active_inspect\":\"auto\",\"active_multi\":null,\"active_scroll\":\"auto\",\"active_tap\":\"auto\",\"tools\":[{\"id\":\"51224\"},{\"id\":\"51225\"},{\"id\":\"51226\"},{\"id\":\"51227\"},{\"id\":\"51228\"},{\"id\":\"51229\"}]},\"id\":\"51231\",\"type\":\"Toolbar\"},{\"attributes\":{\"text\":\"\"},\"id\":\"52035\",\"type\":\"Title\"},{\"attributes\":{\"axis\":{\"id\":\"51256\"},\"dimension\":1,\"ticker\":null},\"id\":\"51259\",\"type\":\"Grid\"},{\"attributes\":{},\"id\":\"51244\",\"type\":\"DataRange1d\"},{\"attributes\":{\"axis\":{\"id\":\"51220\"},\"dimension\":1,\"ticker\":null},\"id\":\"51223\",\"type\":\"Grid\"},{\"attributes\":{},\"id\":\"51253\",\"type\":\"BasicTicker\"},{\"attributes\":{\"data\":{\"x\":{\"__ndarray__\":\"AAAAAAAAAACamZmZmZmpP5qZmZmZmbk/NDMzMzMzwz+amZmZmZnJPwAAAAAAANA/NDMzMzMz0z9nZmZmZmbWP5qZmZmZmdk/zczMzMzM3D8AAAAAAADgP5qZmZmZmeE/NDMzMzMz4z/NzMzMzMzkP2dmZmZmZuY/AAAAAAAA6D+amZmZmZnpPzQzMzMzM+s/zczMzMzM7D9nZmZmZmbuPwAAAAAAAPA/zczMzMzM8D+amZmZmZnxP2dmZmZmZvI/NDMzMzMz8z8AAAAAAAD0P83MzMzMzPQ/mpmZmZmZ9T9nZmZmZmb2PzQzMzMzM/c/AAAAAAAA+D/NzMzMzMz4P5qZmZmZmfk/Z2ZmZmZm+j80MzMzMzP7PwAAAAAAAPw/zczMzMzM/D+amZmZmZn9P2dmZmZmZv4/NDMzMzMz/z8AAAAAAAAAQGdmZmZmZgBAzczMzMzMAEAzMzMzMzMBQJqZmZmZmQFAAAAAAAAAAkBnZmZmZmYCQM3MzMzMzAJANDMzMzMzA0CamZmZmZkDQAAAAAAAAARAZ2ZmZmZmBEDNzMzMzMwEQDQzMzMzMwVAmpmZmZmZBUAAAAAAAAAGQGdmZmZmZgZAzczMzMzMBkA0MzMzMzMHQJqZmZmZmQdAAAAAAAAACEBnZmZmZmYIQM3MzMzMzAhANDMzMzMzCUCamZmZmZkJQAAAAAAAAApAZ2ZmZmZmCkDNzMzMzMwKQDQzMzMzMwtAmpmZmZmZC0AAAAAAAAAMQGdmZmZmZgxAzczMzMzMDEA0MzMzMzMNQJqZmZmZmQ1AAAAAAAAADkBnZmZmZmYOQM3MzMzMzA5ANDMzMzMzD0CamZmZmZkPQAAAAAAAABBAMzMzMzMzEEBnZmZmZmYQQJqZmZmZmRBAzczMzMzMEEAAAAAAAAARQDMzMzMzMxFAZ2ZmZmZmEUCamZmZmZkRQM3MzMzMzBFAAAAAAAAAEkAzMzMzMzMSQGdmZmZmZhJAmpmZmZmZEkDNzMzMzMwSQAAAAAAAABNANDMzMzMzE0BnZmZmZmYTQJqZmZmZmRNAzczMzMzME0AAAAAAAAAUQDQzMzMzMxRAZ2ZmZmZmFECamZmZmZkUQM3MzMzMzBRAAAAAAAAAFUA0MzMzMzMVQGdmZmZmZhVAmpmZmZmZFUDNzMzMzMwVQAAAAAAAABZANDMzMzMzFkBnZmZmZmYWQJqZmZmZmRZAzczMzMzMFkAAAAAAAAAXQDQzMzMzMxdAZ2ZmZmZmF0CamZmZmZkXQM3MzMzMzBdAAAAAAAAAGEA0MzMzMzMYQGdmZmZmZhhAmpmZmZmZGEDNzMzMzMwYQAAAAAAAABlA\",\"dtype\":\"float64\",\"shape\":[126]},\"y\":{\"__ndarray__\":\"AAAAAAAA8D9Ykigbw/XvP8AXqPkS1+8/N+lePgOk7z96YneVtFzvP6HufZ9UAe8/ugkv1B2S7j+35Q1dVw/uP/ii2+dUee0/LT8McXbQ7D9QfVsGKBXsP1ATqYHhR+s/FFtIPCZp6j/CmPS6hHnpP5Kdn1KWeeg/HyFVxv5p5z9mmHHea0vmPxuXb/mUHuU/HeKSljrk4z+hRrzaJZ3iP4wGtQ8oSuE/JGmIPDTY3z8RYccGuAfdP+cl24GoJNo/0Hk7lN4w1z9S2YvYPS7UP19MKmizHtE/5L9VP2kIzD8DVxO8e8HFPwGhgv1E2b4/p/nFT9Ubsj8tZlxFPUuVPzMWX8V65p2/4vnaPURBtL+ObKL0+X3Av4rp00nE0Ma/eg4lT/UUzb9uTU1GRaPRv69FNLnGsNS/tKEQ8Qqx178FclNXJqLav/Sqogg3gt2/yZ6YBLMn4L9KfA459IPhv3CtiEsA1eK/bLq5kf8Z5L/jLzAXIlLlv7DYZiKgfOa/iNGQtLqY578osM8DvKXov32Lhe/3oum/fXZ4bsyP6r9w9ID2oWvrvzIPgd3rNey/pgNmsyju7L8U7fqU4pPtv0xwV3evJu6/dSK6azGm7r/KQKPbFhLvv7JDCb0aau+/0uWFvgSu77+0Wl9rqd3vvySmVkfq+O+/gkkp4rX/77+2y7niB/Lvv/j31wnpz++/tgunLG+Z778HaaUmvU7vvwK+XsMC8O6/mObWn3x97r9fGsEDdPftv6M3nLI+Xu2/WSzStD6y7L82mv0Y4vPrvzfZfa2iI+u/92eGsgVC6r/oqNuEm0/pvwR7c0H/TOi/58g0YtY657+9kBVU0Bnmv8Ek2wam6uS/xXfEdhmu479kLWow9WTiv3zaI88LEOG/HseK7G5g37/0ZxWLsozcv1M7FpKxptm/yRohykaw1r+qwmJ8V6vTv3wmHDzSmdC/az1YVFv7yr9y2uNmzrHEv4qNWSsHtry/8eVh/iTsr780alBDOl+Jv3V70+GWQKM/gEBOWFVmtj8W1x0FBY/BP2MWfCej38c/YI7Jp/ogzj/aSmtwhSfSP/KIr8HvMtU/q1zkjskw2D8/HC/NKB/bP+5qN1kt/N0/CFQwFQFj4D/cMnQ/b73hP7DuFICDDOM/i7Alb2dP5D/rIVBxTIXlP0jUBzxsreY/h4RrVAnH5z+ECoOIb9HoP/NgjGL0y+k/Kv4Nlve16j+Us2hm447rPydypwYtVuw/SaVP8lQL7T8pUPk+563tP5K3euZ7Pe4/9iJ4Cbe57j9cHS0qSSLvP7SYSV/vdu8/1WfCfnO37z/OqXlArOPvP3X5qFh9++8/\",\"dtype\":\"float64\",\"shape\":[126]}},\"selected\":{\"id\":\"52048\"},\"selection_policy\":{\"id\":\"52047\"}},\"id\":\"51274\",\"type\":\"ColumnDataSource\"},{\"attributes\":{},\"id\":\"51257\",\"type\":\"BasicTicker\"},{\"attributes\":{\"axis\":{\"id\":\"51252\"},\"ticker\":null},\"id\":\"51255\",\"type\":\"Grid\"},{\"attributes\":{\"formatter\":{\"id\":\"52038\"},\"ticker\":{\"id\":\"51221\"}},\"id\":\"51220\",\"type\":\"LinearAxis\"}],\"root_ids\":[\"51279\"]},\"title\":\"Bokeh Application\",\"version\":\"2.0.2\"}};\n",
       "  var render_items = [{\"docid\":\"5b97899d-966a-4632-aade-9de42fb0960d\",\"root_ids\":[\"51279\"],\"roots\":{\"51279\":\"f7aa09ae-8dd0-4531-ad71-1a69557818e5\"}}];\n",
       "  root.Bokeh.embed.embed_items_notebook(docs_json, render_items);\n",
       "\n",
       "  }\n",
       "  if (root.Bokeh !== undefined) {\n",
       "    embed_document(root);\n",
       "  } else {\n",
       "    var attempts = 0;\n",
       "    var timer = setInterval(function(root) {\n",
       "      if (root.Bokeh !== undefined) {\n",
       "        clearInterval(timer);\n",
       "        embed_document(root);\n",
       "      } else {\n",
       "        attempts++;\n",
       "        if (attempts > 100) {\n",
       "          clearInterval(timer);\n",
       "          console.log(\"Bokeh: ERROR: Unable to run BokehJS code because BokehJS library is missing\");\n",
       "        }\n",
       "      }\n",
       "    }, 10, root)\n",
       "  }\n",
       "})(window);"
      ],
      "application/vnd.bokehjs_exec.v0+json": ""
     },
     "metadata": {
      "application/vnd.bokehjs_exec.v0+json": {
       "id": "51279"
      }
     },
     "output_type": "display_data"
    }
   ],
   "source": [
    "from bokeh.plotting import figure, output_file, show\n",
    "from bokeh.layouts import column\n",
    "import numpy as np\n",
    "import math\n",
    "x = np.arange(0, math.pi*2, 0.05)\n",
    "y1 = np.sin(x)\n",
    "y2 = np.cos(x)\n",
    "fig1 = figure(plot_width = 200, plot_height = 200)\n",
    "fig1.line(x, y1,line_width = 2, line_color = 'blue')\n",
    "fig2 = figure(plot_width = 200, plot_height = 200)\n",
    "fig2.line(x, y2,line_width = 2, line_color = 'red')\n",
    "c = column(children = [fig1, fig2], sizing_mode = 'stretch_both')\n",
    "show(c)"
   ]
  },
  {
   "cell_type": "markdown",
   "metadata": {},
   "source": [
    "Similarly, Row layout arranges plots horizontally, for which row() function as defined in bokeh.layouts module is used. As you would think, it also takes two arguments (similar to column() function) – children and sizing_mode.\n",
    "\n",
    "The sine and cos curves as shown vertically in above diagram are now displayed horizontally in row layout with following code"
   ]
  },
  {
   "cell_type": "code",
   "execution_count": 238,
   "metadata": {},
   "outputs": [
    {
     "data": {
      "text/html": [
       "\n",
       "\n",
       "\n",
       "\n",
       "\n",
       "\n",
       "  <div class=\"bk-root\" id=\"8e24819e-99cb-417d-87f0-123ebedce600\" data-root-id=\"52465\"></div>\n"
      ]
     },
     "metadata": {},
     "output_type": "display_data"
    },
    {
     "data": {
      "application/javascript": [
       "(function(root) {\n",
       "  function embed_document(root) {\n",
       "    \n",
       "  var docs_json = {\"f95e1343-cd5e-4a85-9f98-975e7337d553\":{\"roots\":{\"references\":[{\"attributes\":{\"children\":[{\"id\":\"52393\"},{\"id\":\"52429\"}],\"sizing_mode\":\"stretch_both\"},\"id\":\"52465\",\"type\":\"Row\"},{\"attributes\":{\"axis\":{\"id\":\"52438\"},\"ticker\":null},\"id\":\"52441\",\"type\":\"Grid\"},{\"attributes\":{\"data\":{\"x\":{\"__ndarray__\":\"AAAAAAAAAACamZmZmZmpP5qZmZmZmbk/NDMzMzMzwz+amZmZmZnJPwAAAAAAANA/NDMzMzMz0z9nZmZmZmbWP5qZmZmZmdk/zczMzMzM3D8AAAAAAADgP5qZmZmZmeE/NDMzMzMz4z/NzMzMzMzkP2dmZmZmZuY/AAAAAAAA6D+amZmZmZnpPzQzMzMzM+s/zczMzMzM7D9nZmZmZmbuPwAAAAAAAPA/zczMzMzM8D+amZmZmZnxP2dmZmZmZvI/NDMzMzMz8z8AAAAAAAD0P83MzMzMzPQ/mpmZmZmZ9T9nZmZmZmb2PzQzMzMzM/c/AAAAAAAA+D/NzMzMzMz4P5qZmZmZmfk/Z2ZmZmZm+j80MzMzMzP7PwAAAAAAAPw/zczMzMzM/D+amZmZmZn9P2dmZmZmZv4/NDMzMzMz/z8AAAAAAAAAQGdmZmZmZgBAzczMzMzMAEAzMzMzMzMBQJqZmZmZmQFAAAAAAAAAAkBnZmZmZmYCQM3MzMzMzAJANDMzMzMzA0CamZmZmZkDQAAAAAAAAARAZ2ZmZmZmBEDNzMzMzMwEQDQzMzMzMwVAmpmZmZmZBUAAAAAAAAAGQGdmZmZmZgZAzczMzMzMBkA0MzMzMzMHQJqZmZmZmQdAAAAAAAAACEBnZmZmZmYIQM3MzMzMzAhANDMzMzMzCUCamZmZmZkJQAAAAAAAAApAZ2ZmZmZmCkDNzMzMzMwKQDQzMzMzMwtAmpmZmZmZC0AAAAAAAAAMQGdmZmZmZgxAzczMzMzMDEA0MzMzMzMNQJqZmZmZmQ1AAAAAAAAADkBnZmZmZmYOQM3MzMzMzA5ANDMzMzMzD0CamZmZmZkPQAAAAAAAABBAMzMzMzMzEEBnZmZmZmYQQJqZmZmZmRBAzczMzMzMEEAAAAAAAAARQDMzMzMzMxFAZ2ZmZmZmEUCamZmZmZkRQM3MzMzMzBFAAAAAAAAAEkAzMzMzMzMSQGdmZmZmZhJAmpmZmZmZEkDNzMzMzMwSQAAAAAAAABNANDMzMzMzE0BnZmZmZmYTQJqZmZmZmRNAzczMzMzME0AAAAAAAAAUQDQzMzMzMxRAZ2ZmZmZmFECamZmZmZkUQM3MzMzMzBRAAAAAAAAAFUA0MzMzMzMVQGdmZmZmZhVAmpmZmZmZFUDNzMzMzMwVQAAAAAAAABZANDMzMzMzFkBnZmZmZmYWQJqZmZmZmRZAzczMzMzMFkAAAAAAAAAXQDQzMzMzMxdAZ2ZmZmZmF0CamZmZmZkXQM3MzMzMzBdAAAAAAAAAGEA0MzMzMzMYQGdmZmZmZhhAmpmZmZmZGEDNzMzMzMwYQAAAAAAAABlA\",\"dtype\":\"float64\",\"shape\":[126]},\"y\":{\"__ndarray__\":\"AAAAAAAAAAA8ZP+i3papPyzLi8uujrk/I+3f6ckgwz+80j0j/23JP3cV89Tuqs8/NLq6lc3p0j+MCjmlCfLVP2tnK+k67Ng/JUb5rXnW2z/wBUt06K7eP9RoSZHaueA/WkGlF40R4j+r15Phr13jP7kZRmluneQ/Do+/FvzP5T/N/r/ClPTmP4OARjR9Cug/QKhdmAMR6T9vJuTzfwfqP+4MCY9U7eo/wPI2Wu7B6z84Yy1MxYTsP5liDLlcNe0/xVUaokPT7T+MQRH+FF7uP0sexfl31e4/vuH5MCA57z8D4UTfzYjvP9xD2ghOxO8/i20sm3rr7z9oe0iFOv7vP8VC4MeB/O8/yIr3fFHm7z+2mC/Xt7vvP0aCsRjQfO8/8BW9gcIp7z91guc2xMLuP1c4Gh8XSO4/d8dnuQm67T9GtNHq9hjtP/tnH8RFZew//HLrP2mf6z/rUxH538fqPwjXqtkz3+k/quPQwvnl6D8iL1gt0dznP+jJxsNjxOY/mNHD9WSd5T98v0aFkWjkP7DKzw2vJuM/oqb2hYvY4T+7haC7/H7gP/1nY5a/Nd4/DKckJDFa2z/7g8E5Im3YP8DlXSNycNU/1yNVLQpm0j/TMEjWuJ/OP0aravHEX8g/W9W2bTgQwj+f7yAPOmq3Py4QmIIPSqU/DCjuo9E3gb8yLeg5N+Otv4ykZCStsru/lwy3ygIxxL+BV+iIw3vKv3RM/xDJWtC/nOiDYTlt078fYrp+O3PWv9c1iiXgatm/8dHwQ0FS3L9ZwwYwgyffv0EbLuxq9OC/IgZ19jpK4r+gwOz/VpTjvyvQtM7r0eS/zrMfLS4C5r9A1LlrWyTnv64e3N25N+i/KpR6UJk76b+9yOJ6Uy/qv7wtImlMEuu/1xLQ3/Lj679wg/u4wKPsvyWKATo7Ue2/7e0UYvPr7b/wKEUxhnPuv6km1+ec5+6/gEDHPe1H77+N9FCSOZTvv7rsXRNRzO+/zhrD3A/w779S7DcPX//vv2Dk+N40+u+//z0MmpTg779ylCSmjrLvv6TrInZAcO+/k88+d9QZ778zmeD1ga/uv8Y3P/qMMe6/uSLYHEag7b+WTt1SCvzsv9ckurJCRey/pI3VMGR86783ErxU76Hqv4P64eZvtum/cAUyl3y66L9Q96Gctq7nv1ewCk7Jk+a/zcyFtGlq5b+09ZYXVjPkv7UAa4NV7+K/oMd6STef4b8uNuN70kPgv8rfjscKvN2/ajkq5mnd2r8bvQtkmO3Xvwpad1F37tS/wKKwivHh0b+L+Mn79JPNv1z7M9cZUce/2vTYRFP/wL8ezb7bWEW1v7wS9cPd/KC/\",\"dtype\":\"float64\",\"shape\":[126]}},\"selected\":{\"id\":\"53249\"},\"selection_policy\":{\"id\":\"53248\"}},\"id\":\"52424\",\"type\":\"ColumnDataSource\"},{\"attributes\":{},\"id\":\"52394\",\"type\":\"DataRange1d\"},{\"attributes\":{\"axis\":{\"id\":\"52442\"},\"dimension\":1,\"ticker\":null},\"id\":\"52445\",\"type\":\"Grid\"},{\"attributes\":{\"line_color\":\"blue\",\"line_width\":2,\"x\":{\"field\":\"x\"},\"y\":{\"field\":\"y\"}},\"id\":\"52425\",\"type\":\"Line\"},{\"attributes\":{},\"id\":\"53246\",\"type\":\"BasicTickFormatter\"},{\"attributes\":{},\"id\":\"52396\",\"type\":\"DataRange1d\"},{\"attributes\":{\"formatter\":{\"id\":\"53246\"},\"ticker\":{\"id\":\"52443\"}},\"id\":\"52442\",\"type\":\"LinearAxis\"},{\"attributes\":{},\"id\":\"53244\",\"type\":\"BasicTickFormatter\"},{\"attributes\":{},\"id\":\"53251\",\"type\":\"UnionRenderers\"},{\"attributes\":{\"below\":[{\"id\":\"52402\"}],\"center\":[{\"id\":\"52405\"},{\"id\":\"52409\"}],\"left\":[{\"id\":\"52406\"}],\"plot_height\":200,\"plot_width\":200,\"renderers\":[{\"id\":\"52427\"}],\"sizing_mode\":\"stretch_both\",\"title\":{\"id\":\"53237\"},\"toolbar\":{\"id\":\"52417\"},\"x_range\":{\"id\":\"52394\"},\"x_scale\":{\"id\":\"52398\"},\"y_range\":{\"id\":\"52396\"},\"y_scale\":{\"id\":\"52400\"}},\"id\":\"52393\",\"subtype\":\"Figure\",\"type\":\"Plot\"},{\"attributes\":{\"data_source\":{\"id\":\"52424\"},\"glyph\":{\"id\":\"52425\"},\"hover_glyph\":null,\"muted_glyph\":null,\"nonselection_glyph\":{\"id\":\"52426\"},\"selection_glyph\":null,\"view\":{\"id\":\"52428\"}},\"id\":\"52427\",\"type\":\"GlyphRenderer\"},{\"attributes\":{\"bottom_units\":\"screen\",\"fill_alpha\":0.5,\"fill_color\":\"lightgrey\",\"left_units\":\"screen\",\"level\":\"overlay\",\"line_alpha\":1.0,\"line_color\":\"black\",\"line_dash\":[4,4],\"line_width\":2,\"render_mode\":\"css\",\"right_units\":\"screen\",\"top_units\":\"screen\"},\"id\":\"52416\",\"type\":\"BoxAnnotation\"},{\"attributes\":{},\"id\":\"52407\",\"type\":\"BasicTicker\"},{\"attributes\":{\"line_alpha\":0.1,\"line_color\":\"red\",\"line_width\":2,\"x\":{\"field\":\"x\"},\"y\":{\"field\":\"y\"}},\"id\":\"52462\",\"type\":\"Line\"},{\"attributes\":{},\"id\":\"52400\",\"type\":\"LinearScale\"},{\"attributes\":{},\"id\":\"52403\",\"type\":\"BasicTicker\"},{\"attributes\":{\"source\":{\"id\":\"52460\"}},\"id\":\"52464\",\"type\":\"CDSView\"},{\"attributes\":{\"source\":{\"id\":\"52424\"}},\"id\":\"52428\",\"type\":\"CDSView\"},{\"attributes\":{\"line_color\":\"red\",\"line_width\":2,\"x\":{\"field\":\"x\"},\"y\":{\"field\":\"y\"}},\"id\":\"52461\",\"type\":\"Line\"},{\"attributes\":{},\"id\":\"53252\",\"type\":\"Selection\"},{\"attributes\":{},\"id\":\"52410\",\"type\":\"PanTool\"},{\"attributes\":{},\"id\":\"52446\",\"type\":\"PanTool\"},{\"attributes\":{\"bottom_units\":\"screen\",\"fill_alpha\":0.5,\"fill_color\":\"lightgrey\",\"left_units\":\"screen\",\"level\":\"overlay\",\"line_alpha\":1.0,\"line_color\":\"black\",\"line_dash\":[4,4],\"line_width\":2,\"render_mode\":\"css\",\"right_units\":\"screen\",\"top_units\":\"screen\"},\"id\":\"52452\",\"type\":\"BoxAnnotation\"},{\"attributes\":{\"below\":[{\"id\":\"52438\"}],\"center\":[{\"id\":\"52441\"},{\"id\":\"52445\"}],\"left\":[{\"id\":\"52442\"}],\"plot_height\":200,\"plot_width\":200,\"renderers\":[{\"id\":\"52463\"}],\"sizing_mode\":\"stretch_both\",\"title\":{\"id\":\"53239\"},\"toolbar\":{\"id\":\"52453\"},\"x_range\":{\"id\":\"52430\"},\"x_scale\":{\"id\":\"52434\"},\"y_range\":{\"id\":\"52432\"},\"y_scale\":{\"id\":\"52436\"}},\"id\":\"52429\",\"subtype\":\"Figure\",\"type\":\"Plot\"},{\"attributes\":{},\"id\":\"52447\",\"type\":\"WheelZoomTool\"},{\"attributes\":{\"data_source\":{\"id\":\"52460\"},\"glyph\":{\"id\":\"52461\"},\"hover_glyph\":null,\"muted_glyph\":null,\"nonselection_glyph\":{\"id\":\"52462\"},\"selection_glyph\":null,\"view\":{\"id\":\"52464\"}},\"id\":\"52463\",\"type\":\"GlyphRenderer\"},{\"attributes\":{\"overlay\":{\"id\":\"52416\"}},\"id\":\"52412\",\"type\":\"BoxZoomTool\"},{\"attributes\":{},\"id\":\"52430\",\"type\":\"DataRange1d\"},{\"attributes\":{\"overlay\":{\"id\":\"52452\"}},\"id\":\"52448\",\"type\":\"BoxZoomTool\"},{\"attributes\":{},\"id\":\"52398\",\"type\":\"LinearScale\"},{\"attributes\":{\"text\":\"\"},\"id\":\"53237\",\"type\":\"Title\"},{\"attributes\":{},\"id\":\"52411\",\"type\":\"WheelZoomTool\"},{\"attributes\":{\"data\":{\"x\":{\"__ndarray__\":\"AAAAAAAAAACamZmZmZmpP5qZmZmZmbk/NDMzMzMzwz+amZmZmZnJPwAAAAAAANA/NDMzMzMz0z9nZmZmZmbWP5qZmZmZmdk/zczMzMzM3D8AAAAAAADgP5qZmZmZmeE/NDMzMzMz4z/NzMzMzMzkP2dmZmZmZuY/AAAAAAAA6D+amZmZmZnpPzQzMzMzM+s/zczMzMzM7D9nZmZmZmbuPwAAAAAAAPA/zczMzMzM8D+amZmZmZnxP2dmZmZmZvI/NDMzMzMz8z8AAAAAAAD0P83MzMzMzPQ/mpmZmZmZ9T9nZmZmZmb2PzQzMzMzM/c/AAAAAAAA+D/NzMzMzMz4P5qZmZmZmfk/Z2ZmZmZm+j80MzMzMzP7PwAAAAAAAPw/zczMzMzM/D+amZmZmZn9P2dmZmZmZv4/NDMzMzMz/z8AAAAAAAAAQGdmZmZmZgBAzczMzMzMAEAzMzMzMzMBQJqZmZmZmQFAAAAAAAAAAkBnZmZmZmYCQM3MzMzMzAJANDMzMzMzA0CamZmZmZkDQAAAAAAAAARAZ2ZmZmZmBEDNzMzMzMwEQDQzMzMzMwVAmpmZmZmZBUAAAAAAAAAGQGdmZmZmZgZAzczMzMzMBkA0MzMzMzMHQJqZmZmZmQdAAAAAAAAACEBnZmZmZmYIQM3MzMzMzAhANDMzMzMzCUCamZmZmZkJQAAAAAAAAApAZ2ZmZmZmCkDNzMzMzMwKQDQzMzMzMwtAmpmZmZmZC0AAAAAAAAAMQGdmZmZmZgxAzczMzMzMDEA0MzMzMzMNQJqZmZmZmQ1AAAAAAAAADkBnZmZmZmYOQM3MzMzMzA5ANDMzMzMzD0CamZmZmZkPQAAAAAAAABBAMzMzMzMzEEBnZmZmZmYQQJqZmZmZmRBAzczMzMzMEEAAAAAAAAARQDMzMzMzMxFAZ2ZmZmZmEUCamZmZmZkRQM3MzMzMzBFAAAAAAAAAEkAzMzMzMzMSQGdmZmZmZhJAmpmZmZmZEkDNzMzMzMwSQAAAAAAAABNANDMzMzMzE0BnZmZmZmYTQJqZmZmZmRNAzczMzMzME0AAAAAAAAAUQDQzMzMzMxRAZ2ZmZmZmFECamZmZmZkUQM3MzMzMzBRAAAAAAAAAFUA0MzMzMzMVQGdmZmZmZhVAmpmZmZmZFUDNzMzMzMwVQAAAAAAAABZANDMzMzMzFkBnZmZmZmYWQJqZmZmZmRZAzczMzMzMFkAAAAAAAAAXQDQzMzMzMxdAZ2ZmZmZmF0CamZmZmZkXQM3MzMzMzBdAAAAAAAAAGEA0MzMzMzMYQGdmZmZmZhhAmpmZmZmZGEDNzMzMzMwYQAAAAAAAABlA\",\"dtype\":\"float64\",\"shape\":[126]},\"y\":{\"__ndarray__\":\"AAAAAAAA8D9Ykigbw/XvP8AXqPkS1+8/N+lePgOk7z96YneVtFzvP6HufZ9UAe8/ugkv1B2S7j+35Q1dVw/uP/ii2+dUee0/LT8McXbQ7D9QfVsGKBXsP1ATqYHhR+s/FFtIPCZp6j/CmPS6hHnpP5Kdn1KWeeg/HyFVxv5p5z9mmHHea0vmPxuXb/mUHuU/HeKSljrk4z+hRrzaJZ3iP4wGtQ8oSuE/JGmIPDTY3z8RYccGuAfdP+cl24GoJNo/0Hk7lN4w1z9S2YvYPS7UP19MKmizHtE/5L9VP2kIzD8DVxO8e8HFPwGhgv1E2b4/p/nFT9Ubsj8tZlxFPUuVPzMWX8V65p2/4vnaPURBtL+ObKL0+X3Av4rp00nE0Ma/eg4lT/UUzb9uTU1GRaPRv69FNLnGsNS/tKEQ8Qqx178FclNXJqLav/Sqogg3gt2/yZ6YBLMn4L9KfA459IPhv3CtiEsA1eK/bLq5kf8Z5L/jLzAXIlLlv7DYZiKgfOa/iNGQtLqY578osM8DvKXov32Lhe/3oum/fXZ4bsyP6r9w9ID2oWvrvzIPgd3rNey/pgNmsyju7L8U7fqU4pPtv0xwV3evJu6/dSK6azGm7r/KQKPbFhLvv7JDCb0aau+/0uWFvgSu77+0Wl9rqd3vvySmVkfq+O+/gkkp4rX/77+2y7niB/Lvv/j31wnpz++/tgunLG+Z778HaaUmvU7vvwK+XsMC8O6/mObWn3x97r9fGsEDdPftv6M3nLI+Xu2/WSzStD6y7L82mv0Y4vPrvzfZfa2iI+u/92eGsgVC6r/oqNuEm0/pvwR7c0H/TOi/58g0YtY657+9kBVU0Bnmv8Ek2wam6uS/xXfEdhmu479kLWow9WTiv3zaI88LEOG/HseK7G5g37/0ZxWLsozcv1M7FpKxptm/yRohykaw1r+qwmJ8V6vTv3wmHDzSmdC/az1YVFv7yr9y2uNmzrHEv4qNWSsHtry/8eVh/iTsr780alBDOl+Jv3V70+GWQKM/gEBOWFVmtj8W1x0FBY/BP2MWfCej38c/YI7Jp/ogzj/aSmtwhSfSP/KIr8HvMtU/q1zkjskw2D8/HC/NKB/bP+5qN1kt/N0/CFQwFQFj4D/cMnQ/b73hP7DuFICDDOM/i7Alb2dP5D/rIVBxTIXlP0jUBzxsreY/h4RrVAnH5z+ECoOIb9HoP/NgjGL0y+k/Kv4Nlve16j+Us2hm447rPydypwYtVuw/SaVP8lQL7T8pUPk+563tP5K3euZ7Pe4/9iJ4Cbe57j9cHS0qSSLvP7SYSV/vdu8/1WfCfnO37z/OqXlArOPvP3X5qFh9++8/\",\"dtype\":\"float64\",\"shape\":[126]}},\"selected\":{\"id\":\"53252\"},\"selection_policy\":{\"id\":\"53251\"}},\"id\":\"52460\",\"type\":\"ColumnDataSource\"},{\"attributes\":{},\"id\":\"52432\",\"type\":\"DataRange1d\"},{\"attributes\":{},\"id\":\"52449\",\"type\":\"SaveTool\"},{\"attributes\":{},\"id\":\"53248\",\"type\":\"UnionRenderers\"},{\"attributes\":{},\"id\":\"52434\",\"type\":\"LinearScale\"},{\"attributes\":{\"text\":\"\"},\"id\":\"53239\",\"type\":\"Title\"},{\"attributes\":{},\"id\":\"52413\",\"type\":\"SaveTool\"},{\"attributes\":{\"axis\":{\"id\":\"52402\"},\"ticker\":null},\"id\":\"52405\",\"type\":\"Grid\"},{\"attributes\":{},\"id\":\"52450\",\"type\":\"ResetTool\"},{\"attributes\":{},\"id\":\"52439\",\"type\":\"BasicTicker\"},{\"attributes\":{},\"id\":\"53240\",\"type\":\"BasicTickFormatter\"},{\"attributes\":{\"line_alpha\":0.1,\"line_color\":\"blue\",\"line_width\":2,\"x\":{\"field\":\"x\"},\"y\":{\"field\":\"y\"}},\"id\":\"52426\",\"type\":\"Line\"},{\"attributes\":{},\"id\":\"52414\",\"type\":\"ResetTool\"},{\"attributes\":{},\"id\":\"52451\",\"type\":\"HelpTool\"},{\"attributes\":{},\"id\":\"53249\",\"type\":\"Selection\"},{\"attributes\":{},\"id\":\"52415\",\"type\":\"HelpTool\"},{\"attributes\":{\"axis\":{\"id\":\"52406\"},\"dimension\":1,\"ticker\":null},\"id\":\"52409\",\"type\":\"Grid\"},{\"attributes\":{},\"id\":\"52436\",\"type\":\"LinearScale\"},{\"attributes\":{\"active_drag\":\"auto\",\"active_inspect\":\"auto\",\"active_multi\":null,\"active_scroll\":\"auto\",\"active_tap\":\"auto\",\"tools\":[{\"id\":\"52446\"},{\"id\":\"52447\"},{\"id\":\"52448\"},{\"id\":\"52449\"},{\"id\":\"52450\"},{\"id\":\"52451\"}]},\"id\":\"52453\",\"type\":\"Toolbar\"},{\"attributes\":{\"formatter\":{\"id\":\"53242\"},\"ticker\":{\"id\":\"52407\"}},\"id\":\"52406\",\"type\":\"LinearAxis\"},{\"attributes\":{\"active_drag\":\"auto\",\"active_inspect\":\"auto\",\"active_multi\":null,\"active_scroll\":\"auto\",\"active_tap\":\"auto\",\"tools\":[{\"id\":\"52410\"},{\"id\":\"52411\"},{\"id\":\"52412\"},{\"id\":\"52413\"},{\"id\":\"52414\"},{\"id\":\"52415\"}]},\"id\":\"52417\",\"type\":\"Toolbar\"},{\"attributes\":{\"formatter\":{\"id\":\"53244\"},\"ticker\":{\"id\":\"52439\"}},\"id\":\"52438\",\"type\":\"LinearAxis\"},{\"attributes\":{},\"id\":\"53242\",\"type\":\"BasicTickFormatter\"},{\"attributes\":{},\"id\":\"52443\",\"type\":\"BasicTicker\"},{\"attributes\":{\"formatter\":{\"id\":\"53240\"},\"ticker\":{\"id\":\"52403\"}},\"id\":\"52402\",\"type\":\"LinearAxis\"}],\"root_ids\":[\"52465\"]},\"title\":\"Bokeh Application\",\"version\":\"2.0.2\"}};\n",
       "  var render_items = [{\"docid\":\"f95e1343-cd5e-4a85-9f98-975e7337d553\",\"root_ids\":[\"52465\"],\"roots\":{\"52465\":\"8e24819e-99cb-417d-87f0-123ebedce600\"}}];\n",
       "  root.Bokeh.embed.embed_items_notebook(docs_json, render_items);\n",
       "\n",
       "  }\n",
       "  if (root.Bokeh !== undefined) {\n",
       "    embed_document(root);\n",
       "  } else {\n",
       "    var attempts = 0;\n",
       "    var timer = setInterval(function(root) {\n",
       "      if (root.Bokeh !== undefined) {\n",
       "        clearInterval(timer);\n",
       "        embed_document(root);\n",
       "      } else {\n",
       "        attempts++;\n",
       "        if (attempts > 100) {\n",
       "          clearInterval(timer);\n",
       "          console.log(\"Bokeh: ERROR: Unable to run BokehJS code because BokehJS library is missing\");\n",
       "        }\n",
       "      }\n",
       "    }, 10, root)\n",
       "  }\n",
       "})(window);"
      ],
      "application/vnd.bokehjs_exec.v0+json": ""
     },
     "metadata": {
      "application/vnd.bokehjs_exec.v0+json": {
       "id": "52465"
      }
     },
     "output_type": "display_data"
    }
   ],
   "source": [
    "from bokeh.plotting import figure, output_file, show\n",
    "from bokeh.layouts import row\n",
    "import numpy as np\n",
    "import math\n",
    "x = np.arange(0, math.pi*2, 0.05)\n",
    "y1 = np.sin(x)\n",
    "y2 = np.cos(x)\n",
    "fig3 = figure(plot_width = 200, plot_height = 200)\n",
    "fig3.line(x, y1,line_width = 2, line_color = 'blue')\n",
    "fig4 = figure(plot_width = 200, plot_height = 200)\n",
    "fig4.line(x, y2,line_width = 2, line_color = 'red')\n",
    "r = row(children = [fig3, fig4], sizing_mode = 'stretch_both')\n",
    "show(r)"
   ]
  },
  {
   "cell_type": "code",
   "execution_count": 242,
   "metadata": {},
   "outputs": [
    {
     "data": {
      "text/html": [
       "\n",
       "\n",
       "\n",
       "\n",
       "\n",
       "\n",
       "  <div class=\"bk-root\" id=\"3f39d245-c45d-4213-97ef-58e7884757f4\" data-root-id=\"58983\"></div>\n"
      ]
     },
     "metadata": {},
     "output_type": "display_data"
    },
    {
     "data": {
      "application/javascript": [
       "(function(root) {\n",
       "  function embed_document(root) {\n",
       "    \n",
       "  var docs_json = {\"35c158ef-0cdd-4ce3-936f-d10ea11ad288\":{\"roots\":{\"references\":[{\"attributes\":{\"children\":[{\"id\":\"58982\"},{\"id\":\"58980\"}],\"sizing_mode\":\"stretch_both\"},\"id\":\"58983\",\"type\":\"Column\"},{\"attributes\":{},\"id\":\"58944\",\"type\":\"BasicTickFormatter\"},{\"attributes\":{\"overlay\":{\"id\":\"58819\"}},\"id\":\"58815\",\"type\":\"BoxZoomTool\"},{\"attributes\":{\"data_source\":{\"id\":\"58827\"},\"glyph\":{\"id\":\"58828\"},\"hover_glyph\":null,\"muted_glyph\":null,\"nonselection_glyph\":{\"id\":\"58829\"},\"selection_glyph\":null,\"view\":{\"id\":\"58831\"}},\"id\":\"58830\",\"type\":\"GlyphRenderer\"},{\"attributes\":{},\"id\":\"58816\",\"type\":\"SaveTool\"},{\"attributes\":{\"active_drag\":\"auto\",\"active_inspect\":\"auto\",\"active_multi\":null,\"active_scroll\":\"auto\",\"active_tap\":\"auto\",\"tools\":[{\"id\":\"58813\"},{\"id\":\"58814\"},{\"id\":\"58815\"},{\"id\":\"58816\"},{\"id\":\"58817\"},{\"id\":\"58818\"}]},\"id\":\"58820\",\"type\":\"Toolbar\"},{\"attributes\":{},\"id\":\"58947\",\"type\":\"Selection\"},{\"attributes\":{},\"id\":\"58817\",\"type\":\"ResetTool\"},{\"attributes\":{},\"id\":\"58952\",\"type\":\"BasicTickFormatter\"},{\"attributes\":{},\"id\":\"58818\",\"type\":\"HelpTool\"},{\"attributes\":{\"below\":[{\"id\":\"58877\"}],\"center\":[{\"id\":\"58880\"},{\"id\":\"58884\"}],\"left\":[{\"id\":\"58881\"}],\"plot_height\":200,\"plot_width\":200,\"renderers\":[{\"id\":\"58902\"}],\"sizing_mode\":\"stretch_both\",\"title\":{\"id\":\"58961\"},\"toolbar\":{\"id\":\"58892\"},\"toolbar_location\":null,\"x_range\":{\"id\":\"58869\"},\"x_scale\":{\"id\":\"58873\"},\"y_range\":{\"id\":\"58871\"},\"y_scale\":{\"id\":\"58875\"}},\"id\":\"58868\",\"subtype\":\"Figure\",\"type\":\"Plot\"},{\"attributes\":{},\"id\":\"58954\",\"type\":\"BasicTickFormatter\"},{\"attributes\":{},\"id\":\"58956\",\"type\":\"UnionRenderers\"},{\"attributes\":{},\"id\":\"58946\",\"type\":\"UnionRenderers\"},{\"attributes\":{},\"id\":\"58957\",\"type\":\"Selection\"},{\"attributes\":{\"ticker\":null},\"id\":\"58974\",\"type\":\"LogTickFormatter\"},{\"attributes\":{},\"id\":\"58977\",\"type\":\"Selection\"},{\"attributes\":{\"toolbar\":{\"id\":\"58981\"},\"toolbar_location\":\"above\"},\"id\":\"58982\",\"type\":\"ToolbarBox\"},{\"attributes\":{},\"id\":\"58837\",\"type\":\"LinearScale\"},{\"attributes\":{},\"id\":\"58835\",\"type\":\"DataRange1d\"},{\"attributes\":{\"source\":{\"id\":\"58827\"}},\"id\":\"58831\",\"type\":\"CDSView\"},{\"attributes\":{\"bottom_units\":\"screen\",\"fill_alpha\":0.5,\"fill_color\":\"lightgrey\",\"left_units\":\"screen\",\"level\":\"overlay\",\"line_alpha\":1.0,\"line_color\":\"black\",\"line_dash\":[4,4],\"line_width\":2,\"render_mode\":\"css\",\"right_units\":\"screen\",\"top_units\":\"screen\"},\"id\":\"58819\",\"type\":\"BoxAnnotation\"},{\"attributes\":{},\"id\":\"58839\",\"type\":\"LinearScale\"},{\"attributes\":{\"formatter\":{\"id\":\"58952\"},\"ticker\":{\"id\":\"58842\"}},\"id\":\"58841\",\"type\":\"LinearAxis\"},{\"attributes\":{},\"id\":\"58846\",\"type\":\"BasicTicker\"},{\"attributes\":{},\"id\":\"58842\",\"type\":\"BasicTicker\"},{\"attributes\":{\"axis\":{\"id\":\"58841\"},\"ticker\":null},\"id\":\"58844\",\"type\":\"Grid\"},{\"attributes\":{\"fill_alpha\":{\"value\":0.1},\"fill_color\":{\"value\":\"green\"},\"line_alpha\":{\"value\":0.1},\"line_color\":{\"value\":\"green\"},\"size\":{\"units\":\"screen\",\"value\":10},\"x\":{\"field\":\"x\"},\"y\":{\"field\":\"y\"}},\"id\":\"58865\",\"type\":\"Circle\"},{\"attributes\":{\"axis\":{\"id\":\"58845\"},\"dimension\":1,\"ticker\":null},\"id\":\"58848\",\"type\":\"Grid\"},{\"attributes\":{\"formatter\":{\"id\":\"58954\"},\"ticker\":{\"id\":\"58846\"}},\"id\":\"58845\",\"type\":\"LinearAxis\"},{\"attributes\":{\"source\":{\"id\":\"58863\"}},\"id\":\"58867\",\"type\":\"CDSView\"},{\"attributes\":{\"data_source\":{\"id\":\"58863\"},\"glyph\":{\"id\":\"58864\"},\"hover_glyph\":null,\"muted_glyph\":null,\"nonselection_glyph\":{\"id\":\"58865\"},\"selection_glyph\":null,\"view\":{\"id\":\"58867\"}},\"id\":\"58866\",\"type\":\"GlyphRenderer\"},{\"attributes\":{\"line_alpha\":0.1,\"line_color\":\"blue\",\"line_width\":2,\"x\":{\"field\":\"x\"},\"y\":{\"field\":\"y\"}},\"id\":\"58829\",\"type\":\"Line\"},{\"attributes\":{},\"id\":\"58849\",\"type\":\"PanTool\"},{\"attributes\":{},\"id\":\"58850\",\"type\":\"WheelZoomTool\"},{\"attributes\":{\"overlay\":{\"id\":\"58855\"}},\"id\":\"58851\",\"type\":\"BoxZoomTool\"},{\"attributes\":{},\"id\":\"58852\",\"type\":\"SaveTool\"},{\"attributes\":{},\"id\":\"58853\",\"type\":\"ResetTool\"},{\"attributes\":{},\"id\":\"58854\",\"type\":\"HelpTool\"},{\"attributes\":{\"fill_color\":{\"value\":\"green\"},\"line_color\":{\"value\":\"green\"},\"size\":{\"units\":\"screen\",\"value\":10},\"x\":{\"field\":\"x\"},\"y\":{\"field\":\"y\"}},\"id\":\"58864\",\"type\":\"Circle\"},{\"attributes\":{\"active_drag\":\"auto\",\"active_inspect\":\"auto\",\"active_multi\":null,\"active_scroll\":\"auto\",\"active_tap\":\"auto\",\"tools\":[{\"id\":\"58849\"},{\"id\":\"58850\"},{\"id\":\"58851\"},{\"id\":\"58852\"},{\"id\":\"58853\"},{\"id\":\"58854\"}]},\"id\":\"58856\",\"type\":\"Toolbar\"},{\"attributes\":{\"fill_alpha\":{\"value\":0.1},\"fill_color\":{\"value\":\"grey\"},\"line_alpha\":{\"value\":0.1},\"line_color\":{\"value\":\"grey\"},\"size\":{\"units\":\"screen\",\"value\":10},\"x\":{\"field\":\"x\"},\"y\":{\"field\":\"y\"}},\"id\":\"58901\",\"type\":\"Circle\"},{\"attributes\":{\"children\":[[{\"id\":\"58796\"},0,0],[{\"id\":\"58832\"},0,1],[{\"id\":\"58868\"},1,0],[{\"id\":\"58904\"},1,1]]},\"id\":\"58980\",\"type\":\"GridBox\"},{\"attributes\":{\"axis\":{\"id\":\"58917\"},\"dimension\":1,\"ticker\":null},\"id\":\"58920\",\"type\":\"Grid\"},{\"attributes\":{\"source\":{\"id\":\"58899\"}},\"id\":\"58903\",\"type\":\"CDSView\"},{\"attributes\":{\"active_drag\":\"auto\",\"active_inspect\":\"auto\",\"active_multi\":null,\"active_scroll\":\"auto\",\"active_tap\":\"auto\",\"tools\":[{\"id\":\"58921\"},{\"id\":\"58922\"},{\"id\":\"58923\"},{\"id\":\"58924\"},{\"id\":\"58925\"},{\"id\":\"58926\"}]},\"id\":\"58928\",\"type\":\"Toolbar\"},{\"attributes\":{\"axis\":{\"id\":\"58913\"},\"ticker\":null},\"id\":\"58916\",\"type\":\"Grid\"},{\"attributes\":{},\"id\":\"58907\",\"type\":\"DataRange1d\"},{\"attributes\":{\"data\":{\"x\":[1,2,3,4,5,6,7,8,9,10],\"y\":[0.0,0.3010299956639812,0.47712125471966244,0.6020599913279624,0.6989700043360189,0.7781512503836436,0.8450980400142568,0.9030899869919435,0.9542425094393249,1.0]},\"selected\":{\"id\":\"58977\"},\"selection_policy\":{\"id\":\"58976\"}},\"id\":\"58935\",\"type\":\"ColumnDataSource\"},{\"attributes\":{\"formatter\":{\"id\":\"58974\"},\"ticker\":{\"id\":\"58918\"}},\"id\":\"58917\",\"type\":\"LogAxis\"},{\"attributes\":{},\"id\":\"58905\",\"type\":\"DataRange1d\"},{\"attributes\":{},\"id\":\"58806\",\"type\":\"BasicTicker\"},{\"attributes\":{\"formatter\":{\"id\":\"58942\"},\"ticker\":{\"id\":\"58806\"}},\"id\":\"58805\",\"type\":\"LinearAxis\"},{\"attributes\":{\"source\":{\"id\":\"58935\"}},\"id\":\"58939\",\"type\":\"CDSView\"},{\"attributes\":{\"line_color\":\"red\",\"line_width\":2,\"x\":{\"field\":\"x\"},\"y\":{\"field\":\"y\"}},\"id\":\"58936\",\"type\":\"Line\"},{\"attributes\":{\"data_source\":{\"id\":\"58899\"},\"glyph\":{\"id\":\"58900\"},\"hover_glyph\":null,\"muted_glyph\":null,\"nonselection_glyph\":{\"id\":\"58901\"},\"selection_glyph\":null,\"view\":{\"id\":\"58903\"}},\"id\":\"58902\",\"type\":\"GlyphRenderer\"},{\"attributes\":{\"data\":{\"x\":[1,2,3,4,5,6,7,8,9,10],\"y\":[10,9,8,7,6,5,4,3,2,1]},\"selected\":{\"id\":\"58957\"},\"selection_policy\":{\"id\":\"58956\"}},\"id\":\"58863\",\"type\":\"ColumnDataSource\"},{\"attributes\":{\"bottom_units\":\"screen\",\"fill_alpha\":0.5,\"fill_color\":\"lightgrey\",\"left_units\":\"screen\",\"level\":\"overlay\",\"line_alpha\":1.0,\"line_color\":\"black\",\"line_dash\":[4,4],\"line_width\":2,\"render_mode\":\"css\",\"right_units\":\"screen\",\"top_units\":\"screen\"},\"id\":\"58855\",\"type\":\"BoxAnnotation\"},{\"attributes\":{},\"id\":\"58976\",\"type\":\"UnionRenderers\"},{\"attributes\":{},\"id\":\"58909\",\"type\":\"LinearScale\"},{\"attributes\":{\"num_minor_ticks\":10},\"id\":\"58918\",\"type\":\"LogTicker\"},{\"attributes\":{\"bottom_units\":\"screen\",\"fill_alpha\":0.5,\"fill_color\":\"lightgrey\",\"left_units\":\"screen\",\"level\":\"overlay\",\"line_alpha\":1.0,\"line_color\":\"black\",\"line_dash\":[4,4],\"line_width\":2,\"render_mode\":\"css\",\"right_units\":\"screen\",\"top_units\":\"screen\"},\"id\":\"58891\",\"type\":\"BoxAnnotation\"},{\"attributes\":{\"fill_color\":{\"value\":\"grey\"},\"line_color\":{\"value\":\"grey\"},\"size\":{\"units\":\"screen\",\"value\":10},\"x\":{\"field\":\"x\"},\"y\":{\"field\":\"y\"}},\"id\":\"58900\",\"type\":\"Circle\"},{\"attributes\":{\"below\":[{\"id\":\"58805\"}],\"center\":[{\"id\":\"58808\"},{\"id\":\"58812\"}],\"left\":[{\"id\":\"58809\"}],\"plot_height\":200,\"plot_width\":200,\"renderers\":[{\"id\":\"58830\"}],\"sizing_mode\":\"stretch_both\",\"title\":{\"id\":\"58941\"},\"toolbar\":{\"id\":\"58820\"},\"toolbar_location\":null,\"x_range\":{\"id\":\"58797\"},\"x_scale\":{\"id\":\"58801\"},\"y_range\":{\"id\":\"58799\"},\"y_scale\":{\"id\":\"58803\"}},\"id\":\"58796\",\"subtype\":\"Figure\",\"type\":\"Plot\"},{\"attributes\":{},\"id\":\"58813\",\"type\":\"PanTool\"},{\"attributes\":{},\"id\":\"58801\",\"type\":\"LinearScale\"},{\"attributes\":{},\"id\":\"58833\",\"type\":\"DataRange1d\"},{\"attributes\":{\"toolbars\":[{\"id\":\"58820\"},{\"id\":\"58856\"},{\"id\":\"58892\"},{\"id\":\"58928\"}],\"tools\":[{\"id\":\"58813\"},{\"id\":\"58814\"},{\"id\":\"58815\"},{\"id\":\"58816\"},{\"id\":\"58817\"},{\"id\":\"58818\"},{\"id\":\"58849\"},{\"id\":\"58850\"},{\"id\":\"58851\"},{\"id\":\"58852\"},{\"id\":\"58853\"},{\"id\":\"58854\"},{\"id\":\"58885\"},{\"id\":\"58886\"},{\"id\":\"58887\"},{\"id\":\"58888\"},{\"id\":\"58889\"},{\"id\":\"58890\"},{\"id\":\"58921\"},{\"id\":\"58922\"},{\"id\":\"58923\"},{\"id\":\"58924\"},{\"id\":\"58925\"},{\"id\":\"58926\"}]},\"id\":\"58981\",\"type\":\"ProxyToolbar\"},{\"attributes\":{\"formatter\":{\"id\":\"58944\"},\"ticker\":{\"id\":\"58810\"}},\"id\":\"58809\",\"type\":\"LinearAxis\"},{\"attributes\":{},\"id\":\"58869\",\"type\":\"DataRange1d\"},{\"attributes\":{\"data\":{\"x\":[1,2,3,4,5,6,7,8,9,10],\"y\":[1,4,9,16,25,36,49,64,81,100]},\"selected\":{\"id\":\"58967\"},\"selection_policy\":{\"id\":\"58966\"}},\"id\":\"58899\",\"type\":\"ColumnDataSource\"},{\"attributes\":{},\"id\":\"58922\",\"type\":\"WheelZoomTool\"},{\"attributes\":{},\"id\":\"58871\",\"type\":\"DataRange1d\"},{\"attributes\":{},\"id\":\"58873\",\"type\":\"LinearScale\"},{\"attributes\":{},\"id\":\"58921\",\"type\":\"PanTool\"},{\"attributes\":{\"overlay\":{\"id\":\"58927\"}},\"id\":\"58923\",\"type\":\"BoxZoomTool\"},{\"attributes\":{},\"id\":\"58924\",\"type\":\"SaveTool\"},{\"attributes\":{},\"id\":\"58875\",\"type\":\"LinearScale\"},{\"attributes\":{},\"id\":\"58925\",\"type\":\"ResetTool\"},{\"attributes\":{\"formatter\":{\"id\":\"58962\"},\"ticker\":{\"id\":\"58878\"}},\"id\":\"58877\",\"type\":\"LinearAxis\"},{\"attributes\":{},\"id\":\"58926\",\"type\":\"HelpTool\"},{\"attributes\":{},\"id\":\"58882\",\"type\":\"BasicTicker\"},{\"attributes\":{},\"id\":\"58878\",\"type\":\"BasicTicker\"},{\"attributes\":{\"axis\":{\"id\":\"58877\"},\"ticker\":null},\"id\":\"58880\",\"type\":\"Grid\"},{\"attributes\":{\"text\":\"\"},\"id\":\"58971\",\"type\":\"Title\"},{\"attributes\":{},\"id\":\"58911\",\"type\":\"LogScale\"},{\"attributes\":{},\"id\":\"58803\",\"type\":\"LinearScale\"},{\"attributes\":{\"axis\":{\"id\":\"58881\"},\"dimension\":1,\"ticker\":null},\"id\":\"58884\",\"type\":\"Grid\"},{\"attributes\":{},\"id\":\"58964\",\"type\":\"BasicTickFormatter\"},{\"attributes\":{\"formatter\":{\"id\":\"58964\"},\"ticker\":{\"id\":\"58882\"}},\"id\":\"58881\",\"type\":\"LinearAxis\"},{\"attributes\":{},\"id\":\"58962\",\"type\":\"BasicTickFormatter\"},{\"attributes\":{},\"id\":\"58914\",\"type\":\"BasicTicker\"},{\"attributes\":{},\"id\":\"58966\",\"type\":\"UnionRenderers\"},{\"attributes\":{},\"id\":\"58967\",\"type\":\"Selection\"},{\"attributes\":{\"line_color\":\"blue\",\"line_width\":2,\"x\":{\"field\":\"x\"},\"y\":{\"field\":\"y\"}},\"id\":\"58828\",\"type\":\"Line\"},{\"attributes\":{},\"id\":\"58972\",\"type\":\"BasicTickFormatter\"},{\"attributes\":{},\"id\":\"58814\",\"type\":\"WheelZoomTool\"},{\"attributes\":{\"text\":\"\"},\"id\":\"58961\",\"type\":\"Title\"},{\"attributes\":{\"formatter\":{\"id\":\"58972\"},\"ticker\":{\"id\":\"58914\"}},\"id\":\"58913\",\"type\":\"LinearAxis\"},{\"attributes\":{\"below\":[{\"id\":\"58841\"}],\"center\":[{\"id\":\"58844\"},{\"id\":\"58848\"}],\"left\":[{\"id\":\"58845\"}],\"plot_height\":200,\"plot_width\":200,\"renderers\":[{\"id\":\"58866\"}],\"sizing_mode\":\"stretch_both\",\"title\":{\"id\":\"58951\"},\"toolbar\":{\"id\":\"58856\"},\"toolbar_location\":null,\"x_range\":{\"id\":\"58833\"},\"x_scale\":{\"id\":\"58837\"},\"y_range\":{\"id\":\"58835\"},\"y_scale\":{\"id\":\"58839\"}},\"id\":\"58832\",\"subtype\":\"Figure\",\"type\":\"Plot\"},{\"attributes\":{\"below\":[{\"id\":\"58913\"}],\"center\":[{\"id\":\"58916\"},{\"id\":\"58920\"}],\"left\":[{\"id\":\"58917\"}],\"plot_height\":200,\"plot_width\":200,\"renderers\":[{\"id\":\"58938\"}],\"sizing_mode\":\"stretch_both\",\"title\":{\"id\":\"58971\"},\"toolbar\":{\"id\":\"58928\"},\"toolbar_location\":null,\"x_range\":{\"id\":\"58905\"},\"x_scale\":{\"id\":\"58909\"},\"y_range\":{\"id\":\"58907\"},\"y_scale\":{\"id\":\"58911\"}},\"id\":\"58904\",\"subtype\":\"Figure\",\"type\":\"Plot\"},{\"attributes\":{\"bottom_units\":\"screen\",\"fill_alpha\":0.5,\"fill_color\":\"lightgrey\",\"left_units\":\"screen\",\"level\":\"overlay\",\"line_alpha\":1.0,\"line_color\":\"black\",\"line_dash\":[4,4],\"line_width\":2,\"render_mode\":\"css\",\"right_units\":\"screen\",\"top_units\":\"screen\"},\"id\":\"58927\",\"type\":\"BoxAnnotation\"},{\"attributes\":{\"data\":{\"x\":[1,2,3,4,5,6,7,8,9,10],\"y\":[1,2,3,4,5,6,7,8,9,10]},\"selected\":{\"id\":\"58947\"},\"selection_policy\":{\"id\":\"58946\"}},\"id\":\"58827\",\"type\":\"ColumnDataSource\"},{\"attributes\":{},\"id\":\"58885\",\"type\":\"PanTool\"},{\"attributes\":{},\"id\":\"58799\",\"type\":\"DataRange1d\"},{\"attributes\":{\"axis\":{\"id\":\"58805\"},\"ticker\":null},\"id\":\"58808\",\"type\":\"Grid\"},{\"attributes\":{\"data_source\":{\"id\":\"58935\"},\"glyph\":{\"id\":\"58936\"},\"hover_glyph\":null,\"muted_glyph\":null,\"nonselection_glyph\":{\"id\":\"58937\"},\"selection_glyph\":null,\"view\":{\"id\":\"58939\"}},\"id\":\"58938\",\"type\":\"GlyphRenderer\"},{\"attributes\":{},\"id\":\"58886\",\"type\":\"WheelZoomTool\"},{\"attributes\":{},\"id\":\"58797\",\"type\":\"DataRange1d\"},{\"attributes\":{\"overlay\":{\"id\":\"58891\"}},\"id\":\"58887\",\"type\":\"BoxZoomTool\"},{\"attributes\":{\"text\":\"\"},\"id\":\"58951\",\"type\":\"Title\"},{\"attributes\":{},\"id\":\"58810\",\"type\":\"BasicTicker\"},{\"attributes\":{},\"id\":\"58888\",\"type\":\"SaveTool\"},{\"attributes\":{\"line_alpha\":0.1,\"line_color\":\"red\",\"line_width\":2,\"x\":{\"field\":\"x\"},\"y\":{\"field\":\"y\"}},\"id\":\"58937\",\"type\":\"Line\"},{\"attributes\":{},\"id\":\"58889\",\"type\":\"ResetTool\"},{\"attributes\":{\"text\":\"\"},\"id\":\"58941\",\"type\":\"Title\"},{\"attributes\":{\"axis\":{\"id\":\"58809\"},\"dimension\":1,\"ticker\":null},\"id\":\"58812\",\"type\":\"Grid\"},{\"attributes\":{},\"id\":\"58890\",\"type\":\"HelpTool\"},{\"attributes\":{},\"id\":\"58942\",\"type\":\"BasicTickFormatter\"},{\"attributes\":{\"active_drag\":\"auto\",\"active_inspect\":\"auto\",\"active_multi\":null,\"active_scroll\":\"auto\",\"active_tap\":\"auto\",\"tools\":[{\"id\":\"58885\"},{\"id\":\"58886\"},{\"id\":\"58887\"},{\"id\":\"58888\"},{\"id\":\"58889\"},{\"id\":\"58890\"}]},\"id\":\"58892\",\"type\":\"Toolbar\"}],\"root_ids\":[\"58983\"]},\"title\":\"Bokeh Application\",\"version\":\"2.0.2\"}};\n",
       "  var render_items = [{\"docid\":\"35c158ef-0cdd-4ce3-936f-d10ea11ad288\",\"root_ids\":[\"58983\"],\"roots\":{\"58983\":\"3f39d245-c45d-4213-97ef-58e7884757f4\"}}];\n",
       "  root.Bokeh.embed.embed_items_notebook(docs_json, render_items);\n",
       "\n",
       "  }\n",
       "  if (root.Bokeh !== undefined) {\n",
       "    embed_document(root);\n",
       "  } else {\n",
       "    var attempts = 0;\n",
       "    var timer = setInterval(function(root) {\n",
       "      if (root.Bokeh !== undefined) {\n",
       "        clearInterval(timer);\n",
       "        embed_document(root);\n",
       "      } else {\n",
       "        attempts++;\n",
       "        if (attempts > 100) {\n",
       "          clearInterval(timer);\n",
       "          console.log(\"Bokeh: ERROR: Unable to run BokehJS code because BokehJS library is missing\");\n",
       "        }\n",
       "      }\n",
       "    }, 10, root)\n",
       "  }\n",
       "})(window);"
      ],
      "application/vnd.bokehjs_exec.v0+json": ""
     },
     "metadata": {
      "application/vnd.bokehjs_exec.v0+json": {
       "id": "58983"
      }
     },
     "output_type": "display_data"
    }
   ],
   "source": [
    "from bokeh.plotting import figure, output_file, show\n",
    "from bokeh.layouts import gridplot\n",
    "import math\n",
    "x = list(range(1,11))\n",
    "\n",
    "y1 = x\n",
    "y2 =[11-i for i in x]\n",
    "y3 = [i*i for i in x]\n",
    "y4 = [math.log10(i) for i in x]\n",
    "\n",
    "fig1 = figure(plot_width = 200, plot_height = 200)\n",
    "fig1.line(x, y1,line_width = 2, line_color = 'blue')\n",
    "fig2 = figure(plot_width = 200, plot_height = 200)\n",
    "fig2.circle(x, y2,size = 10, color = 'green')\n",
    "fig3 = figure(plot_width = 200, plot_height = 200)\n",
    "fig3.circle(x,y3, size = 10, color = 'grey')\n",
    "fig4 = figure(plot_width = 200, plot_height = 200, y_axis_type = 'log')\n",
    "fig4.line(x,y4, line_width = 2, line_color = 'red')\n",
    "grid = gridplot(children = [[fig1, fig2], [fig3,fig4]], sizing_mode = 'stretch_both')\n",
    "show(grid)"
   ]
  },
  {
   "cell_type": "markdown",
   "metadata": {},
   "source": [
    "### Bokeh - Customising Legend"
   ]
  },
  {
   "cell_type": "raw",
   "metadata": {},
   "source": [
    "Various glyphs in a plot can be identified by legend property appear as a label by default at top-right position of the plot area. This legend can be customised by following attributes −\n",
    "\n",
    "* 1\tlegend.label_text_font\tchange default label font to specified font name\n",
    "* 2\tlegend.label_text_font_size\tfont size in points\n",
    "* 3\tlegend.location\tset the label at specified location.\n",
    "* 4\tlegend.title\tset title for legend label\t\n",
    "* 5\tlegend.orientation\tset to horizontal (default) or vertical\n",
    "* 6\tlegend.clicking_policy\tspecify what should happen when legend is clicked hide: hides the glyph corresponding to legend mute: mutes the glyph corresponding to legendtd>\n"
   ]
  },
  {
   "cell_type": "code",
   "execution_count": 243,
   "metadata": {},
   "outputs": [
    {
     "name": "stderr",
     "output_type": "stream",
     "text": [
      "BokehDeprecationWarning: 'legend' keyword is deprecated, use explicit 'legend_label', 'legend_field', or 'legend_group' keywords instead\n",
      "BokehDeprecationWarning: 'legend' keyword is deprecated, use explicit 'legend_label', 'legend_field', or 'legend_group' keywords instead\n"
     ]
    },
    {
     "data": {
      "text/html": [
       "\n",
       "\n",
       "\n",
       "\n",
       "\n",
       "\n",
       "  <div class=\"bk-root\" id=\"b821c78c-0f99-485b-9370-724fd84984fb\" data-root-id=\"60601\"></div>\n"
      ]
     },
     "metadata": {},
     "output_type": "display_data"
    },
    {
     "data": {
      "application/javascript": [
       "(function(root) {\n",
       "  function embed_document(root) {\n",
       "    \n",
       "  var docs_json = {\"b4e83ac2-c877-411c-85fa-6e257fd6dead\":{\"roots\":{\"references\":[{\"attributes\":{\"below\":[{\"id\":\"60610\"}],\"center\":[{\"id\":\"60613\"},{\"id\":\"60617\"},{\"id\":\"60644\"}],\"left\":[{\"id\":\"60614\"}],\"renderers\":[{\"id\":\"60635\"},{\"id\":\"60649\"}],\"title\":{\"id\":\"60638\"},\"toolbar\":{\"id\":\"60625\"},\"x_range\":{\"id\":\"60602\"},\"x_scale\":{\"id\":\"60606\"},\"y_range\":{\"id\":\"60604\"},\"y_scale\":{\"id\":\"60608\"}},\"id\":\"60601\",\"subtype\":\"Figure\",\"type\":\"Plot\"},{\"attributes\":{},\"id\":\"61602\",\"type\":\"Selection\"},{\"attributes\":{\"data\":{\"x\":[1,2,3,4,5,6,7,8,9,10],\"y\":[1.0,4.0,9.0,16.0,25.0,36.0,49.0,64.0,81.0,100.0]},\"selected\":{\"id\":\"61602\"},\"selection_policy\":{\"id\":\"61601\"}},\"id\":\"60646\",\"type\":\"ColumnDataSource\"},{\"attributes\":{},\"id\":\"60618\",\"type\":\"PanTool\"},{\"attributes\":{},\"id\":\"60657\",\"type\":\"UnionRenderers\"},{\"attributes\":{},\"id\":\"60606\",\"type\":\"LinearScale\"},{\"attributes\":{\"label\":{\"value\":\"blue circle\"},\"renderers\":[{\"id\":\"60635\"}]},\"id\":\"60645\",\"type\":\"LegendItem\"},{\"attributes\":{\"label\":{\"value\":\"red line\"},\"renderers\":[{\"id\":\"60649\"}]},\"id\":\"60660\",\"type\":\"LegendItem\"},{\"attributes\":{\"formatter\":{\"id\":\"60641\"},\"ticker\":{\"id\":\"60615\"}},\"id\":\"60614\",\"type\":\"LogAxis\"},{\"attributes\":{\"source\":{\"id\":\"60646\"}},\"id\":\"60650\",\"type\":\"CDSView\"},{\"attributes\":{},\"id\":\"60658\",\"type\":\"Selection\"},{\"attributes\":{\"data\":{\"x\":[1,2,3,4,5,6,7,8,9,10],\"y\":[1.0,2.0,3.0,4.0,5.0,6.0,7.0,8.0,9.0,10.0]},\"selected\":{\"id\":\"60658\"},\"selection_policy\":{\"id\":\"60657\"}},\"id\":\"60632\",\"type\":\"ColumnDataSource\"},{\"attributes\":{\"line_alpha\":0.1,\"line_color\":\"red\",\"line_width\":2,\"x\":{\"field\":\"x\"},\"y\":{\"field\":\"y\"}},\"id\":\"60648\",\"type\":\"Line\"},{\"attributes\":{\"fill_alpha\":{\"value\":0.1},\"fill_color\":{\"value\":\"blue\"},\"line_alpha\":{\"value\":0.1},\"line_color\":{\"value\":\"blue\"},\"size\":{\"units\":\"screen\",\"value\":5},\"x\":{\"field\":\"x\"},\"y\":{\"field\":\"y\"}},\"id\":\"60634\",\"type\":\"Circle\"},{\"attributes\":{\"overlay\":{\"id\":\"60624\"}},\"id\":\"60620\",\"type\":\"BoxZoomTool\"},{\"attributes\":{\"data_source\":{\"id\":\"60632\"},\"glyph\":{\"id\":\"60633\"},\"hover_glyph\":null,\"muted_glyph\":null,\"nonselection_glyph\":{\"id\":\"60634\"},\"selection_glyph\":null,\"view\":{\"id\":\"60636\"}},\"id\":\"60635\",\"type\":\"GlyphRenderer\"},{\"attributes\":{\"line_color\":\"red\",\"line_width\":2,\"x\":{\"field\":\"x\"},\"y\":{\"field\":\"y\"}},\"id\":\"60647\",\"type\":\"Line\"},{\"attributes\":{\"data_source\":{\"id\":\"60646\"},\"glyph\":{\"id\":\"60647\"},\"hover_glyph\":null,\"muted_glyph\":null,\"nonselection_glyph\":{\"id\":\"60648\"},\"selection_glyph\":null,\"view\":{\"id\":\"60650\"}},\"id\":\"60649\",\"type\":\"GlyphRenderer\"},{\"attributes\":{},\"id\":\"61601\",\"type\":\"UnionRenderers\"},{\"attributes\":{\"source\":{\"id\":\"60632\"}},\"id\":\"60636\",\"type\":\"CDSView\"},{\"attributes\":{},\"id\":\"60622\",\"type\":\"ResetTool\"},{\"attributes\":{},\"id\":\"60619\",\"type\":\"WheelZoomTool\"},{\"attributes\":{\"ticker\":null},\"id\":\"60641\",\"type\":\"LogTickFormatter\"},{\"attributes\":{},\"id\":\"60623\",\"type\":\"HelpTool\"},{\"attributes\":{},\"id\":\"60602\",\"type\":\"DataRange1d\"},{\"attributes\":{},\"id\":\"60639\",\"type\":\"BasicTickFormatter\"},{\"attributes\":{},\"id\":\"60621\",\"type\":\"SaveTool\"},{\"attributes\":{\"active_drag\":\"auto\",\"active_inspect\":\"auto\",\"active_multi\":null,\"active_scroll\":\"auto\",\"active_tap\":\"auto\",\"tools\":[{\"id\":\"60618\"},{\"id\":\"60619\"},{\"id\":\"60620\"},{\"id\":\"60621\"},{\"id\":\"60622\"},{\"id\":\"60623\"}]},\"id\":\"60625\",\"type\":\"Toolbar\"},{\"attributes\":{\"bottom_units\":\"screen\",\"fill_alpha\":0.5,\"fill_color\":\"lightgrey\",\"left_units\":\"screen\",\"level\":\"overlay\",\"line_alpha\":1.0,\"line_color\":\"black\",\"line_dash\":[4,4],\"line_width\":2,\"render_mode\":\"css\",\"right_units\":\"screen\",\"top_units\":\"screen\"},\"id\":\"60624\",\"type\":\"BoxAnnotation\"},{\"attributes\":{\"items\":[{\"id\":\"60645\"},{\"id\":\"60660\"}],\"location\":\"top_left\",\"title\":\"Legend Title\",\"title_text_font\":\"Arial\",\"title_text_font_size\":\"20pt\"},\"id\":\"60644\",\"type\":\"Legend\"},{\"attributes\":{},\"id\":\"60604\",\"type\":\"DataRange1d\"},{\"attributes\":{\"axis\":{\"id\":\"60610\"},\"ticker\":null},\"id\":\"60613\",\"type\":\"Grid\"},{\"attributes\":{\"formatter\":{\"id\":\"60639\"},\"ticker\":{\"id\":\"60611\"}},\"id\":\"60610\",\"type\":\"LinearAxis\"},{\"attributes\":{\"text\":\"\"},\"id\":\"60638\",\"type\":\"Title\"},{\"attributes\":{\"fill_color\":{\"value\":\"blue\"},\"line_color\":{\"value\":\"blue\"},\"size\":{\"units\":\"screen\",\"value\":5},\"x\":{\"field\":\"x\"},\"y\":{\"field\":\"y\"}},\"id\":\"60633\",\"type\":\"Circle\"},{\"attributes\":{\"axis\":{\"id\":\"60614\"},\"dimension\":1,\"ticker\":null},\"id\":\"60617\",\"type\":\"Grid\"},{\"attributes\":{},\"id\":\"60608\",\"type\":\"LogScale\"},{\"attributes\":{\"num_minor_ticks\":10},\"id\":\"60615\",\"type\":\"LogTicker\"},{\"attributes\":{},\"id\":\"60611\",\"type\":\"BasicTicker\"}],\"root_ids\":[\"60601\"]},\"title\":\"Bokeh Application\",\"version\":\"2.0.2\"}};\n",
       "  var render_items = [{\"docid\":\"b4e83ac2-c877-411c-85fa-6e257fd6dead\",\"root_ids\":[\"60601\"],\"roots\":{\"60601\":\"b821c78c-0f99-485b-9370-724fd84984fb\"}}];\n",
       "  root.Bokeh.embed.embed_items_notebook(docs_json, render_items);\n",
       "\n",
       "  }\n",
       "  if (root.Bokeh !== undefined) {\n",
       "    embed_document(root);\n",
       "  } else {\n",
       "    var attempts = 0;\n",
       "    var timer = setInterval(function(root) {\n",
       "      if (root.Bokeh !== undefined) {\n",
       "        clearInterval(timer);\n",
       "        embed_document(root);\n",
       "      } else {\n",
       "        attempts++;\n",
       "        if (attempts > 100) {\n",
       "          clearInterval(timer);\n",
       "          console.log(\"Bokeh: ERROR: Unable to run BokehJS code because BokehJS library is missing\");\n",
       "        }\n",
       "      }\n",
       "    }, 10, root)\n",
       "  }\n",
       "})(window);"
      ],
      "application/vnd.bokehjs_exec.v0+json": ""
     },
     "metadata": {
      "application/vnd.bokehjs_exec.v0+json": {
       "id": "60601"
      }
     },
     "output_type": "display_data"
    }
   ],
   "source": [
    "from bokeh.plotting import figure, output_file, show\n",
    "import math\n",
    "x2 = list(range(1,11))\n",
    "y4 = [math.pow(i,2) for i in x2]\n",
    "y2 = [math.log10(pow(10,i)) for i in x2]\n",
    "fig = figure(y_axis_type = 'log')\n",
    "fig.circle(x2, y2,size = 5, color = 'blue', legend = 'blue circle')\n",
    "fig.line(x2,y4, line_width = 2, line_color = 'red', legend = 'red line')\n",
    "fig.legend.location = 'top_left'\n",
    "fig.legend.title = 'Legend Title'\n",
    "fig.legend.title_text_font = 'Arial'\n",
    "fig.legend.title_text_font_size = '20pt'\n",
    "show(fig)"
   ]
  },
  {
   "cell_type": "markdown",
   "metadata": {},
   "source": [
    "### Bokeh - Adding widgets\n",
    "The bokeh.models.widgets module contains definitions of GUI objects similar to HTML form elements, such as button, slider, checkbox, radio button, etc. These controls provide interactive interface to a plot. Invoking processing such as modifying plot data, changing plot parameters, etc., can be performed by custom JavaScript functions executed on corresponding events.\n",
    "\n",
    "Bokeh allows call back functionality to be defined with two methods −\n",
    "\n",
    "* Use the CustomJS callback so that the interactivity will work in standalone HTML documents.\n",
    "\n",
    "* Use Bokeh server and set up event handlers.\n",
    "\n",
    "In this section, we shall see how to add Bokeh widgets and assign JavaScript callbacks."
   ]
  },
  {
   "cell_type": "markdown",
   "metadata": {},
   "source": [
    "#### Button\n",
    "This widget is a clickable button generally used to invoke a user defined call back handler. The constructor takes following parameters\n",
    "\n",
    "**Button(label, icon, callback)**\n"
   ]
  },
  {
   "cell_type": "markdown",
   "metadata": {},
   "source": [
    "The label parameter is a string used as button’s caption and callback is the custom JavaScript function to be called when clicked.\n",
    "\n",
    "In the following example, a plot and Button widget are displayed in Column layout. The plot itself renders a line glyph between x and y data series.\n",
    "\n",
    "A custom JavaScript function named ‘callback’ has been defined using **CutomJS() function**. It receives reference to the object that triggered callback (in this case the button) in the form variable cb_obj.\n",
    "\n",
    "This function alters the source ColumnDataSource data and finally emits this update in source data."
   ]
  },
  {
   "cell_type": "code",
   "execution_count": null,
   "metadata": {},
   "outputs": [],
   "source": []
  }
 ],
 "metadata": {
  "kernelspec": {
   "display_name": "Python 3",
   "language": "python",
   "name": "python3"
  },
  "language_info": {
   "codemirror_mode": {
    "name": "ipython",
    "version": 3
   },
   "file_extension": ".py",
   "mimetype": "text/x-python",
   "name": "python",
   "nbconvert_exporter": "python",
   "pygments_lexer": "ipython3",
   "version": "3.7.7"
  }
 },
 "nbformat": 4,
 "nbformat_minor": 4
}
